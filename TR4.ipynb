{
 "metadata": {
  "name": "TR4"
 },
 "nbformat": 3,
 "nbformat_minor": 0,
 "worksheets": [
  {
   "cells": [
    {
     "cell_type": "code",
     "collapsed": false,
     "input": [
      "#%load_ext autoreload\n",
      "#%autoreload 2\n",
      "from __future__ import division\n",
      "from pylab import *\n",
      "from tools import *\n",
      "from collections import *\n",
      "from math import *\n",
      "from numpy import array, cos, sin\n",
      "import functools\n",
      "import scipy\n",
      "import sympy\n",
      "from IPython.display import Image\n",
      "from scipy.integrate import quad\n",
      "from sympy import *\n",
      "import numpy as np\n",
      "import scipy as sp\n",
      "import time\n",
      "import models\n",
      "from sympy import init_printing;init_printing()\n",
      "\n",
      "#reload(models)\n",
      "from models import *\n",
      "\n",
      "#print model.get_volume()\n",
      "\n",
      "#Client's precise params ----------\n",
      "#\n",
      "#5.0\t1.5\t\n",
      "#5.50833333333333\n",
      "#0.240997229916898\n",
      "#\n",
      "\n",
      "\n",
      "#5.0\t1.5\t\n",
      "#5.50833333333333\n",
      "#0.240997229916898\n",
      "# l|r|t|b left right top bottom b|s big small c=circle\n",
      "# C=center\n",
      "# X,Y independent\n",
      "# R=radius\n",
      "# W=width H=height\n",
      "# RI=inner ring radius\n",
      "\n",
      "'''\n",
      "But one profile we need for the testdata is.\n",
      " \n",
      "P3 with 6mm width and 2,4mm height.\n",
      "Ringsize only 56\n",
      " \n",
      "For this profile we need the data for every 0,1mm slice.\n",
      "Volume:\n",
      "Profile P2:     width: 4     height:2        ringwidth/inner circumfence 56     volume:0,396 cm\u00b3\n",
      "Profile P3:     width: 5     height:1,5     ringwidth/inner circumfence 56     volume:0,336 cm\u00b3\n",
      "Profile P4:     width: 7     height:3        ringwidth/inner circumfence 56     volume:1,155 cm\u00b3\n",
      "Profile P5:     width: 3     height:1        ringwidth/inner circumfence 56     volume:0,144 cm\u00b3\n",
      "Profile P6:     width: 6     height:2,5     ringwidth/inner circumfence 56     volume:0,758 cm\u00b3\n",
      "'''\n",
      "\n",
      "\n",
      "profiles_definiton = load_profiles_lookup_table({})\n",
      "ring_config = RingParams(W=4., H=2., CF=56., PROFILE='PR_002')\n",
      "ring_config.lookup_definition(profiles_definiton)\n",
      "\n",
      "ring_config.R60 = 13.\n",
      "ring_config.R61 = 2.14\n",
      "ring_config.R40 = 0.20\n",
      "ring_config.R41 = 0.00\n",
      "\n",
      "print 'Using configuration:'\n",
      "print ring_config"
     ],
     "language": "python",
     "metadata": {},
     "outputs": [
      {
       "output_type": "stream",
       "stream": "stdout",
       "text": [
        "Using configuration:\n",
        "PR=PR_002 MDL=TR4 RI=28.0/pi W=4.0 H=2.0 R60=5.607 R61=5.607 R20=0.0 R40=0.861 R41=0.861\n"
       ]
      }
     ],
     "prompt_number": 2
    },
    {
     "cell_type": "code",
     "collapsed": false,
     "input": [
      "context = Context()\n",
      "model = globals()[ring_config.MODEL](params=ring_config, context=context)\n",
      "model.create_equations()\n",
      "model, context"
     ],
     "language": "python",
     "metadata": {},
     "outputs": [
      {
       "output_type": "pyout",
       "prompt_number": 3,
       "text": [
        "\u239b                                      \u23a7                             28.0     \n",
        "\u239c<models.TR4.TR4 object at 0x3069650>, \u23a8bbc_CX: 2.0, bbc_CY: 5.607 + \u2500\u2500\u2500\u2500, bbc\n",
        "\u239d                                      \u23a9                              \u03c0       \n",
        "\n",
        "                                         28.0                                 \n",
        "_R: 5.607, btc_CX: 2.0, btc_CY: -3.607 + \u2500\u2500\u2500\u2500, btc_R: 5.607, lbc_CX: 0.861, lb\n",
        "                                          \u03c0                                   \n",
        "\n",
        "                                                                              \n",
        "c_CY: 9.91237879804011, lbc_R: 0.861, ltc_CX: 0.861, ltc_CY: 9.91297482825217,\n",
        "                                                                              \n",
        "\n",
        "                                                                              \n",
        " ltc_R: 0.861, p1_X: 0.654367256637168, p1_Y: 10.7488120787803, p2_X: 3.345632\n",
        "                                                                              \n",
        "\n",
        "                                                                              \n",
        "74336283, p2_Y: 10.7488120787803, p3_X: 0.654367256637168, p3_Y: 9.07654154751\n",
        "                                                                              \n",
        "\n",
        "                                                                              \n",
        "202, p4_X: 3.34563274336283, p4_Y: 9.07654154751202, rbc_CX: 3.139, rbc_CY: 9.\n",
        "                                                                              \n",
        "\n",
        "                                                                              \n",
        "91237879804011, rbc_R: 0.861, rtc_CX: 3.139, rtc_CY: 9.91297482825217, rtc_R: \n",
        "                                                                              \n",
        "\n",
        "     \u23ab\u239e\n",
        "0.861\u23ac\u239f\n",
        "     \u23ad\u23a0"
       ]
      }
     ],
     "prompt_number": 3
    },
    {
     "cell_type": "code",
     "collapsed": false,
     "input": [
      "\n",
      "print context\n",
      "print 'vars:'\n",
      "print model.context.variables\n",
      "print\n",
      "print\n",
      "print 'eq:'\n",
      "print model.context.equations\n",
      "print\n",
      "print\n",
      "\n"
     ],
     "language": "python",
     "metadata": {},
     "outputs": [
      {
       "output_type": "stream",
       "stream": "stdout",
       "text": [
        "{'ltc_R': 0.861, 'p4_X': 3.34563274336283, 'ltc_CY': 9.91297482825217, 'ltc_CX': 0.861, 'rbc_CY': 9.91237879804011, 'rbc_CX': 3.1390000000000002, 'p2_X': 3.34563274336283, 'btc_R': 5.607, 'bbc_CY': 5.607 + 28.0/pi, 'bbc_CX': 2.0, 'p4_Y': 9.07654154751202, 'p2_Y': 10.7488120787803, 'rtc_CY': 9.91297482825217, 'rtc_CX': 3.1390000000000002, 'lbc_CY': 9.91237879804011, 'lbc_CX': 0.861, 'lbc_R': 0.861, 'bbc_R': 5.607, 'rtc_R': 0.861, 'p1_X': 0.654367256637168, 'p1_Y': 10.7488120787803, 'rbc_R': 0.861, 'btc_CY': -3.607 + 28.0/pi, 'btc_CX': 2.0, 'p3_X': 0.654367256637168, 'p3_Y': 9.07654154751202}\n",
        "vars:\n",
        "[lbc_CY, p3_X, p3_Y]\n",
        "\n",
        "\n",
        "eq:\n",
        "[(-lbc_CY + p3_Y)**2 + (p3_X - 0.861)**2 - 0.741321, (p3_X - 2.0)**2 + (p3_Y - 28.0/pi - 5.607)**2 - 31.438449, -1.139*p3_Y - (p3_X - 2.0)*(lbc_CY - 28.0/pi - 5.607) + 6.386373 + 31.892/pi]\n",
        "\n",
        "\n"
       ]
      }
     ],
     "prompt_number": 4
    },
    {
     "cell_type": "code",
     "collapsed": false,
     "input": [
      "len(model.s_1_all), model.s_1_all, model.s_1_fil"
     ],
     "language": "python",
     "metadata": {},
     "outputs": [
      {
       "latex": [
        "$$\\begin{pmatrix}4, & \\begin{bmatrix}\\begin{Bmatrix}ltc_{CY} : -1.06124575588201, & p_{1 X} : 1.01262012987013, & p_{1 Y} : -0.213700868446444\\end{Bmatrix}, & \\begin{Bmatrix}ltc_{CY} : 0.698378798040105, & p_{1 X} : 0.654367256637168, & p_{1 Y} : -0.13745845248798\\end{Bmatrix}, & \\begin{Bmatrix}ltc_{CY} : 9.91297482825217, & p_{1 X} : 0.654367256637168, & p_{1 Y} : 10.7488120787803\\end{Bmatrix}, & \\begin{Bmatrix}ltc_{CY} : 11.6725993821743, & p_{1 X} : 1.01262012987013, & p_{1 Y} : 10.8250544947387\\end{Bmatrix}\\end{bmatrix}, & \\begin{Bmatrix}ltc_{CY} : 9.91297482825217, & p_{1 X} : 0.654367256637168, & p_{1 Y} : 10.7488120787803\\end{Bmatrix}\\end{pmatrix}$$"
       ],
       "output_type": "pyout",
       "prompt_number": 5,
       "text": [
        "(4, [{ltc_CY: -1.06124575588201, p1_X: 1.01262012987013, p1_Y: -0.213700868446\n",
        "444}, {ltc_CY: 0.698378798040105, p1_X: 0.654367256637168, p1_Y: -0.1374584524\n",
        "8798}, {ltc_CY: 9.91297482825217, p1_X: 0.654367256637168, p1_Y: 10.7488120787\n",
        "803}, {ltc_CY: 11.6725993821743, p1_X: 1.01262012987013, p1_Y: 10.825054494738\n",
        "7}], {ltc_CY: 9.91297482825217, p1_X: 0.654367256637168, p1_Y: 10.748812078780\n",
        "3})"
       ]
      }
     ],
     "prompt_number": 5
    },
    {
     "cell_type": "code",
     "collapsed": false,
     "input": [
      "len(model.s_2_all),model.s_2_all,model.s_2_fil"
     ],
     "language": "python",
     "metadata": {},
     "outputs": [
      {
       "latex": [
        "$$\\begin{pmatrix}4, & \\begin{bmatrix}\\begin{Bmatrix}lbc_{CY} : 8.15275424411799, & p_{3 X} : 1.01262012987013, & p_{3 Y} : 9.00029913155356\\end{Bmatrix}, & \\begin{Bmatrix}lbc_{CY} : 9.91237879804011, & p_{3 X} : 0.654367256637168, & p_{3 Y} : 9.07654154751202\\end{Bmatrix}, & \\begin{Bmatrix}lbc_{CY} : 19.1269748282522, & p_{3 X} : 0.654367256637168, & p_{3 Y} : 19.9628120787803\\end{Bmatrix}, & \\begin{Bmatrix}lbc_{CY} : 20.8865993821743, & p_{3 X} : 1.01262012987013, & p_{3 Y} : 20.0390544947387\\end{Bmatrix}\\end{bmatrix}, & \\begin{Bmatrix}lbc_{CY} : 9.91237879804011, & p_{3 X} : 0.654367256637168, & p_{3 Y} : 9.07654154751202\\end{Bmatrix}\\end{pmatrix}$$"
       ],
       "output_type": "pyout",
       "prompt_number": 6,
       "text": [
        "(4, [{lbc_CY: 8.15275424411799, p3_X: 1.01262012987013, p3_Y: 9.00029913155356\n",
        "}, {lbc_CY: 9.91237879804011, p3_X: 0.654367256637168, p3_Y: 9.07654154751202}\n",
        ", {lbc_CY: 19.1269748282522, p3_X: 0.654367256637168, p3_Y: 19.9628120787803},\n",
        " {lbc_CY: 20.8865993821743, p3_X: 1.01262012987013, p3_Y: 20.0390544947387}], \n",
        "{lbc_CY: 9.91237879804011, p3_X: 0.654367256637168, p3_Y: 9.07654154751202})"
       ]
      }
     ],
     "prompt_number": 6
    },
    {
     "cell_type": "code",
     "collapsed": false,
     "input": [
      "model.context"
     ],
     "language": "python",
     "metadata": {},
     "outputs": [
      {
       "output_type": "pyout",
       "prompt_number": 7,
       "text": [
        "\u23a7                             28.0                                            \n",
        "\u23a8bbc_CX: 2.0, bbc_CY: 5.607 + \u2500\u2500\u2500\u2500, bbc_R: 5.607, btc_CX: 2.0, btc_CY: -3.607 \n",
        "\u23a9                              \u03c0                                              \n",
        "\n",
        "  28.0                                                                        \n",
        "+ \u2500\u2500\u2500\u2500, btc_R: 5.607, lbc_CX: 0.861, lbc_CY: 9.91237879804011, lbc_R: 0.861, l\n",
        "   \u03c0                                                                          \n",
        "\n",
        "                                                                              \n",
        "tc_CX: 0.861, ltc_CY: 9.91297482825217, ltc_R: 0.861, p1_X: 0.654367256637168,\n",
        "                                                                              \n",
        "\n",
        "                                                                              \n",
        " p1_Y: 10.7488120787803, p2_X: 3.34563274336283, p2_Y: 10.7488120787803, p3_X:\n",
        "                                                                              \n",
        "\n",
        "                                                                              \n",
        " 0.654367256637168, p3_Y: 9.07654154751202, p4_X: 3.34563274336283, p4_Y: 9.07\n",
        "                                                                              \n",
        "\n",
        "                                                                              \n",
        "654154751202, rbc_CX: 3.139, rbc_CY: 9.91237879804011, rbc_R: 0.861, rtc_CX: 3\n",
        "                                                                              \n",
        "\n",
        "                                            \u23ab\n",
        ".139, rtc_CY: 9.91297482825217, rtc_R: 0.861\u23ac\n",
        "                                            \u23ad"
       ]
      }
     ],
     "prompt_number": 7
    },
    {
     "cell_type": "code",
     "collapsed": false,
     "input": [
      "model.get_volume()    "
     ],
     "language": "python",
     "metadata": {},
     "outputs": [
      {
       "output_type": "pyout",
       "png": "[encoded data removed]",
       "prompt_number": 8,
       "text": [
        "0.4182456613707991"
       ]
      },
      {
       "output_type": "display_data",
       "png": "[encoded data removed]"
      }
     ],
     "prompt_number": 8
    },
    {
     "cell_type": "code",
     "collapsed": false,
     "input": [
      "import pandas"
     ],
     "language": "python",
     "metadata": {},
     "outputs": [],
     "prompt_number": 9
    },
    {
     "cell_type": "code",
     "collapsed": false,
     "input": [
      "step=0.1\n",
      "slices=[]\n",
      "for f in arange(0., 5., step):\n",
      "    __builtin__._fr = f\n",
      "    __builtin__._to = f + step\n",
      "    v = model.get_volume()\n",
      "    slices.append([f,f+step,v])\n",
      "    "
     ],
     "language": "python",
     "metadata": {},
     "outputs": [
      {
       "output_type": "display_data",
       "png": "[encoded data removed]"
      }
     ],
     "prompt_number": 10
    },
    {
     "cell_type": "code",
     "collapsed": false,
     "input": [
      "a=np.array(slices);"
     ],
     "language": "python",
     "metadata": {},
     "outputs": [],
     "prompt_number": 11
    },
    {
     "cell_type": "code",
     "collapsed": false,
     "input": [
      "scatter(a[:,2],a[:,0])\n",
      "\n"
     ],
     "language": "python",
     "metadata": {},
     "outputs": [
      {
       "output_type": "pyout",
       "prompt_number": 12,
       "text": [
        "<matplotlib.collections.PathCollection object at 0x120b7410>"
       ]
      },
      {
       "output_type": "display_data",
       "png": "[encoded data removed]"
      }
     ],
     "prompt_number": 12
    },
    {
     "cell_type": "code",
     "collapsed": false,
     "input": [
      "import pandas as pd\n",
      "df=pd.DataFrame(a)\n",
      "df.columns = ['FROM','TO','VOLUME']\n",
      "df.to_excel(r'/ring/ring/volume_slices.xls')"
     ],
     "language": "python",
     "metadata": {},
     "outputs": [],
     "prompt_number": 13
    },
    {
     "cell_type": "code",
     "collapsed": false,
     "input": [
      "\n",
      "__builtin__._fr = 4.9\n",
      "__builtin__._to = 5"
     ],
     "language": "python",
     "metadata": {},
     "outputs": [],
     "prompt_number": 14
    },
    {
     "cell_type": "code",
     "collapsed": false,
     "input": [
      "model.get_volume()"
     ],
     "language": "python",
     "metadata": {},
     "outputs": [
      {
       "output_type": "pyout",
       "png": "[encoded data removed]",
       "prompt_number": 15,
       "text": [
        "0.0"
       ]
      },
      {
       "output_type": "display_data",
       "png": "[encoded data removed]"
      }
     ],
     "prompt_number": 15
    },
    {
     "cell_type": "code",
     "collapsed": false,
     "input": [],
     "language": "python",
     "metadata": {},
     "outputs": [],
     "prompt_number": 15
    }
   ],
   "metadata": {}
  }
 ]
}
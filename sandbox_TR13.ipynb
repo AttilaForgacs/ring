{
 "metadata": {
  "name": ""
 },
 "nbformat": 3,
 "nbformat_minor": 0,
 "worksheets": [
  {
   "cells": [
    {
     "cell_type": "code",
     "collapsed": false,
     "input": [
      "%pylab inline"
     ],
     "language": "python",
     "metadata": {},
     "outputs": [
      {
       "output_type": "stream",
       "stream": "stdout",
       "text": [
        "Populating the interactive namespace from numpy and matplotlib\n"
       ]
      },
      {
       "output_type": "stream",
       "stream": "stderr",
       "text": [
        "WARNING: pylab import has clobbered these variables: ['prod', 'plotting', 'Circle', 'power', 'diag', 'sinh', 'trunc', 'binomial', 'eye', 'tan', 'product', 'roots', 'degrees', 'radians', 'sin', 'fmod', 'expm1', 'ldexp', 'zeros', 'cosh', 'conjugate', 'linalg', 'take', 'solve', 'isnan', 'beta', 'random', 'frexp', 'ceil', 'ones', 'copysign', 'transpose', 'vectorize', 'cos', 'interactive', 'diff', 'invert', 'tanh', 'Polygon', 'fabs', 'reshape', 'sqrt', 'floor', 'source', 'add', 'multinomial', 'test', 'poly', 'mod', 'sign', 'hypot', 'fft', 'gamma', 'log', 'var', 'log10', 'info', 'seterr', 'log1p', 'flatten', 'nan', 'modf', 'pi', 'exp', 'isinf', 'e']\n",
        "`%pylab --no-import-all` prevents importing * from pylab and numpy\n"
       ]
      }
     ],
     "prompt_number": 34
    },
    {
     "cell_type": "code",
     "collapsed": false,
     "input": [
      "%load_ext autoreload\n",
      "%autoreload 1"
     ],
     "language": "python",
     "metadata": {},
     "outputs": [
      {
       "output_type": "stream",
       "stream": "stdout",
       "text": [
        "The autoreload extension is already loaded. To reload it, use:\n",
        "  %reload_ext autoreload\n"
       ]
      }
     ],
     "prompt_number": 35
    },
    {
     "cell_type": "code",
     "collapsed": false,
     "input": [
      "from __future__ import division\n",
      "from pylab import *\n",
      "from tools import *\n",
      "import itertools\n",
      "from collections import *\n",
      "from math import *\n",
      "from numpy import array, cos, sin\n",
      "import functools\n",
      "import scipy\n",
      "import sympy\n",
      "from IPython.display import Image\n",
      "from scipy.integrate import quad\n",
      "from sympy import *\n",
      "import numpy as np\n",
      "import scipy as sp\n",
      "import time\n",
      "%aimport models\n",
      "%aimport tools\n",
      "from sympy import init_printing;init_printing()\n",
      "from models import *"
     ],
     "language": "python",
     "metadata": {},
     "outputs": [],
     "prompt_number": 36
    },
    {
     "cell_type": "code",
     "collapsed": false,
     "input": [
      "%aimport models"
     ],
     "language": "python",
     "metadata": {},
     "outputs": [],
     "prompt_number": 37
    },
    {
     "cell_type": "code",
     "collapsed": false,
     "input": [
      "models.TR13.__module__"
     ],
     "language": "python",
     "metadata": {},
     "outputs": [
      {
       "metadata": {},
       "output_type": "pyout",
       "prompt_number": 38,
       "text": [
        "models.mTR13"
       ]
      }
     ],
     "prompt_number": 38
    },
    {
     "cell_type": "code",
     "collapsed": false,
     "input": [
      "profiles_definiton = load_profiles_lookup_table({})\n",
      "ring_config = RingParams(W=5., H=1.5, CF=56., PROFILE='PR_001')\n",
      "ring_config.lookup_definition(profiles_definiton)"
     ],
     "language": "python",
     "metadata": {},
     "outputs": [],
     "prompt_number": 39
    },
    {
     "cell_type": "code",
     "collapsed": false,
     "input": [
      "import xlrd\n",
      "book = xlrd.open_workbook('./parameters/PR_001_Daten.xlsx')"
     ],
     "language": "python",
     "metadata": {},
     "outputs": [],
     "prompt_number": 40
    },
    {
     "cell_type": "code",
     "collapsed": false,
     "input": [
      "s=book.sheet_by_index(0)"
     ],
     "language": "python",
     "metadata": {},
     "outputs": [],
     "prompt_number": 41
    },
    {
     "cell_type": "code",
     "collapsed": false,
     "input": [
      "widths=s.col(2)\n",
      "heights=s.col(3)\n",
      "r60s=s.col(4)\n",
      "r61s=s.col(5)\n",
      "r40s=s.col(6)\n",
      "r41s=s.col(7)"
     ],
     "language": "python",
     "metadata": {},
     "outputs": [],
     "prompt_number": 42
    },
    {
     "cell_type": "code",
     "collapsed": false,
     "input": [
      "len(widths)"
     ],
     "language": "python",
     "metadata": {},
     "outputs": [
      {
       "metadata": {},
       "output_type": "pyout",
       "prompt_number": 47,
       "text": [
        "417"
       ]
      }
     ],
     "prompt_number": 47
    },
    {
     "cell_type": "code",
     "collapsed": false,
     "input": [
      "%%time\n",
      "try:\n",
      "    del __builtin__._fr \n",
      "    del __builtin__._to \n",
      "except:\n",
      "    pass\n",
      "\n",
      "\n",
      "import csv\n",
      "csvfile=open('/home/attila/Desktop/PR_001.csv', 'wb+') \n",
      "ringwriter = csv.writer(csvfile, delimiter=',',\n",
      "                        quotechar='|', quoting=csv.QUOTE_MINIMAL)\n",
      "\n",
      "import gc\n",
      "\n",
      "#CF 46-76, step : 0.5\n",
      "\n",
      "def calc_full_profile():\n",
      "    prec=23\n",
      "    for CF in xrange(460,760,5):\n",
      "        for i in xrange(1, len(widths)):\n",
      "            \n",
      "            w=widths[i].value\n",
      "            h=heights[i].value\n",
      "            r60=r60s[i].value\n",
      "            r61=r61s[i].value\n",
      "            r40=r40s[i].value\n",
      "            r41=r41s[i].value\n",
      "            r20=''\n",
      "            p1=''\n",
      "            p2=''\n",
      "    \n",
      "            if r40 and r41 and r61:\n",
      "                ring_config = RingParams(W=round(w,prec), H=round(h,prec), CF=CF / 10., PROFILE='PR_001')\n",
      "                ring_config.lookup_definition(profiles_definiton)\n",
      "                ring_config.R60 = round(r60,prec)\n",
      "                ring_config.R61 = round(r61,prec)\n",
      "                ring_config.R40 = round(r40,prec)\n",
      "                ring_config.R41 = round(r41,prec)        \n",
      "                print '%s Using configuration CF %s'%(i,CF)\n",
      "                print ring_config\n",
      "                context = Context()\n",
      "                model = globals()[ring_config.MODEL](params=ring_config, context=context)\n",
      "                model.create_equations()        \n",
      "                #print 'Vol:',model.get_volume()\n",
      "                #plt.savefig('/home/attila/Desktop/RING_%s.png'%i)     \n",
      "                #plt.clf()\n",
      "                #plt.close()\n",
      "                \n",
      "                \n",
      "                \n",
      "                \n",
      "                step=0.1    \n",
      "                _volumes=[]\n",
      "                _heights=[]\n",
      "                \n",
      "                for f in arange(0., w, step):\n",
      "                    __builtin__._fr = f\n",
      "                    __builtin__._to = f + step                \n",
      "                    vol,hei = model.get_volume()\n",
      "                    _volumes.append(float(vol))\n",
      "                    _heights.append(float(hei))            \n",
      "                \n",
      "                _heights[-1] = 0\n",
      "                \n",
      "                ringwriter.writerow([CF/10.,w,h,r60,r61,r40,r41,r20,p1,p2]+list( itertools.chain( *zip(_volumes,_heights) )   ) )                               \n",
      "                csvfile.flush()\n",
      "                gc.collect()\n",
      "                \n",
      "                "
     ],
     "language": "python",
     "metadata": {},
     "outputs": [
      {
       "output_type": "stream",
       "stream": "stdout",
       "text": [
        "CPU times: user 4 ms, sys: 0 ns, total: 4 ms\n",
        "Wall time: 183 \u00b5s\n"
       ]
      }
     ],
     "prompt_number": 67
    },
    {
     "cell_type": "code",
     "collapsed": false,
     "input": [
      "%%time\n",
      "calc_full_profile()"
     ],
     "language": "python",
     "metadata": {},
     "outputs": [
      {
       "output_type": "stream",
       "stream": "stdout",
       "text": [
        "1 Using configuration CF 460\n",
        "PR=PR_001 MDL=TR13 RI=23.0/pi W=2.5 H=1.0 R60=0.0 R61=2.17718474478 R20=0.0 R40=0.35 R41=0.455863932713\n",
        "2 Using configuration CF 460"
       ]
      },
      {
       "output_type": "stream",
       "stream": "stdout",
       "text": [
        "\n",
        "PR=PR_001 MDL=TR13 RI=23.0/pi W=2.5 H=1.1 R60=0.0 R61=1.90257932457 R20=0.0 R40=0.35 R41=0.558452405258\n",
        "3 Using configuration CF 460"
       ]
      },
      {
       "output_type": "stream",
       "stream": "stdout",
       "text": [
        "\n",
        "PR=PR_001 MDL=TR13 RI=23.0/pi W=2.5 H=1.2 R60=0.0 R61=1.69979332842 R20=0.0 R40=0.35 R41=0.672140536675\n",
        "4 Using configuration CF 460"
       ]
      },
      {
       "output_type": "stream",
       "stream": "stdout",
       "text": [
        "\n",
        "PR=PR_001 MDL=TR13 RI=23.0/pi W=2.5 H=1.3 R60=0.0 R61=1.54526818634 R20=0.0 R40=0.35 R41=0.797596178383\n",
        "5 Using configuration CF 460"
       ]
      },
      {
       "output_type": "stream",
       "stream": "stdout",
       "text": [
        "\n",
        "PR=PR_001 MDL=TR13 RI=23.0/pi W=2.5 H=1.4 R60=0.0 R61=1.42452216874 R20=0.0 R40=0.35 R41=0.935401378261\n",
        "6 Using configuration CF 460"
       ]
      },
      {
       "output_type": "stream",
       "stream": "stdout",
       "text": [
        "\n",
        "PR=PR_001 MDL=TR13 RI=23.0/pi W=2.5 H=1.5 R60=0.0 R61=1.32819690327 R20=0.0 R40=0.35 R41=1.08605884899\n",
        "27 Using configuration CF 460"
       ]
      },
      {
       "output_type": "stream",
       "stream": "stdout",
       "text": [
        "\n",
        "PR=PR_001 MDL=TR13 RI=23.0/pi W=3.0 H=1.0 R60=0.0 R61=3.38666208161 R20=0.0 R40=0.4 R41=0.385335167358\n",
        "28 Using configuration CF 460"
       ]
      },
      {
       "output_type": "stream",
       "stream": "stdout",
       "text": [
        "\n",
        "PR=PR_001 MDL=TR13 RI=23.0/pi W=3.0 H=1.1 R60=0.0 R61=2.90302544899 R20=0.0 R40=0.4 R41=0.47192145714\n",
        "29 Using configuration CF 460"
       ]
      },
      {
       "output_type": "stream",
       "stream": "stdout",
       "text": [
        "\n",
        "PR=PR_001 MDL=TR13 RI=23.0/pi W=3.0 H=1.2 R60=0.0 R61=2.55 R20=0.0 R40=0.4 R41=0.566666666667\n",
        "30 Using configuration CF 460"
       ]
      },
      {
       "output_type": "stream",
       "stream": "stdout",
       "text": [
        "\n",
        "PR=PR_001 MDL=TR13 RI=23.0/pi W=3.0 H=1.3 R60=0.0 R61=2.28309518948 R20=0.0 R40=0.4 R41=0.670142886309\n",
        "31 Using configuration CF 460"
       ]
      },
      {
       "output_type": "stream",
       "stream": "stdout",
       "text": [
        "\n",
        "PR=PR_001 MDL=TR13 RI=23.0/pi W=3.0 H=1.4 R60=0.0 R61=2.07569390943 R20=0.0 R40=0.4 R41=0.782870727045\n",
        "32 Using configuration CF 460"
       ]
      },
      {
       "output_type": "stream",
       "stream": "stdout",
       "text": [
        "\n",
        "PR=PR_001 MDL=TR13 RI=23.0/pi W=3.0 H=1.5 R60=0.0 R61=1.91092864069 R20=0.0 R40=0.4 R41=0.90531899683\n",
        "33 Using configuration CF 460"
       ]
      },
      {
       "output_type": "stream",
       "stream": "stdout",
       "text": [
        "\n",
        "PR=PR_001 MDL=TR13 RI=23.0/pi W=3.0 H=1.6 R60=0.0 R61=1.7776171589 R20=0.0 R40=0.4 R41=1.03790627288\n",
        "34 Using configuration CF 460"
       ]
      },
      {
       "output_type": "stream",
       "stream": "stdout",
       "text": [
        "\n",
        "PR=PR_001 MDL=TR13 RI=23.0/pi W=3.0 H=1.7 R60=0.0 R61=1.66807256339 R20=0.0 R40=0.4 R41=1.18100377839\n",
        "35 Using configuration CF 460"
       ]
      },
      {
       "output_type": "stream",
       "stream": "stdout",
       "text": [
        "\n",
        "PR=PR_001 MDL=TR13 RI=23.0/pi W=3.0 H=1.8 R60=0.0 R61=1.57685101617 R20=0.0 R40=0.4 R41=1.33493905157\n",
        "53 Using configuration CF 460"
       ]
      },
      {
       "output_type": "stream",
       "stream": "stdout",
       "text": [
        "\n",
        "PR=PR_001 MDL=TR13 RI=23.0/pi W=3.5 H=1.0 R60=0.0 R61=5.0602475994 R20=0.0 R40=0.45 R41=0.332493611617\n",
        "54 Using configuration CF 460"
       ]
      },
      {
       "output_type": "stream",
       "stream": "stdout",
       "text": [
        "\n",
        "PR=PR_001 MDL=TR13 RI=23.0/pi W=3.5 H=1.1 R60=0.0 R61=4.26038232099 R20=0.0 R40=0.45 R41=0.409000852204\n",
        "55 Using configuration CF 460"
       ]
      },
      {
       "output_type": "stream",
       "stream": "stdout",
       "text": [
        "\n",
        "PR=PR_001 MDL=TR13 RI=23.0/pi W=3.5 H=1.2 R60=0.0 R61=3.68596218431 R20=0.0 R40=0.45 R41=0.491730492438\n",
        "56 Using configuration CF 460"
       ]
      },
      {
       "output_type": "stream",
       "stream": "stdout",
       "text": [
        "\n",
        "PR=PR_001 MDL=TR13 RI=23.0/pi W=3.5 H=1.3 R60=0.0 R61=3.25644522427 R20=0.0 R40=0.45 R41=0.581155176785\n",
        "57 Using configuration CF 460"
       ]
      },
      {
       "output_type": "stream",
       "stream": "stdout",
       "text": [
        "\n",
        "PR=PR_001 MDL=TR13 RI=23.0/pi W=3.5 H=1.4 R60=0.0 R61=2.92525506323 R20=0.0 R40=0.45 R41=0.67771867996\n",
        "58 Using configuration CF 460"
       ]
      },
      {
       "output_type": "stream",
       "stream": "stdout",
       "text": [
        "\n",
        "PR=PR_001 MDL=TR13 RI=23.0/pi W=3.5 H=1.5 R60=0.0 R61=2.6636110544 R20=0.0 R40=0.45 R41=0.781833367361\n",
        "59 Using configuration CF 460"
       ]
      },
      {
       "output_type": "stream",
       "stream": "stdout",
       "text": [
        "\n",
        "PR=PR_001 MDL=TR13 RI=23.0/pi W=3.5 H=1.6 R60=0.0 R61=2.45279282412 R20=0.0 R40=0.45 R41=0.893879001291\n",
        "60 Using configuration CF 460"
       ]
      },
      {
       "output_type": "stream",
       "stream": "stdout",
       "text": [
        "\n",
        "PR=PR_001 MDL=TR13 RI=23.0/pi W=3.5 H=1.7 R60=0.0 R61=2.28011626335 R20=0.0 R40=0.45 R41=1.01420266903\n",
        "61 Using configuration CF 460"
       ]
      },
      {
       "output_type": "stream",
       "stream": "stdout",
       "text": [
        "\n",
        "PR=PR_001 MDL=TR13 RI=23.0/pi W=3.5 H=1.8 R60=0.0 R61=2.13669683119 R20=0.0 R40=0.45 R41=1.14311958737\n",
        "62 Using configuration CF 460"
       ]
      },
      {
       "output_type": "stream",
       "stream": "stdout",
       "text": [
        "\n",
        "PR=PR_001 MDL=TR13 RI=23.0/pi W=3.5 H=1.9 R60=0.0 R61=2.01613761746 R20=0.0 R40=0.45 R41=1.28091454553\n",
        "63 Using configuration CF 460"
       ]
      },
      {
       "output_type": "stream",
       "stream": "stdout",
       "text": [
        "\n",
        "PR=PR_001 MDL=TR13 RI=23.0/pi W=3.5 H=2.0 R60=0.0 R61=1.91372477068 R20=0.0 R40=0.45 R41=1.42784377454\n",
        "64 Using configuration CF 460"
       ]
      },
      {
       "output_type": "stream",
       "stream": "stdout",
       "text": [
        "\n",
        "PR=PR_001 MDL=TR13 RI=23.0/pi W=3.5 H=2.1 R60=0.0 R61=1.82591523316 R20=0.0 R40=0.45 R41=1.58413706588\n",
        "79 Using configuration CF 460"
       ]
      },
      {
       "output_type": "stream",
       "stream": "stdout",
       "text": [
        "\n",
        "PR=PR_001 MDL=TR13 RI=23.0/pi W=4.0 H=1.0 R60=0.0 R61=7.34232921921 R20=0.0 R40=0.5 R41=0.289417695197\n",
        "80 Using configuration CF 460"
       ]
      },
      {
       "output_type": "stream",
       "stream": "stdout",
       "text": [
        "\n",
        "PR=PR_001 MDL=TR13 RI=23.0/pi W=4.0 H=1.1 R60=0.0 R61=6.06940485208 R20=0.0 R40=0.5 R41=0.359178544376\n",
        "81 Using configuration CF 460"
       ]
      },
      {
       "output_type": "stream",
       "stream": "stdout",
       "text": [
        "\n",
        "PR=PR_001 MDL=TR13 RI=23.0/pi W=4.0 H=1.2 R60=0.0 R61=5.1747504379 R20=0.0 R40=0.5 R41=0.433837346736\n",
        "82 Using configuration CF 460"
       ]
      },
      {
       "output_type": "stream",
       "stream": "stdout",
       "text": [
        "\n",
        "PR=PR_001 MDL=TR13 RI=23.0/pi W=4.0 H=1.3 R60=0.0 R61=4.51554944214 R20=0.0 R40=0.5 R41=0.513780223144\n",
        "83 Using configuration CF 460"
       ]
      },
      {
       "output_type": "stream",
       "stream": "stdout",
       "text": [
        "\n",
        "PR=PR_001 MDL=TR13 RI=23.0/pi W=4.0 H=1.4 R60=0.0 R61=4.0124935233 R20=0.0 R40=0.5 R41=0.599377914515\n",
        "84 Using configuration CF 460"
       ]
      },
      {
       "output_type": "stream",
       "stream": "stdout",
       "text": [
        "\n",
        "PR=PR_001 MDL=TR13 RI=23.0/pi W=4.0 H=1.5 R60=0.0 R61=3.61803398875 R20=0.0 R40=0.5 R41=0.690983005625\n",
        "85 Using configuration CF 460"
       ]
      },
      {
       "output_type": "stream",
       "stream": "stdout",
       "text": [
        "\n",
        "PR=PR_001 MDL=TR13 RI=23.0/pi W=4.0 H=1.6 R60=0.0 R61=3.30194918086 R20=0.0 R40=0.5 R41=0.788927950527\n",
        "86 Using configuration CF 460"
       ]
      },
      {
       "output_type": "stream",
       "stream": "stdout",
       "text": [
        "\n",
        "PR=PR_001 MDL=TR13 RI=23.0/pi W=4.0 H=1.7 R60=0.0 R61=3.04412691931 R20=0.0 R40=0.5 R41=0.893523848412\n",
        "87 Using configuration CF 460"
       ]
      },
      {
       "output_type": "stream",
       "stream": "stdout",
       "text": [
        "\n",
        "PR=PR_001 MDL=TR13 RI=23.0/pi W=4.0 H=1.8 R60=0.0 R61=2.83067710072 R20=0.0 R40=0.5 R41=1.00505988453\n",
        "88 Using configuration CF 460"
       ]
      },
      {
       "output_type": "stream",
       "stream": "stdout",
       "text": [
        "\n",
        "PR=PR_001 MDL=TR13 RI=23.0/pi W=4.0 H=1.9 R60=0.0 R61=2.65170952639 R20=0.0 R40=0.5 R41=1.12380333153\n",
        "89 Using configuration CF 460"
       ]
      },
      {
       "output_type": "stream",
       "stream": "stdout",
       "text": [
        "\n",
        "PR=PR_001 MDL=TR13 RI=23.0/pi W=4.0 H=2.0 R60=0.0 R61=2.5 R20=0.0 R40=0.5 R41=1.25\n",
        "90 Using configuration CF 460"
       ]
      },
      {
       "output_type": "stream",
       "stream": "stdout",
       "text": [
        "\n",
        "PR=PR_001 MDL=TR13 RI=23.0/pi W=4.0 H=2.1 R60=0.0 R61=2.37015621187 R20=0.0 R40=0.5 R41=1.3838750305\n",
        "91 Using configuration CF 460"
       ]
      },
      {
       "output_type": "stream",
       "stream": "stdout",
       "text": [
        "\n",
        "PR=PR_001 MDL=TR13 RI=23.0/pi W=4.0 H=2.2 R60=0.0 R61=2.25807773085 R20=0.0 R40=0.5 R41=1.52563392877\n",
        "92 Using configuration CF 460"
       ]
      },
      {
       "output_type": "stream",
       "stream": "stdout",
       "text": [
        "\n",
        "PR=PR_001 MDL=TR13 RI=23.0/pi W=4.0 H=2.3 R60=0.0 R61=2.16059582275 R20=0.0 R40=0.5 R41=1.67546375953\n",
        "93 Using configuration CF 460"
       ]
      },
      {
       "output_type": "stream",
       "stream": "stdout",
       "text": [
        "\n",
        "PR=PR_001 MDL=TR13 RI=23.0/pi W=4.0 H=2.4 R60=0.0 R61=2.07522691697 R20=0.0 R40=0.5 R41=1.83353442888\n",
        "105 Using configuration CF 460"
       ]
      },
      {
       "output_type": "stream",
       "stream": "stdout",
       "text": [
        "\n",
        "PR=PR_001 MDL=TR13 RI=23.0/pi W=4.5 H=1.0 R60=0.0 R61=10.4391175622 R20=0.0 R40=0.55 R41=0.252176487553\n",
        "106 Using configuration CF 460"
       ]
      },
      {
       "output_type": "stream",
       "stream": "stdout",
       "text": [
        "\n",
        "PR=PR_001 MDL=TR13 RI=23.0/pi W=4.5 H=1.1 R60=0.0 R61=8.45692712677 R20=0.0 R40=0.55 R41=0.317195591234\n",
        "107 Using configuration CF 460"
       ]
      },
      {
       "output_type": "stream",
       "stream": "stdout",
       "text": [
        "\n",
        "PR=PR_001 MDL=TR13 RI=23.0/pi W=4.5 H=1.2 R60=0.0 R61=7.10170176705 R20=0.0 R40=0.55 R41=0.386175045075\n",
        "108 Using configuration CF 460"
       ]
      },
      {
       "output_type": "stream",
       "stream": "stdout",
       "text": [
        "\n",
        "PR=PR_001 MDL=TR13 RI=23.0/pi W=4.5 H=1.3 R60=0.0 R61=6.12170824513 R20=0.0 R40=0.55 R41=0.459430584958\n",
        "109 Using configuration CF 460"
       ]
      },
      {
       "output_type": "stream",
       "stream": "stdout",
       "text": [
        "\n",
        "PR=PR_001 MDL=TR13 RI=23.0/pi W=4.5 H=1.4 R60=0.0 R61=5.38369633637 R20=0.0 R40=0.55 R41=0.537270272928\n",
        "110 Using configuration CF 460"
       ]
      },
      {
       "output_type": "stream",
       "stream": "stdout",
       "text": [
        "\n",
        "PR=PR_001 MDL=TR13 RI=23.0/pi W=4.5 H=1.5 R60=0.0 R61=4.81054496467 R20=0.0 R40=0.55 R41=0.619992126028\n",
        "111 Using configuration CF 460"
       ]
      },
      {
       "output_type": "stream",
       "stream": "stdout",
       "text": [
        "\n",
        "PR=PR_001 MDL=TR13 RI=23.0/pi W=4.5 H=1.6 R60=0.0 R61=4.35453817348 R20=0.0 R40=0.55 R41=0.70788218571\n",
        "112 Using configuration CF 460"
       ]
      },
      {
       "output_type": "stream",
       "stream": "stdout",
       "text": [
        "\n",
        "PR=PR_001 MDL=TR13 RI=23.0/pi W=4.5 H=1.7 R60=0.0 R61=3.98458318655 R20=0.0 R40=0.55 R41=0.801213037985\n",
        "113 Using configuration CF 460"
       ]
      },
      {
       "output_type": "stream",
       "stream": "stdout",
       "text": [
        "\n",
        "PR=PR_001 MDL=TR13 RI=23.0/pi W=4.5 H=1.8 R60=0.0 R61=3.6795630141 R20=0.0 R40=0.55 R41=0.900242769945\n",
        "114 Using configuration CF 460"
       ]
      },
      {
       "output_type": "stream",
       "stream": "stdout",
       "text": [
        "\n",
        "PR=PR_001 MDL=TR13 RI=23.0/pi W=4.5 H=1.9 R60=0.0 R61=3.42464278423 R20=0.0 R40=0.55 R41=1.00521432946\n",
        "115 Using configuration CF 460"
       ]
      },
      {
       "output_type": "stream",
       "stream": "stdout",
       "text": [
        "\n",
        "PR=PR_001 MDL=TR13 RI=23.0/pi W=4.5 H=2.0 R60=0.0 R61=3.20910393458 R20=0.0 R40=0.55 R41=1.11635524216\n",
        "116 Using configuration CF 460"
       ]
      },
      {
       "output_type": "stream",
       "stream": "stdout",
       "text": [
        "\n",
        "PR=PR_001 MDL=TR13 RI=23.0/pi W=4.5 H=2.1 R60=0.0 R61=3.02501633965 R20=0.0 R40=0.55 R41=1.23387763268\n",
        "117 Using configuration CF 460"
       ]
      },
      {
       "output_type": "stream",
       "stream": "stdout",
       "text": [
        "\n",
        "PR=PR_001 MDL=TR13 RI=23.0/pi W=4.5 H=2.2 R60=0.0 R61=2.86639296103 R20=0.0 R40=0.55 R41=1.35797849525\n",
        "118 Using configuration CF 460"
       ]
      },
      {
       "output_type": "stream",
       "stream": "stdout",
       "text": [
        "\n",
        "PR=PR_001 MDL=TR13 RI=23.0/pi W=4.5 H=2.3 R60=0.0 R61=2.72863408039 R20=0.0 R40=0.55 R41=1.48884015969\n",
        "119 Using configuration CF 460"
       ]
      },
      {
       "output_type": "stream",
       "stream": "stdout",
       "text": [
        "\n",
        "PR=PR_001 MDL=TR13 RI=23.0/pi W=4.5 H=2.4 R60=0.0 R61=2.60815160354 R20=0.0 R40=0.55 R41=1.62663090376\n",
        "120 Using configuration CF 460"
       ]
      },
      {
       "output_type": "stream",
       "stream": "stdout",
       "text": [
        "\n",
        "PR=PR_001 MDL=TR13 RI=23.0/pi W=4.5 H=2.5 R60=0.0 R61=2.50210884509 R20=0.0 R40=0.55 R41=1.77150566759\n",
        "121 Using configuration CF 460"
       ]
      },
      {
       "output_type": "stream",
       "stream": "stdout",
       "text": [
        "\n",
        "PR=PR_001 MDL=TR13 RI=23.0/pi W=4.5 H=2.6 R60=0.0 R61=2.40823640249 R20=0.0 R40=0.55 R41=1.92360683329\n",
        "122 Using configuration CF 460"
       ]
      },
      {
       "output_type": "stream",
       "stream": "stdout",
       "text": [
        "\n",
        "PR=PR_001 MDL=TR13 RI=23.0/pi W=4.5 H=2.7 R60=0.0 R61=2.32469937823 R20=0.0 R40=0.55 R41=2.08306503858\n",
        "131 Using configuration CF 460"
       ]
      },
      {
       "output_type": "stream",
       "stream": "stdout",
       "text": [
        "\n",
        "PR=PR_001 MDL=TR13 RI=23.0/pi W=5.0 H=1.0 R60=0.0 R61=14.6584691731 R20=0.0 R40=0.6 R41=0.218644932302\n",
        "132 Using configuration CF 460"
       ]
      },
      {
       "output_type": "stream",
       "stream": "stdout",
       "text": [
        "\n",
        "PR=PR_001 MDL=TR13 RI=23.0/pi W=5.0 H=1.1 R60=0.0 R61=11.5990195136 R20=0.0 R40=0.6 R41=0.280196097281\n",
        "133 Using configuration CF 460"
       ]
      },
      {
       "output_type": "stream",
       "stream": "stdout",
       "text": [
        "\n",
        "PR=PR_001 MDL=TR13 RI=23.0/pi W=5.0 H=1.2 R60=0.0 R61=9.57907070852 R20=0.0 R40=0.6 R41=0.345023029954\n",
        "134 Using configuration CF 460"
       ]
      },
      {
       "output_type": "stream",
       "stream": "stdout",
       "text": [
        "\n",
        "PR=PR_001 MDL=TR13 RI=23.0/pi W=5.0 H=1.3 R60=0.0 R61=8.15219413919 R20=0.0 R40=0.6 R41=0.413385641026\n",
        "135 Using configuration CF 460"
       ]
      },
      {
       "output_type": "stream",
       "stream": "stdout",
       "text": [
        "\n",
        "PR=PR_001 MDL=TR13 RI=23.0/pi W=5.0 H=1.4 R60=0.0 R61=7.09518600904 R20=0.0 R40=0.6 R41=0.485540477108\n",
        "136 Using configuration CF 460"
       ]
      },
      {
       "output_type": "stream",
       "stream": "stdout",
       "text": [
        "\n",
        "PR=PR_001 MDL=TR13 RI=23.0/pi W=5.0 H=1.5 R60=0.0 R61=6.2840587121 R20=0.0 R40=0.6 R41=0.561738863642\n",
        "137 Using configuration CF 460"
       ]
      },
      {
       "output_type": "stream",
       "stream": "stdout",
       "text": [
        "\n",
        "PR=PR_001 MDL=TR13 RI=23.0/pi W=5.0 H=1.6 R60=0.0 R61=5.64443680268 R20=0.0 R40=0.6 R41=0.64222527893\n",
        "138 Using configuration CF 460"
       ]
      },
      {
       "output_type": "stream",
       "stream": "stdout",
       "text": [
        "\n",
        "PR=PR_001 MDL=TR13 RI=23.0/pi W=5.0 H=1.7 R60=0.0 R61=5.12900912702 R20=0.0 R40=0.6 R41=0.72723598411\n",
        "139 Using configuration CF 460"
       ]
      },
      {
       "output_type": "stream",
       "stream": "stdout",
       "text": [
        "\n",
        "PR=PR_001 MDL=TR13 RI=23.0/pi W=5.0 H=1.8 R60=0.0 R61=4.70625433425 R20=0.0 R40=0.6 R41=0.816997919559\n",
        "140 Using configuration CF 460"
       ]
      },
      {
       "output_type": "stream",
       "stream": "stdout",
       "text": [
        "\n",
        "PR=PR_001 MDL=TR13 RI=23.0/pi W=5.0 H=1.9 R60=0.0 R61=4.35436948956 R20=0.0 R40=0.6 R41=0.911727865427\n",
        "141 Using configuration CF 460"
       ]
      },
      {
       "output_type": "stream",
       "stream": "stdout",
       "text": [
        "\n",
        "PR=PR_001 MDL=TR13 RI=23.0/pi W=5.0 H=2.0 R60=0.0 R61=4.05780026143 R20=0.0 R40=0.6 R41=1.0116318536\n",
        "142 Using configuration CF 460"
       ]
      },
      {
       "output_type": "stream",
       "stream": "stdout",
       "text": [
        "\n",
        "PR=PR_001 MDL=TR13 RI=23.0/pi W=5.0 H=2.1 R60=0.0 R61=3.80515864914 R20=0.0 R40=0.6 R41=1.11690481052\n",
        "143 Using configuration CF 460"
       ]
      },
      {
       "output_type": "stream",
       "stream": "stdout",
       "text": [
        "\n",
        "PR=PR_001 MDL=TR13 RI=23.0/pi W=5.0 H=2.2 R60=0.0 R61=3.58792124198 R20=0.0 R40=0.6 R41=1.22773040513\n",
        "144 Using configuration CF 460"
       ]
      },
      {
       "output_type": "stream",
       "stream": "stdout",
       "text": [
        "\n",
        "PR=PR_001 MDL=TR13 RI=23.0/pi W=5.0 H=2.3 R60=0.0 R61=3.39958665684 R20=0.0 R40=0.6 R41=1.34428107335\n",
        "145 Using configuration CF 460"
       ]
      },
      {
       "output_type": "stream",
       "stream": "stdout",
       "text": [
        "\n",
        "PR=PR_001 MDL=TR13 RI=23.0/pi W=5.0 H=2.4 R60=0.0 R61=3.23511362558 R20=0.0 R40=0.6 R41=1.46671818958\n",
        "146 Using configuration CF 460"
       ]
      },
      {
       "output_type": "stream",
       "stream": "stdout",
       "text": [
        "\n",
        "PR=PR_001 MDL=TR13 RI=23.0/pi W=5.0 H=2.5 R60=0.0 R61=3.09053637268 R20=0.0 R40=0.6 R41=1.59519235677\n",
        "147 Using configuration CF 460"
       ]
      },
      {
       "output_type": "stream",
       "stream": "stdout",
       "text": [
        "\n",
        "PR=PR_001 MDL=TR13 RI=23.0/pi W=5.0 H=2.6 R60=0.0 R61=2.96269526484 R20=0.0 R40=0.6 R41=1.72984378813\n",
        "148 Using configuration CF 460"
       ]
      },
      {
       "output_type": "stream",
       "stream": "stdout",
       "text": [
        "\n",
        "PR=PR_001 MDL=TR13 RI=23.0/pi W=5.0 H=2.7 R60=0.0 R61=2.84904433747 R20=0.0 R40=0.6 R41=1.87080275652\n",
        "149 Using configuration CF 460"
       ]
      },
      {
       "output_type": "stream",
       "stream": "stdout",
       "text": [
        "\n",
        "PR=PR_001 MDL=TR13 RI=23.0/pi W=5.0 H=2.8 R60=0.0 R61=2.74751126098 R20=0.0 R40=0.6 R41=2.01819009034\n",
        "150 Using configuration CF 460"
       ]
      },
      {
       "output_type": "stream",
       "stream": "stdout",
       "text": [
        "\n",
        "PR=PR_001 MDL=TR13 RI=23.0/pi W=5.0 H=2.9 R60=0.0 R61=2.65639380653 R20=0.0 R40=0.6 R41=2.17211769799\n",
        "151 Using configuration CF 460"
       ]
      },
      {
       "output_type": "stream",
       "stream": "stdout",
       "text": [
        "\n",
        "PR=PR_001 MDL=TR13 RI=23.0/pi W=5.0 H=3.0 R60=0.0 R61=2.57428218105 R20=0.0 R40=0.6 R41=2.3326891062\n",
        "157 Using configuration CF 460"
       ]
      },
      {
       "output_type": "stream",
       "stream": "stdout",
       "text": [
        "\n",
        "PR=PR_001 MDL=TR13 RI=23.0/pi W=5.5 H=1.0 R60=0.0 R61=20.4831997319 R20=0.0 R40=0.65 R41=0.1875927614\n",
        "158 Using configuration CF 460"
       ]
      },
      {
       "output_type": "stream",
       "stream": "stdout",
       "text": [
        "\n",
        "PR=PR_001 MDL=TR13 RI=23.0/pi W=5.5 H=1.1 R60=0.0 R61=15.7490248942 R20=0.0 R40=0.65 R41=0.246523199123\n",
        "159 Using configuration CF 460"
       ]
      },
      {
       "output_type": "stream",
       "stream": "stdout",
       "text": [
        "\n",
        "PR=PR_001 MDL=TR13 RI=23.0/pi W=5.5 H=1.2 R60=0.0 R61=12.758921465 R20=0.0 R40=0.65 R41=0.30821570701\n",
        "160 Using configuration CF 460"
       ]
      },
      {
       "output_type": "stream",
       "stream": "stdout",
       "text": [
        "\n",
        "PR=PR_001 MDL=TR13 RI=23.0/pi W=5.5 H=1.3 R60=0.0 R61=10.7070199103 R20=0.0 R40=0.65 R41=0.372886203019\n",
        "161 Using configuration CF 460"
       ]
      },
      {
       "output_type": "stream",
       "stream": "stdout",
       "text": [
        "\n",
        "PR=PR_001 MDL=TR13 RI=23.0/pi W=5.5 H=1.4 R60=0.0 R61=9.217251417 R20=0.0 R40=0.65 R41=0.440749613546\n",
        "162 Using configuration CF 460"
       ]
      },
      {
       "output_type": "stream",
       "stream": "stdout",
       "text": [
        "\n",
        "PR=PR_001 MDL=TR13 RI=23.0/pi W=5.5 H=1.5 R60=0.0 R61=8.09052848621 R20=0.0 R40=0.65 R41=0.512018467899\n",
        "163 Using configuration CF 460"
       ]
      },
      {
       "output_type": "stream",
       "stream": "stdout",
       "text": [
        "\n",
        "PR=PR_001 MDL=TR13 RI=23.0/pi W=5.5 H=1.6 R60=0.0 R61=7.21160060492 R20=0.0 R40=0.65 R41=0.586901609209\n",
        "164 Using configuration CF 460"
       ]
      },
      {
       "output_type": "stream",
       "stream": "stdout",
       "text": [
        "\n",
        "PR=PR_001 MDL=TR13 RI=23.0/pi W=5.5 H=1.7 R60=0.0 R61=6.50913488097 R20=0.0 R40=0.65 R41=0.665603045447\n",
        "165 Using configuration CF 460"
       ]
      },
      {
       "output_type": "stream",
       "stream": "stdout",
       "text": [
        "\n",
        "PR=PR_001 MDL=TR13 RI=23.0/pi W=5.5 H=1.8 R60=0.0 R61=5.93662379976 R20=0.0 R40=0.65 R41=0.748320956463\n",
        "166 Using configuration CF 460"
       ]
      },
      {
       "output_type": "stream",
       "stream": "stdout",
       "text": [
        "\n",
        "PR=PR_001 MDL=TR13 RI=23.0/pi W=5.5 H=1.9 R60=0.0 R61=5.46245689604 R20=0.0 R40=0.65 R41=0.835246865437\n",
        "167 Using configuration CF 460"
       ]
      },
      {
       "output_type": "stream",
       "stream": "stdout",
       "text": [
        "\n",
        "PR=PR_001 MDL=TR13 RI=23.0/pi W=5.5 H=2.0 R60=0.0 R61=5.06440467814 R20=0.0 R40=0.65 R41=0.926564976187\n",
        "168 Using configuration CF 460"
       ]
      },
      {
       "output_type": "stream",
       "stream": "stdout",
       "text": [
        "\n",
        "PR=PR_001 MDL=TR13 RI=23.0/pi W=5.5 H=2.1 R60=0.0 R61=4.72638476026 R20=0.0 R40=0.65 R41=1.02245167186\n",
        "169 Using configuration CF 460"
       ]
      },
      {
       "output_type": "stream",
       "stream": "stdout",
       "text": [
        "\n",
        "PR=PR_001 MDL=TR13 RI=23.0/pi W=5.5 H=2.2 R60=0.0 R61=4.43647954459 R20=0.0 R40=0.65 R41=1.12307516577\n",
        "170 Using configuration CF 460"
       ]
      },
      {
       "output_type": "stream",
       "stream": "stdout",
       "text": [
        "\n",
        "PR=PR_001 MDL=TR13 RI=23.0/pi W=5.5 H=2.3 R60=0.0 R61=4.18567451405 R20=0.0 R40=0.65 R41=1.22859529157\n",
        "171 Using configuration CF 460"
       ]
      },
      {
       "output_type": "stream",
       "stream": "stdout",
       "text": [
        "\n",
        "PR=PR_001 MDL=TR13 RI=23.0/pi W=5.5 H=2.4 R60=0.0 R61=3.96702891503 R20=0.0 R40=0.65 R41=1.33916341771\n",
        "172 Using configuration CF 460"
       ]
      },
      {
       "output_type": "stream",
       "stream": "stdout",
       "text": [
        "\n",
        "PR=PR_001 MDL=TR13 RI=23.0/pi W=5.5 H=2.5 R60=0.0 R61=3.77511524742 R20=0.0 R40=0.65 R41=1.45492246992\n",
        "173 Using configuration CF 460"
       ]
      },
      {
       "output_type": "stream",
       "stream": "stdout",
       "text": [
        "\n",
        "PR=PR_001 MDL=TR13 RI=23.0/pi W=5.5 H=2.6 R60=0.0 R61=3.6056310905 R20=0.0 R40=0.65 R41=1.57600704492\n",
        "174 Using configuration CF 460"
       ]
      },
      {
       "output_type": "stream",
       "stream": "stdout",
       "text": [
        "\n",
        "PR=PR_001 MDL=TR13 RI=23.0/pi W=5.5 H=2.7 R60=0.0 R61=3.45512444001 R20=0.0 R40=0.65 R41=1.70254359926\n",
        "175 Using configuration CF 460"
       ]
      },
      {
       "output_type": "stream",
       "stream": "stdout",
       "text": [
        "\n",
        "PR=PR_001 MDL=TR13 RI=23.0/pi W=5.5 H=2.8 R60=0.0 R61=3.32079561886 R20=0.0 R40=0.65 R41=1.83465069798\n",
        "176 Using configuration CF 460"
       ]
      },
      {
       "output_type": "stream",
       "stream": "stdout",
       "text": [
        "\n",
        "PR=PR_001 MDL=TR13 RI=23.0/pi W=5.5 H=2.9 R60=0.0 R61=3.20035195565 R20=0.0 R40=0.65 R41=1.97243930901\n",
        "177 Using configuration CF 460"
       ]
      },
      {
       "output_type": "stream",
       "stream": "stdout",
       "text": [
        "\n",
        "PR=PR_001 MDL=TR13 RI=23.0/pi W=5.5 H=3.0 R60=0.0 R61=3.09189952762 R20=0.0 R40=0.65 R41=2.11601313094\n",
        "178 Using configuration CF 460"
       ]
      },
      {
       "output_type": "stream",
       "stream": "stdout",
       "text": [
        "\n",
        "PR=PR_001 MDL=TR13 RI=23.0/pi W=5.5 H=3.1 R60=0.0 R61=2.99386139013 R20=0.0 R40=0.65 R41=2.26546894334\n",
        "179 Using configuration CF 460"
       ]
      },
      {
       "output_type": "stream",
       "stream": "stdout",
       "text": [
        "\n",
        "PR=PR_001 MDL=TR13 RI=23.0/pi W=5.5 H=3.2 R60=0.0 R61=2.9049150321 R20=0.0 R40=0.65 R41=2.42089697024\n",
        "180 Using configuration CF 460"
       ]
      },
      {
       "output_type": "stream",
       "stream": "stdout",
       "text": [
        "\n",
        "PR=PR_001 MDL=TR13 RI=23.0/pi W=5.5 H=3.3 R60=0.0 R61=2.82394398662 R20=0.0 R40=0.65 R41=2.58238124926\n",
        "183 Using configuration CF 460"
       ]
      },
      {
       "output_type": "stream",
       "stream": "stdout",
       "text": [
        "\n",
        "PR=PR_001 MDL=TR13 RI=23.0/pi W=6.0 H=1.0 R60=0.0 R61=28.7173320885 R20=0.0 R40=0.7 R41=0.158266791149\n",
        "184 Using configuration CF 460"
       ]
      },
      {
       "output_type": "stream",
       "stream": "stdout",
       "text": [
        "\n",
        "PR=PR_001 MDL=TR13 RI=23.0/pi W=6.0 H=1.1 R60=0.0 R61=21.2862848678 R20=0.0 R40=0.7 R41=0.21516201763\n",
        "185 Using configuration CF 460"
       ]
      },
      {
       "output_type": "stream",
       "stream": "stdout",
       "text": [
        "\n",
        "PR=PR_001 MDL=TR13 RI=23.0/pi W=6.0 H=1.2 R60=0.0 R61=16.8534531629 R20=0.0 R40=0.7 R41=0.274424472855\n",
        "186 Using configuration CF 460"
       ]
      },
      {
       "output_type": "stream",
       "stream": "stdout",
       "text": [
        "\n",
        "PR=PR_001 MDL=TR13 RI=23.0/pi W=6.0 H=1.3 R60=0.0 R61=13.9188234163 R20=0.0 R40=0.7 R41=0.336235316738\n",
        "187 Using configuration CF 460"
       ]
      },
      {
       "output_type": "stream",
       "stream": "stdout",
       "text": [
        "\n",
        "PR=PR_001 MDL=TR13 RI=23.0/pi W=6.0 H=1.4 R60=0.0 R61=11.8395314488 R20=0.0 R40=0.7 R41=0.400775995276\n",
        "188 Using configuration CF 460"
       ]
      },
      {
       "output_type": "stream",
       "stream": "stdout",
       "text": [
        "\n",
        "PR=PR_001 MDL=TR13 RI=23.0/pi W=6.0 H=1.5 R60=0.0 R61=10.2941480415 R20=0.0 R40=0.7 R41=0.468227188941\n",
        "189 Using configuration CF 460"
       ]
      },
      {
       "output_type": "stream",
       "stream": "stdout",
       "text": [
        "\n",
        "PR=PR_001 MDL=TR13 RI=23.0/pi W=6.0 H=1.6 R60=0.0 R61=9.10410727812 R20=0.0 R40=0.7 R41=0.538767816564\n",
        "190 Using configuration CF 460"
       ]
      },
      {
       "output_type": "stream",
       "stream": "stdout",
       "text": [
        "\n",
        "PR=PR_001 MDL=TR13 RI=23.0/pi W=6.0 H=1.7 R60=0.0 R61=8.16227766017 R20=0.0 R40=0.7 R41=0.612574113277\n",
        "191 Using configuration CF 460"
       ]
      },
      {
       "output_type": "stream",
       "stream": "stdout",
       "text": [
        "\n",
        "PR=PR_001 MDL=TR13 RI=23.0/pi W=6.0 H=1.8 R60=0.0 R61=7.40049418968 R20=0.0 R40=0.7 R41=0.689818797118\n",
        "192 Using configuration CF 460"
       ]
      },
      {
       "output_type": "stream",
       "stream": "stdout",
       "text": [
        "\n",
        "PR=PR_001 MDL=TR13 RI=23.0/pi W=6.0 H=1.9 R60=0.0 R61=6.77332416321 R20=0.0 R40=0.7 R41=0.770670334716\n",
        "193 Using configuration CF 460"
       ]
      },
      {
       "output_type": "stream",
       "stream": "stdout",
       "text": [
        "\n",
        "PR=PR_001 MDL=TR13 RI=23.0/pi W=6.0 H=2.0 R60=0.0 R61=6.24932543317 R20=0.0 R40=0.7 R41=0.855292312291\n",
        "194 Using configuration CF 460"
       ]
      },
      {
       "output_type": "stream",
       "stream": "stdout",
       "text": [
        "\n",
        "PR=PR_001 MDL=TR13 RI=23.0/pi W=6.0 H=2.1 R60=0.0 R61=5.80605089797 R20=0.0 R40=0.7 R41=0.94384291428\n",
        "195 Using configuration CF 460"
       ]
      },
      {
       "output_type": "stream",
       "stream": "stdout",
       "text": [
        "\n",
        "PR=PR_001 MDL=TR13 RI=23.0/pi W=6.0 H=2.2 R60=0.0 R61=5.42705098312 R20=0.0 R40=0.7 R41=1.03647450844\n",
        "196 Using configuration CF 460"
       ]
      },
      {
       "output_type": "stream",
       "stream": "stdout",
       "text": [
        "\n",
        "PR=PR_001 MDL=TR13 RI=23.0/pi W=6.0 H=2.3 R60=0.0 R61=5.1 R20=0.0 R40=0.7 R41=1.13333333333\n",
        "197 Using configuration CF 460"
       ]
      },
      {
       "output_type": "stream",
       "stream": "stdout",
       "text": [
        "\n",
        "PR=PR_001 MDL=TR13 RI=23.0/pi W=6.0 H=2.4 R60=0.0 R61=4.81548362026 R20=0.0 R40=0.7 R41=1.23455928185\n",
        "198 Using configuration CF 460"
       ]
      },
      {
       "output_type": "stream",
       "stream": "stdout",
       "text": [
        "\n",
        "PR=PR_001 MDL=TR13 RI=23.0/pi W=6.0 H=2.5 R60=0.0 R61=4.56619037897 R20=0.0 R40=0.7 R41=1.34028577262\n",
        "199 Using configuration CF 460"
       ]
      },
      {
       "output_type": "stream",
       "stream": "stdout",
       "text": [
        "\n",
        "PR=PR_001 MDL=TR13 RI=23.0/pi W=6.0 H=2.6 R60=0.0 R61=4.34635836816 R20=0.0 R40=0.7 R41=1.45063970017\n",
        "200 Using configuration CF 460"
       ]
      },
      {
       "output_type": "stream",
       "stream": "stdout",
       "text": [
        "\n",
        "PR=PR_001 MDL=TR13 RI=23.0/pi W=6.0 H=2.7 R60=0.0 R61=4.15138781887 R20=0.0 R40=0.7 R41=1.56574145409\n",
        "201 Using configuration CF 460"
       ]
      },
      {
       "output_type": "stream",
       "stream": "stdout",
       "text": [
        "\n",
        "PR=PR_001 MDL=TR13 RI=23.0/pi W=6.0 H=2.8 R60=0.0 R61=3.97756428958 R20=0.0 R40=0.7 R41=1.68570499729\n",
        "202 Using configuration CF 460"
       ]
      },
      {
       "output_type": "stream",
       "stream": "stdout",
       "text": [
        "\n",
        "PR=PR_001 MDL=TR13 RI=23.0/pi W=6.0 H=2.9 R60=0.0 R61=3.82185728137 R20=0.0 R40=0.7 R41=1.81063799366\n",
        "203 Using configuration CF 460"
       ]
      },
      {
       "output_type": "stream",
       "stream": "stdout",
       "text": [
        "\n",
        "PR=PR_001 MDL=TR13 RI=23.0/pi W=6.0 H=3.0 R60=0.0 R61=3.68177133565 R20=0.0 R40=0.7 R41=1.940641976\n",
        "204 Using configuration CF 460"
       ]
      },
      {
       "output_type": "stream",
       "stream": "stdout",
       "text": [
        "\n",
        "PR=PR_001 MDL=TR13 RI=23.0/pi W=6.0 H=3.1 R60=0.0 R61=3.55523431781 R20=0.0 R40=0.7 R41=2.07581254575\n",
        "205 Using configuration CF 460"
       ]
      },
      {
       "output_type": "stream",
       "stream": "stdout",
       "text": [
        "\n",
        "PR=PR_001 MDL=TR13 RI=23.0/pi W=6.0 H=3.2 R60=0.0 R61=3.4405124838 R20=0.0 R40=0.7 R41=2.21623959684\n",
        "206 Using configuration CF 460"
       ]
      },
      {
       "output_type": "stream",
       "stream": "stdout",
       "text": [
        "\n",
        "PR=PR_001 MDL=TR13 RI=23.0/pi W=6.0 H=3.3 R60=0.0 R61=3.33614512679 R20=0.0 R40=0.7 R41=2.36200755678\n",
        "207 Using configuration CF 460"
       ]
      },
      {
       "output_type": "stream",
       "stream": "stdout",
       "text": [
        "\n",
        "PR=PR_001 MDL=TR13 RI=23.0/pi W=6.0 H=3.4 R60=0.0 R61=3.24089373412 R20=0.0 R40=0.7 R41=2.51319563929\n",
        "208 Using configuration CF 460"
       ]
      },
      {
       "output_type": "stream",
       "stream": "stdout",
       "text": [
        "\n",
        "PR=PR_001 MDL=TR13 RI=23.0/pi W=6.0 H=3.5 R60=0.0 R61=3.15370203235 R20=0.0 R40=0.7 R41=2.66987810314\n",
        "209 Using configuration CF 460"
       ]
      },
      {
       "output_type": "stream",
       "stream": "stdout",
       "text": [
        "\n",
        "PR=PR_001 MDL=TR13 RI=23.0/pi W=6.5 H=1.0 R60=0.0 R61=40.8076072156 R20=0.0 R40=0.75 R41=0.130184060338\n",
        "210 Using configuration CF 460"
       ]
      },
      {
       "output_type": "stream",
       "stream": "stdout",
       "text": [
        "\n",
        "PR=PR_001 MDL=TR13 RI=23.0/pi W=6.5 H=1.1 R60=0.0 R61=28.8064232781 R20=0.0 R40=0.75 R41=0.185462108518\n",
        "211 Using configuration CF 460"
       ]
      },
      {
       "output_type": "stream",
       "stream": "stdout",
       "text": [
        "\n",
        "PR=PR_001 MDL=TR13 RI=23.0/pi W=6.5 H=1.2 R60=0.0 R61=22.1686851569 R20=0.0 R40=0.75 R41=0.242797439807\n",
        "212 Using configuration CF 460"
       ]
      },
      {
       "output_type": "stream",
       "stream": "stdout",
       "text": [
        "\n",
        "PR=PR_001 MDL=TR13 RI=23.0/pi W=6.5 H=1.3 R60=0.0 R61=17.9679698644 R20=0.0 R40=0.75 R41=0.302343561403\n",
        "213 Using configuration CF 460"
       ]
      },
      {
       "output_type": "stream",
       "stream": "stdout",
       "text": [
        "\n",
        "PR=PR_001 MDL=TR13 RI=23.0/pi W=6.5 H=1.4 R60=0.0 R61=15.0787253677 R20=0.0 R40=0.75 R41=0.364254926466\n",
        "214 Using configuration CF 460"
       ]
      }
     ],
     "prompt_number": "*"
    },
    {
     "cell_type": "code",
     "collapsed": false,
     "input": [],
     "language": "python",
     "metadata": {},
     "outputs": [],
     "prompt_number": 45
    },
    {
     "cell_type": "code",
     "collapsed": false,
     "input": [
      "%%time\n",
      "slices=[]\n",
      "prec=3\n",
      "i = 2\n",
      "w=widths[i].value\n",
      "h=heights[i].value\n",
      "r60=r60s[i].value\n",
      "r61=r61s[i].value\n",
      "r40=r40s[i].value\n",
      "r41=r41s[i].value\n",
      "print time.time()\n",
      "if r40 and r41 and r61:\n",
      "    ring_config = RingParams(W=5., H=1.5, CF=56., PROFILE='PR_001')\n",
      "    ring_config.lookup_definition(profiles_definiton)\n",
      "    ring_config.W = round(w,prec)\n",
      "    ring_config.H = round(h,prec)\n",
      "    ring_config.R60 = round(r60,prec)\n",
      "    ring_config.R61 = round(r61,prec)\n",
      "    ring_config.R40 = round(r40,prec)\n",
      "    ring_config.R41 = round(r41,prec)        \n",
      "    print '%s Using configuration:'%(i)\n",
      "    print ring_config\n",
      "    context = Context()\n",
      "    model = globals()[ring_config.MODEL](params=ring_config, context=context)\n",
      "    model.create_equations()        \n",
      "    try:\n",
      "        del __builtin__._fr \n",
      "        del __builtin__._to \n",
      "    except:\n",
      "        pass\n",
      "\n",
      "    print 'Vol:',model.get_volume()\n",
      "    \n",
      "    print '...>'\n",
      "    step=0.1    \n",
      "    for f in arange(0., 5., step):\n",
      "        __builtin__._fr = f\n",
      "        __builtin__._to = f + step\n",
      "        v,h = model.get_volume()\n",
      "        slicesa().append([f,f+step,v,h])\n",
      "        print [f,f+step,v,h]\n",
      "                    \n",
      "print slices"
     ],
     "language": "python",
     "metadata": {},
     "outputs": [
      {
       "output_type": "stream",
       "stream": "stdout",
       "text": [
        "1378321013.6\n",
        "2 Using configuration:\n",
        "PR=PR_001 MDL=TR13 RI=28.0/pi W=2.5 H=1.1 R60=0.0 R61=1.903 R20=0.0 R40=0.35 R41=0.558\n",
        "Vol: "
       ]
      },
      {
       "ename": "NameError",
       "evalue": "name 'slicesa' is not defined",
       "output_type": "pyerr",
       "traceback": [
        "\u001b[1;31m---------------------------------------------------------------------------\u001b[0m\n\u001b[1;31mNameError\u001b[0m                                 Traceback (most recent call last)",
        "\u001b[1;32m<ipython-input-46-7baf9cd6def7>\u001b[0m in \u001b[0;36m<module>\u001b[1;34m()\u001b[0m\n\u001b[1;32m----> 1\u001b[1;33m \u001b[0mget_ipython\u001b[0m\u001b[1;33m(\u001b[0m\u001b[1;33m)\u001b[0m\u001b[1;33m.\u001b[0m\u001b[0mrun_cell_magic\u001b[0m\u001b[1;33m(\u001b[0m\u001b[1;34mu'time'\u001b[0m\u001b[1;33m,\u001b[0m \u001b[1;34mu''\u001b[0m\u001b[1;33m,\u001b[0m \u001b[1;34mu\"slices=[]\\nprec=3\\ni = 2\\nw=widths[i].value\\nh=heights[i].value\\nr60=r60s[i].value\\nr61=r61s[i].value\\nr40=r40s[i].value\\nr41=r41s[i].value\\nprint time.time()\\nif r40 and r41 and r61:\\n    ring_config = RingParams(W=5., H=1.5, CF=56., PROFILE='PR_001')\\n    ring_config.lookup_definition(profiles_definiton)\\n    ring_config.W = round(w,prec)\\n    ring_config.H = round(h,prec)\\n    ring_config.R60 = round(r60,prec)\\n    ring_config.R61 = round(r61,prec)\\n    ring_config.R40 = round(r40,prec)\\n    ring_config.R41 = round(r41,prec)        \\n    print '%s Using configuration:'%(i)\\n    print ring_config\\n    context = Context()\\n    model = globals()[ring_config.MODEL](params=ring_config, context=context)\\n    model.create_equations()        \\n    try:\\n        del __builtin__._fr \\n        del __builtin__._to \\n    except:\\n        pass\\n\\n    print 'Vol:',model.get_volume()\\n    \\n    print '...>'\\n    step=0.1    \\n    for f in arange(0., 5., step):\\n        __builtin__._fr = f\\n        __builtin__._to = f + step\\n        v,h = model.get_volume()\\n        slicesa().append([f,f+step,v,h])\\n        print [f,f+step,v,h]\\n                    \\nprint slices\"\u001b[0m\u001b[1;33m)\u001b[0m\u001b[1;33m\u001b[0m\u001b[0m\n\u001b[0m",
        "\u001b[1;32m/usr/local/lib/python2.7/dist-packages/IPython/core/interactiveshell.pyc\u001b[0m in \u001b[0;36mrun_cell_magic\u001b[1;34m(self, magic_name, line, cell)\u001b[0m\n\u001b[0;32m   2128\u001b[0m             \u001b[0mmagic_arg_s\u001b[0m \u001b[1;33m=\u001b[0m \u001b[0mself\u001b[0m\u001b[1;33m.\u001b[0m\u001b[0mvar_expand\u001b[0m\u001b[1;33m(\u001b[0m\u001b[0mline\u001b[0m\u001b[1;33m,\u001b[0m \u001b[0mstack_depth\u001b[0m\u001b[1;33m)\u001b[0m\u001b[1;33m\u001b[0m\u001b[0m\n\u001b[0;32m   2129\u001b[0m             \u001b[1;32mwith\u001b[0m \u001b[0mself\u001b[0m\u001b[1;33m.\u001b[0m\u001b[0mbuiltin_trap\u001b[0m\u001b[1;33m:\u001b[0m\u001b[1;33m\u001b[0m\u001b[0m\n\u001b[1;32m-> 2130\u001b[1;33m                 \u001b[0mresult\u001b[0m \u001b[1;33m=\u001b[0m \u001b[0mfn\u001b[0m\u001b[1;33m(\u001b[0m\u001b[0mmagic_arg_s\u001b[0m\u001b[1;33m,\u001b[0m \u001b[0mcell\u001b[0m\u001b[1;33m)\u001b[0m\u001b[1;33m\u001b[0m\u001b[0m\n\u001b[0m\u001b[0;32m   2131\u001b[0m             \u001b[1;32mreturn\u001b[0m \u001b[0mresult\u001b[0m\u001b[1;33m\u001b[0m\u001b[0m\n\u001b[0;32m   2132\u001b[0m \u001b[1;33m\u001b[0m\u001b[0m\n",
        "\u001b[1;32m/usr/local/lib/python2.7/dist-packages/IPython/core/magics/execution.pyc\u001b[0m in \u001b[0;36mtime\u001b[1;34m(self, line, cell, local_ns)\u001b[0m\n",
        "\u001b[1;32m/usr/local/lib/python2.7/dist-packages/IPython/core/magic.pyc\u001b[0m in \u001b[0;36m<lambda>\u001b[1;34m(f, *a, **k)\u001b[0m\n\u001b[0;32m    189\u001b[0m     \u001b[1;31m# but it's overkill for just that one bit of state.\u001b[0m\u001b[1;33m\u001b[0m\u001b[1;33m\u001b[0m\u001b[0m\n\u001b[0;32m    190\u001b[0m     \u001b[1;32mdef\u001b[0m \u001b[0mmagic_deco\u001b[0m\u001b[1;33m(\u001b[0m\u001b[0marg\u001b[0m\u001b[1;33m)\u001b[0m\u001b[1;33m:\u001b[0m\u001b[1;33m\u001b[0m\u001b[0m\n\u001b[1;32m--> 191\u001b[1;33m         \u001b[0mcall\u001b[0m \u001b[1;33m=\u001b[0m \u001b[1;32mlambda\u001b[0m \u001b[0mf\u001b[0m\u001b[1;33m,\u001b[0m \u001b[1;33m*\u001b[0m\u001b[0ma\u001b[0m\u001b[1;33m,\u001b[0m \u001b[1;33m**\u001b[0m\u001b[0mk\u001b[0m\u001b[1;33m:\u001b[0m \u001b[0mf\u001b[0m\u001b[1;33m(\u001b[0m\u001b[1;33m*\u001b[0m\u001b[0ma\u001b[0m\u001b[1;33m,\u001b[0m \u001b[1;33m**\u001b[0m\u001b[0mk\u001b[0m\u001b[1;33m)\u001b[0m\u001b[1;33m\u001b[0m\u001b[0m\n\u001b[0m\u001b[0;32m    192\u001b[0m \u001b[1;33m\u001b[0m\u001b[0m\n\u001b[0;32m    193\u001b[0m         \u001b[1;32mif\u001b[0m \u001b[0mcallable\u001b[0m\u001b[1;33m(\u001b[0m\u001b[0marg\u001b[0m\u001b[1;33m)\u001b[0m\u001b[1;33m:\u001b[0m\u001b[1;33m\u001b[0m\u001b[0m\n",
        "\u001b[1;32m/usr/local/lib/python2.7/dist-packages/IPython/core/magics/execution.pyc\u001b[0m in \u001b[0;36mtime\u001b[1;34m(self, line, cell, local_ns)\u001b[0m\n\u001b[0;32m   1043\u001b[0m         \u001b[1;32melse\u001b[0m\u001b[1;33m:\u001b[0m\u001b[1;33m\u001b[0m\u001b[0m\n\u001b[0;32m   1044\u001b[0m             \u001b[0mst\u001b[0m \u001b[1;33m=\u001b[0m \u001b[0mclock2\u001b[0m\u001b[1;33m(\u001b[0m\u001b[1;33m)\u001b[0m\u001b[1;33m\u001b[0m\u001b[0m\n\u001b[1;32m-> 1045\u001b[1;33m             \u001b[1;32mexec\u001b[0m \u001b[0mcode\u001b[0m \u001b[1;32min\u001b[0m \u001b[0mglob\u001b[0m\u001b[1;33m,\u001b[0m \u001b[0mlocal_ns\u001b[0m\u001b[1;33m\u001b[0m\u001b[0m\n\u001b[0m\u001b[0;32m   1046\u001b[0m             \u001b[0mend\u001b[0m \u001b[1;33m=\u001b[0m \u001b[0mclock2\u001b[0m\u001b[1;33m(\u001b[0m\u001b[1;33m)\u001b[0m\u001b[1;33m\u001b[0m\u001b[0m\n\u001b[0;32m   1047\u001b[0m             \u001b[0mout\u001b[0m \u001b[1;33m=\u001b[0m \u001b[0mNone\u001b[0m\u001b[1;33m\u001b[0m\u001b[0m\n",
        "\u001b[1;32m<timed exec>\u001b[0m in \u001b[0;36m<module>\u001b[1;34m()\u001b[0m\n",
        "\u001b[1;31mNameError\u001b[0m: name 'slicesa' is not defined"
       ]
      },
      {
       "output_type": "stream",
       "stream": "stdout",
       "text": [
        "(0.1361171668255423, -28.0/pi + 8.91300287285345)\n",
        "...>\n"
       ]
      }
     ],
     "prompt_number": 46
    },
    {
     "cell_type": "code",
     "collapsed": false,
     "input": [
      "plot([x[3] for x in slices])"
     ],
     "language": "python",
     "metadata": {},
     "outputs": []
    },
    {
     "cell_type": "code",
     "collapsed": false,
     "input": [
      "[ round(float(x[3]),5) for x in slices ]"
     ],
     "language": "python",
     "metadata": {},
     "outputs": []
    },
    {
     "cell_type": "code",
     "collapsed": false,
     "input": [
      "23plot([ abs(round(float(x[2]),10)) for x in slices ],'r--')"
     ],
     "language": "python",
     "metadata": {},
     "outputs": []
    }
   ],
   "metadata": {}
  }
 ]
}
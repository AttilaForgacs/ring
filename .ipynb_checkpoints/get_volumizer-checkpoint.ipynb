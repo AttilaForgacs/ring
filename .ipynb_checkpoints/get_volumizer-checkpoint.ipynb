{
 "metadata": {
  "name": ""
 },
 "nbformat": 3,
 "nbformat_minor": 0,
 "worksheets": [
  {
   "cells": [
    {
     "cell_type": "code",
     "collapsed": false,
     "input": [
      "%pylab inline"
     ],
     "language": "python",
     "metadata": {},
     "outputs": [
      {
       "output_type": "stream",
       "stream": "stdout",
       "text": [
        "Populating the interactive namespace from numpy and matplotlib\n"
       ]
      }
     ],
     "prompt_number": 1
    },
    {
     "cell_type": "code",
     "collapsed": false,
     "input": [
      "%load_ext autoreload\n",
      "%autoreload 1"
     ],
     "language": "python",
     "metadata": {},
     "outputs": [],
     "prompt_number": 2
    },
    {
     "cell_type": "code",
     "collapsed": false,
     "input": [
      "from __future__ import division\n",
      "from pylab import *\n",
      "from tools import *\n",
      "from collections import *\n",
      "from math import *\n",
      "from numpy import array, cos, sin\n",
      "import functools\n",
      "import scipy\n",
      "import sympy\n",
      "from IPython.display import Image\n",
      "from scipy.integrate import quad\n",
      "from sympy import *\n",
      "import numpy as np\n",
      "import scipy as sp\n",
      "import time\n",
      "%aimport models\n",
      "%aimport tools\n",
      "from sympy import init_printing;init_printing()\n",
      "from models import *"
     ],
     "language": "python",
     "metadata": {},
     "outputs": [],
     "prompt_number": 3
    },
    {
     "cell_type": "code",
     "collapsed": false,
     "input": [
      "profiles_definiton = load_profiles_lookup_table({})\n",
      "ring_config = RingParams(W=5., H=1.5, CF=56., PROFILE='PR_001')\n",
      "ring_config.lookup_definition(profiles_definiton)"
     ],
     "language": "python",
     "metadata": {},
     "outputs": [],
     "prompt_number": 4
    },
    {
     "cell_type": "code",
     "collapsed": false,
     "input": [
      "import xlrd\n",
      "book = xlrd.open_workbook('./parameters/PR_001_Daten.xlsx')"
     ],
     "language": "python",
     "metadata": {},
     "outputs": [],
     "prompt_number": 5
    },
    {
     "cell_type": "code",
     "collapsed": false,
     "input": [
      "s=book.sheet_by_index(0)"
     ],
     "language": "python",
     "metadata": {},
     "outputs": [],
     "prompt_number": 6
    },
    {
     "cell_type": "code",
     "collapsed": false,
     "input": [
      "widths=s.col(2)\n",
      "heights=s.col(3)\n",
      "r60s=s.col(4)\n",
      "r61s=s.col(5)\n",
      "r40s=s.col(6)\n",
      "r41s=s.col(7)"
     ],
     "language": "python",
     "metadata": {},
     "outputs": [],
     "prompt_number": 7
    },
    {
     "cell_type": "code",
     "collapsed": false,
     "input": [
      "raise\n",
      "prec=2\n",
      "for i in xrange(62, len(widths)):\n",
      "    w=widths[i].value\n",
      "    h=heights[i].value\n",
      "    r60=r60s[i].value\n",
      "    r61=r61s[i].value\n",
      "    r40=r40s[i].value\n",
      "    r41=r41s[i].value\n",
      "    if r40 and r41 and r61:\n",
      "        ring_config = RingParams(W=5., H=1.5, CF=56., PROFILE='PR_001')\n",
      "        ring_config.lookup_definition(profiles_definiton)\n",
      "        ring_config.W = round(w,prec)\n",
      "        ring_config.H = round(h,prec)\n",
      "        ring_config.R60 = round(r60,prec)\n",
      "        ring_config.R61 = round(r61,prec)\n",
      "        ring_config.R40 = round(r40,prec)\n",
      "        ring_config.R41 = round(r41,prec)        \n",
      "        print '%s Using configuration:'%(i)\n",
      "        print ring_config\n",
      "        context = Context()\n",
      "        model = globals()[ring_config.MODEL](params=ring_config, context=context)\n",
      "        model.create_equations()        \n",
      "        print 'Vol:',model.get_volume()"
     ],
     "language": "python",
     "metadata": {},
     "outputs": [
      {
       "output_type": "stream",
       "stream": "stdout",
       "text": [
        "62 Using configuration:\n",
        "PR=PR_001 MDL=TR13 RI=28.0/pi W=3.5 H=1.9 R60=0.0 R61=2.02 R20=0.0 R40=0.45 R41=1.28\n",
        "solutions:"
       ]
      },
      {
       "ename": "KeyboardInterrupt",
       "evalue": "",
       "output_type": "pyerr",
       "traceback": [
        "\u001b[1;31m---------------------------------------------------------------------------\u001b[0m\n\u001b[1;31mKeyboardInterrupt\u001b[0m                         Traceback (most recent call last)",
        "\u001b[1;32m<ipython-input-7-0e4276b6a7fe>\u001b[0m in \u001b[0;36m<module>\u001b[1;34m()\u001b[0m\n\u001b[0;32m     21\u001b[0m         \u001b[0mmodel\u001b[0m \u001b[1;33m=\u001b[0m \u001b[0mglobals\u001b[0m\u001b[1;33m(\u001b[0m\u001b[1;33m)\u001b[0m\u001b[1;33m[\u001b[0m\u001b[0mring_config\u001b[0m\u001b[1;33m.\u001b[0m\u001b[0mMODEL\u001b[0m\u001b[1;33m]\u001b[0m\u001b[1;33m(\u001b[0m\u001b[0mparams\u001b[0m\u001b[1;33m=\u001b[0m\u001b[0mring_config\u001b[0m\u001b[1;33m,\u001b[0m \u001b[0mcontext\u001b[0m\u001b[1;33m=\u001b[0m\u001b[0mcontext\u001b[0m\u001b[1;33m)\u001b[0m\u001b[1;33m\u001b[0m\u001b[0m\n\u001b[0;32m     22\u001b[0m         \u001b[0mmodel\u001b[0m\u001b[1;33m.\u001b[0m\u001b[0mcreate_equations\u001b[0m\u001b[1;33m(\u001b[0m\u001b[1;33m)\u001b[0m\u001b[1;33m\u001b[0m\u001b[0m\n\u001b[1;32m---> 23\u001b[1;33m         \u001b[1;32mprint\u001b[0m \u001b[1;34m'Vol:'\u001b[0m\u001b[1;33m,\u001b[0m\u001b[0mmodel\u001b[0m\u001b[1;33m.\u001b[0m\u001b[0mget_volume\u001b[0m\u001b[1;33m(\u001b[0m\u001b[1;33m)\u001b[0m\u001b[1;33m\u001b[0m\u001b[0m\n\u001b[0m",
        "\u001b[1;32m/ring/ring/models/mTR13.py\u001b[0m in \u001b[0;36mget_volume\u001b[1;34m(self)\u001b[0m\n\u001b[0;32m     89\u001b[0m             \u001b[0mP\u001b[0m\u001b[1;33m(\u001b[0m\u001b[0mc\u001b[0m\u001b[1;33m[\u001b[0m\u001b[1;34m'tc_CX'\u001b[0m\u001b[1;33m]\u001b[0m\u001b[1;33m,\u001b[0m \u001b[0mc\u001b[0m\u001b[1;33m[\u001b[0m\u001b[1;34m'tc_CY'\u001b[0m\u001b[1;33m]\u001b[0m\u001b[1;33m)\u001b[0m\u001b[1;33m,\u001b[0m\u001b[1;33m\u001b[0m\u001b[0m\n\u001b[0;32m     90\u001b[0m             \u001b[0mc\u001b[0m\u001b[1;33m[\u001b[0m\u001b[1;34m'tc_R'\u001b[0m\u001b[1;33m]\u001b[0m\u001b[1;33m,\u001b[0m\u001b[1;33m\u001b[0m\u001b[0m\n\u001b[1;32m---> 91\u001b[1;33m             \u001b[0mc\u001b[0m\u001b[1;33m[\u001b[0m\u001b[1;34m'p1_X'\u001b[0m\u001b[1;33m]\u001b[0m\u001b[1;33m,\u001b[0m \u001b[0mc\u001b[0m\u001b[1;33m[\u001b[0m\u001b[1;34m'p2_X'\u001b[0m\u001b[1;33m]\u001b[0m\u001b[1;33m\u001b[0m\u001b[0m\n\u001b[0m\u001b[0;32m     92\u001b[0m         )\n\u001b[0;32m     93\u001b[0m \u001b[1;33m\u001b[0m\u001b[0m\n",
        "\u001b[1;32m/ring/ring/tools.pyc\u001b[0m in \u001b[0;36mvolume_integrate_arc_top\u001b[1;34m(C, r, a, b)\u001b[0m\n\u001b[0;32m    108\u001b[0m     \u001b[0ma\u001b[0m\u001b[1;33m,\u001b[0m \u001b[0mb\u001b[0m \u001b[1;33m=\u001b[0m \u001b[0mapply_slice_limits\u001b[0m\u001b[1;33m(\u001b[0m\u001b[0ma\u001b[0m\u001b[1;33m,\u001b[0m \u001b[0mb\u001b[0m\u001b[1;33m)\u001b[0m\u001b[1;33m\u001b[0m\u001b[0m\n\u001b[0;32m    109\u001b[0m     \u001b[0mrng\u001b[0m \u001b[1;33m=\u001b[0m \u001b[0marange\u001b[0m\u001b[1;33m(\u001b[0m\u001b[0ma\u001b[0m\u001b[1;33m,\u001b[0m \u001b[0mb\u001b[0m\u001b[1;33m,\u001b[0m \u001b[0mINTEGRATE_STEP\u001b[0m\u001b[1;33m)\u001b[0m\u001b[1;33m\u001b[0m\u001b[0m\n\u001b[1;32m--> 110\u001b[1;33m     \u001b[0mplot\u001b[0m\u001b[1;33m(\u001b[0m\u001b[0mrng\u001b[0m\u001b[1;33m,\u001b[0m \u001b[0mmap\u001b[0m\u001b[1;33m(\u001b[0m\u001b[1;32mlambda\u001b[0m \u001b[0mz\u001b[0m\u001b[1;33m:\u001b[0m \u001b[0mf_top_arc\u001b[0m\u001b[1;33m(\u001b[0m\u001b[0mz\u001b[0m\u001b[1;33m,\u001b[0m \u001b[0mC\u001b[0m\u001b[1;33m,\u001b[0m \u001b[0mr\u001b[0m\u001b[1;33m)\u001b[0m\u001b[1;33m,\u001b[0m \u001b[0mrng\u001b[0m\u001b[1;33m)\u001b[0m\u001b[1;33m)\u001b[0m\u001b[1;33m\u001b[0m\u001b[0m\n\u001b[0m\u001b[0;32m    111\u001b[0m \u001b[1;33m\u001b[0m\u001b[0m\n\u001b[0;32m    112\u001b[0m     \u001b[1;32mif\u001b[0m \u001b[0ma\u001b[0m \u001b[1;33m==\u001b[0m \u001b[0mb\u001b[0m\u001b[1;33m:\u001b[0m\u001b[1;33m\u001b[0m\u001b[0m\n",
        "\u001b[1;32m/ring/ring/tools.pyc\u001b[0m in \u001b[0;36m<lambda>\u001b[1;34m(z)\u001b[0m\n\u001b[0;32m    108\u001b[0m     \u001b[0ma\u001b[0m\u001b[1;33m,\u001b[0m \u001b[0mb\u001b[0m \u001b[1;33m=\u001b[0m \u001b[0mapply_slice_limits\u001b[0m\u001b[1;33m(\u001b[0m\u001b[0ma\u001b[0m\u001b[1;33m,\u001b[0m \u001b[0mb\u001b[0m\u001b[1;33m)\u001b[0m\u001b[1;33m\u001b[0m\u001b[0m\n\u001b[0;32m    109\u001b[0m     \u001b[0mrng\u001b[0m \u001b[1;33m=\u001b[0m \u001b[0marange\u001b[0m\u001b[1;33m(\u001b[0m\u001b[0ma\u001b[0m\u001b[1;33m,\u001b[0m \u001b[0mb\u001b[0m\u001b[1;33m,\u001b[0m \u001b[0mINTEGRATE_STEP\u001b[0m\u001b[1;33m)\u001b[0m\u001b[1;33m\u001b[0m\u001b[0m\n\u001b[1;32m--> 110\u001b[1;33m     \u001b[0mplot\u001b[0m\u001b[1;33m(\u001b[0m\u001b[0mrng\u001b[0m\u001b[1;33m,\u001b[0m \u001b[0mmap\u001b[0m\u001b[1;33m(\u001b[0m\u001b[1;32mlambda\u001b[0m \u001b[0mz\u001b[0m\u001b[1;33m:\u001b[0m \u001b[0mf_top_arc\u001b[0m\u001b[1;33m(\u001b[0m\u001b[0mz\u001b[0m\u001b[1;33m,\u001b[0m \u001b[0mC\u001b[0m\u001b[1;33m,\u001b[0m \u001b[0mr\u001b[0m\u001b[1;33m)\u001b[0m\u001b[1;33m,\u001b[0m \u001b[0mrng\u001b[0m\u001b[1;33m)\u001b[0m\u001b[1;33m)\u001b[0m\u001b[1;33m\u001b[0m\u001b[0m\n\u001b[0m\u001b[0;32m    111\u001b[0m \u001b[1;33m\u001b[0m\u001b[0m\n\u001b[0;32m    112\u001b[0m     \u001b[1;32mif\u001b[0m \u001b[0ma\u001b[0m \u001b[1;33m==\u001b[0m \u001b[0mb\u001b[0m\u001b[1;33m:\u001b[0m\u001b[1;33m\u001b[0m\u001b[0m\n",
        "\u001b[1;32m/ring/ring/tools.pyc\u001b[0m in \u001b[0;36mf_top_arc\u001b[1;34m(x, C, r)\u001b[0m\n\u001b[0;32m     54\u001b[0m     \"\"\"\n\u001b[0;32m     55\u001b[0m     \u001b[0my\u001b[0m \u001b[1;33m=\u001b[0m \u001b[0mC\u001b[0m\u001b[1;33m.\u001b[0m\u001b[0my\u001b[0m \u001b[1;33m+\u001b[0m \u001b[1;33m(\u001b[0m\u001b[0msympy\u001b[0m\u001b[1;33m.\u001b[0m\u001b[0msqrt\u001b[0m\u001b[1;33m(\u001b[0m\u001b[0mr\u001b[0m \u001b[1;33m**\u001b[0m \u001b[1;36m2\u001b[0m \u001b[1;33m-\u001b[0m \u001b[1;33m(\u001b[0m\u001b[0mx\u001b[0m \u001b[1;33m-\u001b[0m \u001b[0mC\u001b[0m\u001b[1;33m.\u001b[0m\u001b[0mx\u001b[0m\u001b[1;33m)\u001b[0m \u001b[1;33m**\u001b[0m \u001b[1;36m2\u001b[0m\u001b[1;33m)\u001b[0m\u001b[1;33m)\u001b[0m\u001b[1;33m\u001b[0m\u001b[0m\n\u001b[1;32m---> 56\u001b[1;33m     \u001b[1;32mif\u001b[0m \u001b[0mcomplex\u001b[0m\u001b[1;33m(\u001b[0m\u001b[0my\u001b[0m\u001b[1;33m)\u001b[0m\u001b[1;33m.\u001b[0m\u001b[0mimag\u001b[0m \u001b[1;33m>\u001b[0m \u001b[1;36m0.\u001b[0m\u001b[1;33m:\u001b[0m\u001b[1;33m\u001b[0m\u001b[0m\n\u001b[0m\u001b[0;32m     57\u001b[0m         \u001b[1;32mreturn\u001b[0m \u001b[1;36m0.\u001b[0m\u001b[1;33m\u001b[0m\u001b[0m\n\u001b[0;32m     58\u001b[0m     \u001b[1;32melse\u001b[0m\u001b[1;33m:\u001b[0m\u001b[1;33m\u001b[0m\u001b[0m\n",
        "\u001b[1;32m/usr/local/lib/python2.7/dist-packages/sympy/core/expr.pyc\u001b[0m in \u001b[0;36m__complex__\u001b[1;34m(self)\u001b[0m\n\u001b[0;32m    223\u001b[0m     \u001b[1;32mdef\u001b[0m \u001b[0m__complex__\u001b[0m\u001b[1;33m(\u001b[0m\u001b[0mself\u001b[0m\u001b[1;33m)\u001b[0m\u001b[1;33m:\u001b[0m\u001b[1;33m\u001b[0m\u001b[0m\n\u001b[0;32m    224\u001b[0m         \u001b[0mresult\u001b[0m \u001b[1;33m=\u001b[0m \u001b[0mself\u001b[0m\u001b[1;33m.\u001b[0m\u001b[0mevalf\u001b[0m\u001b[1;33m(\u001b[0m\u001b[1;33m)\u001b[0m\u001b[1;33m\u001b[0m\u001b[0m\n\u001b[1;32m--> 225\u001b[1;33m         \u001b[0mre\u001b[0m\u001b[1;33m,\u001b[0m \u001b[0mim\u001b[0m \u001b[1;33m=\u001b[0m \u001b[0mresult\u001b[0m\u001b[1;33m.\u001b[0m\u001b[0mas_real_imag\u001b[0m\u001b[1;33m(\u001b[0m\u001b[1;33m)\u001b[0m\u001b[1;33m\u001b[0m\u001b[0m\n\u001b[0m\u001b[0;32m    226\u001b[0m         \u001b[1;32mreturn\u001b[0m \u001b[0mcomplex\u001b[0m\u001b[1;33m(\u001b[0m\u001b[0mfloat\u001b[0m\u001b[1;33m(\u001b[0m\u001b[0mre\u001b[0m\u001b[1;33m)\u001b[0m\u001b[1;33m,\u001b[0m \u001b[0mfloat\u001b[0m\u001b[1;33m(\u001b[0m\u001b[0mim\u001b[0m\u001b[1;33m)\u001b[0m\u001b[1;33m)\u001b[0m\u001b[1;33m\u001b[0m\u001b[0m\n\u001b[0;32m    227\u001b[0m \u001b[1;33m\u001b[0m\u001b[0m\n",
        "\u001b[1;32m/usr/local/lib/python2.7/dist-packages/sympy/core/expr.pyc\u001b[0m in \u001b[0;36mas_real_imag\u001b[1;34m(self, deep, **hints)\u001b[0m\n\u001b[0;32m   1490\u001b[0m             \u001b[1;32mreturn\u001b[0m \u001b[0mNone\u001b[0m\u001b[1;33m\u001b[0m\u001b[0m\n\u001b[0;32m   1491\u001b[0m         \u001b[1;32melse\u001b[0m\u001b[1;33m:\u001b[0m\u001b[1;33m\u001b[0m\u001b[0m\n\u001b[1;32m-> 1492\u001b[1;33m             \u001b[1;32mreturn\u001b[0m \u001b[1;33m(\u001b[0m\u001b[0mC\u001b[0m\u001b[1;33m.\u001b[0m\u001b[0mre\u001b[0m\u001b[1;33m(\u001b[0m\u001b[0mself\u001b[0m\u001b[1;33m)\u001b[0m\u001b[1;33m,\u001b[0m \u001b[0mC\u001b[0m\u001b[1;33m.\u001b[0m\u001b[0mim\u001b[0m\u001b[1;33m(\u001b[0m\u001b[0mself\u001b[0m\u001b[1;33m)\u001b[0m\u001b[1;33m)\u001b[0m\u001b[1;33m\u001b[0m\u001b[0m\n\u001b[0m\u001b[0;32m   1493\u001b[0m \u001b[1;33m\u001b[0m\u001b[0m\n\u001b[0;32m   1494\u001b[0m     \u001b[1;32mdef\u001b[0m \u001b[0mas_powers_dict\u001b[0m\u001b[1;33m(\u001b[0m\u001b[0mself\u001b[0m\u001b[1;33m)\u001b[0m\u001b[1;33m:\u001b[0m\u001b[1;33m\u001b[0m\u001b[0m\n",
        "\u001b[1;32m/usr/local/lib/python2.7/dist-packages/sympy/core/cache.pyc\u001b[0m in \u001b[0;36mwrapper\u001b[1;34m(*args, **kw_args)\u001b[0m\n\u001b[0;32m     86\u001b[0m         \u001b[1;32mexcept\u001b[0m \u001b[0mKeyError\u001b[0m\u001b[1;33m:\u001b[0m\u001b[1;33m\u001b[0m\u001b[0m\n\u001b[0;32m     87\u001b[0m             \u001b[1;32mpass\u001b[0m\u001b[1;33m\u001b[0m\u001b[0m\n\u001b[1;32m---> 88\u001b[1;33m         \u001b[0mfunc_cache_it_cache\u001b[0m\u001b[1;33m[\u001b[0m\u001b[0mk\u001b[0m\u001b[1;33m]\u001b[0m \u001b[1;33m=\u001b[0m \u001b[0mr\u001b[0m \u001b[1;33m=\u001b[0m \u001b[0mfunc\u001b[0m\u001b[1;33m(\u001b[0m\u001b[1;33m*\u001b[0m\u001b[0margs\u001b[0m\u001b[1;33m,\u001b[0m \u001b[1;33m**\u001b[0m\u001b[0mkw_args\u001b[0m\u001b[1;33m)\u001b[0m\u001b[1;33m\u001b[0m\u001b[0m\n\u001b[0m\u001b[0;32m     89\u001b[0m         \u001b[1;32mreturn\u001b[0m \u001b[0mr\u001b[0m\u001b[1;33m\u001b[0m\u001b[0m\n\u001b[0;32m     90\u001b[0m     \u001b[1;32mreturn\u001b[0m \u001b[0mwrapper\u001b[0m\u001b[1;33m\u001b[0m\u001b[0m\n",
        "\u001b[1;32m/usr/local/lib/python2.7/dist-packages/sympy/core/function.pyc\u001b[0m in \u001b[0;36m__new__\u001b[1;34m(cls, *args, **options)\u001b[0m\n\u001b[0;32m    276\u001b[0m \u001b[1;33m\u001b[0m\u001b[0m\n\u001b[0;32m    277\u001b[0m         \u001b[0mevaluate\u001b[0m \u001b[1;33m=\u001b[0m \u001b[0moptions\u001b[0m\u001b[1;33m.\u001b[0m\u001b[0mget\u001b[0m\u001b[1;33m(\u001b[0m\u001b[1;34m'evaluate'\u001b[0m\u001b[1;33m,\u001b[0m \u001b[0mTrue\u001b[0m\u001b[1;33m)\u001b[0m\u001b[1;33m\u001b[0m\u001b[0m\n\u001b[1;32m--> 278\u001b[1;33m         \u001b[0mresult\u001b[0m \u001b[1;33m=\u001b[0m \u001b[0msuper\u001b[0m\u001b[1;33m(\u001b[0m\u001b[0mFunction\u001b[0m\u001b[1;33m,\u001b[0m \u001b[0mcls\u001b[0m\u001b[1;33m)\u001b[0m\u001b[1;33m.\u001b[0m\u001b[0m__new__\u001b[0m\u001b[1;33m(\u001b[0m\u001b[0mcls\u001b[0m\u001b[1;33m,\u001b[0m \u001b[1;33m*\u001b[0m\u001b[0margs\u001b[0m\u001b[1;33m,\u001b[0m \u001b[1;33m**\u001b[0m\u001b[0moptions\u001b[0m\u001b[1;33m)\u001b[0m\u001b[1;33m\u001b[0m\u001b[0m\n\u001b[0m\u001b[0;32m    279\u001b[0m         \u001b[1;32mif\u001b[0m \u001b[1;32mnot\u001b[0m \u001b[0mevaluate\u001b[0m \u001b[1;32mor\u001b[0m \u001b[1;32mnot\u001b[0m \u001b[0misinstance\u001b[0m\u001b[1;33m(\u001b[0m\u001b[0mresult\u001b[0m\u001b[1;33m,\u001b[0m \u001b[0mcls\u001b[0m\u001b[1;33m)\u001b[0m\u001b[1;33m:\u001b[0m\u001b[1;33m\u001b[0m\u001b[0m\n\u001b[0;32m    280\u001b[0m             \u001b[1;32mreturn\u001b[0m \u001b[0mresult\u001b[0m\u001b[1;33m\u001b[0m\u001b[0m\n",
        "\u001b[1;32m/usr/local/lib/python2.7/dist-packages/sympy/core/cache.pyc\u001b[0m in \u001b[0;36mwrapper\u001b[1;34m(*args, **kw_args)\u001b[0m\n\u001b[0;32m     83\u001b[0m         \u001b[0mk\u001b[0m \u001b[1;33m=\u001b[0m \u001b[0mtuple\u001b[0m\u001b[1;33m(\u001b[0m\u001b[0mk\u001b[0m\u001b[1;33m)\u001b[0m\u001b[1;33m\u001b[0m\u001b[0m\n\u001b[0;32m     84\u001b[0m         \u001b[1;32mtry\u001b[0m\u001b[1;33m:\u001b[0m\u001b[1;33m\u001b[0m\u001b[0m\n\u001b[1;32m---> 85\u001b[1;33m             \u001b[1;32mreturn\u001b[0m \u001b[0mfunc_cache_it_cache\u001b[0m\u001b[1;33m[\u001b[0m\u001b[0mk\u001b[0m\u001b[1;33m]\u001b[0m\u001b[1;33m\u001b[0m\u001b[0m\n\u001b[0m\u001b[0;32m     86\u001b[0m         \u001b[1;32mexcept\u001b[0m \u001b[0mKeyError\u001b[0m\u001b[1;33m:\u001b[0m\u001b[1;33m\u001b[0m\u001b[0m\n\u001b[0;32m     87\u001b[0m             \u001b[1;32mpass\u001b[0m\u001b[1;33m\u001b[0m\u001b[0m\n",
        "\u001b[1;32m/usr/local/lib/python2.7/dist-packages/sympy/core/numbers.pyc\u001b[0m in \u001b[0;36m__hash__\u001b[1;34m(self)\u001b[0m\n\u001b[0;32m    831\u001b[0m \u001b[1;33m\u001b[0m\u001b[0m\n\u001b[0;32m    832\u001b[0m     \u001b[1;32mdef\u001b[0m \u001b[0m__hash__\u001b[0m\u001b[1;33m(\u001b[0m\u001b[0mself\u001b[0m\u001b[1;33m)\u001b[0m\u001b[1;33m:\u001b[0m\u001b[1;33m\u001b[0m\u001b[0m\n\u001b[1;32m--> 833\u001b[1;33m         \u001b[1;32mreturn\u001b[0m \u001b[0msuper\u001b[0m\u001b[1;33m(\u001b[0m\u001b[0mFloat\u001b[0m\u001b[1;33m,\u001b[0m \u001b[0mself\u001b[0m\u001b[1;33m)\u001b[0m\u001b[1;33m.\u001b[0m\u001b[0m__hash__\u001b[0m\u001b[1;33m(\u001b[0m\u001b[1;33m)\u001b[0m\u001b[1;33m\u001b[0m\u001b[0m\n\u001b[0m\u001b[0;32m    834\u001b[0m \u001b[1;33m\u001b[0m\u001b[0m\n\u001b[0;32m    835\u001b[0m     \u001b[1;32mdef\u001b[0m \u001b[0mepsilon_eq\u001b[0m\u001b[1;33m(\u001b[0m\u001b[0mself\u001b[0m\u001b[1;33m,\u001b[0m \u001b[0mother\u001b[0m\u001b[1;33m,\u001b[0m \u001b[0mepsilon\u001b[0m\u001b[1;33m=\u001b[0m\u001b[1;34m\"10e-16\"\u001b[0m\u001b[1;33m)\u001b[0m\u001b[1;33m:\u001b[0m\u001b[1;33m\u001b[0m\u001b[0m\n",
        "\u001b[1;31mKeyboardInterrupt\u001b[0m: "
       ]
      },
      {
       "output_type": "stream",
       "stream": "stdout",
       "text": [
        " 4\n",
        "Vol:"
       ]
      }
     ],
     "prompt_number": 7
    },
    {
     "cell_type": "code",
     "collapsed": false,
     "input": [
      "%%time\n",
      "slices=[]\n",
      "prec=2\n",
      "i = 2\n",
      "w=widths[i].value\n",
      "h=heights[i].value\n",
      "r60=r60s[i].value\n",
      "r61=r61s[i].value\n",
      "r40=r40s[i].value\n",
      "r41=r41s[i].value\n",
      "print time.time()\n",
      "if r40 and r41 and r61:\n",
      "    ring_config = RingParams(W=5., H=1.5, CF=56., PROFILE='PR_001')\n",
      "    ring_config.lookup_definition(profiles_definiton)\n",
      "    ring_config.W = round(w,prec)\n",
      "    ring_config.H = round(h,prec)\n",
      "    ring_config.R60 = round(r60,prec)\n",
      "    ring_config.R61 = round(r61,prec)\n",
      "    ring_config.R40 = round(r40,prec)\n",
      "    ring_config.R41 = round(r41,prec)        \n",
      "    print '%s Using configuration:'%(i)\n",
      "    print ring_config\n",
      "    context = Context()\n",
      "    model = globals()[ring_config.MODEL](params=ring_config, context=context)\n",
      "    model.create_equations()        \n",
      "    #print 'Vol:',model.get_volume()\n",
      "    print time.time()\n",
      "    print '...>'\n",
      "    step=0.1    \n",
      "    for f in arange(0., 5., step):\n",
      "        __builtin__._fr = f\n",
      "        __builtin__._to = f + step\n",
      "        v,h = model.get_volume()\n",
      "        slices.append([f,f+step,v,h])\n",
      "        print [f,f+step,v,h]\n",
      "        print time.time()\n",
      "        \n",
      "        \n",
      "print slices"
     ],
     "language": "python",
     "metadata": {},
     "outputs": [
      {
       "output_type": "stream",
       "stream": "stdout",
       "text": [
        "1378230801.1\n",
        "2 Using configuration:\n",
        "PR=PR_001 MDL=TR13 RI=28.0/pi W=2.5 H=1.1 R60=0.0 R61=1.9 R20=0.0 R40=0.35 R41=0.56\n",
        "solutions:"
       ]
      },
      {
       "output_type": "stream",
       "stream": "stdout",
       "text": [
        " 4\n",
        "1378230802.33\n",
        "...>\n",
        "[0.0, 0.10000000000000001, 0.0022432975425447027, -28.0/pi + 8.91137172477411]"
       ]
      },
      {
       "output_type": "stream",
       "stream": "stdout",
       "text": [
        "\n",
        "1378230802.9\n",
        "[0.10000000000000001, 0.20000000000000001, 0.003876811258431484, -28.0/pi + 9.47569508750586]"
       ]
      },
      {
       "output_type": "stream",
       "stream": "stdout",
       "text": [
        "\n",
        "1378230803.32\n",
        "[0.20000000000000001, 0.30000000000000004, 0.004676294524109487, -28.0/pi + 9.6565517025815]"
       ]
      },
      {
       "output_type": "stream",
       "stream": "stdout",
       "text": [
        "\n",
        "1378230803.87\n",
        "[0.30000000000000004, 0.40000000000000002, 0.0051249549692292465, -28.0/pi + 9.75453524185035]"
       ]
      },
      {
       "output_type": "stream",
       "stream": "stdout",
       "text": [
        "\n",
        "1378230804.38\n",
        "[0.40000000000000002, 0.5, 0.005436960385091421, -28.0/pi + 9.81194135994278]"
       ]
      },
      {
       "output_type": "stream",
       "stream": "stdout",
       "text": [
        "\n",
        "1378230804.72\n",
        "[0.5, 0.59999999999999998, 0.005703292208750074, -28.0/pi + 9.85838583815575]"
       ]
      },
      {
       "output_type": "stream",
       "stream": "stdout",
       "text": [
        "\n",
        "1378230805.06\n",
        "[0.60000000000000009, 0.70000000000000007, 0.005929878583241777, -28.0/pi + 9.89803392028185]"
       ]
      },
      {
       "output_type": "stream",
       "stream": "stdout",
       "text": [
        "\n",
        "1378230805.4\n",
        "[0.70000000000000007, 0.80000000000000004, 0.0061187182249101855, -28.0/pi + 9.93133016109346]"
       ]
      },
      {
       "output_type": "stream",
       "stream": "stdout",
       "text": [
        "\n",
        "1378230805.81\n",
        "[0.80000000000000004, 0.90000000000000002, 0.0062713513882833635, -28.0/pi + 9.95861830734361]"
       ]
      },
      {
       "output_type": "stream",
       "stream": "stdout",
       "text": [
        "\n",
        "1378230806.14\n",
        "[0.90000000000000002, 1.0, 0.006388946879201054, -28.0/pi + 9.98016175284445]"
       ]
      },
      {
       "output_type": "stream",
       "stream": "stdout",
       "text": [
        "\n",
        "1378230806.48\n",
        "[1.0, 1.1000000000000001, 0.006472362009857903, -28.0/pi + 9.99615763332988]"
       ]
      },
      {
       "output_type": "stream",
       "stream": "stdout",
       "text": [
        "\n",
        "1378230806.82\n",
        "[1.1000000000000001, 1.2000000000000002, 0.006522183332053277, -28.0/pi + 10.0067465056337]"
       ]
      },
      {
       "output_type": "stream",
       "stream": "stdout",
       "text": [
        "\n",
        "1378230807.25\n",
        "[1.2000000000000002, 1.3000000000000003, 0.006538752956694584, -28.0/pi + 10.0120188044684]"
       ]
      },
      {
       "output_type": "stream",
       "stream": "stdout",
       "text": [
        "\n",
        "1378230807.56\n",
        "[1.3, 1.4000000000000001, 0.006522183332053277, -28.0/pi + 10.0067465056337]"
       ]
      },
      {
       "output_type": "stream",
       "stream": "stdout",
       "text": [
        "\n",
        "1378230807.88\n",
        "[1.4000000000000001, 1.5000000000000002, 0.006472362009857903, -28.0/pi + 9.99615763332988]"
       ]
      },
      {
       "output_type": "stream",
       "stream": "stdout",
       "text": [
        "\n",
        "1378230808.21\n",
        "[1.5, 1.6000000000000001, 0.006388946879201061, -28.0/pi + 9.98016175284445]"
       ]
      },
      {
       "output_type": "stream",
       "stream": "stdout",
       "text": [
        "\n",
        "1378230808.54\n",
        "[1.6000000000000001, 1.7000000000000002, 0.006271351388283367, -28.0/pi + 9.95861830734361]"
       ]
      },
      {
       "output_type": "stream",
       "stream": "stdout",
       "text": [
        "\n",
        "1378230808.88\n",
        "[1.7000000000000002, 1.8000000000000003, 0.006118718224910197, -28.0/pi + 9.93133016109346]"
       ]
      },
      {
       "output_type": "stream",
       "stream": "stdout",
       "text": [
        "\n",
        "1378230809.21\n",
        "[1.8, 1.9000000000000001, 0.005929878583241784, -28.0/pi + 9.89803392028185]"
       ]
      },
      {
       "output_type": "stream",
       "stream": "stdout",
       "text": [
        "\n",
        "1378230809.66\n",
        "[1.9000000000000001, 2.0, 0.005703292208750067, -28.0/pi + 9.85838583815575]"
       ]
      },
      {
       "output_type": "stream",
       "stream": "stdout",
       "text": [
        "\n",
        "1378230810.0\n",
        "[2.0, 2.1000000000000001, 0.005436960385091424, -28.0/pi + 9.81194135994278]"
       ]
      },
      {
       "output_type": "stream",
       "stream": "stdout",
       "text": [
        "\n",
        "1378230810.33\n",
        "[2.1000000000000001, 2.2000000000000002, 0.005124954969229251, -28.0/pi + 9.75453524185035]"
       ]
      },
      {
       "output_type": "stream",
       "stream": "stdout",
       "text": [
        "\n",
        "1378230810.78\n",
        "[2.2000000000000002, 2.3000000000000003, 0.00467629452410949, -28.0/pi + 9.6565517025815]"
       ]
      },
      {
       "output_type": "stream",
       "stream": "stdout",
       "text": [
        "\n",
        "1378230811.27\n",
        "[2.3000000000000003, 2.4000000000000004, 0.003876811258431488, -28.0/pi + 9.47569508750586]"
       ]
      },
      {
       "output_type": "stream",
       "stream": "stdout",
       "text": [
        "\n",
        "1378230811.79\n",
        "[2.4000000000000004, 2.5000000000000004, 0.015367849326413625, -28.0/pi + 9.09164928854731]"
       ]
      },
      {
       "output_type": "stream",
       "stream": "stdout",
       "text": [
        "\n",
        "1378230812.08\n",
        "[2.5, 2.6000000000000001, 0.0, 0.0]\n",
        "1378230812.1\n",
        "[2.6000000000000001, 2.7000000000000002, 0.0, 0.0]\n",
        "1378230812.12\n",
        "[2.7000000000000002, 2.8000000000000003, 0.0, 0.0]"
       ]
      },
      {
       "output_type": "stream",
       "stream": "stdout",
       "text": [
        "\n",
        "1378230812.14\n",
        "[2.8000000000000003, 2.9000000000000004, 0.0, 0.0]\n",
        "1378230812.16\n",
        "[2.9000000000000004, 3.0000000000000004, 0.0, 0.0]\n",
        "1378230812.18\n",
        "[3.0, 3.1000000000000001, 0.0, 0.0]"
       ]
      },
      {
       "output_type": "stream",
       "stream": "stdout",
       "text": [
        "\n",
        "1378230812.2\n",
        "[3.1000000000000001, 3.2000000000000002, 0.0, 0.0]\n",
        "1378230812.21\n",
        "[3.2000000000000002, 3.3000000000000003, 0.0, 0.0]\n",
        "1378230812.23\n",
        "[3.3000000000000003, 3.4000000000000004, 0.0, 0.0]"
       ]
      },
      {
       "output_type": "stream",
       "stream": "stdout",
       "text": [
        "\n",
        "1378230812.25\n",
        "[3.4000000000000004, 3.5000000000000004, 0.0, 0.0]\n",
        "1378230812.27\n",
        "[3.5, 3.6000000000000001, 0.0, 0.0]\n",
        "1378230812.29\n",
        "[3.6000000000000001, 3.7000000000000002, 0.0, 0.0]"
       ]
      },
      {
       "output_type": "stream",
       "stream": "stdout",
       "text": [
        "\n",
        "1378230812.31\n",
        "[3.7000000000000002, 3.8000000000000003, 0.0, 0.0]\n",
        "1378230812.33\n",
        "[3.8000000000000003, 3.9000000000000004, 0.0, 0.0]\n",
        "1378230812.35\n",
        "[3.9000000000000004, 4.0, 0.0, 0.0]"
       ]
      },
      {
       "output_type": "stream",
       "stream": "stdout",
       "text": [
        "\n",
        "1378230812.37\n",
        "[4.0, 4.0999999999999996, 0.0, 0.0]\n",
        "1378230812.39\n",
        "[4.1000000000000005, 4.2000000000000002, 0.0, 0.0]\n",
        "1378230812.41\n",
        "[4.2000000000000002, 4.2999999999999998, 0.0, 0.0]"
       ]
      },
      {
       "output_type": "stream",
       "stream": "stdout",
       "text": [
        "\n",
        "1378230812.43\n",
        "[4.2999999999999998, 4.3999999999999995, 0.0, 0.0]\n",
        "1378230812.45\n",
        "[4.4000000000000004, 4.5, 0.0, 0.0]\n",
        "1378230812.46\n",
        "[4.5, 4.5999999999999996, 0.0, 0.0]"
       ]
      },
      {
       "output_type": "stream",
       "stream": "stdout",
       "text": [
        "\n",
        "1378230812.48\n",
        "[4.6000000000000005, 4.7000000000000002, 0.0, 0.0]\n",
        "1378230812.5\n",
        "[4.7000000000000002, 4.7999999999999998, 0.0, 0.0]\n",
        "1378230812.52\n",
        "[4.8000000000000007, 4.9000000000000004, 0.0, 0.0]"
       ]
      },
      {
       "output_type": "stream",
       "stream": "stdout",
       "text": [
        "\n",
        "1378230812.54\n",
        "[4.9000000000000004, 5.0, 0.0, 0.0]\n",
        "1378230812.56\n",
        "[[0.0, 0.10000000000000001, 0.0022432975425447027, -28.0/pi + 8.91137172477411], [0.10000000000000001, 0.20000000000000001, 0.003876811258431484, -28.0/pi + 9.47569508750586], [0.20000000000000001, 0.30000000000000004, 0.004676294524109487, -28.0/pi + 9.6565517025815], [0.30000000000000004, 0.40000000000000002, 0.0051249549692292465, -28.0/pi + 9.75453524185035], [0.40000000000000002, 0.5, 0.005436960385091421, -28.0/pi + 9.81194135994278], [0.5, 0.59999999999999998, 0.005703292208750074, -28.0/pi + 9.85838583815575], [0.60000000000000009, 0.70000000000000007, 0.005929878583241777, -28.0/pi + 9.89803392028185], [0.70000000000000007, 0.80000000000000004, 0.0061187182249101855, -28.0/pi + 9.93133016109346], [0.80000000000000004, 0.90000000000000002, 0.0062713513882833635, -28.0/pi + 9.95861830734361], [0.90000000000000002, 1.0, 0.006388946879201054, -28.0/pi + 9.98016175284445], [1.0, 1.1000000000000001, 0.006472362009857903, -28.0/pi + 9.99615763332988], [1.1000000000000001, 1.2000000000000002, 0.006522183332053277, -28.0/pi + 10.0067465056337], [1.2000000000000002, 1.3000000000000003, 0.006538752956694584, -28.0/pi + 10.0120188044684], [1.3, 1.4000000000000001, 0.006522183332053277, -28.0/pi + 10.0067465056337], [1.4000000000000001, 1.5000000000000002, 0.006472362009857903, -28.0/pi + 9.99615763332988], [1.5, 1.6000000000000001, 0.006388946879201061, -28.0/pi + 9.98016175284445], [1.6000000000000001, 1.7000000000000002, 0.006271351388283367, -28.0/pi + 9.95861830734361], [1.7000000000000002, 1.8000000000000003, 0.006118718224910197, -28.0/pi + 9.93133016109346], [1.8, 1.9000000000000001, 0.005929878583241784, -28.0/pi + 9.89803392028185], [1.9000000000000001, 2.0, 0.005703292208750067, -28.0/pi + 9.85838583815575], [2.0, 2.1000000000000001, 0.005436960385091424, -28.0/pi + 9.81194135994278], [2.1000000000000001, 2.2000000000000002, 0.005124954969229251, -28.0/pi + 9.75453524185035], [2.2000000000000002, 2.3000000000000003, 0.00467629452410949, -28.0/pi + 9.6565517025815], [2.3000000000000003, 2.4000000000000004, 0.003876811258431488, -28.0/pi + 9.47569508750586], [2.4000000000000004, 2.5000000000000004, 0.015367849326413625, -28.0/pi + 9.09164928854731], [2.5, 2.6000000000000001, 0.0, 0.0], [2.6000000000000001, 2.7000000000000002, 0.0, 0.0], [2.7000000000000002, 2.8000000000000003, 0.0, 0.0], [2.8000000000000003, 2.9000000000000004, 0.0, 0.0], [2.9000000000000004, 3.0000000000000004, 0.0, 0.0], [3.0, 3.1000000000000001, 0.0, 0.0], [3.1000000000000001, 3.2000000000000002, 0.0, 0.0], [3.2000000000000002, 3.3000000000000003, 0.0, 0.0], [3.3000000000000003, 3.4000000000000004, 0.0, 0.0], [3.4000000000000004, 3.5000000000000004, 0.0, 0.0], [3.5, 3.6000000000000001, 0.0, 0.0], [3.6000000000000001, 3.7000000000000002, 0.0, 0.0], [3.7000000000000002, 3.8000000000000003, 0.0, 0.0], [3.8000000000000003, 3.9000000000000004, 0.0, 0.0], [3.9000000000000004, 4.0, 0.0, 0.0], [4.0, 4.0999999999999996, 0.0, 0.0], [4.1000000000000005, 4.2000000000000002, 0.0, 0.0], [4.2000000000000002, 4.2999999999999998, 0.0, 0.0], [4.2999999999999998, 4.3999999999999995, 0.0, 0.0], [4.4000000000000004, 4.5, 0.0, 0.0], [4.5, 4.5999999999999996, 0.0, 0.0], [4.6000000000000005, 4.7000000000000002, 0.0, 0.0], [4.7000000000000002, 4.7999999999999998, 0.0, 0.0], [4.8000000000000007, 4.9000000000000004, 0.0, 0.0], [4.9000000000000004, 5.0, 0.0, 0.0]]\n",
        "CPU times: user 11.5 s, sys: 96 ms, total: 11.6 s\n",
        "Wall time: 11.5 s\n"
       ]
      },
      {
       "metadata": {},
       "output_type": "display_data",
       "png": "[encoded data removed]",
       "text": [
        "Figure(480x320)"
       ]
      }
     ],
     "prompt_number": 8
    },
    {
     "cell_type": "code",
     "collapsed": false,
     "input": [
      "plot([x[3] for x in slices])"
     ],
     "language": "python",
     "metadata": {},
     "outputs": [
      {
       "metadata": {},
       "output_type": "pyout",
       "prompt_number": 9,
       "text": [
        "[Line2D(_line0)]"
       ]
      },
      {
       "metadata": {},
       "output_type": "display_data",
       "png": "[encoded data removed]",
       "text": [
        "Figure(480x320)"
       ]
      }
     ],
     "prompt_number": 9
    },
    {
     "cell_type": "code",
     "collapsed": false,
     "input": [
      "[ abs(round(float(x[3]),2)) for x in slices ]"
     ],
     "language": "python",
     "metadata": {},
     "outputs": [
      {
       "metadata": {},
       "output_type": "pyout",
       "prompt_number": 16,
       "text": [
        "[0.0, 0.56, 0.74, 0.84, 0.9, 0.95, 0.99, 1.02, 1.05, 1.07, 1.08, 1.09, 1.1, 1.\n",
        "09, 1.08, 1.07, 1.05, 1.02, 0.99, 0.95, 0.9, 0.84, 0.74, 0.56, 0.18, 0.0, 0.0,\n",
        " 0.0, 0.0, 0.0, 0.0, 0.0, 0.0, 0.0, 0.0, 0.0, 0.0, 0.0, 0.0, 0.0, 0.0, 0.0, 0.\n",
        "0, 0.0, 0.0, 0.0, 0.0, 0.0, 0.0, 0.0]"
       ]
      }
     ],
     "prompt_number": 16
    }
   ],
   "metadata": {}
  }
 ]
}
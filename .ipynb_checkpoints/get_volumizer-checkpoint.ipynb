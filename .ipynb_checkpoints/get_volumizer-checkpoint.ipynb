{
 "metadata": {
  "name": ""
 },
 "nbformat": 3,
 "nbformat_minor": 0,
 "worksheets": [
  {
   "cells": [
    {
     "cell_type": "code",
     "collapsed": false,
     "input": [
      "%pylab inline"
     ],
     "language": "python",
     "metadata": {},
     "outputs": [
      {
       "output_type": "stream",
       "stream": "stdout",
       "text": [
        "Populating the interactive namespace from numpy and matplotlib\n"
       ]
      }
     ],
     "prompt_number": 1
    },
    {
     "cell_type": "code",
     "collapsed": false,
     "input": [
      "%load_ext autoreload\n",
      "%autoreload 1"
     ],
     "language": "python",
     "metadata": {},
     "outputs": [],
     "prompt_number": 2
    },
    {
     "cell_type": "code",
     "collapsed": false,
     "input": [
      "from __future__ import division\n",
      "from pylab import *\n",
      "from tools import *\n",
      "from collections import *\n",
      "from math import *\n",
      "from numpy import array, cos, sin\n",
      "import functools\n",
      "import scipy\n",
      "import sympy\n",
      "from IPython.display import Image\n",
      "from scipy.integrate import quad\n",
      "from sympy import *\n",
      "import numpy as np\n",
      "import scipy as sp\n",
      "import time\n",
      "%aimport models\n",
      "%aimport tools\n",
      "from sympy import init_printing;init_printing()\n",
      "from models import *"
     ],
     "language": "python",
     "metadata": {},
     "outputs": [],
     "prompt_number": 3
    },
    {
     "cell_type": "code",
     "collapsed": false,
     "input": [
      "%aimport models"
     ],
     "language": "python",
     "metadata": {},
     "outputs": [],
     "prompt_number": 4
    },
    {
     "cell_type": "code",
     "collapsed": false,
     "input": [
      "models.TR13.__module__"
     ],
     "language": "python",
     "metadata": {},
     "outputs": [
      {
       "metadata": {},
       "output_type": "pyout",
       "prompt_number": 5,
       "text": [
        "models.mTR13"
       ]
      }
     ],
     "prompt_number": 5
    },
    {
     "cell_type": "code",
     "collapsed": false,
     "input": [
      "profiles_definiton = load_profiles_lookup_table({})\n",
      "ring_config = RingParams(W=5., H=1.5, CF=56., PROFILE='PR_001')\n",
      "ring_config.lookup_definition(profiles_definiton)"
     ],
     "language": "python",
     "metadata": {},
     "outputs": [],
     "prompt_number": 6
    },
    {
     "cell_type": "code",
     "collapsed": false,
     "input": [
      "import xlrd\n",
      "book = xlrd.open_workbook('./parameters/PR_001_Daten.xlsx')"
     ],
     "language": "python",
     "metadata": {},
     "outputs": [],
     "prompt_number": 7
    },
    {
     "cell_type": "code",
     "collapsed": false,
     "input": [
      "s=book.sheet_by_index(0)"
     ],
     "language": "python",
     "metadata": {},
     "outputs": [],
     "prompt_number": 8
    },
    {
     "cell_type": "code",
     "collapsed": false,
     "input": [
      "widths=s.col(2)\n",
      "heights=s.col(3)\n",
      "r60s=s.col(4)\n",
      "r61s=s.col(5)\n",
      "r40s=s.col(6)\n",
      "r41s=s.col(7)"
     ],
     "language": "python",
     "metadata": {},
     "outputs": [],
     "prompt_number": 9
    },
    {
     "cell_type": "code",
     "collapsed": false,
     "input": [
      "try:\n",
      "    del __builtin__._fr \n",
      "    del __builtin__._to \n",
      "except:\n",
      "    pass\n",
      "\n",
      "def a():\n",
      "    prec=2\n",
      "    for i in xrange(62, len(widths)):\n",
      "        w=widths[i].value\n",
      "        h=heights[i].value\n",
      "        r60=r60s[i].value\n",
      "        r61=r61s[i].value\n",
      "        r40=r40s[i].value\n",
      "        r41=r41s[i].value\n",
      "        if r40 and r41 and r61:\n",
      "            ring_config = RingParams(W=5., H=1.5, CF=56., PROFILE='PR_001')\n",
      "            ring_config.lookup_definition(profiles_definiton)\n",
      "            ring_config.W = round(w,prec)\n",
      "            ring_config.H = round(h,prec)\n",
      "            ring_config.R60 = round(r60,prec)\n",
      "            ring_config.R61 = round(r61,prec)\n",
      "            ring_config.R40 = round(r40,prec)\n",
      "            ring_config.R41 = round(r41,prec)        \n",
      "            print '%s Using configuration:'%(i)\n",
      "            print ring_config\n",
      "            context = Context()\n",
      "            model = globals()[ring_config.MODEL](params=ring_config, context=context)\n",
      "            model.create_equations()        \n",
      "            print 'Vol:',model.get_volume()"
     ],
     "language": "python",
     "metadata": {},
     "outputs": [],
     "prompt_number": 10
    },
    {
     "cell_type": "code",
     "collapsed": false,
     "input": [
      "a()"
     ],
     "language": "python",
     "metadata": {},
     "outputs": [
      {
       "output_type": "stream",
       "stream": "stdout",
       "text": [
        "62 Using configuration:\n",
        "PR=PR_001 MDL=TR13 RI=28.0/pi W=3.5 H=1.9 R60=0.0 R61=2.02 R20=0.0 R40=0.45 R41=1.28\n",
        "solutions:"
       ]
      },
      {
       "output_type": "stream",
       "stream": "stdout",
       "text": [
        " 2\n",
        "[{p1_Y: 10.3502472020267, p1_X: 0.465687574080912}, {p1_Y: 8.37510642426554, p1_X: 2.09431242591909}]\n",
        "Vol: "
       ]
      },
      {
       "output_type": "stream",
       "stream": "stdout",
       "text": [
        "(0.0, 0.0)\n",
        "63 Using configuration:\n",
        "PR=PR_001 MDL=TR13 RI=28.0/pi W=3.5 H=2.0 R60=0.0 R61=1.91 R20=0.0 R40=0.45 R41=1.43\n",
        "solutions:"
       ]
      },
      {
       "output_type": "stream",
       "stream": "stdout",
       "text": [
        " 2\n",
        "[{p1_Y: 10.4314721388638, p1_X: 0.479959710473214}, {p1_Y: 8.29388148742851, p1_X: 2.38004028952678}]\n",
        "Vol: (0.0, 0.0)\n",
        "64 Using configuration:\n",
        "PR=PR_001 MDL=TR13 RI=28.0/pi W=3.5 H=2.1 R60=0.0 R61=1.83 R20=0.0 R40=0.45 R41=1.58\n",
        "solutions:"
       ]
      },
      {
       "output_type": "stream",
       "stream": "stdout",
       "text": [
        " 2\n",
        "[{p1_Y: 10.5113575941749, p1_X: 0.495134817917328}, {p1_Y: 8.21399603211743, p1_X: 2.66486518208267}]\n",
        "Vol: (0.0, 0.0)\n",
        "79 Using configuration:\n",
        "PR=PR_001 MDL=TR13 RI=28.0/pi W=4.0 H=1.0 R60=0.0 R61=7.34 R20=0.0 R40=0.5 R41=0.29\n",
        "solutions:"
       ]
      },
      {
       "output_type": "stream",
       "stream": "stdout",
       "text": [
        " 2\n",
        "[{p1_Y: 9.69401813818829, p1_X: 0.219664668739464}, {p1_Y: 9.13133548810399, p1_X: 0.360335331260537}]\n",
        "Vol: (0.0, 0.0)\n",
        "80 Using configuration:\n",
        "PR=PR_001 MDL=TR13 RI=28.0/pi W=4.0 H=1.1 R60=0.0 R61=6.07 R20=0.0 R40=0.5 R41=0.36\n",
        "solutions:"
       ]
      },
      {
       "output_type": "stream",
       "stream": "stdout",
       "text": [
        " 2\n",
        "[{p1_Y: 9.75751162173643, p1_X: 0.256612598521377}, {p1_Y: 9.06784200455585, p1_X: 0.463387401478622}]\n",
        "Vol: (0.0, 0.0)\n",
        "81 Using configuration:\n",
        "PR=PR_001 MDL=TR13 RI=28.0/pi W=4.0 H=1.2 R60=0.0 R61=5.17 R20=0.0 R40=0.5 R41=0.43\n",
        "solutions:"
       ]
      },
      {
       "output_type": "stream",
       "stream": "stdout",
       "text": [
        " 2\n",
        "[{p1_Y: 9.81838001411565, p1_X: 0.287504692276928}, {p1_Y: 9.00697361217663, p1_X: 0.572495307723072}]\n",
        "Vol: (0.0, 0.0)\n",
        "82 Using configuration:\n",
        "PR=PR_001 MDL=TR13 RI=28.0/pi W=4.0 H=1.3 R60=0.0 R61=4.52 R20=0.0 R40=0.5 R41=0.51\n",
        "solutions:"
       ]
      },
      {
       "output_type": "stream",
       "stream": "stdout",
       "text": [
        " 2\n",
        "[{p1_Y: 9.88611210393228, p1_X: 0.320371348582970}, {p1_Y: 8.93924152236000, p1_X: 0.699628651417029}]\n",
        "Vol: (0.0, 0.0)\n",
        "83 Using configuration:\n",
        "PR=PR_001 MDL=TR13 RI=28.0/pi W=4.0 H=1.4 R60=0.0 R61=4.01 R20=0.0 R40=0.5 R41=0.6\n",
        "solutions:"
       ]
      },
      {
       "output_type": "stream",
       "stream": "stdout",
       "text": [
        " 2\n",
        "[{p1_Y: 9.95979679440915, p1_X: 0.353708047019869}, {p1_Y: 8.86555683188313, p1_X: 0.846291952980132}]\n",
        "Vol: (0.0, 0.0)\n",
        "84 Using configuration:\n",
        "PR=PR_001 MDL=TR13 RI=28.0/pi W=4.0 H=1.5 R60=0.0 R61=3.62 R20=0.0 R40=0.5 R41=0.69\n",
        "solutions:"
       ]
      },
      {
       "output_type": "stream",
       "stream": "stdout",
       "text": [
        " 2\n",
        "[{p1_Y: 10.0298315749361, p1_X: 0.381422619105029}, {p1_Y: 8.79552205135620, p1_X: 0.998577380894971}]\n",
        "Vol: (0.0, 0.0)\n",
        "85 Using configuration:\n",
        "PR=PR_001 MDL=TR13 RI=28.0/pi W=4.0 H=1.6 R60=0.0 R61=3.3 R20=0.0 R40=0.5 R41=0.79\n",
        "solutions:"
       ]
      },
      {
       "output_type": "stream",
       "stream": "stdout",
       "text": [
        " 2\n",
        "[{p1_Y: 10.1048873810007, p1_X: 0.409284187679996}, {p1_Y: 8.72046624529159, p1_X: 1.17071581232000}]\n",
        "Vol: (0.0, 0.0)\n",
        "86 Using configuration:\n",
        "PR=PR_001 MDL=TR13 RI=28.0/pi W=4.0 H=1.7 R60=0.0 R61=3.04 R20=0.0 R40=0.5 R41=0.89\n",
        "solutions:"
       ]
      },
      {
       "output_type": "stream",
       "stream": "stdout",
       "text": [
        " 2\n",
        "[{p1_Y: 10.1747470010309, p1_X: 0.430272875786896}, {p1_Y: 8.65060662526136, p1_X: 1.34972712421310}]\n",
        "Vol: (0.0, 0.0)\n",
        "87 Using configuration:\n",
        "PR=PR_001 MDL=TR13 RI=28.0/pi W=4.0 H=1.8 R60=0.0 R61=2.83 R20=0.0 R40=0.5 R41=1.01\n",
        "solutions:"
       ]
      },
      {
       "output_type": "stream",
       "stream": "stdout",
       "text": [
        " 2\n",
        "[{p1_Y: 10.2606426718698, p1_X: 0.461316209061152}, {p1_Y: 8.56471095442247, p1_X: 1.55868379093885}]\n",
        "Vol: (0.0, 0.0)\n",
        "88 Using configuration:\n",
        "PR=PR_001 MDL=TR13 RI=28.0/pi W=4.0 H=1.9 R60=0.0 R61=2.65 R20=0.0 R40=0.5 R41=1.12\n",
        "solutions:"
       ]
      },
      {
       "output_type": "stream",
       "stream": "stdout",
       "text": [
        " 2\n",
        "[{p1_Y: 10.3284922747377, p1_X: 0.475265915039532}, {p1_Y: 8.49686135155457, p1_X: 1.76473408496047}]\n",
        "Vol: (0.0, 0.0)\n",
        "89 Using configuration:\n",
        "PR=PR_001 MDL=TR13 RI=28.0/pi W=4.0 H=2.0 R60=0.0 R61=2.5 R20=0.0 R40=0.5 R41=1.25\n",
        "solutions:"
       ]
      },
      {
       "output_type": "stream",
       "stream": "stdout",
       "text": [
        " 2\n",
        "[{p1_Y: 10.4126768131461, p1_X: 0.500000000000001}, {p1_Y: 8.41267681314614, p1_X: 2.00000000000000}]\n",
        "Vol: (0.0, 0.0)\n",
        "90 Using configuration:\n",
        "PR=PR_001 MDL=TR13 RI=28.0/pi W=4.0 H=2.1 R60=0.0 R61=2.37 R20=0.0 R40=0.5 R41=1.38\n",
        "solutions:"
       ]
      },
      {
       "output_type": "stream",
       "stream": "stdout",
       "text": [
        " 2\n",
        "[{p1_Y: 10.4875466162504, p1_X: 0.514520418279723}, {p1_Y: 8.33780701004192, p1_X: 2.24547958172028}]\n",
        "Vol: (0.0, 0.0)\n",
        "91 Using configuration:\n",
        "PR=PR_001 MDL=TR13 RI=28.0/pi W=4.0 H=2.2 R60=0.0 R61=2.26 R20=0.0 R40=0.5 R41=1.53\n",
        "solutions:"
       ]
      },
      {
       "output_type": "stream",
       "stream": "stdout",
       "text": [
        " 2\n",
        "[{p1_Y: 10.5846174215060, p1_X: 0.546406989412246}, {p1_Y: 8.24073620478626, p1_X: 2.51359301058775}]\n",
        "Vol: (0.0, 0.0)\n",
        "92 Using configuration:\n",
        "PR=PR_001 MDL=TR13 RI=28.0/pi W=4.0 H=2.3 R60=0.0 R61=2.16 R20=0.0 R40=0.5 R41=1.68\n",
        "solutions:"
       ]
      },
      {
       "ename": "IndexError",
       "evalue": "list index out of range",
       "output_type": "pyerr",
       "traceback": [
        "\u001b[1;31m---------------------------------------------------------------------------\u001b[0m\n\u001b[1;31mIndexError\u001b[0m                                Traceback (most recent call last)",
        "\u001b[1;32m<ipython-input-18-72f2e37b262f>\u001b[0m in \u001b[0;36m<module>\u001b[1;34m()\u001b[0m\n\u001b[1;32m----> 1\u001b[1;33m \u001b[0ma\u001b[0m\u001b[1;33m(\u001b[0m\u001b[1;33m)\u001b[0m\u001b[1;33m\u001b[0m\u001b[0m\n\u001b[0m",
        "\u001b[1;32m<ipython-input-10-7d2a94e6b8fd>\u001b[0m in \u001b[0;36ma\u001b[1;34m()\u001b[0m\n\u001b[0;32m     21\u001b[0m             \u001b[0mcontext\u001b[0m \u001b[1;33m=\u001b[0m \u001b[0mContext\u001b[0m\u001b[1;33m(\u001b[0m\u001b[1;33m)\u001b[0m\u001b[1;33m\u001b[0m\u001b[0m\n\u001b[0;32m     22\u001b[0m             \u001b[0mmodel\u001b[0m \u001b[1;33m=\u001b[0m \u001b[0mglobals\u001b[0m\u001b[1;33m(\u001b[0m\u001b[1;33m)\u001b[0m\u001b[1;33m[\u001b[0m\u001b[0mring_config\u001b[0m\u001b[1;33m.\u001b[0m\u001b[0mMODEL\u001b[0m\u001b[1;33m]\u001b[0m\u001b[1;33m(\u001b[0m\u001b[0mparams\u001b[0m\u001b[1;33m=\u001b[0m\u001b[0mring_config\u001b[0m\u001b[1;33m,\u001b[0m \u001b[0mcontext\u001b[0m\u001b[1;33m=\u001b[0m\u001b[0mcontext\u001b[0m\u001b[1;33m)\u001b[0m\u001b[1;33m\u001b[0m\u001b[0m\n\u001b[1;32m---> 23\u001b[1;33m             \u001b[0mmodel\u001b[0m\u001b[1;33m.\u001b[0m\u001b[0mcreate_equations\u001b[0m\u001b[1;33m(\u001b[0m\u001b[1;33m)\u001b[0m\u001b[1;33m\u001b[0m\u001b[0m\n\u001b[0m\u001b[0;32m     24\u001b[0m             \u001b[1;32mprint\u001b[0m \u001b[1;34m'Vol:'\u001b[0m\u001b[1;33m,\u001b[0m\u001b[0mmodel\u001b[0m\u001b[1;33m.\u001b[0m\u001b[0mget_volume\u001b[0m\u001b[1;33m(\u001b[0m\u001b[1;33m)\u001b[0m\u001b[1;33m\u001b[0m\u001b[0m\n",
        "\u001b[1;32m/ring/ring/models/mTR13.pyc\u001b[0m in \u001b[0;36mcreate_equations\u001b[1;34m(self)\u001b[0m\n\u001b[0;32m     58\u001b[0m \u001b[1;33m\u001b[0m\u001b[0m\n\u001b[0;32m     59\u001b[0m         self.sub_result = (\n\u001b[1;32m---> 60\u001b[1;33m             \u001b[0msorted\u001b[0m\u001b[1;33m(\u001b[0m\u001b[0msolutions\u001b[0m\u001b[1;33m,\u001b[0m \u001b[0mkey\u001b[0m\u001b[1;33m=\u001b[0m\u001b[0mitemgetter\u001b[0m\u001b[1;33m(\u001b[0m\u001b[0mc\u001b[0m\u001b[1;33m[\u001b[0m\u001b[1;34m'p1_X'\u001b[0m\u001b[1;33m]\u001b[0m\u001b[1;33m)\u001b[0m\u001b[1;33m,\u001b[0m \u001b[0mreverse\u001b[0m\u001b[1;33m=\u001b[0m\u001b[0mTrue\u001b[0m\u001b[1;33m)\u001b[0m\u001b[1;33m[\u001b[0m\u001b[1;36m1\u001b[0m\u001b[1;33m]\u001b[0m\u001b[1;33m\u001b[0m\u001b[0m\n\u001b[0m\u001b[0;32m     61\u001b[0m         )\n\u001b[0;32m     62\u001b[0m \u001b[1;33m\u001b[0m\u001b[0m\n",
        "\u001b[1;31mIndexError\u001b[0m: list index out of range"
       ]
      },
      {
       "output_type": "stream",
       "stream": "stdout",
       "text": [
        " 0\n",
        "[]\n",
        "> \u001b[1;32m/ring/ring/models/mTR13.py\u001b[0m(60)\u001b[0;36mcreate_equations\u001b[1;34m()\u001b[0m\n",
        "\u001b[1;32m     59 \u001b[1;33m        self.sub_result = (\n",
        "\u001b[0m\u001b[1;32m---> 60 \u001b[1;33m            \u001b[0msorted\u001b[0m\u001b[1;33m(\u001b[0m\u001b[0msolutions\u001b[0m\u001b[1;33m,\u001b[0m \u001b[0mkey\u001b[0m\u001b[1;33m=\u001b[0m\u001b[0mitemgetter\u001b[0m\u001b[1;33m(\u001b[0m\u001b[0mc\u001b[0m\u001b[1;33m[\u001b[0m\u001b[1;34m'p1_X'\u001b[0m\u001b[1;33m]\u001b[0m\u001b[1;33m)\u001b[0m\u001b[1;33m,\u001b[0m \u001b[0mreverse\u001b[0m\u001b[1;33m=\u001b[0m\u001b[0mTrue\u001b[0m\u001b[1;33m)\u001b[0m\u001b[1;33m[\u001b[0m\u001b[1;36m1\u001b[0m\u001b[1;33m]\u001b[0m\u001b[1;33m\u001b[0m\u001b[0m\n",
        "\u001b[0m\u001b[1;32m     61 \u001b[1;33m        )\n",
        "\u001b[0m"
       ]
      },
      {
       "output_type": "stream",
       "stream": "stdout",
       "text": [
        "\n"
       ]
      },
      {
       "name": "stdout",
       "output_type": "stream",
       "stream": "stdout",
       "text": [
        "ipdb> solutions\n"
       ]
      },
      {
       "output_type": "stream",
       "stream": "stdout",
       "text": [
        "[]\n"
       ]
      },
      {
       "name": "stdout",
       "output_type": "stream",
       "stream": "stdout",
       "text": [
        "ipdb> c\n"
       ]
      },
      {
       "metadata": {},
       "output_type": "display_data",
       "png": "[encoded data removed]",
       "text": [
        "Figure(480x320)"
       ]
      }
     ],
     "prompt_number": 18
    },
    {
     "cell_type": "code",
     "collapsed": false,
     "input": [
      "%pdb"
     ],
     "language": "python",
     "metadata": {},
     "outputs": [
      {
       "output_type": "stream",
       "stream": "stdout",
       "text": [
        "Automatic pdb calling has been turned ON\n"
       ]
      }
     ],
     "prompt_number": 11
    },
    {
     "cell_type": "code",
     "collapsed": false,
     "input": [
      "%%time\n",
      "slices=[]\n",
      "prec=3\n",
      "i = 2\n",
      "w=widths[i].value\n",
      "h=heights[i].value\n",
      "r60=r60s[i].value\n",
      "r61=r61s[i].value\n",
      "r40=r40s[i].value\n",
      "r41=r41s[i].value\n",
      "print time.time()\n",
      "if r40 and r41 and r61:\n",
      "    ring_config = RingParams(W=5., H=1.5, CF=56., PROFILE='PR_001')\n",
      "    ring_config.lookup_definition(profiles_definiton)\n",
      "    ring_config.W = round(w,prec)\n",
      "    ring_config.H = round(h,prec)\n",
      "    ring_config.R60 = round(r60,prec)\n",
      "    ring_config.R61 = round(r61,prec)\n",
      "    ring_config.R40 = round(r40,prec)\n",
      "    ring_config.R41 = round(r41,prec)        \n",
      "    print '%s Using configuration:'%(i)\n",
      "    print ring_config\n",
      "    context = Context()\n",
      "    model = globals()[ring_config.MODEL](params=ring_config, context=context)\n",
      "    model.create_equations()        \n",
      "    try:\n",
      "        del __builtin__._fr \n",
      "        del __builtin__._to \n",
      "    except:\n",
      "        pass\n",
      "\n",
      "    print 'Vol:',model.get_volume()\n",
      "    \n",
      "    print '...>'\n",
      "    step=0.1    \n",
      "    for f in arange(0., 5., step):\n",
      "        __builtin__._fr = f\n",
      "        __builtin__._to = f + step\n",
      "        v,h = model.get_volume()\n",
      "        slices.append([f,f+step,v,h])\n",
      "        print [f,f+step,v,h]\n",
      "    \n",
      "        \n",
      "        \n",
      "print slices"
     ],
     "language": "python",
     "metadata": {},
     "outputs": [
      {
       "output_type": "stream",
       "stream": "stdout",
       "text": [
        "1378236867.26\n",
        "2 Using configuration:\n",
        "PR=PR_001 MDL=TR13 RI=28.0/pi W=2.5 H=1.1 R60=0.0 R61=1.903 R20=0.0 R40=0.35 R41=0.558\n",
        "solutions:"
       ]
      },
      {
       "output_type": "stream",
       "stream": "stdout",
       "text": [
        " 2\n",
        "[{p1_Y: 9.74112124802499, p1_X: 0.270850347843745}, {p1_Y: 8.78423237826729, p1_X: 0.845149652156258}]\n",
        "Vol: "
       ]
      },
      {
       "output_type": "stream",
       "stream": "stdout",
       "text": [
        "(0.13610651139788604, -28.0/pi + 8.91267681314614)\n",
        "...>\n",
        "[0.0, 0.10000000000000001, 0.0022486214188055876, -28.0/pi + 8.91267681314614]"
       ]
      },
      {
       "output_type": "stream",
       "stream": "stdout",
       "text": [
        "\n",
        "[0.10000000000000001, 0.20000000000000001, 0.0038799600750772816, -28.0/pi + 9.47637333643464]"
       ]
      },
      {
       "output_type": "stream",
       "stream": "stdout",
       "text": [
        "\n",
        "[0.20000000000000001, 0.30000000000000004, 0.004678331763272485, -28.0/pi + 9.65692327034363]"
       ]
      },
      {
       "output_type": "stream",
       "stream": "stdout",
       "text": [
        "\n",
        "[0.30000000000000004, 0.40000000000000002, 0.005127454517136364, -28.0/pi + 9.75499843377468]"
       ]
      },
      {
       "output_type": "stream",
       "stream": "stdout",
       "text": [
        "\n",
        "[0.40000000000000002, 0.5, 0.005438861633634485, -28.0/pi + 9.8122950909759]"
       ]
      },
      {
       "output_type": "stream",
       "stream": "stdout",
       "text": [
        "\n",
        "[0.5, 0.59999999999999998, 0.0057047024493579, -28.0/pi + 9.8586505122051]"
       ]
      },
      {
       "output_type": "stream",
       "stream": "stdout",
       "text": [
        "\n",
        "[0.60000000000000009, 0.70000000000000007, 0.005930888071857282, -28.0/pi + 9.89822622537942]"
       ]
      },
      {
       "output_type": "stream",
       "stream": "stdout",
       "text": [
        "\n",
        "[0.70000000000000007, 0.80000000000000004, 0.006119404878427016, -28.0/pi + 9.93146412235652]"
       ]
      },
      {
       "output_type": "stream",
       "stream": "stdout",
       "text": [
        "\n",
        "[0.80000000000000004, 0.90000000000000002, 0.006271784123000707, -28.0/pi + 9.95870601789116]"
       ]
      },
      {
       "output_type": "stream",
       "stream": "stdout",
       "text": [
        "\n",
        "[0.90000000000000002, 1.0, 0.006389188081398849, -28.0/pi + 9.98021390179207]"
       ]
      },
      {
       "output_type": "stream",
       "stream": "stdout",
       "text": [
        "\n",
        "[1.0, 1.1000000000000001, 0.006472469442785755, -28.0/pi + 9.99618390298174]"
       ]
      },
      {
       "output_type": "stream",
       "stream": "stdout",
       "text": [
        "\n",
        "[1.1000000000000001, 1.2000000000000002, 0.006522211678075297, -28.0/pi + 10.0067558837175]"
       ]
      },
      {
       "output_type": "stream",
       "stream": "stdout",
       "text": [
        "\n",
        "[1.2000000000000002, 1.3000000000000003, 0.006538755132227927, -28.0/pi + 10.0120198421501]"
       ]
      },
      {
       "output_type": "stream",
       "stream": "stdout",
       "text": [
        "\n",
        "[1.3, 1.4000000000000001, 0.006522211678075297, -28.0/pi + 10.0067558837175]"
       ]
      },
      {
       "output_type": "stream",
       "stream": "stdout",
       "text": [
        "\n",
        "[1.4000000000000001, 1.5000000000000002, 0.006472469442785755, -28.0/pi + 9.99618390298174]"
       ]
      },
      {
       "output_type": "stream",
       "stream": "stdout",
       "text": [
        "\n",
        "[1.5, 1.6000000000000001, 0.006389188081398853, -28.0/pi + 9.98021390179207]"
       ]
      },
      {
       "output_type": "stream",
       "stream": "stdout",
       "text": [
        "\n",
        "[1.6000000000000001, 1.7000000000000002, 0.006271784123000717, -28.0/pi + 9.95870601789116]"
       ]
      },
      {
       "output_type": "stream",
       "stream": "stdout",
       "text": [
        "\n",
        "[1.7000000000000002, 1.8000000000000003, 0.00611940487842702, -28.0/pi + 9.93146412235652]"
       ]
      },
      {
       "output_type": "stream",
       "stream": "stdout",
       "text": [
        "\n",
        "[1.8, 1.9000000000000001, 0.005930888071857286, -28.0/pi + 9.89822622537942]"
       ]
      },
      {
       "output_type": "stream",
       "stream": "stdout",
       "text": [
        "\n",
        "[1.9000000000000001, 2.0, 0.0057047024493578884, -28.0/pi + 9.8586505122051]"
       ]
      },
      {
       "output_type": "stream",
       "stream": "stdout",
       "text": [
        "\n",
        "[2.0, 2.1000000000000001, 0.005438861633634495, -28.0/pi + 9.8122950909759]"
       ]
      },
      {
       "output_type": "stream",
       "stream": "stdout",
       "text": [
        "\n",
        "[2.1000000000000001, 2.2000000000000002, 0.005127454517136368, -28.0/pi + 9.75499843377468]"
       ]
      },
      {
       "output_type": "stream",
       "stream": "stdout",
       "text": [
        "\n",
        "[2.2000000000000002, 2.3000000000000003, 0.004678331763272489, -28.0/pi + 9.65692327034363]"
       ]
      },
      {
       "output_type": "stream",
       "stream": "stdout",
       "text": [
        "\n",
        "[2.3000000000000003, 2.4000000000000004, 0.003879960075077278, -28.0/pi + 9.47637333643464]"
       ]
      },
      {
       "output_type": "stream",
       "stream": "stdout",
       "text": [
        "\n",
        "[2.4000000000000004, 2.5000000000000004, 0.0022486214188056053, -28.0/pi + 9.15762578742446]"
       ]
      },
      {
       "output_type": "stream",
       "stream": "stdout",
       "text": [
        "\n",
        "[2.5, 2.6000000000000001, 0.0, 0.0]\n",
        "[2.6000000000000001, 2.7000000000000002, 0.0, 0.0]\n",
        "[2.7000000000000002, 2.8000000000000003, 0.0, 0.0]"
       ]
      },
      {
       "output_type": "stream",
       "stream": "stdout",
       "text": [
        "\n",
        "[2.8000000000000003, 2.9000000000000004, 0.0, 0.0]\n",
        "[2.9000000000000004, 3.0000000000000004, 0.0, 0.0]\n",
        "[3.0, 3.1000000000000001, 0.0, 0.0]"
       ]
      },
      {
       "output_type": "stream",
       "stream": "stdout",
       "text": [
        "\n",
        "[3.1000000000000001, 3.2000000000000002, 0.0, 0.0]\n",
        "[3.2000000000000002, 3.3000000000000003, 0.0, 0.0]\n",
        "[3.3000000000000003, 3.4000000000000004, 0.0, 0.0]"
       ]
      },
      {
       "output_type": "stream",
       "stream": "stdout",
       "text": [
        "\n",
        "[3.4000000000000004, 3.5000000000000004, 0.0, 0.0]\n",
        "[3.5, 3.6000000000000001, 0.0, 0.0]\n",
        "[3.6000000000000001, 3.7000000000000002, 0.0, 0.0]"
       ]
      },
      {
       "output_type": "stream",
       "stream": "stdout",
       "text": [
        "\n",
        "[3.7000000000000002, 3.8000000000000003, 0.0, 0.0]\n",
        "[3.8000000000000003, 3.9000000000000004, 0.0, 0.0]\n",
        "[3.9000000000000004, 4.0, 0.0, 0.0]"
       ]
      },
      {
       "output_type": "stream",
       "stream": "stdout",
       "text": [
        "\n",
        "[4.0, 4.0999999999999996, 0.0, 0.0]\n",
        "[4.1000000000000005, 4.2000000000000002, 0.0, 0.0]\n",
        "[4.2000000000000002, 4.2999999999999998, 0.0, 0.0]"
       ]
      },
      {
       "output_type": "stream",
       "stream": "stdout",
       "text": [
        "\n",
        "[4.2999999999999998, 4.3999999999999995, 0.0, 0.0]\n",
        "[4.4000000000000004, 4.5, 0.0, 0.0]\n",
        "[4.5, 4.5999999999999996, 0.0, 0.0]"
       ]
      },
      {
       "output_type": "stream",
       "stream": "stdout",
       "text": [
        "\n",
        "[4.6000000000000005, 4.7000000000000002, 0.0, 0.0]\n",
        "[4.7000000000000002, 4.7999999999999998, 0.0, 0.0]\n",
        "[4.8000000000000007, 4.9000000000000004, 0.0, 0.0]"
       ]
      },
      {
       "output_type": "stream",
       "stream": "stdout",
       "text": [
        "\n",
        "[4.9000000000000004, 5.0, 0.0, 0.0]\n",
        "[[0.0, 0.10000000000000001, 0.0022486214188055876, -28.0/pi + 8.91267681314614], [0.10000000000000001, 0.20000000000000001, 0.0038799600750772816, -28.0/pi + 9.47637333643464], [0.20000000000000001, 0.30000000000000004, 0.004678331763272485, -28.0/pi + 9.65692327034363], [0.30000000000000004, 0.40000000000000002, 0.005127454517136364, -28.0/pi + 9.75499843377468], [0.40000000000000002, 0.5, 0.005438861633634485, -28.0/pi + 9.8122950909759], [0.5, 0.59999999999999998, 0.0057047024493579, -28.0/pi + 9.8586505122051], [0.60000000000000009, 0.70000000000000007, 0.005930888071857282, -28.0/pi + 9.89822622537942], [0.70000000000000007, 0.80000000000000004, 0.006119404878427016, -28.0/pi + 9.93146412235652], [0.80000000000000004, 0.90000000000000002, 0.006271784123000707, -28.0/pi + 9.95870601789116], [0.90000000000000002, 1.0, 0.006389188081398849, -28.0/pi + 9.98021390179207], [1.0, 1.1000000000000001, 0.006472469442785755, -28.0/pi + 9.99618390298174], [1.1000000000000001, 1.2000000000000002, 0.006522211678075297, -28.0/pi + 10.0067558837175], [1.2000000000000002, 1.3000000000000003, 0.006538755132227927, -28.0/pi + 10.0120198421501], [1.3, 1.4000000000000001, 0.006522211678075297, -28.0/pi + 10.0067558837175], [1.4000000000000001, 1.5000000000000002, 0.006472469442785755, -28.0/pi + 9.99618390298174], [1.5, 1.6000000000000001, 0.006389188081398853, -28.0/pi + 9.98021390179207], [1.6000000000000001, 1.7000000000000002, 0.006271784123000717, -28.0/pi + 9.95870601789116], [1.7000000000000002, 1.8000000000000003, 0.00611940487842702, -28.0/pi + 9.93146412235652], [1.8, 1.9000000000000001, 0.005930888071857286, -28.0/pi + 9.89822622537942], [1.9000000000000001, 2.0, 0.0057047024493578884, -28.0/pi + 9.8586505122051], [2.0, 2.1000000000000001, 0.005438861633634495, -28.0/pi + 9.8122950909759], [2.1000000000000001, 2.2000000000000002, 0.005127454517136368, -28.0/pi + 9.75499843377468], [2.2000000000000002, 2.3000000000000003, 0.004678331763272489, -28.0/pi + 9.65692327034363], [2.3000000000000003, 2.4000000000000004, 0.003879960075077278, -28.0/pi + 9.47637333643464], [2.4000000000000004, 2.5000000000000004, 0.0022486214188056053, -28.0/pi + 9.15762578742446], [2.5, 2.6000000000000001, 0.0, 0.0], [2.6000000000000001, 2.7000000000000002, 0.0, 0.0], [2.7000000000000002, 2.8000000000000003, 0.0, 0.0], [2.8000000000000003, 2.9000000000000004, 0.0, 0.0], [2.9000000000000004, 3.0000000000000004, 0.0, 0.0], [3.0, 3.1000000000000001, 0.0, 0.0], [3.1000000000000001, 3.2000000000000002, 0.0, 0.0], [3.2000000000000002, 3.3000000000000003, 0.0, 0.0], [3.3000000000000003, 3.4000000000000004, 0.0, 0.0], [3.4000000000000004, 3.5000000000000004, 0.0, 0.0], [3.5, 3.6000000000000001, 0.0, 0.0], [3.6000000000000001, 3.7000000000000002, 0.0, 0.0], [3.7000000000000002, 3.8000000000000003, 0.0, 0.0], [3.8000000000000003, 3.9000000000000004, 0.0, 0.0], [3.9000000000000004, 4.0, 0.0, 0.0], [4.0, 4.0999999999999996, 0.0, 0.0], [4.1000000000000005, 4.2000000000000002, 0.0, 0.0], [4.2000000000000002, 4.2999999999999998, 0.0, 0.0], [4.2999999999999998, 4.3999999999999995, 0.0, 0.0], [4.4000000000000004, 4.5, 0.0, 0.0], [4.5, 4.5999999999999996, 0.0, 0.0], [4.6000000000000005, 4.7000000000000002, 0.0, 0.0], [4.7000000000000002, 4.7999999999999998, 0.0, 0.0], [4.8000000000000007, 4.9000000000000004, 0.0, 0.0], [4.9000000000000004, 5.0, 0.0, 0.0]]\n",
        "CPU times: user 16.6 s, sys: 76 ms, total: 16.6 s\n",
        "Wall time: 16.5 s\n"
       ]
      },
      {
       "metadata": {},
       "output_type": "display_data",
       "png": "[encoded data removed]",
       "text": [
        "Figure(480x320)"
       ]
      }
     ],
     "prompt_number": 17
    },
    {
     "cell_type": "code",
     "collapsed": false,
     "input": [
      "plot([x[3] for x in slices])"
     ],
     "language": "python",
     "metadata": {},
     "outputs": [
      {
       "metadata": {},
       "output_type": "pyout",
       "prompt_number": 13,
       "text": [
        "[Line2D(_line0)]"
       ]
      },
      {
       "metadata": {},
       "output_type": "display_data",
       "png": "[encoded data removed]",
       "text": [
        "Figure(480x320)"
       ]
      }
     ],
     "prompt_number": 13
    },
    {
     "cell_type": "code",
     "collapsed": false,
     "input": [
      "[ round(float(x[3]),5) for x in slices ]"
     ],
     "language": "python",
     "metadata": {},
     "outputs": [
      {
       "metadata": {},
       "output_type": "pyout",
       "prompt_number": 14,
       "text": [
        "[0.0, 0.5637, 0.74425, 0.84232, 0.89962, 0.94597, 0.98555, 1.01879, 1.04603, 1\n",
        ".06754, 1.08351, 1.09408, 1.09934, 1.09408, 1.08351, 1.06754, 1.04603, 1.01879\n",
        ", 0.98555, 0.94597, 0.89962, 0.84232, 0.74425, 0.5637, 0.24495, 0.0, 0.0, 0.0,\n",
        " 0.0, 0.0, 0.0, 0.0, 0.0, 0.0, 0.0, 0.0, 0.0, 0.0, 0.0, 0.0, 0.0, 0.0, 0.0, 0.\n",
        "0, 0.0, 0.0, 0.0, 0.0, 0.0, 0.0]"
       ]
      }
     ],
     "prompt_number": 14
    },
    {
     "cell_type": "code",
     "collapsed": false,
     "input": [
      "23plot([ abs(round(float(x[2]),10)) for x in slices ],'r--')"
     ],
     "language": "python",
     "metadata": {},
     "outputs": [
      {
       "ename": "SyntaxError",
       "evalue": "invalid syntax (<ipython-input-15-08a65ceb07ff>, line 1)",
       "output_type": "pyerr",
       "traceback": [
        "\u001b[1;36m  File \u001b[1;32m\"<ipython-input-15-08a65ceb07ff>\"\u001b[1;36m, line \u001b[1;32m1\u001b[0m\n\u001b[1;33m    23plot([ abs(round(float(x[2]),10)) for x in slices ],'r--')\u001b[0m\n\u001b[1;37m         ^\u001b[0m\n\u001b[1;31mSyntaxError\u001b[0m\u001b[1;31m:\u001b[0m invalid syntax\n"
       ]
      }
     ],
     "prompt_number": 15
    }
   ],
   "metadata": {}
  }
 ]
}
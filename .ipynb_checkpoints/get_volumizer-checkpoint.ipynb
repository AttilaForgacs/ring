{
 "metadata": {
  "name": ""
 },
 "nbformat": 3,
 "nbformat_minor": 0,
 "worksheets": [
  {
   "cells": [
    {
     "cell_type": "code",
     "collapsed": false,
     "input": [
      "%pylab inline"
     ],
     "language": "python",
     "metadata": {},
     "outputs": [
      {
       "output_type": "stream",
       "stream": "stdout",
       "text": [
        "Populating the interactive namespace from numpy and matplotlib\n"
       ]
      },
      {
       "output_type": "stream",
       "stream": "stderr",
       "text": [
        "WARNING: pylab import has clobbered these variables: ['prod', 'plotting', 'Circle', 'power', 'diag', 'sinh', 'trunc', 'binomial', 'eye', 'tan', 'product', 'roots', 'degrees', 'radians', 'sin', 'fmod', 'expm1', 'ldexp', 'zeros', 'cosh', 'conjugate', 'linalg', 'take', 'solve', 'isnan', 'beta', 'draw_if_interactive', 'random', 'frexp', 'ceil', 'ones', 'copysign', 'transpose', 'vectorize', 'cos', 'interactive', 'diff', 'invert', 'tanh', 'Polygon', 'fabs', 'reshape', 'sqrt', 'floor', 'source', 'add', 'multinomial', 'test', 'poly', 'mod', 'sign', 'hypot', 'fft', 'gamma', 'log', 'var', 'log10', 'info', 'seterr', 'log1p', 'flatten', 'nan', 'modf', 'pi', 'exp', 'isinf', 'e']\n",
        "`%pylab --no-import-all` prevents importing * from pylab and numpy\n"
       ]
      }
     ],
     "prompt_number": 7
    },
    {
     "cell_type": "code",
     "collapsed": false,
     "input": [
      "from __future__ import division\n",
      "from pylab import *\n",
      "from tools import *\n",
      "from collections import *\n",
      "from math import *\n",
      "from numpy import array, cos, sin\n",
      "import functools\n",
      "import scipy\n",
      "import sympy\n",
      "from IPython.display import Image\n",
      "from scipy.integrate import quad\n",
      "from sympy import *\n",
      "import numpy as np\n",
      "import scipy as sp\n",
      "import time\n",
      "import models\n",
      "from sympy import init_printing;init_printing()\n",
      "from models import *"
     ],
     "language": "python",
     "metadata": {},
     "outputs": [],
     "prompt_number": 1
    },
    {
     "cell_type": "code",
     "collapsed": false,
     "input": [
      "profiles_definiton = load_profiles_lookup_table({})\n",
      "ring_config = RingParams(W=5., H=1.5, CF=56., PROFILE='PR_001')\n",
      "ring_config.lookup_definition(profiles_definiton)\n",
      "\n",
      "# override ########\n",
      "ring_config.W = 2.5\n",
      "ring_config.H = 1.\n",
      "ring_config.R60 = 0.\n",
      "ring_config.R61 = round(2.17718474478179, 3)\n",
      "ring_config.R40 = round(0.35,3)\n",
      "ring_config.R41 = round(0.455863932713471,3)\n",
      "\n",
      "print 'Using configuration:'\n",
      "print ring_config\n",
      "context = Context()\n",
      "model = globals()[ring_config.MODEL](params=ring_config, context=context)\n",
      "model.create_equations()"
     ],
     "language": "python",
     "metadata": {},
     "outputs": [
      {
       "output_type": "stream",
       "stream": "stdout",
       "text": [
        "Using configuration:\n",
        "PR=PR_001 MDL=TR13 RI=28.0/pi W=2.5 H=1.0 R60=0.0 R61=2.177 R20=0.0 R40=0.35 R41=0.456\n",
        "solutions:"
       ]
      },
      {
       "output_type": "stream",
       "stream": "stdout",
       "text": [
        " 4\n"
       ]
      }
     ],
     "prompt_number": 4
    },
    {
     "cell_type": "code",
     "collapsed": false,
     "input": [
      "solutions = model.solve()\n",
      "print solutions\n",
      "volume = model.get_volume()"
     ],
     "language": "python",
     "metadata": {},
     "outputs": [
      {
       "output_type": "stream",
       "stream": "stdout",
       "text": [
        "None\n"
       ]
      },
      {
       "metadata": {},
       "output_type": "display_data",
       "png": "[encoded data removed]",
       "text": [
        "Figure(480x320)"
       ]
      }
     ],
     "prompt_number": 8
    },
    {
     "cell_type": "code",
     "collapsed": false,
     "input": [
      "volume"
     ],
     "language": "python",
     "metadata": {},
     "outputs": [
      {
       "metadata": {},
       "output_type": "pyout",
       "prompt_number": 6,
       "text": [
        "0.12411648426421663"
       ]
      }
     ],
     "prompt_number": 6
    },
    {
     "cell_type": "code",
     "collapsed": false,
     "input": [
      "import xlrd\n",
      "book = xlrd.open_workbook('./parameters/PR_001_Daten.xlsx')"
     ],
     "language": "python",
     "metadata": {},
     "outputs": [],
     "prompt_number": 9
    },
    {
     "cell_type": "code",
     "collapsed": false,
     "input": [
      "s=book.sheet_by_index(0)"
     ],
     "language": "python",
     "metadata": {},
     "outputs": [],
     "prompt_number": 10
    },
    {
     "cell_type": "code",
     "collapsed": false,
     "input": [
      "widths=s.col(2)\n",
      "heights=s.col(3)\n",
      "r60s=s.col(4)\n",
      "r61s=s.col(5)\n",
      "r40s=s.col(6)\n",
      "r41s=s.col(7)"
     ],
     "language": "python",
     "metadata": {},
     "outputs": [],
     "prompt_number": 23
    },
    {
     "cell_type": "code",
     "collapsed": false,
     "input": [
      "for i in xrange(1,len(widths)):\n",
      "    w=widths[i].value\n",
      "    h=heights[i].value\n",
      "    r60=r60s[i].value\n",
      "    r61=r61s[i].value\n",
      "    r40=r40s[i].value\n",
      "    r41=r41s[i].value\n",
      "    if r40 and r41 and r60 and r61:\n",
      "        ring_config = RingParams(W=5., H=1.5, CF=56., PROFILE='PR_001')\n",
      "        ring_config.lookup_definition(profiles_definiton)\n",
      "        ring_config.W = w\n",
      "        ring_config.H = h\n",
      "        ring_config.R60 = round(r60,3)\n",
      "        ring_config.R61 = round(r61,3)\n",
      "        ring_config.R40 = round(r40,3)\n",
      "        ring_config.R41 = round(r41,3)        \n",
      "        print 'Using configuration:'\n",
      "        print ring_config\n",
      "        context = Context()\n",
      "        model = globals()[ring_config.MODEL](params=ring_config, context=context)\n",
      "        model.create_equations()        \n",
      "        print 'Vol:',model.get_volume()"
     ],
     "language": "python",
     "metadata": {},
     "outputs": [],
     "prompt_number": 25
    }
   ],
   "metadata": {}
  }
 ]
}
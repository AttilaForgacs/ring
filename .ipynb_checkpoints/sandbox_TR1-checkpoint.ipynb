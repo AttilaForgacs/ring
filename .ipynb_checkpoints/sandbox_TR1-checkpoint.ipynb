{
 "metadata": {
  "name": ""
 },
 "nbformat": 3,
 "nbformat_minor": 0,
 "worksheets": [
  {
   "cells": [
    {
     "cell_type": "code",
     "collapsed": false,
     "input": [
      "%pylab inline\n",
      "%load_ext autoreload\n",
      "%autoreload 1"
     ],
     "language": "python",
     "metadata": {},
     "outputs": [
      {
       "output_type": "stream",
       "stream": "stdout",
       "text": [
        "Populating the interactive namespace from numpy and matplotlib\n"
       ]
      }
     ],
     "prompt_number": 1
    },
    {
     "cell_type": "code",
     "collapsed": false,
     "input": [
      "excelfile = './parameters/PR_007_Daten.xlsx'\n",
      "assert open(excelfile)"
     ],
     "language": "python",
     "metadata": {},
     "outputs": [],
     "prompt_number": 3
    },
    {
     "cell_type": "code",
     "collapsed": false,
     "input": [
      "from __future__ import division\n",
      "from pylab import *\n",
      "from tools import *\n",
      "import itertools\n",
      "from collections import *\n",
      "from math import *\n",
      "from numpy import array, cos, sin\n",
      "import functools\n",
      "import scipy\n",
      "import sympy\n",
      "from IPython.display import Image\n",
      "from scipy.integrate import quad\n",
      "from sympy import *\n",
      "import numpy as np\n",
      "import scipy as sp\n",
      "import time\n",
      "%aimport models\n",
      "%aimport tools\n",
      "from sympy import init_printing;init_printing()\n",
      "from models import *"
     ],
     "language": "python",
     "metadata": {},
     "outputs": [
      {
       "output_type": "stream",
       "stream": "stdout",
       "text": [
        "Plotting: False\n"
       ]
      }
     ],
     "prompt_number": 2
    },
    {
     "cell_type": "code",
     "collapsed": false,
     "input": [
      "%aimport models"
     ],
     "language": "python",
     "metadata": {},
     "outputs": [],
     "prompt_number": 4
    },
    {
     "cell_type": "code",
     "collapsed": false,
     "input": [
      "tools.DO_PLOT=True"
     ],
     "language": "python",
     "metadata": {},
     "outputs": [],
     "prompt_number": 4
    },
    {
     "cell_type": "code",
     "collapsed": false,
     "input": [
      "profiles_definiton = load_profiles_lookup_table({})"
     ],
     "language": "python",
     "metadata": {},
     "outputs": [],
     "prompt_number": 6
    },
    {
     "cell_type": "code",
     "collapsed": false,
     "input": [
      "import xlrd\n",
      "book = xlrd.open_workbook(excelfile)"
     ],
     "language": "python",
     "metadata": {},
     "outputs": [],
     "prompt_number": 7
    },
    {
     "cell_type": "code",
     "collapsed": false,
     "input": [
      "s=book.sheet_by_index(0)"
     ],
     "language": "python",
     "metadata": {},
     "outputs": [],
     "prompt_number": 8
    },
    {
     "cell_type": "code",
     "collapsed": false,
     "input": [
      "widths=s.col(2)\n",
      "heights=s.col(3)\n",
      "r60s=s.col(4)\n",
      "r61s=s.col(5)\n",
      "r40s=s.col(6)\n",
      "r20s=s.col(7)"
     ],
     "language": "python",
     "metadata": {},
     "outputs": [],
     "prompt_number": 10
    },
    {
     "cell_type": "code",
     "collapsed": false,
     "input": [
      "len(widths)"
     ],
     "language": "python",
     "metadata": {},
     "outputs": [
      {
       "metadata": {},
       "output_type": "pyout",
       "prompt_number": 11,
       "text": [
        "417"
       ]
      }
     ],
     "prompt_number": 11
    },
    {
     "cell_type": "code",
     "collapsed": false,
     "input": [
      "try:\n",
      "    del __builtin__._fr \n",
      "    del __builtin__._to \n",
      "except:\n",
      "    pass\n",
      "\n",
      "\n",
      "import csv\n",
      "csvfile=open('/home/attila/Desktop/PR_001.csv', 'wb+') \n",
      "ringwriter = csv.writer(csvfile, delimiter=',',\n",
      "                        quotechar='|', quoting=csv.QUOTE_MINIMAL)\n",
      "\n",
      "import gc\n",
      "\n",
      "#CF 46-76, step : 0.5\n",
      "\n",
      "def calc_full_profile():\n",
      "    prec=23\n",
      "    \n",
      "    for CF in xrange(460,760,5):\n",
      "        \n",
      "        for i in xrange(1, len(widths)):\n",
      "            \n",
      "            w=widths[i].value\n",
      "            if w == \n",
      "            h=heights[i].value\n",
      "            r60=r60s[i].value\n",
      "            r61=r61s[i].value\n",
      "            r40=r40s[i].value\n",
      "            r41=''\n",
      "            r20=r20s[i].value\n",
      "            p1=''\n",
      "            p2=''\n",
      "    \n",
      "            if r40 and r20:\n",
      "                ring_config = RingParams(W=round(w,prec), H=round(h,prec), CF=CF / 10., PROFILE='PR_007')\n",
      "                ring_config.lookup_definition(profiles_definiton)\n",
      "                ring_config.R60 = round(r60,prec)\n",
      "                ring_config.R61 = round(r61,prec)\n",
      "                ring_config.R20 = round(r20,prec)\n",
      "                ring_config.R40 = round(r40,prec)        \n",
      "                print '%s Using configuration CF %s'%(i,CF)\n",
      "                print ring_config\n",
      "                context = Context()\n",
      "                model = globals()[ring_config.MODEL](params=ring_config, context=context)\n",
      "                model.calculate_intersections()        \n",
      "                #print 'Vol:',model.get_volume()\n",
      "                #plt.savefig('/home/attila/Desktop/RING_%s.png'%i)     \n",
      "                #plt.clf()\n",
      "                #plt.close()\n",
      "\n",
      "                \n",
      "                \n",
      "                step=0.1    \n",
      "                _volumes=[]\n",
      "                _heights=[]\n",
      "                \n",
      "                for f in arange(0., w, step):\n",
      "                    __builtin__._fr = f\n",
      "                    __builtin__._to = f + step                \n",
      "                    vol,hei = model.get_volume()\n",
      "                    _volumes.append(float(vol))\n",
      "                    _heights.append(float(hei))            \n",
      "                \n",
      "                _heights[-1] = 0\n",
      "                \n",
      "                ringwriter.writerow([CF/10.,w,h,r60,r61,r40,r41,r20,p1,p2]+list( itertools.chain( *zip(_volumes,_heights) )   ) )                               \n",
      "                csvfile.flush()\n",
      "                gc.collect()\n",
      "                print [CF/10.,w,h,r60,r61,r40,r41,r20,p1,p2]+list( itertools.chain( *zip(_volumes,_heights) ))\n",
      "                return\n",
      "                "
     ],
     "language": "python",
     "metadata": {},
     "outputs": [],
     "prompt_number": 14
    },
    {
     "cell_type": "code",
     "collapsed": false,
     "input": [
      "try:\n",
      "    del __builtin__._fr \n",
      "    del __builtin__._to \n",
      "except:\n",
      "    pass\n",
      "\n",
      "\n",
      "import csv\n",
      "import gc\n",
      "\n",
      "#CF 46-76, step : 0.5\n",
      "\n",
      "def calc_full_profile():\n",
      "    prec=3\n",
      "    \n",
      "    '''\n",
      "    CF = 560      \n",
      "    w=6.    \n",
      "    h=2.\n",
      "    r60=0.\n",
      "    r61=6.24932543317401    \n",
      "    r20=0.7\n",
      "    r41=0.855292312291264\n",
      "    '''\n",
      "    CF = 560      \n",
      "    w=6.    \n",
      "    h=2.\n",
      "    r60=0.\n",
      "    r61=0.\n",
      "    r20=0.2\n",
      "    r41=0.5\n",
      "    r40=0.5\n",
      "    \n",
      "    \n",
      "    p1=''\n",
      "    p2=''\n",
      "\n",
      "\n",
      "    ring_config = RingParams(W=round(w,prec), H=round(h,prec), CF=CF / 10., PROFILE='PR_007')\n",
      "    ring_config.lookup_definition(profiles_definiton)\n",
      "    ring_config.R60 = round(r60,prec)\n",
      "    ring_config.R61 = round(r61,prec)\n",
      "    ring_config.R20 = round(r20,prec)\n",
      "    ring_config.R40 = round(r41,prec)        \n",
      "    ring_config.R41 = round(r41,prec)        \n",
      "    \n",
      "    print ring_config\n",
      "    context = Context()\n",
      "    model = globals()[ring_config.MODEL](params=ring_config, context=context)\n",
      "    model.calculate_intersections()        \n",
      "\n",
      "    print 'Vol:',model.get_volume()\n",
      "    plt.savefig('/home/attila/Desktop/RING_007.png')     \n",
      "    plt.clf()\n",
      "    plt.close()\n",
      "\n",
      "\n",
      "    "
     ],
     "language": "python",
     "metadata": {},
     "outputs": [],
     "prompt_number": 49
    },
    {
     "cell_type": "code",
     "collapsed": false,
     "input": [
      "%%time\n",
      "calc_full_profile()"
     ],
     "language": "python",
     "metadata": {},
     "outputs": [
      {
       "output_type": "stream",
       "stream": "stdout",
       "text": [
        "PR=PR_007 MDL=TR1 RI=8.91267681315 W=6.0 H=2.0 R60=0.0 R61=0.0 R20=0.2 R40=0.5 R41=0.5 P1=None P2=None P3=None\n",
        "Vol: "
       ]
      },
      {
       "output_type": "stream",
       "stream": "stdout",
       "text": [
        "(0.6742397752921389, 0.3585786437626908)\n",
        "CPU times: user 212 ms, sys: 0 ns, total: 212 ms"
       ]
      },
      {
       "output_type": "stream",
       "stream": "stdout",
       "text": [
        "\n",
        "Wall time: 209 ms\n"
       ]
      }
     ],
     "prompt_number": 50
    },
    {
     "cell_type": "code",
     "collapsed": false,
     "input": [
      "s='''0.003587068\t0.3585786438\t0.0049682229\t0.7585786438\t0.00549046\t0.9\t0.0057649319\t0.9582575695\t0.0058932782\t0.9898979486\t0.0124566371\t2\t0.0124566371\t2\t0.0124566371\t2\t0.0124566371\t2\t0.0124566371\t2\t0.0124566371\t2\t0.0124566371\t2\t0.0124566371\t2\t0.0124566371\t2\t0.0124566371\t2\t0.0124566371\t2\t0.0124566371\t2\t0.0124566371\t2\t0.0124566371\t2\t0.0124566371\t2\t0.0124566371\t2\t0.0124566371\t2\t0.0124566371\t2\t0.0124566371\t2\t0.0124566371\t2\t0.0124566371\t2\t0.0124566371\t2\t0.0124566371\t2\t0.0124566371\t2\t0.0124566371\t2\t0.0124566371\t2\t0.0124566371\t2\t0.0124566371\t2\t0.0124566371\t2\t0.0124566371\t2\t0.0124566371\t2\t0.0124566371\t2\t0.0124566371\t2\t0.0124566371\t2\t0.0124566371\t2\t0.0124566371\t2\t0.0124566371\t2\t0.0124566371\t2\t0.0124566371\t2\t0.0124566371\t2\t0.0124566371\t2\t0.0124566371\t2\t0.0124566371\t2\t0.0124566371\t2\t0.0124566371\t2\t0.0124566371\t2\t0.0124566371\t2\t0.0124566371\t2\t0.0124566371\t2\t0.0124566371\t2\t0.0058932782\t0.9898979486\t0.0057649319\t0.9582575695\t0.00549046\t0.9\t0.0049682229\t0.7585786438\t0.003587068\t0\n",
      "'''.strip()\n",
      "a=s.split(\"\\t\")\n",
      "sum=0\n",
      "for idx,val in enumerate(a):\n",
      "    if idx%2 == 0:\n",
      "        sum += float(val)\n",
      "        \n",
      "print sum"
     ],
     "language": "python",
     "metadata": {},
     "outputs": [
      {
       "output_type": "stream",
       "stream": "stdout",
       "text": [
        "0.674239777\n"
       ]
      }
     ],
     "prompt_number": 65
    }
   ],
   "metadata": {}
  }
 ]
}
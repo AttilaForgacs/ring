{
 "metadata": {
  "name": ""
 },
 "nbformat": 3,
 "nbformat_minor": 0,
 "worksheets": [
  {
   "cells": [
    {
     "cell_type": "code",
     "collapsed": false,
     "input": [
      "%load_ext autoreload\n",
      "%autoreload 2\n",
      "\n",
      "from __future__ import division\n",
      "from pylab import *\n",
      "from tools import *\n",
      "from collections import *\n",
      "from math import *\n",
      "from numpy import array, cos, sin\n",
      "import functools\n",
      "import scipy\n",
      "import sympy\n",
      "from IPython.display import Image\n",
      "from scipy.integrate import quad\n",
      "from sympy import *\n",
      "import numpy as np\n",
      "import scipy as sp\n",
      "import time\n",
      "import models\n",
      "from sympy import init_printing;init_printing()\n",
      "from models import *\n",
      "\n",
      "#print model.get_volume()\n",
      "\n",
      "#Client's precise params ----------\n",
      "#\n",
      "#5.0\t1.5\t\n",
      "#5.50833333333333\n",
      "#0.240997229916898\n",
      "#\n",
      "\n",
      "\n",
      "#5.0\t1.5\t\n",
      "#5.50833333333333\n",
      "#0.240997229916898\n",
      "# l|r|t|b left right top bottom b|s big small c=circle\n",
      "# C=center\n",
      "# X,Y independent\n",
      "# R=radius\n",
      "# W=width H=height\n",
      "# RI=inner ring radius\n",
      "\n",
      "'''\n",
      "But one profile we need for the testdata is.\n",
      " \n",
      "P3 with 6mm width and 2,4mm height.\n",
      "Ringsize only 56\n",
      " \n",
      "For this profile we need the data for every 0,1mm slice.\n",
      "Volume:\n",
      "Profile P2:     width: 4     height:2        ringwidth/inner circumfence 56     volume:0,396 cm\u00b3\n",
      "Profile P3:     width: 5     height:1,5     ringwidth/inner circumfence 56     volume:0,336 cm\u00b3\n",
      "Profile P4:     width: 7     height:3        ringwidth/inner circumfence 56     volume:1,155 cm\u00b3\n",
      "Profile P5:     width: 3     height:1        ringwidth/inner circumfence 56     volume:0,144 cm\u00b3\n",
      "Profile P6:     width: 6     height:2,5     ringwidth/inner circumfence 56     volume:0,758 cm\u00b3\n",
      "'''\n",
      "\n",
      "\n",
      "profiles_definiton = load_profiles_lookup_table({})\n",
      "ring_config = RingParams(W=5., H=1.5, CF=56., PROFILE='PR_001')\n",
      "ring_config.lookup_definition(profiles_definiton)\n",
      "\n",
      "ring_config.R60 = ring_config.R61 = round(5.50833333333333, 3)\n",
      "ring_config.R40 = ring_config.R41 = round(0.240997229916898, 3)\n",
      "\n",
      "# override ########\n",
      "ring_config.W = 2.5\n",
      "ring_config.H = 1.\n",
      "ring_config.R60 = 0.\n",
      "ring_config.R61 = round(2.17718474478179, 3)\n",
      "ring_config.R40 = round(0.35,3)\n",
      "ring_config.R41 = round(0.455863932713471,3)\n",
      "\n",
      "\n",
      "print 'Using configuration:'\n",
      "print ring_config"
     ],
     "language": "python",
     "metadata": {},
     "outputs": [
      {
       "output_type": "stream",
       "stream": "stdout",
       "text": [
        "Using configuration:\n",
        "PR=PR_001 MDL=TR13 RI=28.0/pi W=2.5 H=1.0 R60=0.0 R61=2.177 R20=0.0 R40=0.35 R41=0.456\n"
       ]
      }
     ],
     "prompt_number": 1
    },
    {
     "cell_type": "code",
     "collapsed": false,
     "input": [
      "context = Context()\n",
      "model = globals()[ring_config.MODEL](params=ring_config, context=context)\n",
      "model.create_equations()\n",
      "model, context"
     ],
     "language": "python",
     "metadata": {},
     "outputs": [
      {
       "output_type": "stream",
       "stream": "stdout",
       "text": [
        "solutions: 4\n"
       ]
      },
      {
       "metadata": {},
       "output_type": "pyout",
       "prompt_number": 2,
       "text": [
        "\u239b                                         \u23a7                                   \n",
        "\u239c<models.mTR13.TR13 object at 0x263d3d0>, \u23a8lc_CX: 0.456, lc_CY: 9.262570719087\n",
        "\u239d                                         \u23a9                                   \n",
        "\n",
        "                                                                              \n",
        "22, lc_R: 0.456, p1_X: 0.24561998837885, p1_Y: 9.66713993530403, p2_X: 0.75438\n",
        "                                                                              \n",
        "\n",
        "                                                       28.0                   \n",
        "0011621151, p2_Y: 9.66713993530403, p3_X: 0.456, p3_Y: \u2500\u2500\u2500\u2500, p4_X: 2.15, p4_Y:\n",
        "                                                        \u03c0                     \n",
        "\n",
        " 28.0                                                                         \n",
        " \u2500\u2500\u2500\u2500, rc_CX: 2.044, rc_CY: 9.26257071908722, rc_R: 0.456, tc_CX: 1.25, tc_CY:\n",
        "  \u03c0                                                                           \n",
        "\n",
        "          28.0             \u23ab\u239e\n",
        " -1.177 + \u2500\u2500\u2500\u2500, tc_R: 2.177\u23ac\u239f\n",
        "           \u03c0               \u23ad\u23a0"
       ]
      }
     ],
     "prompt_number": 2
    },
    {
     "cell_type": "code",
     "collapsed": false,
     "input": [
      "\n",
      "print context\n",
      "print 'vars:'\n",
      "print model.context.variables\n",
      "print\n",
      "print\n",
      "print 'eq:'\n",
      "print model.context.equations\n",
      "print\n",
      "print\n",
      "\n"
     ],
     "language": "python",
     "metadata": {},
     "outputs": [
      {
       "output_type": "stream",
       "stream": "stdout",
       "text": [
        "{'p2_Y': 9.66713993530403, 'p4_Y': 28.0/pi, 'p4_X': 2.15, 'lc_R': 0.456, 'p1_Y': 9.66713993530403, 'lc_CX': 0.456, 'lc_CY': 9.26257071908722, 'tc_R': 2.177, 'p1_X': 0.245619988378850, 'tc_CX': 1.25, 'tc_CY': -1.177 + 28.0/pi, 'rc_CX': 2.044, 'rc_CY': 9.26257071908722, 'rc_R': 0.456, 'p2_X': 0.754380011621151, 'p3_X': 0.456, 'p3_Y': 28.0/pi}\n",
        "vars:\n",
        "[lc_CY, p1_X, p1_Y]\n",
        "\n",
        "\n",
        "eq:\n",
        "[(-lc_CY + p1_Y)**2 + (p1_X - 0.456)**2 - 0.207936, (p1_X - 1.25)**2 + (p1_Y - 28.0/pi + 1.177)**2 - 4.739329, -0.794*p1_Y - (p1_X - 1.25)*(lc_CY - 28.0/pi + 1.177) - 0.934538 + 22.232/pi]"
       ]
      },
      {
       "output_type": "stream",
       "stream": "stdout",
       "text": [
        "\n",
        "\n",
        "\n"
       ]
      }
     ],
     "prompt_number": 3
    },
    {
     "cell_type": "code",
     "collapsed": false,
     "input": [
      "step=0.1\n",
      "slices=[]\n",
      "for f in arange(0., 2.5, step):\n",
      "    __builtin__._fr = f\n",
      "    __builtin__._to = f + step\n",
      "    v = model.get_volume()\n",
      "    slices.append([f,f+step,v])\n",
      "    "
     ],
     "language": "python",
     "metadata": {},
     "outputs": [
      {
       "output_type": "display_data",
       "png": "[encoded data removed]"
      }
     ],
     "prompt_number": 33
    },
    {
     "cell_type": "code",
     "collapsed": false,
     "input": [
      "a=np.array(slices);"
     ],
     "language": "python",
     "metadata": {},
     "outputs": [],
     "prompt_number": 38
    },
    {
     "cell_type": "code",
     "collapsed": false,
     "input": [
      "scatter(a[:,2],a[:,0])\n",
      "\n"
     ],
     "language": "python",
     "metadata": {},
     "outputs": [
      {
       "output_type": "pyout",
       "prompt_number": 46,
       "text": [
        "<matplotlib.collections.PathCollection object at 0x1881ca50>"
       ]
      },
      {
       "output_type": "display_data",
       "png": "[encoded data removed]"
      }
     ],
     "prompt_number": 46
    },
    {
     "cell_type": "code",
     "collapsed": false,
     "input": [
      "import pandas as pd\n",
      "df=pd.DataFrame(a)\n",
      "df.columns = ['FROM','TO','VOLUME']\n",
      "df.to_excel(r'/ring/ring/volume_slices.xls')"
     ],
     "language": "python",
     "metadata": {},
     "outputs": [],
     "prompt_number": 56
    },
    {
     "cell_type": "code",
     "collapsed": false,
     "input": [
      "\n",
      "__builtin__._fr = 4.9\n",
      "__builtin__._to = 5"
     ],
     "language": "python",
     "metadata": {},
     "outputs": [],
     "prompt_number": 28
    },
    {
     "cell_type": "code",
     "collapsed": false,
     "input": [
      "del __builtin__._fr \n",
      "del __builtin__._to\n",
      "model.get_volume()"
     ],
     "language": "python",
     "metadata": {},
     "outputs": [],
     "prompt_number": "*"
    },
    {
     "cell_type": "code",
     "collapsed": false,
     "input": [],
     "language": "python",
     "metadata": {},
     "outputs": []
    }
   ],
   "metadata": {}
  }
 ]
}
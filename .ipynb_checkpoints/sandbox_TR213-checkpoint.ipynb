{
 "metadata": {
  "name": ""
 },
 "nbformat": 3,
 "nbformat_minor": 0,
 "worksheets": [
  {
   "cells": [
    {
     "cell_type": "code",
     "collapsed": false,
     "input": [
      "%pylab inline\n",
      "%load_ext autoreload\n",
      "%autoreload 1"
     ],
     "language": "python",
     "metadata": {},
     "outputs": [
      {
       "output_type": "stream",
       "stream": "stdout",
       "text": [
        "Populating the interactive namespace from numpy and matplotlib\n"
       ]
      }
     ],
     "prompt_number": 1
    },
    {
     "cell_type": "code",
     "collapsed": false,
     "input": [
      "PR='PR_006'\n",
      "excelfile = './parameters/%s_Daten.xlsx'%PR\n",
      "assert open(excelfile)"
     ],
     "language": "python",
     "metadata": {},
     "outputs": [],
     "prompt_number": 2
    },
    {
     "cell_type": "code",
     "collapsed": false,
     "input": [
      "from __future__ import division\n",
      "from pylab import *\n",
      "from tools import *\n",
      "import itertools\n",
      "from collections import *\n",
      "from math import *\n",
      "from numpy import array, cos, sin\n",
      "import functools\n",
      "import scipy\n",
      "import sympy\n",
      "from IPython.display import Image\n",
      "from scipy.integrate import quad\n",
      "from sympy import *\n",
      "import numpy as np\n",
      "import scipy as sp\n",
      "import time\n",
      "%aimport models\n",
      "%aimport tools\n",
      "from sympy import init_printing;init_printing()\n",
      "from models import *"
     ],
     "language": "python",
     "metadata": {},
     "outputs": [],
     "prompt_number": 3
    },
    {
     "cell_type": "code",
     "collapsed": false,
     "input": [
      "%aimport models"
     ],
     "language": "python",
     "metadata": {},
     "outputs": [],
     "prompt_number": 4
    },
    {
     "cell_type": "code",
     "collapsed": false,
     "input": [
      "tools.DO_PLOT=True"
     ],
     "language": "python",
     "metadata": {},
     "outputs": [],
     "prompt_number": 5
    },
    {
     "cell_type": "code",
     "collapsed": false,
     "input": [
      "profiles_definiton = load_profiles_lookup_table({})"
     ],
     "language": "python",
     "metadata": {},
     "outputs": [],
     "prompt_number": 6
    },
    {
     "cell_type": "code",
     "collapsed": false,
     "input": [
      "import xlrd\n",
      "book = xlrd.open_workbook(excelfile)"
     ],
     "language": "python",
     "metadata": {},
     "outputs": [],
     "prompt_number": 7
    },
    {
     "cell_type": "code",
     "collapsed": false,
     "input": [
      "s=book.sheet_by_index(0)"
     ],
     "language": "python",
     "metadata": {},
     "outputs": [],
     "prompt_number": 8
    },
    {
     "cell_type": "code",
     "collapsed": false,
     "input": [
      "widths=s.col(2)\n",
      "heights=s.col(3)\n",
      "r60s=s.col(4)\n",
      "r61s=s.col(5)\n",
      "r40s=s.col(6)\n",
      "p1s=s.col(7)\n",
      "p2s=s.col(8)"
     ],
     "language": "python",
     "metadata": {},
     "outputs": [],
     "prompt_number": 9
    },
    {
     "cell_type": "code",
     "collapsed": false,
     "input": [
      "len(widths)"
     ],
     "language": "python",
     "metadata": {},
     "outputs": [
      {
       "metadata": {},
       "output_type": "pyout",
       "prompt_number": 10,
       "text": [
        "417"
       ]
      }
     ],
     "prompt_number": 10
    },
    {
     "cell_type": "code",
     "collapsed": false,
     "input": [
      "try:\n",
      "    del __builtin__._fr \n",
      "    del __builtin__._to \n",
      "except:\n",
      "    pass\n",
      "\n",
      "\n",
      "import csv\n",
      "csvfile=open('/home/attila/Desktop/PR_001.csv', 'wb+') \n",
      "ringwriter = csv.writer(csvfile, delimiter=',',\n",
      "                        quotechar='|', quoting=csv.QUOTE_MINIMAL)\n",
      "\n",
      "import gc\n",
      "\n",
      "#CF 46-76, step : 0.5\n",
      "\n",
      "def calc_full_profile():\n",
      "    prec=23\n",
      "    for CF in xrange(460,760,5):\n",
      "        for i in xrange(1, len(widths)):\n",
      "            \n",
      "            w=widths[i].value\n",
      "            h=heights[i].value\n",
      "            r60=r60s[i].value\n",
      "            r61=r61s[i].value\n",
      "            r41=''\n",
      "            r40=r40s[i].value\n",
      "            r20=''\n",
      "            p1=p1s[i].value\n",
      "            p2=p2s[i].value\n",
      "    \n",
      "            if p1 and p2:\n",
      "                ring_config = RingParams(W=round(w,prec), H=round(h,prec), CF=CF / 10., PROFILE=PR)\n",
      "                ring_config.lookup_definition(profiles_definiton)\n",
      "                ring_config.R60 = round(r60,prec)\n",
      "                ring_config.R61 = round(r61,prec)                \n",
      "                ring_config.R40 = round(r40,prec)\n",
      "                ring_config.P1 = round(p1,prec)\n",
      "                ring_config.P2 = round(p2,prec)\n",
      "                \n",
      "                print '%s Using configuration CF %s'%(i,CF)\n",
      "                print ring_config\n",
      "                context = Context()\n",
      "                model = globals()[ring_config.MODEL](params=ring_config, context=context)\n",
      "                model.calculate_intersections()        \n",
      "                print 'Vol:',model.get_volume()\n",
      "                #plt.savefig('/home/attila/Desktop/RING_%s.png'%i)     \n",
      "                #plt.clf()\n",
      "                #plt.close()\n",
      "\n",
      "                \n",
      "                \n",
      "                step=0.1    \n",
      "                _volumes=[]\n",
      "                _heights=[]\n",
      "                \n",
      "                for f in arange(0., w, step):\n",
      "                    __builtin__._fr = f\n",
      "                    __builtin__._to = f + step                \n",
      "                    vol,hei = model.get_volume()\n",
      "                    _volumes.append(float(vol))\n",
      "                    _heights.append(float(hei))            \n",
      "                \n",
      "                _heights[-1] = 0\n",
      "                \n",
      "                ringwriter.writerow([CF/10.,w,h,r60,r61,r40,r41,r20,p1,p2]+list( itertools.chain( *zip(_volumes,_heights) )   ) )                               \n",
      "                csvfile.flush()\n",
      "                gc.collect()\n",
      "                print [CF/10.,w,h,r60,r61,r40,r41,r20,p1,p2]+list( itertools.chain( *zip(_volumes,_heights) ))\n",
      "                return\n",
      "                "
     ],
     "language": "python",
     "metadata": {},
     "outputs": [],
     "prompt_number": 11
    },
    {
     "cell_type": "code",
     "collapsed": false,
     "input": [
      "%%time\n",
      "calc_full_profile()"
     ],
     "language": "python",
     "metadata": {},
     "outputs": [
      {
       "output_type": "stream",
       "stream": "stdout",
       "text": [
        "1 Using configuration CF 460\n",
        "PR=PR_006 MDL=TR213 RI=23.0/pi W=2.5 H=1.0 R60=4.40679834254 R61=3.23161764613 R20=0.0 R40=0.15 R41=0.0\n",
        "Vol: "
       ]
      },
      {
       "output_type": "stream",
       "stream": "stdout",
       "text": [
        "(0.0954095014744608, -7.11570830237185 + 23.0/pi)\n",
        "[46.0, 2.5, 1.0, 4.406798342541436, 3.2316176461342994, 0.15, '', '', 0.5, 44.99, 0.0016478435495359172, 0.2054190798553311, 0.0022174519110093167, 0.41251866137782595, 0.0026605427926767646, 0.5044379698738843, 0.0030944401484583038, 0.5934179041783957, 0.003519501530653141, 0.6799603067182967, 0.003935968691112396, 0.7641003120099081, 0.0043414892043357085, 0.8458684477760366, 0.004578881688136785, 0.9183962144411384, 0.0046995131191688595, 0.945479498071718, 0.004793079426456291, 0.9670697675053825, 0.004859775309117417, 0.9832183779698804, 0.004899738270091202, 0.9939632805814631, 0.004913050192956622, 0.9993295118895882, 0.004899738270091202, 0.9939632805814631, 0.004859775309117417, 0.9832183779698804, 0.004793079426456302, 0.9670697675053825, 0.004699513119168866, 0.945479498071718, 0.00457888168813679, 0.9183962144411366, 0.004341489204335712, 0.845868447776036, 0.003935968691112393, 0.7641003120099079, 0.0035195015306531516, 0.6799603067182972, 0.0030944401484583038, 0.5934179041783956, 0.0026605427926767646, 0.5044379698738828, 0.0022174519110093167, 0.4125186613778258, 0.0016478435495359172, 0]"
       ]
      },
      {
       "output_type": "stream",
       "stream": "stdout",
       "text": [
        "\n",
        "CPU times: user 31.9 s, sys: 336 ms, total: 32.2 s\n",
        "Wall time: 31.9 s\n"
       ]
      },
      {
       "metadata": {},
       "output_type": "display_data",
       "png": "[encoded data removed]",
       "text": [
        "Figure(480x320)"
       ]
      }
     ],
     "prompt_number": 12
    },
    {
     "cell_type": "code",
     "collapsed": false,
     "input": [],
     "language": "python",
     "metadata": {},
     "outputs": [],
     "prompt_number": 12
    },
    {
     "cell_type": "code",
     "collapsed": false,
     "input": [],
     "language": "python",
     "metadata": {},
     "outputs": [],
     "prompt_number": 12
    }
   ],
   "metadata": {}
  }
 ]
}
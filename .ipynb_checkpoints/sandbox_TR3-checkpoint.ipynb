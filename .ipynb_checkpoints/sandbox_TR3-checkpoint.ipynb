{
 "metadata": {
  "name": ""
 },
 "nbformat": 3,
 "nbformat_minor": 0,
 "worksheets": [
  {
   "cells": [
    {
     "cell_type": "code",
     "collapsed": false,
     "input": [
      "%pylab inline\n",
      "%load_ext autoreload\n",
      "%autoreload 1\n"
     ],
     "language": "python",
     "metadata": {},
     "outputs": [
      {
       "output_type": "stream",
       "stream": "stdout",
       "text": [
        "Populating the interactive namespace from numpy and matplotlib\n"
       ]
      }
     ],
     "prompt_number": 1
    },
    {
     "cell_type": "code",
     "collapsed": false,
     "input": [
      "PR='PR_008'\n",
      "excelfile = './parameters/%s_Daten.xlsx'%PR\n",
      "assert open(excelfile)"
     ],
     "language": "python",
     "metadata": {},
     "outputs": [],
     "prompt_number": 2
    },
    {
     "cell_type": "code",
     "collapsed": false,
     "input": [
      "from __future__ import division\n",
      "from pylab import *\n",
      "from tools import *\n",
      "import itertools\n",
      "from collections import *\n",
      "from math import *\n",
      "from numpy import array, cos, sin\n",
      "import functools\n",
      "import scipy\n",
      "import sympy\n",
      "from IPython.display import Image\n",
      "from scipy.integrate import quad\n",
      "from sympy import *\n",
      "import numpy as np\n",
      "import scipy as sp\n",
      "import time\n",
      "%aimport models\n",
      "%aimport tools\n",
      "from sympy import init_printing;init_printing()\n",
      "from models import *"
     ],
     "language": "python",
     "metadata": {},
     "outputs": [],
     "prompt_number": 3
    },
    {
     "cell_type": "code",
     "collapsed": false,
     "input": [
      "%aimport models"
     ],
     "language": "python",
     "metadata": {},
     "outputs": [],
     "prompt_number": 4
    },
    {
     "cell_type": "code",
     "collapsed": false,
     "input": [
      "tools.DO_PLOT=True"
     ],
     "language": "python",
     "metadata": {},
     "outputs": [],
     "prompt_number": 5
    },
    {
     "cell_type": "code",
     "collapsed": false,
     "input": [
      "profiles_definiton = load_profiles_lookup_table({})"
     ],
     "language": "python",
     "metadata": {},
     "outputs": [],
     "prompt_number": 6
    },
    {
     "cell_type": "code",
     "collapsed": false,
     "input": [
      "import xlrd\n",
      "book = xlrd.open_workbook(excelfile)"
     ],
     "language": "python",
     "metadata": {},
     "outputs": [],
     "prompt_number": 7
    },
    {
     "cell_type": "code",
     "collapsed": false,
     "input": [
      "s=book.sheet_by_index(0)"
     ],
     "language": "python",
     "metadata": {},
     "outputs": [],
     "prompt_number": 8
    },
    {
     "cell_type": "code",
     "collapsed": false,
     "input": [
      "widths=s.col(2)\n",
      "heights=s.col(3)\n",
      "r60s=s.col(4)\n",
      "r61s=s.col(5)\n",
      "r40s=s.col(6)\n",
      "r41s=s.col(7)"
     ],
     "language": "python",
     "metadata": {},
     "outputs": [],
     "prompt_number": 9
    },
    {
     "cell_type": "code",
     "collapsed": false,
     "input": [
      "len(widths)"
     ],
     "language": "python",
     "metadata": {},
     "outputs": [
      {
       "metadata": {},
       "output_type": "pyout",
       "prompt_number": 10,
       "text": [
        "417"
       ]
      }
     ],
     "prompt_number": 10
    },
    {
     "cell_type": "code",
     "collapsed": false,
     "input": [
      "try:\n",
      "    del __builtin__._fr \n",
      "    del __builtin__._to \n",
      "except:\n",
      "    pass\n",
      "\n",
      "\n",
      "import csv\n",
      "csvfile=open('/home/attila/Desktop/PR_001.csv', 'wb+') \n",
      "ringwriter = csv.writer(csvfile, delimiter=',',\n",
      "                        quotechar='|', quoting=csv.QUOTE_MINIMAL)\n",
      "\n",
      "import gc\n",
      "\n",
      "#CF 46-76, step : 0.5\n",
      "\n",
      "def calc_full_profile():\n",
      "    prec=23\n",
      "    for CF in xrange(460,760,5):\n",
      "        for i in xrange(1, len(widths)):\n",
      "            \n",
      "            w=widths[i].value\n",
      "            h=heights[i].value\n",
      "            r60=r60s[i].value\n",
      "            r61=r61s[i].value\n",
      "            r41=r41s[i].value\n",
      "            r40=r40s[i].value\n",
      "            r20=''\n",
      "            p1=''\n",
      "            p2=''\n",
      "    \n",
      "            if r41 and r41:\n",
      "                ring_config = RingParams(W=round(w,prec), H=round(h,prec), CF=CF / 10., PROFILE=PR)\n",
      "                ring_config.lookup_definition(profiles_definiton)\n",
      "                ring_config.R60 = round(r60,prec)\n",
      "                ring_config.R61 = round(r61,prec)\n",
      "                ring_config.R40 = round(r40,prec)        \n",
      "                ring_config.R41 = round(r41,prec)        \n",
      "                print '%s Using configuration CF %s'%(i,CF)\n",
      "                print ring_config\n",
      "                context = Context()\n",
      "                model = globals()[ring_config.MODEL](params=ring_config, context=context)\n",
      "                model.calculate_intersections()        \n",
      "                #print 'Vol:',model.get_volume()\n",
      "                #plt.savefig('/home/attila/Desktop/RING_%s.png'%i)     \n",
      "                #plt.clf()\n",
      "                #plt.close()\n",
      "\n",
      "                \n",
      "                \n",
      "                step=0.1    \n",
      "                _volumes=[]\n",
      "                _heights=[]\n",
      "                \n",
      "                for f in arange(0., w, step):\n",
      "                    __builtin__._fr = f\n",
      "                    __builtin__._to = f + step                \n",
      "                    vol,hei = model.get_volume()\n",
      "                    _volumes.append(float(vol))\n",
      "                    _heights.append(float(hei))            \n",
      "                \n",
      "                _heights[-1] = 0\n",
      "                \n",
      "                ringwriter.writerow([CF/10.,w,h,r60,r61,r40,r41,r20,p1,p2]+list( itertools.chain( *zip(_volumes,_heights) )   ) )                               \n",
      "                csvfile.flush()\n",
      "                gc.collect()\n",
      "                print [CF/10.,w,h,r60,r61,r40,r41,r20,p1,p2]+list( itertools.chain( *zip(_volumes,_heights) ))\n",
      "                return\n",
      "                "
     ],
     "language": "python",
     "metadata": {},
     "outputs": [],
     "prompt_number": 11
    },
    {
     "cell_type": "code",
     "collapsed": false,
     "input": [
      "%%time\n",
      "calc_full_profile()"
     ],
     "language": "python",
     "metadata": {},
     "outputs": [
      {
       "output_type": "stream",
       "stream": "stdout",
       "text": [
        "1 Using configuration CF 460\n",
        "PR=PR_008 MDL=TR3 RI=23.0/pi W=2.5 H=1.0 R60=2.30625 R61=0.0 R20=0.0 R40=0.4 R41=0.4\n",
        "[46.0, 2.5, 1.0, 2.3062500000000004, 0.0, 0.4, 0.4, '', '', '', 0.0018049028587414674, 0.0, 0.0030859652053587504, 0.5291502622129185, 0.003688027261430463, 0.6928203230275507, 0.004039380682310991, 0.7825451969786175, 0.004247938123325152, 0.8376457676389029, 0.004408961420341186, 0.8746418044002091, 0.004545911320367377, 0.9065059880158497, 0.004659977810042178, 0.9334573609067771, 0.0047521082294008, 0.9556715420743487, 0.004823040095813273, 0.9732870281046107, 0.0048733250643043, 0.9864098226732199, 0.004903345953090185, 0.9951167813931789, 0.004913328113315782, 0.9994579308750273, 0.004903345953090185, 0.9951167813931789, 0.0048733250643043, 0.9864098226732199, 0.004823040095813276, 0.9732870281046102, 0.0047521082294008, 0.9556715420743487, 0.004659977810042183, 0.9334573609067771, 0.004545911320367381, 0.9065059880158497, 0.004408961420341182, 0.8746418044002091, 0.00424793812332516, 0.8376457676389029, 0.0040393806823109946, 0.7825451969786175, 0.0036880272614304667, 0.6928203230275507, 0.003085965205358747, 0.5291502622129185, 0.001804902858741471, 0]"
       ]
      },
      {
       "output_type": "stream",
       "stream": "stdout",
       "text": [
        "\n",
        "CPU times: user 10.9 s, sys: 112 ms, total: 11 s\n",
        "Wall time: 10.9 s\n"
       ]
      },
      {
       "metadata": {},
       "output_type": "display_data",
       "png": "[encoded data removed]",
       "text": [
        "Figure(480x320)"
       ]
      }
     ],
     "prompt_number": 12
    },
    {
     "cell_type": "code",
     "collapsed": false,
     "input": [],
     "language": "python",
     "metadata": {},
     "outputs": [],
     "prompt_number": 12
    },
    {
     "cell_type": "code",
     "collapsed": false,
     "input": [],
     "language": "python",
     "metadata": {},
     "outputs": [],
     "prompt_number": 12
    }
   ],
   "metadata": {}
  }
 ]
}
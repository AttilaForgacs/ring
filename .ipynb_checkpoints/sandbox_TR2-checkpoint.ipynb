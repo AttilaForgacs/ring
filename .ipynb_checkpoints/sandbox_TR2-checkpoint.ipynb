{
 "metadata": {
  "name": ""
 },
 "nbformat": 3,
 "nbformat_minor": 0,
 "worksheets": [
  {
   "cells": [
    {
     "cell_type": "code",
     "collapsed": false,
     "input": [
      "%pylab inline\n",
      "%load_ext autoreload\n",
      "%autoreload 1\n"
     ],
     "language": "python",
     "metadata": {},
     "outputs": [
      {
       "output_type": "stream",
       "stream": "stdout",
       "text": [
        "Populating the interactive namespace from numpy and matplotlib\n"
       ]
      }
     ],
     "prompt_number": 1
    },
    {
     "cell_type": "code",
     "collapsed": false,
     "input": [
      "PR='PR_014'\n",
      "excelfile = './parameters/%s_Daten.xlsx'%PR\n",
      "assert open(excelfile)"
     ],
     "language": "python",
     "metadata": {},
     "outputs": [],
     "prompt_number": 14
    },
    {
     "cell_type": "code",
     "collapsed": false,
     "input": [
      "from __future__ import division\n",
      "from pylab import *\n",
      "from tools import *\n",
      "import itertools\n",
      "from collections import *\n",
      "from math import *\n",
      "from numpy import array, cos, sin\n",
      "import functools\n",
      "import scipy\n",
      "import sympy\n",
      "from IPython.display import Image\n",
      "from scipy.integrate import quad\n",
      "from sympy import *\n",
      "import numpy as np\n",
      "import scipy as sp\n",
      "import time\n",
      "%aimport models\n",
      "%aimport tools\n",
      "from sympy import init_printing;init_printing()\n",
      "from models import *"
     ],
     "language": "python",
     "metadata": {},
     "outputs": [],
     "prompt_number": 15
    },
    {
     "cell_type": "code",
     "collapsed": false,
     "input": [
      "%aimport models"
     ],
     "language": "python",
     "metadata": {},
     "outputs": [],
     "prompt_number": 16
    },
    {
     "cell_type": "code",
     "collapsed": false,
     "input": [
      "tools.DO_PLOT=True"
     ],
     "language": "python",
     "metadata": {},
     "outputs": [],
     "prompt_number": 17
    },
    {
     "cell_type": "code",
     "collapsed": false,
     "input": [
      "profiles_definiton = load_profiles_lookup_table({})"
     ],
     "language": "python",
     "metadata": {},
     "outputs": [],
     "prompt_number": 18
    },
    {
     "cell_type": "code",
     "collapsed": false,
     "input": [
      "import xlrd\n",
      "book = xlrd.open_workbook(excelfile)"
     ],
     "language": "python",
     "metadata": {},
     "outputs": [],
     "prompt_number": 19
    },
    {
     "cell_type": "code",
     "collapsed": false,
     "input": [
      "s=book.sheet_by_index(0)"
     ],
     "language": "python",
     "metadata": {},
     "outputs": [],
     "prompt_number": 20
    },
    {
     "cell_type": "code",
     "collapsed": false,
     "input": [
      "widths=s.col(2)\n",
      "heights=s.col(3)\n",
      "r60s=s.col(4)\n",
      "r61s=s.col(5)\n",
      "r41s=s.col(6)\n",
      "r20s=s.col(7)"
     ],
     "language": "python",
     "metadata": {},
     "outputs": [],
     "prompt_number": 21
    },
    {
     "cell_type": "code",
     "collapsed": false,
     "input": [
      "len(widths)"
     ],
     "language": "python",
     "metadata": {},
     "outputs": [
      {
       "metadata": {},
       "output_type": "pyout",
       "prompt_number": 22,
       "text": [
        "417"
       ]
      }
     ],
     "prompt_number": 22
    },
    {
     "cell_type": "code",
     "collapsed": false,
     "input": [
      "try:\n",
      "    del __builtin__._fr \n",
      "    del __builtin__._to \n",
      "except:\n",
      "    pass\n",
      "\n",
      "\n",
      "import csv\n",
      "csvfile=open('/home/attila/Desktop/PR_001.csv', 'wb+') \n",
      "ringwriter = csv.writer(csvfile, delimiter=',',\n",
      "                        quotechar='|', quoting=csv.QUOTE_MINIMAL)\n",
      "\n",
      "import gc\n",
      "\n",
      "#CF 46-76, step : 0.5\n",
      "\n",
      "def calc_full_profile():\n",
      "    prec=23\n",
      "    for CF in xrange(460,760,5):\n",
      "        for i in xrange(1, len(widths)):\n",
      "            \n",
      "            w=widths[i].value\n",
      "            h=heights[i].value\n",
      "            r60=r60s[i].value\n",
      "            r61=r61s[i].value\n",
      "            r41=r41s[i].value\n",
      "            r40=''\n",
      "            r20=r20s[i].value\n",
      "            p1=''\n",
      "            p2=''\n",
      "    \n",
      "            if r41 and r20:\n",
      "                ring_config = RingParams(W=round(w,prec), H=round(h,prec), CF=CF / 10., PROFILE=PR)\n",
      "                ring_config.lookup_definition(profiles_definiton)\n",
      "                ring_config.R60 = round(r60,prec)\n",
      "                ring_config.R61 = round(r61,prec)\n",
      "                ring_config.R20 = round(r20,prec)\n",
      "                ring_config.R41 = round(r41,prec)        \n",
      "                print '%s Using configuration CF %s'%(i,CF)\n",
      "                print ring_config\n",
      "                context = Context()\n",
      "                model = globals()[ring_config.MODEL](params=ring_config, context=context)\n",
      "                model.calculate_intersections()        \n",
      "                #print 'Vol:',model.get_volume()\n",
      "                #plt.savefig('/home/attila/Desktop/RING_%s.png'%i)     \n",
      "                #plt.clf()\n",
      "                #plt.close()\n",
      "\n",
      "                \n",
      "                \n",
      "                step=0.1    \n",
      "                _volumes=[]\n",
      "                _heights=[]\n",
      "                \n",
      "                for f in arange(0., w, step):\n",
      "                    __builtin__._fr = f\n",
      "                    __builtin__._to = f + step                \n",
      "                    vol,hei = model.get_volume()\n",
      "                    _volumes.append(float(vol))\n",
      "                    _heights.append(float(hei))            \n",
      "                \n",
      "                _heights[-1] = 0\n",
      "                \n",
      "                ringwriter.writerow([CF/10.,w,h,r60,r61,r40,r41,r20,p1,p2]+list( itertools.chain( *zip(_volumes,_heights) )   ) )                               \n",
      "                csvfile.flush()\n",
      "                gc.collect()\n",
      "                print [CF/10.,w,h,r60,r61,r40,r41,r20,p1,p2]+list( itertools.chain( *zip(_volumes,_heights) ))\n",
      "                return\n",
      "                "
     ],
     "language": "python",
     "metadata": {},
     "outputs": [],
     "prompt_number": 23
    },
    {
     "cell_type": "code",
     "collapsed": false,
     "input": [
      "%%time\n",
      "calc_full_profile()"
     ],
     "language": "python",
     "metadata": {},
     "outputs": [
      {
       "output_type": "stream",
       "stream": "stdout",
       "text": [
        "1 Using configuration CF 460\n",
        "PR=PR_014 MDL=TR2 RI=23.0/pi W=2.5 H=1.0 R60=0.0 R61=2.56450456351 R20=0.363617992055 R40=0.0 R41=0.25\n",
        "[46.0, 2.5, 1.0, 0.0, 2.564504563511215, '', 0.25, 0.3636179920550655, '', '', 0.002220089111831786, 0.2657050584534348, 0.0031363896753256134, 0.5657050584534347, 0.0037894919581559386, 0.7180760314231007, 0.0040687357665549545, 0.8175499397002144, 0.004249271050887078, 0.8550374708973314, 0.004407061939597526, 0.8878786969662029, 0.004542714892314123, 0.9162581531285385, 0.0046567259482104256, 0.9403274979791052, 0.004749494937705055, 0.9602100057559417, 0.004821336245274228, 0.9760039793340651, 0.004872486845309435, 0.9877853213313836, 0.004903112114266115, 0.9956094293160282, 0.0049133097632640035, 0.999512530088172, 0.004903112114266115, 0.9956094293160282, 0.004872486845309435, 0.9877853213313836, 0.004821336245274228, 0.9760039793340651, 0.0047494949377050585, 0.9602100057559417, 0.004656725948210429, 0.9403274979791052, 0.004542714892314127, 0.9162581531285385, 0.004407061939597518, 0.8878786969662029, 0.004249271050887078, 0.8550374708973314, 0.0040687357665549545, 0.8175499397002144, 0.003789491958155942, 0.718076031423099, 0.00313638967532561, 0.5657050584534347, 0.0022200891118317793, 0]"
       ]
      },
      {
       "output_type": "stream",
       "stream": "stdout",
       "text": [
        "\n",
        "CPU times: user 6.03 s, sys: 16 ms, total: 6.05 s\n",
        "Wall time: 6.03 s\n"
       ]
      },
      {
       "metadata": {},
       "output_type": "display_data",
       "png": "[encoded data removed]",
       "text": [
        "Figure(480x320)"
       ]
      }
     ],
     "prompt_number": 24
    },
    {
     "cell_type": "code",
     "collapsed": false,
     "input": [],
     "language": "python",
     "metadata": {},
     "outputs": [],
     "prompt_number": 12
    },
    {
     "cell_type": "code",
     "collapsed": false,
     "input": [],
     "language": "python",
     "metadata": {},
     "outputs": []
    }
   ],
   "metadata": {}
  }
 ]
}
{
 "metadata": {
  "name": "Untitled0"
 },
 "nbformat": 3,
 "nbformat_minor": 0,
 "worksheets": [
  {
   "cells": [
    {
     "cell_type": "code",
     "collapsed": false,
     "input": [
      "from collections import *\n",
      "from math import *\n",
      "from numpy import array, cos, sin\n",
      "from pylab import *\n",
      "import scipy\n",
      "P = namedtuple('Point', ['x', 'y']);\n",
      "def area_rectangle_tl_br(tl,br):\n",
      "    return abs(tl.x-br.x) * abs(tl.y-br.y)\n",
      "from IPython.display import Image\n",
      "#degrees = 180 * radians / pi\n",
      "#radians = pi * degrees / 180\n"
     ],
     "language": "python",
     "metadata": {},
     "outputs": [],
     "prompt_number": 133
    },
    {
     "cell_type": "code",
     "collapsed": false,
     "input": [
      "def vector_length(pa,pb):\n",
      "    return sqrt( (pa.x - pb.x)**2 + (pa.y - pb.y)**2 )\n",
      "def get_angle_between_3_points(pc, p1, p2):\n",
      "    \"\"\" pc=point center, p1,p2 \"\"\"\n",
      "    vl = vector_length\n",
      "    return arccos ( ( vl(pc,p1)**2 + vl(pc,p2)**2 - vl(p1,p2)**2 ) / (2*vl(pc,p1)*vl(pc,p2)) )\n",
      "#get_angle_between_3_points( P(0,0), P(0,1), P(1,0)  )    "
     ],
     "language": "python",
     "metadata": {},
     "outputs": [],
     "prompt_number": 42
    },
    {
     "cell_type": "code",
     "collapsed": false,
     "input": [
      "def area_pie_slice(pc,p1,p2): \n",
      "    \"get area of circle-slice center(pc), 2 points on cirlce (p1,p2)\"\n",
      "    r = vector_length(pc,p1)\n",
      "    area_cirlce = (r*r)*pi\n",
      "    return area_cirlce * (get_angle_between_3_points(pc,p1,p2) / (2.*pi))  \n",
      "assert abs(   area_pie_slice ( P(0,0), P(0,1), P(1,0)  ) - pi/4 ) < 0.0000000010, 4.5)"
     ],
     "language": "python",
     "metadata": {},
     "outputs": [],
     "prompt_number": 78
    },
    {
     "cell_type": "code",
     "collapsed": false,
     "input": [
      "def area_triangle(a,b,c):\n",
      "    return abs( (a.x*(b.y-c.y) + b.x*(c.y-a.y) + c.x*(a.y-b.y))) / 2.0\n",
      "assert area_triangle(P(0,0), P(0,1), P(1,0))\n",
      "assert area_triangle(P(6,27), P(44,17), P(33,-13)) - 625 <= 0"
     ],
     "language": "python",
     "metadata": {},
     "outputs": [],
     "prompt_number": 102
    },
    {
     "cell_type": "code",
     "collapsed": false,
     "input": [
      "f=lambda x: (sqrt(1-x**2))\n",
      "rng=arange(-1,+1,0.001)\n",
      "plot(map(f,rng))"
     ],
     "language": "python",
     "metadata": {},
     "outputs": [
      {
       "output_type": "pyout",
       "prompt_number": 162,
       "text": [
        "[<matplotlib.lines.Line2D at 0x58dd790>]"
       ]
      },
      {
       "output_type": "display_data",
       "png": "[encoded data removed]"
      }
     ],
     "prompt_number": 162
    },
    {
     "cell_type": "code",
     "collapsed": false,
     "input": [
      "Image(url='http://upload.wikimedia.org/math/4/8/3/483efae2397ac62560aa6f61d4e2e830.png')"
     ],
     "language": "python",
     "metadata": {},
     "outputs": [
      {
       "html": [
        "<img src=\"http://upload.wikimedia.org/math/4/8/3/483efae2397ac62560aa6f61d4e2e830.png\" />"
       ],
       "output_type": "pyout",
       "prompt_number": 150,
       "text": [
        "<IPython.core.display.Image at 0x54b8cd0>"
       ]
      }
     ],
     "prompt_number": 150
    },
    {
     "cell_type": "code",
     "collapsed": false,
     "input": [
      "import scipy.integrate\n",
      "quad=scipy.integrate.quad\n",
      "pi * ( quad( lambda z:f(z)**2 , -1 , +1 , full_output=1 ) [0] )"
     ],
     "language": "python",
     "metadata": {},
     "outputs": [
      {
       "output_type": "pyout",
       "prompt_number": 163,
       "text": [
        "4.188790204786391"
       ]
      }
     ],
     "prompt_number": 163
    },
    {
     "cell_type": "code",
     "collapsed": false,
     "input": [
      "(4./3.)*pi"
     ],
     "language": "python",
     "metadata": {},
     "outputs": [
      {
       "output_type": "pyout",
       "prompt_number": 164,
       "text": [
        "4.1887902047863905"
       ]
      }
     ],
     "prompt_number": 164
    }
   ],
   "metadata": {}
  }
 ]
}
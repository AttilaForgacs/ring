{
 "metadata": {
  "name": "Untitled0"
 },
 "nbformat": 3,
 "nbformat_minor": 0,
 "worksheets": [
  {
   "cells": [
    {
     "cell_type": "code",
     "collapsed": false,
     "input": [
      "from collections import *\n",
      "from math import *\n",
      "from numpy import array, cos, sin\n",
      "\n",
      "P = namedtuple('Point', ['x', 'y']);\n",
      "def area_rectangle_tl_br(tl,br):\n",
      "    return abs(tl.x-br.x) * abs(tl.y-br.y)\n",
      "\n",
      "#degrees = 180 * radians / pi\n",
      "#radians = pi * degrees / 180\n"
     ],
     "language": "python",
     "metadata": {},
     "outputs": [],
     "prompt_number": 93
    },
    {
     "cell_type": "code",
     "collapsed": false,
     "input": [
      "def vector_length(pa,pb):\n",
      "    return sqrt( (pa.x - pb.x)**2 + (pa.y - pb.y)**2 )\n",
      "def get_angle_between_3_points(pc, p1, p2):\n",
      "    \"\"\" pc=point center, p1,p2 \"\"\"\n",
      "    vl = vector_length\n",
      "    return arccos ( ( vl(pc,p1)**2 + vl(pc,p2)**2 - vl(p1,p2)**2 ) / (2*vl(pc,p1)*vl(pc,p2)) )\n",
      "#get_angle_between_3_points( P(0,0), P(0,1), P(1,0)  )    "
     ],
     "language": "python",
     "metadata": {},
     "outputs": [],
     "prompt_number": 42
    },
    {
     "cell_type": "code",
     "collapsed": false,
     "input": [
      "def area_pie_slice(pc,p1,p2): \n",
      "    \"get area of circle-slice center(pc), 2 points on cirlce (p1,p2)\"\n",
      "    r = vector_length(pc,p1)\n",
      "    area_cirlce = (r*r)*pi\n",
      "    return area_cirlce * (get_angle_between_3_points(pc,p1,p2) / (2.*pi))  \n",
      "assert abs(   area_pie_slice ( P(0,0), P(0,1), P(1,0)  ) - pi/4 ) < 0.000000001"
     ],
     "language": "python",
     "metadata": {},
     "outputs": [],
     "prompt_number": 78
    },
    {
     "cell_type": "code",
     "collapsed": false,
     "input": [
      "def area_triangle(a,b,c):\n",
      "    return abs( (a.x*(b.y-c.y) + b.x*(c.y-a.y) + c.x*(a.y-b.y))) / 2.0\n",
      "assert area_triangle(P(0,0), P(0,1), P(1,0))\n",
      "assert area_triangle(P(6,27), P(44,17), P(33,-13)) - 625 <= 0"
     ],
     "language": "python",
     "metadata": {},
     "outputs": [],
     "prompt_number": 102
    },
    {
     "cell_type": "code",
     "collapsed": false,
     "input": [],
     "language": "python",
     "metadata": {},
     "outputs": [],
     "prompt_number": 103
    },
    {
     "cell_type": "code",
     "collapsed": false,
     "input": [],
     "language": "python",
     "metadata": {},
     "outputs": []
    }
   ],
   "metadata": {}
  }
 ]
}
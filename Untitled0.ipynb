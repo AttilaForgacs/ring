{
 "metadata": {
  "name": "Untitled0"
 },
 "nbformat": 3,
 "nbformat_minor": 0,
 "worksheets": [
  {
   "cells": [
    {
     "cell_type": "code",
     "collapsed": false,
     "input": [
      "%load_ext autoreload\n",
      "%autoreload 2\n",
      "from __future__ import division\n",
      "from pylab import *\n",
      "from tools import *\n",
      "from collections import *\n",
      "from math import *\n",
      "from numpy import array, cos, sin\n",
      "import functools\n",
      "import scipy\n",
      "import sympy\n",
      "from IPython.display import Image\n",
      "from scipy.integrate import quad\n",
      "from sympy import *\n",
      "import numpy as np\n",
      "import scipy as sp\n",
      "import time\n",
      "import models\n",
      "from sympy import init_printing;init_printing()\n",
      "\n",
      "reload(models)\n",
      "from models import *\n",
      "\n",
      "#print model.get_volume()\n",
      "\n",
      "#Client's precise params ----------\n",
      "#\n",
      "#5.0\t1.5\t\n",
      "#5.50833333333333\n",
      "#0.240997229916898\n",
      "#\n",
      "\n",
      "\n",
      "#5.0\t1.5\t\n",
      "#5.50833333333333\n",
      "#0.240997229916898\n",
      "# l|r|t|b left right top bottom b|s big small c=circle\n",
      "# C=center\n",
      "# X,Y independent\n",
      "# R=radius\n",
      "# W=width H=height\n",
      "# RI=inner ring radius\n",
      "\n",
      "profiles_definiton = load_profiles_lookup_table({})\n",
      "ring_config = RingParams(W=5., H=1.5, CF=56., PROFILE='PR_003')\n",
      "ring_config.lookup_definition(profiles_definiton)\n",
      "\n",
      "ring_config.R60 = ring_config.R61 = round(5.50833333333333, 3)\n",
      "ring_config.R40 = ring_config.R41 = round(0.240997229916898, 3)\n",
      "\n",
      "print 'Using configuration:'\n",
      "print ring_config\n"
     ],
     "language": "python",
     "metadata": {},
     "outputs": [
      {
       "output_type": "stream",
       "stream": "stdout",
       "text": [
        "Using configuration:\n",
        "PR=PR_003 MDL=TR7 RI=28.0/pi W=5.0 H=1.5 R60=5.508 R61=5.508 R20=0.0 R40=0.241 R41=0.241\n"
       ]
      }
     ],
     "prompt_number": 1
    },
    {
     "cell_type": "code",
     "collapsed": false,
     "input": [
      "context = Context()\n",
      "model = globals()[ring_config.MODEL](params=ring_config, context=context)\n",
      "model.create_equations()\n",
      "model, context"
     ],
     "language": "python",
     "metadata": {},
     "outputs": [
      {
       "output_type": "pyout",
       "prompt_number": 2,
       "text": [
        "\u239b                                                 \u23a7                           \n",
        "\u239c<models.TR7_validation.TR7 object at 0x3de7d10>, \u23a8bbc_CX: 2.5, bbc_CY: 5.508 \n",
        "\u239d                                                 \u23a9                           \n",
        "\n",
        "  28.0                                              28.0                      \n",
        "+ \u2500\u2500\u2500\u2500, bbc_R: 5.508, btc_CX: 2.5, btc_CY: -4.008 + \u2500\u2500\u2500\u2500, btc_R: 5.508, lsc_CX\n",
        "   \u03c0                                                 \u03c0                        \n",
        "\n",
        "                                                                              \n",
        ": 0.241, lsc_CY: lsc_CY, lsc_R: 0.241, p1_X: p1_X, p1_Y: p1_Y, p3_X: p3_X, p3_\n",
        "                                                                              \n",
        "\n",
        "                                                    \u23ab\u239e\n",
        "Y: p3_Y, rsc_CX: 4.759, rsc_CY: rsc_CY, rsc_R: 0.241\u23ac\u239f\n",
        "                                                    \u23ad\u23a0"
       ]
      }
     ],
     "prompt_number": 2
    },
    {
     "cell_type": "code",
     "collapsed": false,
     "input": [
      "\n",
      "print context\n",
      "print 'vars:'\n",
      "print model.context.variables\n",
      "print\n",
      "print\n",
      "print 'eq:'\n",
      "print model.context.equations\n",
      "print\n",
      "print\n",
      "\n"
     ],
     "language": "python",
     "metadata": {},
     "outputs": [
      {
       "output_type": "stream",
       "stream": "stdout",
       "text": [
        "{'bbc_CY': 5.508 + 28.0/pi, 'bbc_R': 5.508, 'p1_Y': p1_Y, 'rsc_R': 0.241, 'bbc_CX': 2.5, 'rsc_CX': 4.759, 'rsc_CY': rsc_CY, 'btc_R': 5.508, 'lsc_R': 0.241, 'p1_X': p1_X, 'lsc_CX': 0.241, 'lsc_CY': lsc_CY, 'btc_CY': -4.008 + 28.0/pi, 'btc_CX': 2.5, 'p3_X': p3_X, 'p3_Y': p3_Y}\n",
        "vars:\n",
        "[lsc_CY, p3_X, p3_Y]\n",
        "\n",
        "\n",
        "eq:\n",
        "[(-lsc_CY + p3_Y)**2 + (p3_X - 0.241)**2 - 0.058081, (p3_X - 2.5)**2 + (p3_Y - 28.0/pi - 5.508)**2 - 30.338064, -2.259*p3_Y - (p3_X - 2.5)*(lsc_CY - 28.0/pi - 5.508) + 12.442572 + 63.252/pi]"
       ]
      },
      {
       "output_type": "stream",
       "stream": "stdout",
       "text": [
        "\n",
        "\n",
        "\n"
       ]
      }
     ],
     "prompt_number": 3
    },
    {
     "cell_type": "code",
     "collapsed": false,
     "input": [
      "len(model.s_1_all), model.s_1_all, model.s_1_fil"
     ],
     "language": "python",
     "metadata": {},
     "outputs": [
      {
       "latex": [
        "$$\\begin{pmatrix}4, & \\begin{bmatrix}\\begin{Bmatrix}lsc_{CY} : -0.381902421103547, & p_{1 X} : 0.335698034440772, & p_{1 Y} : -0.160287254038984\\end{Bmatrix}, & \\begin{Bmatrix}lsc_{CY} : 0.146714223969969, & p_{1 X} : 0.137635845832542, & p_{1 Y} : -0.0709939560170168\\end{Bmatrix}, & \\begin{Bmatrix}lsc_{CY} : 9.66263940232231, & p_{1 X} : 0.137635845832542, & p_{1 Y} : 9.8803475823093\\end{Bmatrix}, & \\begin{Bmatrix}lsc_{CY} : 10.1912560473958, & p_{1 X} : 0.335698034440772, & p_{1 Y} : 9.96964088033126\\end{Bmatrix}\\end{bmatrix}, & \\begin{Bmatrix}lsc_{CY} : 9.66263940232231, & p_{1 X} : 0.137635845832542, & p_{1 Y} : 9.8803475823093\\end{Bmatrix}\\end{pmatrix}$$"
       ],
       "output_type": "pyout",
       "prompt_number": 7,
       "text": [
        "(4, [{lsc_CY: -0.381902421103547, p1_X: 0.335698034440772, p1_Y: -0.1602872540\n",
        "38984}, {lsc_CY: 0.146714223969969, p1_X: 0.137635845832542, p1_Y: -0.07099395\n",
        "60170168}, {lsc_CY: 9.66263940232231, p1_X: 0.137635845832542, p1_Y: 9.8803475\n",
        "823093}, {lsc_CY: 10.1912560473958, p1_X: 0.335698034440772, p1_Y: 9.969640880\n",
        "33126}], {lsc_CY: 9.66263940232231, p1_X: 0.137635845832542, p1_Y: 9.880347582\n",
        "3093})"
       ]
      }
     ],
     "prompt_number": 7
    },
    {
     "cell_type": "code",
     "collapsed": false,
     "input": [
      "len(model.s_2_all),model.s_2_all,model.s_2_fil"
     ],
     "language": "python",
     "metadata": {},
     "outputs": [
      {
       "latex": [
        "$$\\begin{pmatrix}4, & \\begin{bmatrix}\\begin{Bmatrix}lsc_{CY} : 9.13409757889645, & p_{3 X} : 0.335698034440772, & p_{3 Y} : 9.35571274596102\\end{Bmatrix}, & \\begin{Bmatrix}lsc_{CY} : 9.66271422396997, & p_{3 X} : 0.137635845832542, & p_{3 Y} : 9.44500604398298\\end{Bmatrix}, & \\begin{Bmatrix}lsc_{CY} : 19.1786394023223, & p_{3 X} : 0.137635845832542, & p_{3 Y} : 19.3963475823093\\end{Bmatrix}, & \\begin{Bmatrix}lsc_{CY} : 19.7072560473958, & p_{3 X} : 0.335698034440772, & p_{3 Y} : 19.4856408803313\\end{Bmatrix}\\end{bmatrix}, & \\begin{Bmatrix}lsc_{CY} : 9.66271422396997, & p_{3 X} : 0.137635845832542, & p_{3 Y} : 9.44500604398298\\end{Bmatrix}\\end{pmatrix}$$"
       ],
       "output_type": "pyout",
       "prompt_number": 5,
       "text": [
        "(4, [{lsc_CY: 9.13409757889645, p3_X: 0.335698034440772, p3_Y: 9.3557127459610\n",
        "2}, {lsc_CY: 9.66271422396997, p3_X: 0.137635845832542, p3_Y: 9.44500604398298\n",
        "}, {lsc_CY: 19.1786394023223, p3_X: 0.137635845832542, p3_Y: 19.3963475823093}\n",
        ", {lsc_CY: 19.7072560473958, p3_X: 0.335698034440772, p3_Y: 19.4856408803313}]\n",
        ", {lsc_CY: 9.66271422396997, p3_X: 0.137635845832542, p3_Y: 9.44500604398298})"
       ]
      }
     ],
     "prompt_number": 5
    },
    {
     "cell_type": "code",
     "collapsed": false,
     "input": [],
     "language": "python",
     "metadata": {},
     "outputs": [
      {
       "output_type": "stream",
       "stream": "stdout",
       "text": [
        "0.676694869995  seconds\n"
       ]
      }
     ],
     "prompt_number": 6
    }
   ],
   "metadata": {}
  }
 ]
}
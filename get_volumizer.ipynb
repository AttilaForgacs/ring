{
 "metadata": {
  "name": ""
 },
 "nbformat": 3,
 "nbformat_minor": 0,
 "worksheets": [
  {
   "cells": [
    {
     "cell_type": "code",
     "collapsed": false,
     "input": [
      "%pylab inline"
     ],
     "language": "python",
     "metadata": {},
     "outputs": [
      {
       "output_type": "stream",
       "stream": "stdout",
       "text": [
        "Populating the interactive namespace from numpy and matplotlib\n"
       ]
      }
     ],
     "prompt_number": 1
    },
    {
     "cell_type": "code",
     "collapsed": false,
     "input": [
      "from __future__ import division\n",
      "from pylab import *\n",
      "from tools import *\n",
      "from collections import *\n",
      "from math import *\n",
      "from numpy import array, cos, sin\n",
      "import functools\n",
      "import scipy\n",
      "import sympy\n",
      "from IPython.display import Image\n",
      "from scipy.integrate import quad\n",
      "from sympy import *\n",
      "import numpy as np\n",
      "import scipy as sp\n",
      "import time\n",
      "import models\n",
      "from sympy import init_printing;init_printing()\n",
      "from models import *"
     ],
     "language": "python",
     "metadata": {},
     "outputs": [],
     "prompt_number": 1
    },
    {
     "cell_type": "code",
     "collapsed": false,
     "input": [
      "profiles_definiton = load_profiles_lookup_table({})\n",
      "ring_config = RingParams(W=5., H=1.5, CF=56., PROFILE='PR_001')\n",
      "ring_config.lookup_definition(profiles_definiton)\n",
      "\n"
     ],
     "language": "python",
     "metadata": {},
     "outputs": [],
     "prompt_number": 2
    },
    {
     "cell_type": "code",
     "collapsed": false,
     "input": [
      "import xlrd\n",
      "book = xlrd.open_workbook('./parameters/PR_001_Daten.xlsx')"
     ],
     "language": "python",
     "metadata": {},
     "outputs": [],
     "prompt_number": 3
    },
    {
     "cell_type": "code",
     "collapsed": false,
     "input": [
      "s=book.sheet_by_index(0)"
     ],
     "language": "python",
     "metadata": {},
     "outputs": [],
     "prompt_number": 4
    },
    {
     "cell_type": "code",
     "collapsed": false,
     "input": [
      "widths=s.col(2)\n",
      "heights=s.col(3)\n",
      "r60s=s.col(4)\n",
      "r61s=s.col(5)\n",
      "r40s=s.col(6)\n",
      "r41s=s.col(7)"
     ],
     "language": "python",
     "metadata": {},
     "outputs": [],
     "prompt_number": 5
    },
    {
     "cell_type": "code",
     "collapsed": false,
     "input": [
      "prec=2\n",
      "for i in xrange(62, len(widths)):\n",
      "    w=widths[i].value\n",
      "    h=heights[i].value\n",
      "    r60=r60s[i].value\n",
      "    r61=r61s[i].value\n",
      "    r40=r40s[i].value\n",
      "    r41=r41s[i].value\n",
      "    if r40 and r41 and r61:\n",
      "        ring_config = RingParams(W=5., H=1.5, CF=56., PROFILE='PR_001')\n",
      "        ring_config.lookup_definition(profiles_definiton)\n",
      "        ring_config.W = round(w,prec)\n",
      "        ring_config.H = round(h,prec)\n",
      "        ring_config.R60 = round(r60,prec)\n",
      "        ring_config.R61 = round(r61,prec)\n",
      "        ring_config.R40 = round(r40,prec)\n",
      "        ring_config.R41 = round(r41,prec)        \n",
      "        print '%s Using configuration:'%(i)\n",
      "        print ring_config\n",
      "        context = Context()\n",
      "        model = globals()[ring_config.MODEL](params=ring_config, context=context)\n",
      "        model.create_equations()        \n",
      "        print 'Vol:',model.get_volume()"
     ],
     "language": "python",
     "metadata": {},
     "outputs": [
      {
       "output_type": "stream",
       "stream": "stdout",
       "text": [
        "62 Using configuration:\n",
        "PR=PR_001 MDL=TR13 RI=28.0/pi W=3.5 H=1.9 R60=0.0 R61=2.02 R20=0.0 R40=0.45 R41=1.28\n",
        "solutions:"
       ]
      },
      {
       "output_type": "stream",
       "stream": "stdout",
       "text": [
        " 4\n",
        "Vol: "
       ]
      },
      {
       "output_type": "stream",
       "stream": "stdout",
       "text": [
        "0.362111461548\n",
        "63 Using configuration:\n",
        "PR=PR_001 MDL=TR13 RI=28.0/pi W=3.5 H=2.0 R60=0.0 R61=1.91 R20=0.0 R40=0.45 R41=1.43\n",
        "solutions:"
       ]
      }
     ],
     "prompt_number": "*"
    },
    {
     "cell_type": "code",
     "collapsed": false,
     "input": [
      "%%time\n",
      "prec=2\n",
      "i = 62\n",
      "w=widths[i].value\n",
      "h=heights[i].value\n",
      "r60=r60s[i].value\n",
      "r61=r61s[i].value\n",
      "r40=r40s[i].value\n",
      "r41=r41s[i].value\n",
      "if r40 and r41 and r61:\n",
      "    ring_config = RingParams(W=5., H=1.5, CF=56., PROFILE='PR_001')\n",
      "    ring_config.lookup_definition(profiles_definiton)\n",
      "    ring_config.W = round(w,prec)\n",
      "    ring_config.H = round(h,prec)\n",
      "    ring_config.R60 = round(r60,prec)\n",
      "    ring_config.R61 = round(r61,prec)\n",
      "    ring_config.R40 = round(r40,prec)\n",
      "    ring_config.R41 = round(r41,prec)        \n",
      "    print '%s Using configuration:'%(i)\n",
      "    print ring_config\n",
      "    context = Context()\n",
      "    model = globals()[ring_config.MODEL](params=ring_config, context=context)\n",
      "    model.create_equations()        \n",
      "    print 'Vol:',model.get_volume()\n"
     ],
     "language": "python",
     "metadata": {},
     "outputs": [
      {
       "output_type": "stream",
       "stream": "stdout",
       "text": [
        "62 Using configuration:\n",
        "PR=PR_001 MDL=TR13 RI=28.0/pi W=3.5 H=1.9 R60=0.0 R61=2.02 R20=0.0 R40=0.45 R41=1.28\n",
        "solutions:"
       ]
      },
      {
       "output_type": "stream",
       "stream": "stdout",
       "text": [
        " 4\n",
        "Vol: "
       ]
      },
      {
       "output_type": "stream",
       "stream": "stdout",
       "text": [
        "0.362111461548\n",
        "CPU times: user 16.2 s, sys: 132 ms, total: 16.3 s\n",
        "Wall time: 16.2 s\n"
       ]
      }
     ],
     "prompt_number": 9
    },
    {
     "cell_type": "code",
     "collapsed": false,
     "input": [],
     "language": "python",
     "metadata": {},
     "outputs": []
    }
   ],
   "metadata": {}
  }
 ]
}
{
 "metadata": {
  "name": ""
 },
 "nbformat": 3,
 "nbformat_minor": 0,
 "worksheets": [
  {
   "cells": [
    {
     "cell_type": "code",
     "collapsed": false,
     "input": [
      "%pylab inline"
     ],
     "language": "python",
     "metadata": {},
     "outputs": [
      {
       "output_type": "stream",
       "stream": "stdout",
       "text": [
        "Populating the interactive namespace from numpy and matplotlib\n"
       ]
      }
     ],
     "prompt_number": 1
    },
    {
     "cell_type": "code",
     "collapsed": false,
     "input": [
      "%load_ext autoreload\n",
      "%autoreload 1"
     ],
     "language": "python",
     "metadata": {},
     "outputs": [],
     "prompt_number": 2
    },
    {
     "cell_type": "code",
     "collapsed": false,
     "input": [
      "from __future__ import division\n",
      "from pylab import *\n",
      "from tools import *\n",
      "from collections import *\n",
      "from math import *\n",
      "from numpy import array, cos, sin\n",
      "import functools\n",
      "import scipy\n",
      "import sympy\n",
      "from IPython.display import Image\n",
      "from scipy.integrate import quad\n",
      "from sympy import *\n",
      "import numpy as np\n",
      "import scipy as sp\n",
      "import time\n",
      "%aimport models\n",
      "%aimport tools\n",
      "from sympy import init_printing;init_printing()\n",
      "from models import *"
     ],
     "language": "python",
     "metadata": {},
     "outputs": [],
     "prompt_number": 3
    },
    {
     "cell_type": "code",
     "collapsed": false,
     "input": [
      "profiles_definiton = load_profiles_lookup_table({})\n",
      "ring_config = RingParams(W=5., H=1.5, CF=56., PROFILE='PR_001')\n",
      "ring_config.lookup_definition(profiles_definiton)"
     ],
     "language": "python",
     "metadata": {},
     "outputs": [],
     "prompt_number": 4
    },
    {
     "cell_type": "code",
     "collapsed": false,
     "input": [
      "import xlrd\n",
      "book = xlrd.open_workbook('./parameters/PR_001_Daten.xlsx')"
     ],
     "language": "python",
     "metadata": {},
     "outputs": [],
     "prompt_number": 5
    },
    {
     "cell_type": "code",
     "collapsed": false,
     "input": [
      "s=book.sheet_by_index(0)"
     ],
     "language": "python",
     "metadata": {},
     "outputs": [],
     "prompt_number": 6
    },
    {
     "cell_type": "code",
     "collapsed": false,
     "input": [
      "widths=s.col(2)\n",
      "heights=s.col(3)\n",
      "r60s=s.col(4)\n",
      "r61s=s.col(5)\n",
      "r40s=s.col(6)\n",
      "r41s=s.col(7)"
     ],
     "language": "python",
     "metadata": {},
     "outputs": [],
     "prompt_number": 7
    },
    {
     "cell_type": "code",
     "collapsed": false,
     "input": [
      "def a():\n",
      "    prec=2\n",
      "    for i in xrange(62, len(widths)):\n",
      "        w=widths[i].value\n",
      "        h=heights[i].value\n",
      "        r60=r60s[i].value\n",
      "        r61=r61s[i].value\n",
      "        r40=r40s[i].value\n",
      "        r41=r41s[i].value\n",
      "        if r40 and r41 and r61:\n",
      "            ring_config = RingParams(W=5., H=1.5, CF=56., PROFILE='PR_001')\n",
      "            ring_config.lookup_definition(profiles_definiton)\n",
      "            ring_config.W = round(w,prec)\n",
      "            ring_config.H = round(h,prec)\n",
      "            ring_config.R60 = round(r60,prec)\n",
      "            ring_config.R61 = round(r61,prec)\n",
      "            ring_config.R40 = round(r40,prec)\n",
      "            ring_config.R41 = round(r41,prec)        \n",
      "            print '%s Using configuration:'%(i)\n",
      "            print ring_config\n",
      "            context = Context()\n",
      "            model = globals()[ring_config.MODEL](params=ring_config, context=context)\n",
      "            model.create_equations()        \n",
      "            print 'Vol:',model.get_volume()"
     ],
     "language": "python",
     "metadata": {},
     "outputs": [],
     "prompt_number": 8
    },
    {
     "cell_type": "code",
     "collapsed": false,
     "input": [
      "%pdb"
     ],
     "language": "python",
     "metadata": {},
     "outputs": [
      {
       "output_type": "stream",
       "stream": "stdout",
       "text": [
        "Automatic pdb calling has been turned ON\n"
       ]
      }
     ],
     "prompt_number": 9
    },
    {
     "cell_type": "code",
     "collapsed": false,
     "input": [
      "%%time\n",
      "slices=[]\n",
      "prec=2\n",
      "i = 2\n",
      "w=widths[i].value\n",
      "h=heights[i].value\n",
      "r60=r60s[i].value\n",
      "r61=r61s[i].value\n",
      "r40=r40s[i].value\n",
      "r41=r41s[i].value\n",
      "print time.time()\n",
      "if r40 and r41 and r61:\n",
      "    ring_config = RingParams(W=5., H=1.5, CF=56., PROFILE='PR_001')\n",
      "    ring_config.lookup_definition(profiles_definiton)\n",
      "    ring_config.W = round(w,prec)\n",
      "    ring_config.H = round(h,prec)\n",
      "    ring_config.R60 = round(r60,prec)\n",
      "    ring_config.R61 = round(r61,prec)\n",
      "    ring_config.R40 = round(r40,prec)\n",
      "    ring_config.R41 = round(r41,prec)        \n",
      "    print '%s Using configuration:'%(i)\n",
      "    print ring_config\n",
      "    context = Context()\n",
      "    model = globals()[ring_config.MODEL](params=ring_config, context=context)\n",
      "    model.create_equations()        \n",
      "    #print 'Vol:',model.get_volume()\n",
      "    print time.time()\n",
      "    print '...>'\n",
      "    step=0.1    \n",
      "    for f in arange(0., 5., step):\n",
      "        __builtin__._fr = f\n",
      "        __builtin__._to = f + step\n",
      "        v,h = model.get_volume()\n",
      "        slices.append([f,f+step,v,h])\n",
      "        print [f,f+step,v,h]\n",
      "        print time.time()\n",
      "        \n",
      "        \n",
      "print slices"
     ],
     "language": "python",
     "metadata": {},
     "outputs": [
      {
       "output_type": "stream",
       "stream": "stdout",
       "text": [
        "1378233012.13\n",
        "2 Using configuration:\n",
        "PR=PR_001 MDL=TR13 RI=28.0/pi W=2.5 H=1.1 R60=0.0 R61=1.9 R20=0.0 R40=0.35 R41=0.56\n",
        "solutions:"
       ]
      },
      {
       "output_type": "stream",
       "stream": "stdout",
       "text": [
        " 4\n",
        "1378233013.33\n",
        "...>\n",
        "[0.0, 0.10000000000000001, 0.0022432975425447027, -28.0/pi + 8.91137172477411]"
       ]
      },
      {
       "output_type": "stream",
       "stream": "stdout",
       "text": [
        "\n",
        "1378233013.89\n",
        "[0.10000000000000001, 0.20000000000000001, 0.003876811258431484, -28.0/pi + 9.47569508750586]"
       ]
      },
      {
       "output_type": "stream",
       "stream": "stdout",
       "text": [
        "\n",
        "1378233014.3\n",
        "[0.20000000000000001, 0.30000000000000004, 0.004676294524109487, -28.0/pi + 9.6565517025815]"
       ]
      },
      {
       "output_type": "stream",
       "stream": "stdout",
       "text": [
        "\n",
        "1378233014.82\n",
        "[0.30000000000000004, 0.40000000000000002, 0.0051249549692292465, -28.0/pi + 9.75453524185035]"
       ]
      },
      {
       "output_type": "stream",
       "stream": "stdout",
       "text": [
        "\n",
        "1378233015.34\n",
        "[0.40000000000000002, 0.5, 0.005436960385091421, -28.0/pi + 9.81194135994278]"
       ]
      },
      {
       "output_type": "stream",
       "stream": "stdout",
       "text": [
        "\n",
        "1378233015.68\n",
        "[0.5, 0.59999999999999998, 0.005703292208750074, -28.0/pi + 9.85838583815575]"
       ]
      },
      {
       "output_type": "stream",
       "stream": "stdout",
       "text": [
        "\n",
        "1378233016.01\n",
        "[0.60000000000000009, 0.70000000000000007, 0.005929878583241777, -28.0/pi + 9.89803392028185]"
       ]
      },
      {
       "output_type": "stream",
       "stream": "stdout",
       "text": [
        "\n",
        "1378233016.36\n",
        "[0.70000000000000007, 0.80000000000000004, 0.0061187182249101855, -28.0/pi + 9.93133016109346]"
       ]
      },
      {
       "output_type": "stream",
       "stream": "stdout",
       "text": [
        "\n",
        "1378233016.76\n",
        "[0.80000000000000004, 0.90000000000000002, 0.0062713513882833635, -28.0/pi + 9.95861830734361]"
       ]
      },
      {
       "output_type": "stream",
       "stream": "stdout",
       "text": [
        "\n",
        "1378233017.1\n",
        "[0.90000000000000002, 1.0, 0.006388946879201054, -28.0/pi + 9.98016175284445]"
       ]
      },
      {
       "output_type": "stream",
       "stream": "stdout",
       "text": [
        "\n",
        "1378233017.44\n",
        "[1.0, 1.1000000000000001, 0.006472362009857903, -28.0/pi + 9.99615763332988]"
       ]
      },
      {
       "output_type": "stream",
       "stream": "stdout",
       "text": [
        "\n",
        "1378233017.78\n",
        "[1.1000000000000001, 1.2000000000000002, 0.006522183332053277, -28.0/pi + 10.0067465056337]"
       ]
      },
      {
       "output_type": "stream",
       "stream": "stdout",
       "text": [
        "\n",
        "1378233018.2\n",
        "[1.2000000000000002, 1.3000000000000003, 0.006538752956694584, -28.0/pi + 10.0120188044684]"
       ]
      },
      {
       "output_type": "stream",
       "stream": "stdout",
       "text": [
        "\n",
        "1378233018.51\n",
        "[1.3, 1.4000000000000001, 0.006522183332053277, -28.0/pi + 10.0067465056337]"
       ]
      },
      {
       "output_type": "stream",
       "stream": "stdout",
       "text": [
        "\n",
        "1378233018.83\n",
        "[1.4000000000000001, 1.5000000000000002, 0.006472362009857903, -28.0/pi + 9.99615763332988]"
       ]
      },
      {
       "output_type": "stream",
       "stream": "stdout",
       "text": [
        "\n",
        "1378233019.15\n",
        "[1.5, 1.6000000000000001, 0.006388946879201061, -28.0/pi + 9.98016175284445]"
       ]
      },
      {
       "output_type": "stream",
       "stream": "stdout",
       "text": [
        "\n",
        "1378233019.49\n",
        "[1.6000000000000001, 1.7000000000000002, 0.006271351388283367, -28.0/pi + 9.95861830734361]"
       ]
      },
      {
       "output_type": "stream",
       "stream": "stdout",
       "text": [
        "\n",
        "1378233019.82\n",
        "[1.7000000000000002, 1.8000000000000003, 0.006118718224910197, -28.0/pi + 9.93133016109346]"
       ]
      },
      {
       "output_type": "stream",
       "stream": "stdout",
       "text": [
        "\n",
        "1378233020.16\n",
        "[1.8, 1.9000000000000001, 0.005929878583241784, -28.0/pi + 9.89803392028185]"
       ]
      },
      {
       "output_type": "stream",
       "stream": "stdout",
       "text": [
        "\n",
        "1378233020.61\n",
        "[1.9000000000000001, 2.0, 0.005703292208750067, -28.0/pi + 9.85838583815575]"
       ]
      },
      {
       "output_type": "stream",
       "stream": "stdout",
       "text": [
        "\n",
        "1378233020.94\n",
        "[2.0, 2.1000000000000001, 0.005436960385091424, -28.0/pi + 9.81194135994278]"
       ]
      },
      {
       "output_type": "stream",
       "stream": "stdout",
       "text": [
        "\n",
        "1378233021.28\n",
        "[2.1000000000000001, 2.2000000000000002, 0.005124954969229251, -28.0/pi + 9.75453524185035]"
       ]
      },
      {
       "output_type": "stream",
       "stream": "stdout",
       "text": [
        "\n",
        "1378233021.74\n",
        "[2.2000000000000002, 2.3000000000000003, 0.00467629452410949, -28.0/pi + 9.6565517025815]"
       ]
      },
      {
       "output_type": "stream",
       "stream": "stdout",
       "text": [
        "\n",
        "1378233022.22\n",
        "[2.3000000000000003, 2.4000000000000004, 0.003876811258431488, -28.0/pi + 9.47569508750586]"
       ]
      },
      {
       "output_type": "stream",
       "stream": "stdout",
       "text": [
        "\n",
        "1378233022.75\n",
        "[2.4000000000000004, 2.5000000000000004, 0.002243297542544699, -28.0/pi + 9.15632069905243]"
       ]
      },
      {
       "output_type": "stream",
       "stream": "stdout",
       "text": [
        "\n",
        "1378233023.24\n",
        "[2.5, 2.6000000000000001, 0.0, 0.0]\n",
        "1378233023.26\n",
        "[2.6000000000000001, 2.7000000000000002, 0.0, 0.0]\n",
        "1378233023.28\n",
        "[2.7000000000000002, 2.8000000000000003, 0.0, 0.0]"
       ]
      },
      {
       "output_type": "stream",
       "stream": "stdout",
       "text": [
        "\n",
        "1378233023.3\n",
        "[2.8000000000000003, 2.9000000000000004, 0.0, 0.0]\n",
        "1378233023.32\n",
        "[2.9000000000000004, 3.0000000000000004, 0.0, 0.0]\n",
        "1378233023.34\n",
        "[3.0, 3.1000000000000001, 0.0, 0.0]"
       ]
      },
      {
       "output_type": "stream",
       "stream": "stdout",
       "text": [
        "\n",
        "1378233023.35\n",
        "[3.1000000000000001, 3.2000000000000002, 0.0, 0.0]\n",
        "1378233023.37\n",
        "[3.2000000000000002, 3.3000000000000003, 0.0, 0.0]\n",
        "1378233023.39\n",
        "[3.3000000000000003, 3.4000000000000004, 0.0, 0.0]"
       ]
      },
      {
       "output_type": "stream",
       "stream": "stdout",
       "text": [
        "\n",
        "1378233023.41\n",
        "[3.4000000000000004, 3.5000000000000004, 0.0, 0.0]\n",
        "1378233023.43\n",
        "[3.5, 3.6000000000000001, 0.0, 0.0]\n",
        "1378233023.45\n",
        "[3.6000000000000001, 3.7000000000000002, 0.0, 0.0]"
       ]
      },
      {
       "output_type": "stream",
       "stream": "stdout",
       "text": [
        "\n",
        "1378233023.47\n",
        "[3.7000000000000002, 3.8000000000000003, 0.0, 0.0]\n",
        "1378233023.49\n",
        "[3.8000000000000003, 3.9000000000000004, 0.0, 0.0]\n",
        "1378233023.51\n",
        "[3.9000000000000004, 4.0, 0.0, 0.0]"
       ]
      },
      {
       "output_type": "stream",
       "stream": "stdout",
       "text": [
        "\n",
        "1378233023.52\n",
        "[4.0, 4.0999999999999996, 0.0, 0.0]\n",
        "1378233023.54\n",
        "[4.1000000000000005, 4.2000000000000002, 0.0, 0.0]\n",
        "1378233023.56\n",
        "[4.2000000000000002, 4.2999999999999998, 0.0, 0.0]"
       ]
      },
      {
       "output_type": "stream",
       "stream": "stdout",
       "text": [
        "\n",
        "1378233023.58\n",
        "[4.2999999999999998, 4.3999999999999995, 0.0, 0.0]\n",
        "1378233023.6\n",
        "[4.4000000000000004, 4.5, 0.0, 0.0]\n",
        "1378233023.62\n",
        "[4.5, 4.5999999999999996, 0.0, 0.0]"
       ]
      },
      {
       "output_type": "stream",
       "stream": "stdout",
       "text": [
        "\n",
        "1378233023.64\n",
        "[4.6000000000000005, 4.7000000000000002, 0.0, 0.0]\n",
        "1378233023.66\n",
        "[4.7000000000000002, 4.7999999999999998, 0.0, 0.0]\n",
        "1378233023.68\n",
        "[4.8000000000000007, 4.9000000000000004, 0.0, 0.0]"
       ]
      },
      {
       "output_type": "stream",
       "stream": "stdout",
       "text": [
        "\n",
        "1378233023.7\n",
        "[4.9000000000000004, 5.0, 0.0, 0.0]\n",
        "1378233023.71\n",
        "[[0.0, 0.10000000000000001, 0.0022432975425447027, -28.0/pi + 8.91137172477411], [0.10000000000000001, 0.20000000000000001, 0.003876811258431484, -28.0/pi + 9.47569508750586], [0.20000000000000001, 0.30000000000000004, 0.004676294524109487, -28.0/pi + 9.6565517025815], [0.30000000000000004, 0.40000000000000002, 0.0051249549692292465, -28.0/pi + 9.75453524185035], [0.40000000000000002, 0.5, 0.005436960385091421, -28.0/pi + 9.81194135994278], [0.5, 0.59999999999999998, 0.005703292208750074, -28.0/pi + 9.85838583815575], [0.60000000000000009, 0.70000000000000007, 0.005929878583241777, -28.0/pi + 9.89803392028185], [0.70000000000000007, 0.80000000000000004, 0.0061187182249101855, -28.0/pi + 9.93133016109346], [0.80000000000000004, 0.90000000000000002, 0.0062713513882833635, -28.0/pi + 9.95861830734361], [0.90000000000000002, 1.0, 0.006388946879201054, -28.0/pi + 9.98016175284445], [1.0, 1.1000000000000001, 0.006472362009857903, -28.0/pi + 9.99615763332988], [1.1000000000000001, 1.2000000000000002, 0.006522183332053277, -28.0/pi + 10.0067465056337], [1.2000000000000002, 1.3000000000000003, 0.006538752956694584, -28.0/pi + 10.0120188044684], [1.3, 1.4000000000000001, 0.006522183332053277, -28.0/pi + 10.0067465056337], [1.4000000000000001, 1.5000000000000002, 0.006472362009857903, -28.0/pi + 9.99615763332988], [1.5, 1.6000000000000001, 0.006388946879201061, -28.0/pi + 9.98016175284445], [1.6000000000000001, 1.7000000000000002, 0.006271351388283367, -28.0/pi + 9.95861830734361], [1.7000000000000002, 1.8000000000000003, 0.006118718224910197, -28.0/pi + 9.93133016109346], [1.8, 1.9000000000000001, 0.005929878583241784, -28.0/pi + 9.89803392028185], [1.9000000000000001, 2.0, 0.005703292208750067, -28.0/pi + 9.85838583815575], [2.0, 2.1000000000000001, 0.005436960385091424, -28.0/pi + 9.81194135994278], [2.1000000000000001, 2.2000000000000002, 0.005124954969229251, -28.0/pi + 9.75453524185035], [2.2000000000000002, 2.3000000000000003, 0.00467629452410949, -28.0/pi + 9.6565517025815], [2.3000000000000003, 2.4000000000000004, 0.003876811258431488, -28.0/pi + 9.47569508750586], [2.4000000000000004, 2.5000000000000004, 0.002243297542544699, -28.0/pi + 9.15632069905243], [2.5, 2.6000000000000001, 0.0, 0.0], [2.6000000000000001, 2.7000000000000002, 0.0, 0.0], [2.7000000000000002, 2.8000000000000003, 0.0, 0.0], [2.8000000000000003, 2.9000000000000004, 0.0, 0.0], [2.9000000000000004, 3.0000000000000004, 0.0, 0.0], [3.0, 3.1000000000000001, 0.0, 0.0], [3.1000000000000001, 3.2000000000000002, 0.0, 0.0], [3.2000000000000002, 3.3000000000000003, 0.0, 0.0], [3.3000000000000003, 3.4000000000000004, 0.0, 0.0], [3.4000000000000004, 3.5000000000000004, 0.0, 0.0], [3.5, 3.6000000000000001, 0.0, 0.0], [3.6000000000000001, 3.7000000000000002, 0.0, 0.0], [3.7000000000000002, 3.8000000000000003, 0.0, 0.0], [3.8000000000000003, 3.9000000000000004, 0.0, 0.0], [3.9000000000000004, 4.0, 0.0, 0.0], [4.0, 4.0999999999999996, 0.0, 0.0], [4.1000000000000005, 4.2000000000000002, 0.0, 0.0], [4.2000000000000002, 4.2999999999999998, 0.0, 0.0], [4.2999999999999998, 4.3999999999999995, 0.0, 0.0], [4.4000000000000004, 4.5, 0.0, 0.0], [4.5, 4.5999999999999996, 0.0, 0.0], [4.6000000000000005, 4.7000000000000002, 0.0, 0.0], [4.7000000000000002, 4.7999999999999998, 0.0, 0.0], [4.8000000000000007, 4.9000000000000004, 0.0, 0.0], [4.9000000000000004, 5.0, 0.0, 0.0]]\n",
        "CPU times: user 11.6 s, sys: 80 ms, total: 11.7 s\n",
        "Wall time: 11.6 s\n"
       ]
      },
      {
       "metadata": {},
       "output_type": "display_data",
       "png": "[encoded data removed]",
       "text": [
        "Figure(480x320)"
       ]
      }
     ],
     "prompt_number": 10
    },
    {
     "cell_type": "code",
     "collapsed": false,
     "input": [
      "plot([x[3] for x in slices])"
     ],
     "language": "python",
     "metadata": {},
     "outputs": [
      {
       "metadata": {},
       "output_type": "pyout",
       "prompt_number": 11,
       "text": [
        "[Line2D(_line0)]"
       ]
      },
      {
       "metadata": {},
       "output_type": "display_data",
       "png": "[encoded data removed]",
       "text": [
        "Figure(480x320)"
       ]
      }
     ],
     "prompt_number": 11
    },
    {
     "cell_type": "code",
     "collapsed": false,
     "input": [
      "[ round(float(x[3]),5) for x in slices ]"
     ],
     "language": "python",
     "metadata": {},
     "outputs": [
      {
       "metadata": {},
       "output_type": "pyout",
       "prompt_number": 12,
       "text": [
        "[-0.00131, 0.56302, 0.74387, 0.84186, 0.89926, 0.94571, 0.98536, 1.01865, 1.04\n",
        "594, 1.06748, 1.08348, 1.09407, 1.09934, 1.09407, 1.08348, 1.06748, 1.04594, 1\n",
        ".01865, 0.98536, 0.94571, 0.89926, 0.84186, 0.74387, 0.56302, 0.24364, 0.0, 0.\n",
        "0, 0.0, 0.0, 0.0, 0.0, 0.0, 0.0, 0.0, 0.0, 0.0, 0.0, 0.0, 0.0, 0.0, 0.0, 0.0, \n",
        "0.0, 0.0, 0.0, 0.0, 0.0, 0.0, 0.0, 0.0]"
       ]
      }
     ],
     "prompt_number": 12
    },
    {
     "cell_type": "code",
     "collapsed": false,
     "input": [
      "plot([ abs(round(float(x[2]),10)) for x in slices ],'r--')"
     ],
     "language": "python",
     "metadata": {},
     "outputs": [
      {
       "metadata": {},
       "output_type": "pyout",
       "prompt_number": 13,
       "text": [
        "[Line2D(_line0)]"
       ]
      },
      {
       "metadata": {},
       "output_type": "display_data",
       "png": "[encoded data removed]",
       "text": [
        "Figure(480x320)"
       ]
      }
     ],
     "prompt_number": 13
    }
   ],
   "metadata": {}
  }
 ]
}
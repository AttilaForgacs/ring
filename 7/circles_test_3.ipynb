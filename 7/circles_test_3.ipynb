{
 "metadata": {
  "name": "circles_equations_2"
 },
 "nbformat": 3,
 "nbformat_minor": 0,
 "worksheets": [
  {
   "cells": [
    {
     "cell_type": "code",
     "collapsed": false,
     "input": [
      "from sympy import *\n",
      "import numpy as np\n",
      "import scipy as sp\n",
      "%load_ext sympyprinting\n",
      "#%load_ext sympy.interactive.ipythonprintingthonprinting\n",
      "#%pylab inline\n",
      "from __future__ import division\n",
      "init_printing()\n",
      "# l|r|t|b left right top bottom b|s big small c=circle\n",
      "# C=center \n",
      "# X,Y independent\n",
      "# R=radius\n",
      "# W=width H=height\n",
      "# RI=inner ring radius"
     ],
     "language": "python",
     "metadata": {},
     "outputs": [
      {
       "output_type": "stream",
       "stream": "stderr",
       "text": [
        "/usr/local/lib/python2.7/dist-packages/ipython-0.13.2-py2.7.egg/IPython/extensions/sympyprinting.py:119: UserWarning: The sympyprinting extension in IPython is deprecated, use sympy.interactive.ipythonprinting\n",
        "  warnings.warn(\"The sympyprinting extension in IPython is deprecated, \"\n"
       ]
      }
     ],
     "prompt_number": 1
    },
    {
     "cell_type": "code",
     "collapsed": false,
     "input": [
      "\n",
      "#W  = 5.    #R51 \n",
      "#H  = 1.5   #R52\n",
      "#RI = (56. / (2.*pi) )\n",
      "\n",
      "W  = 5.      #R51 \n",
      "H  = 1.5     #R52\n",
      "RI = (56. / (2.*3.1415) )\n",
      "\n",
      "\n",
      "bbc_R  = 6.38\n",
      "btc_R  = 6.38\n",
      "\n",
      "# calculated\n",
      "bbc_CX = W/2.\n",
      "bbc_CY = RI + bbc_R\n",
      "btc_CX = W/2.\n",
      "btc_CY = RI + H - btc_R\n",
      "\n",
      "lsc_R  = Symbol('lsc_R',positive=True)\n",
      "lsc_CX = Symbol('lsc_CX')\n",
      "lsc_CY = Symbol('lsc_CY')\n",
      "rsc_R  = Symbol('rsc_R',positive=True)\n",
      "rsc_CX = Symbol('rsc_CX')\n",
      "rsc_CY = Symbol('rsc_CY')\n",
      "W,H,RI\n",
      "bbc_CX,bbc_CY,btc_CX,btc_CY"
     ],
     "language": "python",
     "metadata": {},
     "outputs": [
      {
       "latex": [
        "$$\\begin{pmatrix}2.5, & 15.2929396785, & 2.5, & 4.0329396785\\end{pmatrix}$$"
       ],
       "output_type": "pyout",
       "prompt_number": 2,
       "text": [
        "(2.5, 15.2929396785, 2.5, 4.0329396785)"
       ]
      }
     ],
     "prompt_number": 2
    },
    {
     "cell_type": "code",
     "collapsed": false,
     "input": [
      "# left and right centerX's of small circles\n",
      "eq_left_tang = lsc_CX - lsc_R \n",
      "eq_right_tang = rsc_CX - W + rsc_R  \n",
      "# 4 tangent. of small circles crossing big circles\n",
      "# e.g. ('lsc','bsc','p1')\n",
      "def _2_circles_tangential_equations(c1,c2,var_name,variables_list):\n",
      "    'c1: string name of circle 1'\n",
      "    'c2: string name of other circle'\n",
      "    'var_name: string, independent will be created'\n",
      "    G = globals()\n",
      "    c1_CX = G['{}_CX'.format(c1)]\n",
      "    c1_CY = G['{}_CY'.format(c1)]\n",
      "    c1_R  = G['{}_R'.format(c1)]\n",
      "\n",
      "    c2_CX = G['{}_CX'.format(c2)]\n",
      "    c2_CY = G['{}_CY'.format(c2)]\n",
      "    c2_R  = G['{}_R'.format(c2)]\n",
      "    X = Symbol(var_name+'_X')\n",
      "    Y = Symbol(var_name+'_Y')\n",
      "    variables_list += [X,Y]\n",
      "    eq_c1 = (X - c1_CX) ** 2 + (Y - c1_CY) ** 2 - c1_R ** 2\n",
      "    eq_c2 = (X - c2_CX) ** 2 + (Y - c2_CY) ** 2 - c2_R ** 2\n",
      "    eq_line = (Y - c2_CY) * (c1_CX - c2_CX) - (X - c2_CX) * (c1_CY - c2_CY)\n",
      "    return [eq_c1, eq_c2, eq_line]\n",
      "(eq_left_tang, eq_right_tang)"
     ],
     "language": "python",
     "metadata": {},
     "outputs": [
      {
       "latex": [
        "$$\\begin{pmatrix}lsc_{CX} - lsc_{R}, & rsc_{CX} + rsc_{R} -5.0\\end{pmatrix}$$"
       ],
       "output_type": "pyout",
       "prompt_number": 3,
       "text": [
        "(lsc_CX - lsc_R, rsc_CX + rsc_R - 5.0)"
       ]
      }
     ],
     "prompt_number": 3
    },
    {
     "cell_type": "code",
     "collapsed": false,
     "input": [
      "eq_system = []\n",
      "variables = []\n",
      "\n",
      "eq_system += _2_circles_tangential_equations('lsc','btc','p1',variables)\n",
      "eq_system += _2_circles_tangential_equations('lsc','bbc','p3',variables)\n",
      "eq_system += _2_circles_tangential_equations('rsc','btc','p2',variables)\n",
      "eq_system += _2_circles_tangential_equations('rsc','bbc','p4',variables)\n",
      "eq_system += [eq_left_tang]\n",
      "eq_system += [eq_right_tang]\n",
      "variables += [lsc_CX,lsc_CY,lsc_R]\n",
      "variables += [rsc_CX,rsc_CY,rsc_R]\n",
      "\n",
      "eq_system[::-1] \n"
     ],
     "language": "python",
     "metadata": {},
     "outputs": [
      {
       "latex": [
        "$$\\begin{bmatrix}rsc_{CX} + rsc_{R} -5.0, & lsc_{CX} - lsc_{R}, & - \\left(p_{4 X} -2.5\\right) \\left(rsc_{CY} -15.2929396784975\\right) + \\left(p_{4 Y} -15.2929396784975\\right) \\left(rsc_{CX} -2.5\\right), & \\left(p_{4 X} -2.5\\right)^{2} + \\left(p_{4 Y} -15.2929396784975\\right)^{2} -40.7044, & - rsc_{R}^{2} + \\left(p_{4 X} - rsc_{CX}\\right)^{2} + \\left(p_{4 Y} - rsc_{CY}\\right)^{2}, & - \\left(p_{2 X} -2.5\\right) \\left(rsc_{CY} -4.03293967849753\\right) + \\left(p_{2 Y} -4.03293967849753\\right) \\left(rsc_{CX} -2.5\\right), & \\left(p_{2 X} -2.5\\right)^{2} + \\left(p_{2 Y} -4.03293967849753\\right)^{2} -40.7044, & - rsc_{R}^{2} + \\left(p_{2 X} - rsc_{CX}\\right)^{2} + \\left(p_{2 Y} - rsc_{CY}\\right)^{2}, & \\left(lsc_{CX} -2.5\\right) \\left(p_{3 Y} -15.2929396784975\\right) - \\left(lsc_{CY} -15.2929396784975\\right) \\left(p_{3 X} -2.5\\right), & \\left(p_{3 X} -2.5\\right)^{2} + \\left(p_{3 Y} -15.2929396784975\\right)^{2} -40.7044, & - lsc_{R}^{2} + \\left(- lsc_{CX} + p_{3 X}\\right)^{2} + \\left(- lsc_{CY} + p_{3 Y}\\right)^{2}, & \\left(lsc_{CX} -2.5\\right) \\left(p_{1 Y} -4.03293967849753\\right) - \\left(lsc_{CY} -4.03293967849753\\right) \\left(p_{1 X} -2.5\\right), & \\left(p_{1 X} -2.5\\right)^{2} + \\left(p_{1 Y} -4.03293967849753\\right)^{2} -40.7044, & - lsc_{R}^{2} + \\left(- lsc_{CX} + p_{1 X}\\right)^{2} + \\left(- lsc_{CY} + p_{1 Y}\\right)^{2}\\end{bmatrix}$$"
       ],
       "output_type": "pyout",
       "prompt_number": 4,
       "text": [
        "\u23a1                                                                             \n",
        "\u23a3rsc_CX + rsc_R - 5.0, lsc_CX - lsc_R, -(p4_X - 2.5)\u22c5(rsc_CY - 15.292939678497\n",
        "\n",
        "                                                           2                  \n",
        "5) + (p4_Y - 15.2929396784975)\u22c5(rsc_CX - 2.5), (p4_X - 2.5)  + (p4_Y - 15.2929\n",
        "\n",
        "          2                   2                  2                  2         \n",
        "396784975)  - 40.7044, - rsc_R  + (p4_X - rsc_CX)  + (p4_Y - rsc_CY) , -(p2_X \n",
        "\n",
        "                                                                              \n",
        "- 2.5)\u22c5(rsc_CY - 4.03293967849753) + (p2_Y - 4.03293967849753)\u22c5(rsc_CX - 2.5),\n",
        "\n",
        "             2                            2                   2               \n",
        " (p2_X - 2.5)  + (p2_Y - 4.03293967849753)  - 40.7044, - rsc_R  + (p2_X - rsc_\n",
        "\n",
        "   2                  2                                                       \n",
        "CX)  + (p2_Y - rsc_CY) , (lsc_CX - 2.5)\u22c5(p3_Y - 15.2929396784975) - (lsc_CY - \n",
        "\n",
        "                                            2                            2    \n",
        "15.2929396784975)\u22c5(p3_X - 2.5), (p3_X - 2.5)  + (p3_Y - 15.2929396784975)  - 4\n",
        "\n",
        "               2                   2                   2                      \n",
        "0.7044, - lsc_R  + (-lsc_CX + p3_X)  + (-lsc_CY + p3_Y) , (lsc_CX - 2.5)\u22c5(p1_Y\n",
        "\n",
        "                                                                             2\n",
        " - 4.03293967849753) - (lsc_CY - 4.03293967849753)\u22c5(p1_X - 2.5), (p1_X - 2.5) \n",
        "\n",
        "                            2                   2                   2         \n",
        " + (p1_Y - 4.03293967849753)  - 40.7044, - lsc_R  + (-lsc_CX + p1_X)  + (-lsc_\n",
        "\n",
        "          2\u23a4\n",
        "CY + p1_Y) \u23a6"
       ]
      }
     ],
     "prompt_number": 4
    },
    {
     "cell_type": "code",
     "collapsed": false,
     "input": [
      "variables\n"
     ],
     "language": "python",
     "metadata": {},
     "outputs": [
      {
       "latex": [
        "$$\\begin{bmatrix}p_{1 X}, & p_{1 Y}, & p_{3 X}, & p_{3 Y}, & p_{2 X}, & p_{2 Y}, & p_{4 X}, & p_{4 Y}, & lsc_{CX}, & lsc_{CY}, & lsc_{R}, & rsc_{CX}, & rsc_{CY}, & rsc_{R}\\end{bmatrix}$$"
       ],
       "output_type": "pyout",
       "prompt_number": 5,
       "text": [
        "[p1_X, p1_Y, p3_X, p3_Y, p2_X, p2_Y, p4_X, p4_Y, lsc_CX, lsc_CY, lsc_R, rsc_CX\n",
        ", rsc_CY, rsc_R]"
       ]
      }
     ],
     "prompt_number": 5
    },
    {
     "cell_type": "code",
     "collapsed": false,
     "input": [
      "#from sympy import ask, Q\n",
      "#global_assumptions.add(Q.positive(lsc_R))\n",
      "\n",
      "solutions = solve(   eq_system , *variables , dict=True )"
     ],
     "language": "python",
     "metadata": {},
     "outputs": [],
     "prompt_number": "*"
    },
    {
     "cell_type": "code",
     "collapsed": false,
     "input": [
      "len(solutions) ,  solutions"
     ],
     "language": "python",
     "metadata": {},
     "outputs": [],
     "prompt_number": "*"
    },
    {
     "cell_type": "code",
     "collapsed": false,
     "input": [
      "filtered_solutions = [ s \n",
      "for s in solutions\n",
      "if RI+H >s[lsc_CY]> RI and\n",
      "   RI+H >s[rsc_CY]> RI\n",
      "]\n",
      "len(filtered_solutions)"
     ],
     "language": "python",
     "metadata": {},
     "outputs": [],
     "prompt_number": "*"
    },
    {
     "cell_type": "code",
     "collapsed": false,
     "input": [
      "import numpy as np\n",
      "import matplotlib.pyplot as plt\n",
      "#fig = plt.figure(figsize=(10,10*(H/W)))\n",
      "fig = plt.figure(figsize=(10,10))\n",
      "rr=1000\n",
      "margin=20\n",
      "plt.xlim([0-margin,W+margin])\n",
      "plt.ylim([RI-margin,RI+H+margin])\n",
      "ax = fig.add_subplot(1, 1, 1)\n",
      "\n",
      "def mk_circle(x,y,r,**kwargs):\n",
      "    circ = plt.Circle((x, y),r, fill=False, **kwargs)\n",
      "    plt.gcf().gca().add_artist(circ)\n",
      "    return circ\n",
      "    \n",
      "mk_circle(bbc_CX,bbc_CY,bbc_R)\n",
      "mk_circle(btc_CX,btc_CY,btc_R)\n",
      "\n",
      "'''\n",
      "for s in filtered_solutions:\n",
      "    mk_circle( s[lsc_CX],s[lsc_CY],s[lsc_R],color='r')\n",
      "    mk_circle( s[rsc_CX],s[rsc_CY],s[rsc_R],color='g')\n",
      "'''   \n",
      "\n",
      "\n",
      "#line1 = plt.Line2D([plot_x,bbc_CX],[plot_y,plot_cy])\n",
      "#plt.gcf().gca().add_artist(line1)\n",
      "\n",
      "'''\n",
      "assert len (filtered_solutions) == 1\n",
      "S = filtered_solutions[0]\n",
      "'''\n",
      "\n",
      "plt.show()"
     ],
     "language": "python",
     "metadata": {},
     "outputs": [
      {
       "output_type": "display_data",
       "png": "[encoded data removed]"
      }
     ],
     "prompt_number": 3
    },
    {
     "cell_type": "code",
     "collapsed": false,
     "input": [
      "%run integral.py"
     ],
     "language": "python",
     "metadata": {},
     "outputs": [],
     "prompt_number": "*"
    },
    {
     "cell_type": "code",
     "collapsed": false,
     "input": [
      "P(S[lsc_CX],S[lsc_CY])"
     ],
     "language": "python",
     "metadata": {},
     "outputs": [],
     "prompt_number": "*"
    },
    {
     "cell_type": "code",
     "collapsed": false,
     "input": [
      "volume = __builtin__.sum ([\n",
      "   volume_integrate_arc_top(P(S[lsc_CX],S[lsc_CY]), S[lsc_R], 0., S[Symbol('p1_X')]),\n",
      "   volume_integrate_arc_top(P(btc_CX,btc_CY), btc_R, S[Symbol('p1_X')], S[Symbol('p2_X')]),\n",
      "   volume_integrate_arc_top(P(S[rsc_CX],S[rsc_CY]), S[rsc_R], S[Symbol('p2_X')], W),\n",
      "]) - __builtin__.sum ([\n",
      "   volume_integrate_arc_bottom(P(S[lsc_CX],S[lsc_CY]), S[lsc_R], 0. , S[Symbol('p3_X')]),\n",
      "   volume_integrate_arc_bottom(P(btc_CX,btc_CY), btc_R, S[Symbol('p3_X')], S[Symbol('p4_X')]),\n",
      "   volume_integrate_arc_bottom(P(S[rsc_CX],S[rsc_CY]), S[rsc_R], S[Symbol('p4_X')], W),             \n",
      "])                       \n",
      "\n",
      "volume"
     ],
     "language": "python",
     "metadata": {},
     "outputs": [],
     "prompt_number": "*"
    },
    {
     "cell_type": "raw",
     "metadata": {},
     "source": [
      "So far I have  only send you the final data for profiles p2-p6.\n",
      "(but maybe you are reffering to the structure PDF TR_7.pdf)\n",
      " \n",
      "For those profiles I have sent you the volume-values to quick validate the calculations\n",
      " \n",
      "Volume:\n",
      "Profile P2:     width: 4     height:2        ringwidth/inner circumfence 56     volume:0,396 cm\u00b3\n",
      "Profile P3:     width: 5     height:1,5     ringwidth/inner circumfence 56     volume:0,336 cm\u00b3\n",
      "Profile P4:     width: 7     height:3        ringwidth/inner circumfence 56     volume:1,155 cm\u00b3\n",
      "Profile P5:     width: 3     height:1        ringwidth/inner circumfence 56     volume:0,144 cm\u00b3\n",
      "Profile P6:     width: 6     height:2,5     ringwidth/inner circumfence 56     volume:0,758 cm\u00b3"
     ]
    }
   ],
   "metadata": {}
  }
 ]
}
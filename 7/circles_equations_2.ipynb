{
 "metadata": {
  "name": "circles_equations"
 },
 "nbformat": 3,
 "nbformat_minor": 0,
 "worksheets": [
  {
   "cells": [
    {
     "cell_type": "code",
     "collapsed": false,
     "input": [
      "from sympy import *\n",
      "import numpy as np\n",
      "import scipy as sp\n",
      "%load_ext sympyprinting\n",
      "#%load_ext sympy.interactive.ipythonprinting\n",
      "#%pylab inline\n",
      "from __future__ import division\n",
      "init_printing()\n",
      "# l|r|t|b left right top bottom b|s big small c=circle\n",
      "# C=center \n",
      "# X,Y independent\n",
      "# R=radius\n",
      "# W=width H=height\n",
      "# RI=inner ring radius"
     ],
     "language": "python",
     "metadata": {},
     "outputs": [],
     "prompt_number": 7
    },
    {
     "cell_type": "code",
     "collapsed": false,
     "input": [
      "W = 277. \n",
      "H = 100.\n",
      "RI=740.; \n",
      "lsc_CX,lsc_CY = 23.  , RI+40.\n",
      "lsc_R = 23.\n",
      "bbc_CX = W/2.\n",
      "bbc_R = 357."
     ],
     "language": "python",
     "metadata": {},
     "outputs": [],
     "prompt_number": 134
    },
    {
     "cell_type": "code",
     "collapsed": false,
     "input": [
      "bbc_CY,X,Y=symbols('bbc_CY X Y')"
     ],
     "language": "python",
     "metadata": {},
     "outputs": [],
     "prompt_number": 135
    },
    {
     "cell_type": "code",
     "collapsed": false,
     "input": [
      "eq_lsc = (X-lsc_CX)**2+(Y-lsc_CY)**2 - lsc_R**2\n",
      "eq_bbc = (X-bbc_CX)**2+(Y-bbc_CY)**2 - bbc_R**2\n",
      "eq_line = (Y-bbc_CY)*(lsc_CX-bbc_CX) - (X-bbc_CX)*(lsc_CY-bbc_CY)"
     ],
     "language": "python",
     "metadata": {},
     "outputs": [],
     "prompt_number": 136
    },
    {
     "cell_type": "code",
     "collapsed": false,
     "input": [
      "solutions = solve(   [eq_lsc,eq_bbc,eq_line] , bbc_CY, X, Y)\n",
      "print \"solutions:\", len(solutions)\n",
      "assert len(solutions) == 4"
     ],
     "language": "python",
     "metadata": {},
     "outputs": [
      {
       "output_type": "stream",
       "stream": "stdout",
       "text": [
        "solutions: 4\n"
       ]
      }
     ],
     "prompt_number": 137
    },
    {
     "cell_type": "code",
     "collapsed": false,
     "input": [
      "print \"solutions\"\n",
      "for s in solutions:\n",
      "    print s\n",
      "from operator import itemgetter\n",
      "plot_cy,plot_x,plot_y=sorted(solutions, key=itemgetter(0), reverse=1)[1]"
     ],
     "language": "python",
     "metadata": {},
     "outputs": [
      {
       "output_type": "stream",
       "stream": "stdout",
       "text": [
        "solutions\n",
        "(417.978246509965, 29.9907894736842, 758.088157025603)\n",
        "(466.606078552886, 15.0464071856287, 801.581018542765)\n",
        "(1093.39392144711, 15.0464071856287, 758.418981457235)\n",
        "(1142.02175349004, 29.9907894736842, 801.911842974397)\n"
       ]
      }
     ],
     "prompt_number": 138
    },
    {
     "cell_type": "code",
     "collapsed": false,
     "input": [
      "import numpy as np\n",
      "import matplotlib.pyplot as plt\n",
      "#_x, _y = np.meshgrid(np.linspace(0,1), np.linspace(0,1))\n",
      "#F = _x ** _y\n",
      "#G = _y ** _x\n",
      "fig = plt.figure(figsize=(10,10*(H/W)))\n",
      "rr=1000\n",
      "margin=20\n",
      "plt.xlim([0-margin,W+margin])\n",
      "plt.ylim([RI-margin,RI+H+margin])\n",
      "ax = fig.add_subplot(1, 1, 1)\n",
      "circ = plt.Circle((bbc_CX, plot_cy),bbc_R, color='r', fill=False)\n",
      "plt.gcf().gca().add_artist(circ)\n",
      "\n",
      "circ2 = plt.Circle((lsc_CX, lsc_CY),lsc_R, color='blue', fill=False)\n",
      "plt.gcf().gca().add_artist(circ2)\n",
      "\n",
      "line1 = plt.Line2D([plot_x,bbc_CX],[plot_y,plot_cy])\n",
      "plt.gcf().gca().add_artist(line1)\n",
      "\n",
      "plt.show()"
     ],
     "language": "python",
     "metadata": {},
     "outputs": [
      {
       "output_type": "display_data",
       "png": "[encoded data removed]"
      }
     ],
     "prompt_number": 142
    }
   ],
   "metadata": {}
  }
 ]
}
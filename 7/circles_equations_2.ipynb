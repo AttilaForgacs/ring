{
 "metadata": {
  "name": "circles_equations_2"
 },
 "nbformat": 3,
 "nbformat_minor": 0,
 "worksheets": [
  {
   "cells": [
    {
     "cell_type": "code",
     "collapsed": false,
     "input": [
      "from sympy import *\n",
      "import numpy as np\n",
      "import scipy as sp\n",
      "%load_ext sympyprinting\n",
      "#%load_ext sympy.interactive.ipythonprinting\n",
      "#%pylab inline\n",
      "from __future__ import division\n",
      "init_printing()\n",
      "# l|r|t|b left right top bottom b|s big small c=circle\n",
      "# C=center \n",
      "# X,Y independent\n",
      "# R=radius\n",
      "# W=width H=height\n",
      "# RI=inner ring radius"
     ],
     "language": "python",
     "metadata": {},
     "outputs": [],
     "prompt_number": 68
    },
    {
     "cell_type": "code",
     "collapsed": false,
     "input": [
      "W  = 6. #R51 \n",
      "H  = 1.8 #R52\n",
      "RI = 7.4  \n",
      "bbc_R  = 6.38\n",
      "btc_R  = 6.38\n",
      "# calculated\n",
      "bbc_CX = W/2.\n",
      "bbc_CY = RI + bbc_R\n",
      "btc_CX = W/2.\n",
      "btc_CY = RI + H - btc_R\n",
      "lsc_R  = Symbol('lsc_R',positive=True)\n",
      "lsc_CX = Symbol('lsc_CX')\n",
      "lsc_CY = Symbol('lsc_CY')\n",
      "rsc_R  = Symbol('rsc_R',positive=True)\n",
      "rsc_CX = Symbol('rsc_CX')\n",
      "rsc_CY = Symbol('rsc_CY')"
     ],
     "language": "python",
     "metadata": {},
     "outputs": [],
     "prompt_number": 108
    },
    {
     "cell_type": "code",
     "collapsed": false,
     "input": [
      "# left and right centerX's of small circles\n",
      "eq_left_tang = lsc_CX - lsc_R \n",
      "eq_right_tang = rsc_CX - W + rsc_R  \n",
      "# 4 tangent. of small circles crossing big circles\n",
      "# e.g. ('lsc','bsc','p1')\n",
      "def _2_circles_tangential_equations(c1,c2,var_name,variables_list):\n",
      "    'c1: string name of circle 1'\n",
      "    'c2: string name of other circle'\n",
      "    'var_name: string, independent will be created'\n",
      "    G = globals()\n",
      "    c1_CX = G['{}_CX'.format(c1)]\n",
      "    c1_CY = G['{}_CY'.format(c1)]\n",
      "    c1_R  = G['{}_R'.format(c1)]\n",
      "\n",
      "    c2_CX = G['{}_CX'.format(c2)]\n",
      "    c2_CY = G['{}_CY'.format(c2)]\n",
      "    c2_R  = G['{}_R'.format(c2)]\n",
      "    X = Symbol(var_name+'_X')\n",
      "    Y = Symbol(var_name+'_Y')\n",
      "    variables_list += [X,Y]\n",
      "    eq_c1 = (X - c1_CX) ** 2 + (Y - c1_CY) ** 2 - c1_R ** 2\n",
      "    eq_c2 = (X - c2_CX) ** 2 + (Y - c2_CY) ** 2 - c2_R ** 2\n",
      "    eq_line = (Y - c2_CY) * (c1_CX - c2_CX) - (X - c2_CX) * (c1_CY - c2_CY)\n",
      "    return [eq_c1, eq_c2, eq_line]"
     ],
     "language": "python",
     "metadata": {},
     "outputs": [],
     "prompt_number": 109
    },
    {
     "cell_type": "code",
     "collapsed": false,
     "input": [
      "eq_system = []\n",
      "variables = []\n",
      "\n",
      "eq_system += _2_circles_tangential_equations('lsc','btc','p1',variables)\n",
      "eq_system += _2_circles_tangential_equations('lsc','bbc','p3',variables)\n",
      "eq_system += _2_circles_tangential_equations('rsc','btc','p2',variables)\n",
      "eq_system += _2_circles_tangential_equations('rsc','bbc','p4',variables)\n",
      "eq_system += [eq_left_tang]\n",
      "eq_system += [eq_right_tang]\n",
      "variables += [lsc_CX,lsc_CY,lsc_R]\n",
      "variables += [rsc_CX,rsc_CY,rsc_R]\n",
      "\n",
      "eq_system[::-1] "
     ],
     "language": "python",
     "metadata": {},
     "outputs": [
      {
       "latex": [
        "$$\\begin{bmatrix}rsc_{CX} + rsc_{R} -6.0, & lsc_{CX} - lsc_{R}, & - \\left(p_{4 X} -3.0\\right) \\left(rsc_{CY} -13.78\\right) + \\left(p_{4 Y} -13.78\\right) \\left(rsc_{CX} -3.0\\right), & \\left(p_{4 X} -3.0\\right)^{2} + \\left(p_{4 Y} -13.78\\right)^{2} -40.7044, & - rsc_{R}^{2} + \\left(p_{4 X} - rsc_{CX}\\right)^{2} + \\left(p_{4 Y} - rsc_{CY}\\right)^{2}, & - \\left(p_{2 X} -3.0\\right) \\left(rsc_{CY} -2.82\\right) + \\left(p_{2 Y} -2.82\\right) \\left(rsc_{CX} -3.0\\right), & \\left(p_{2 X} -3.0\\right)^{2} + \\left(p_{2 Y} -2.82\\right)^{2} -40.7044, & - rsc_{R}^{2} + \\left(p_{2 X} - rsc_{CX}\\right)^{2} + \\left(p_{2 Y} - rsc_{CY}\\right)^{2}, & \\left(lsc_{CX} -3.0\\right) \\left(p_{3 Y} -13.78\\right) - \\left(lsc_{CY} -13.78\\right) \\left(p_{3 X} -3.0\\right), & \\left(p_{3 X} -3.0\\right)^{2} + \\left(p_{3 Y} -13.78\\right)^{2} -40.7044, & - lsc_{R}^{2} + \\left(- lsc_{CX} + p_{3 X}\\right)^{2} + \\left(- lsc_{CY} + p_{3 Y}\\right)^{2}, & \\left(lsc_{CX} -3.0\\right) \\left(p_{1 Y} -2.82\\right) - \\left(lsc_{CY} -2.82\\right) \\left(p_{1 X} -3.0\\right), & \\left(p_{1 X} -3.0\\right)^{2} + \\left(p_{1 Y} -2.82\\right)^{2} -40.7044, & - lsc_{R}^{2} + \\left(- lsc_{CX} + p_{1 X}\\right)^{2} + \\left(- lsc_{CY} + p_{1 Y}\\right)^{2}\\end{bmatrix}$$"
       ],
       "output_type": "pyout",
       "prompt_number": 110,
       "text": [
        "\u23a1                                                                             \n",
        "\u23a3rsc_CX + rsc_R - 6.0, lsc_CX - lsc_R, -(p4_X - 3.0)\u22c5(rsc_CY - 13.78) + (p4_Y \n",
        "\n",
        "                                     2                 2                   2  \n",
        "- 13.78)\u22c5(rsc_CX - 3.0), (p4_X - 3.0)  + (p4_Y - 13.78)  - 40.7044, - rsc_R  +\n",
        "\n",
        "                2                  2                                          \n",
        " (p4_X - rsc_CX)  + (p4_Y - rsc_CY) , -(p2_X - 3.0)\u22c5(rsc_CY - 2.82) + (p2_Y - \n",
        "\n",
        "                                  2                2                   2      \n",
        "2.82)\u22c5(rsc_CX - 3.0), (p2_X - 3.0)  + (p2_Y - 2.82)  - 40.7044, - rsc_R  + (p2\n",
        "\n",
        "            2                  2                                              \n",
        "_X - rsc_CX)  + (p2_Y - rsc_CY) , (lsc_CX - 3.0)\u22c5(p3_Y - 13.78) - (lsc_CY - 13\n",
        "\n",
        "                               2                 2                   2        \n",
        ".78)\u22c5(p3_X - 3.0), (p3_X - 3.0)  + (p3_Y - 13.78)  - 40.7044, - lsc_R  + (-lsc\n",
        "\n",
        "           2                   2                                              \n",
        "_CX + p3_X)  + (-lsc_CY + p3_Y) , (lsc_CX - 3.0)\u22c5(p1_Y - 2.82) - (lsc_CY - 2.8\n",
        "\n",
        "                             2                2                   2           \n",
        "2)\u22c5(p1_X - 3.0), (p1_X - 3.0)  + (p1_Y - 2.82)  - 40.7044, - lsc_R  + (-lsc_CX\n",
        "\n",
        "        2                   2\u23a4\n",
        " + p1_X)  + (-lsc_CY + p1_Y) \u23a6"
       ]
      }
     ],
     "prompt_number": 110
    },
    {
     "cell_type": "code",
     "collapsed": false,
     "input": [
      "variables"
     ],
     "language": "python",
     "metadata": {},
     "outputs": [
      {
       "latex": [
        "$$\\begin{bmatrix}p_{1 X}, & p_{1 Y}, & p_{3 X}, & p_{3 Y}, & p_{2 X}, & p_{2 Y}, & p_{4 X}, & p_{4 Y}, & lsc_{CX}, & lsc_{CY}, & lsc_{R}, & rsc_{CX}, & rsc_{CY}, & rsc_{R}\\end{bmatrix}$$"
       ],
       "output_type": "pyout",
       "prompt_number": 111,
       "text": [
        "[p1_X, p1_Y, p3_X, p3_Y, p2_X, p2_Y, p4_X, p4_Y, lsc_CX, lsc_CY, lsc_R, rsc_CX\n",
        ", rsc_CY, rsc_R]"
       ]
      }
     ],
     "prompt_number": 111
    },
    {
     "cell_type": "code",
     "collapsed": false,
     "input": [
      "#from sympy import ask, Q\n",
      "#global_assumptions.add(Q.positive(lsc_R))\n",
      "\n",
      "solutions = solve(   eq_system , *variables , dict=True )"
     ],
     "language": "python",
     "metadata": {},
     "outputs": [],
     "prompt_number": 126
    },
    {
     "cell_type": "code",
     "collapsed": false,
     "input": [
      "len(solutions) ,  solutions"
     ],
     "language": "python",
     "metadata": {},
     "outputs": [
      {
       "latex": [
        "$$\\begin{pmatrix}9, & \\begin{bmatrix}\\begin{Bmatrix}lsc_{CX} : 0.247633136094675, & lsc_{CY} : 8.3, & lsc_{R} : 0.247633136094675, & p_{1 X} : 0.136488898752376, & p_{1 Y} : 8.52128969383521, & p_{2 X} : -3.37956160604573, & p_{2 Y} : 2.89479114029866, & p_{3 X} : 0.136488898752376, & p_{3 Y} : 8.07871030616479, & p_{4 X} : 2.02602654938666, & p_{4 Y} : 7.47478186598589, & rsc_{CX} : 1.31005806514405, & rsc_{CY} : 2.83981212693778, & rsc_{R} : 4.68994193485595\\end{Bmatrix}, & \\begin{Bmatrix}lsc_{CX} : 0.247633136094675, & lsc_{CY} : 8.3, & lsc_{R} : 0.247633136094675, & p_{1 X} : 0.136488898752376, & p_{1 Y} : 8.52128969383521, & p_{2 X} : 2.02602654938666, & p_{2 Y} : 9.12521813401411, & p_{3 X} : 0.136488898752376, & p_{3 Y} : 8.07871030616479, & p_{4 X} : -3.37956160604573, & p_{4 Y} : 13.7052088597013, & rsc_{CX} : 1.31005806514405, & rsc_{CY} : 13.7601878730622, & rsc_{R} : 4.68994193485595\\end{Bmatrix}, & \\begin{Bmatrix}lsc_{CX} : 0.247633136094675, & lsc_{CY} : 8.3, & lsc_{R} : 0.247633136094675, & p_{1 X} : 0.136488898752376, & p_{1 Y} : 8.52128969383521, & p_{2 X} : 5.86351110124762, & p_{2 Y} : 8.52128969383521, & p_{3 X} : 0.136488898752376, & p_{3 Y} : 8.07871030616479, & p_{4 X} : 5.86351110124762, & p_{4 Y} : 8.07871030616479, & rsc_{CX} : 5.75236686390533, & rsc_{CY} : 8.3, & rsc_{R} : 0.247633136094675\\end{Bmatrix}, & \\begin{Bmatrix}lsc_{CX} : 4.68994193485595, & lsc_{CY} : 13.7601878730622, & lsc_{R} : 4.68994193485595, & p_{1 X} : 3.97397345061334, & p_{1 Y} : 9.12521813401411, & p_{2 X} : -3.37956160604573, & p_{2 Y} : 2.89479114029866, & p_{3 X} : 9.37956160604573, & p_{3 Y} : 13.7052088597013, & p_{4 X} : 2.02602654938666, & p_{4 Y} : 7.47478186598589, & rsc_{CX} : 1.31005806514405, & rsc_{CY} : 2.83981212693778, & rsc_{R} : 4.68994193485595\\end{Bmatrix}, & \\begin{Bmatrix}lsc_{CX} : 4.68994193485595, & lsc_{CY} : 13.7601878730622, & lsc_{R} : 4.68994193485595, & p_{1 X} : 3.97397345061334, & p_{1 Y} : 9.12521813401411, & p_{2 X} : 2.02602654938666, & p_{2 Y} : 9.12521813401411, & p_{3 X} : 9.37956160604573, & p_{3 Y} : 13.7052088597013, & p_{4 X} : -3.37956160604573, & p_{4 Y} : 13.7052088597013, & rsc_{CX} : 1.31005806514405, & rsc_{CY} : 13.7601878730622, & rsc_{R} : 4.68994193485595\\end{Bmatrix}, & \\begin{Bmatrix}lsc_{CX} : 4.68994193485595, & lsc_{CY} : 13.7601878730622, & lsc_{R} : 4.68994193485595, & p_{1 X} : 3.97397345061334, & p_{1 Y} : 9.12521813401411, & p_{2 X} : 5.86351110124762, & p_{2 Y} : 8.52128969383521, & p_{3 X} : 9.37956160604573, & p_{3 Y} : 13.7052088597013, & p_{4 X} : 5.86351110124762, & p_{4 Y} : 8.07871030616479, & rsc_{CX} : 5.75236686390533, & rsc_{CY} : 8.3, & rsc_{R} : 0.247633136094675\\end{Bmatrix}, & \\begin{Bmatrix}lsc_{CX} : 4.68994193485595, & lsc_{CY} : 2.83981212693778, & lsc_{R} : 4.68994193485595, & p_{1 X} : 9.37956160604573, & p_{1 Y} : 2.89479114029866, & p_{2 X} : -3.37956160604573, & p_{2 Y} : 2.89479114029866, & p_{3 X} : 3.97397345061334, & p_{3 Y} : 7.47478186598589, & p_{4 X} : 2.02602654938666, & p_{4 Y} : 7.47478186598589, & rsc_{CX} : 1.31005806514405, & rsc_{CY} : 2.83981212693778, & rsc_{R} : 4.68994193485595\\end{Bmatrix}, & \\begin{Bmatrix}lsc_{CX} : 4.68994193485595, & lsc_{CY} : 2.83981212693778, & lsc_{R} : 4.68994193485595, & p_{1 X} : 9.37956160604573, & p_{1 Y} : 2.89479114029866, & p_{2 X} : 5.86351110124762, & p_{2 Y} : 8.52128969383521, & p_{3 X} : 3.97397345061334, & p_{3 Y} : 7.47478186598589, & p_{4 X} : 5.86351110124762, & p_{4 Y} : 8.07871030616479, & rsc_{CX} : 5.75236686390533, & rsc_{CY} : 8.3, & rsc_{R} : 0.247633136094675\\end{Bmatrix}, & \\begin{Bmatrix}lsc_{CX} : 4.68994193485595, & lsc_{CY} : 2.83981212693778, & lsc_{R} : 4.68994193485595, & p_{1 X} : 9.37956160604573, & p_{1 Y} : 2.89479114029866, & p_{2 X} : 2.02602654938666, & p_{2 Y} : 9.12521813401411, & p_{3 X} : 3.97397345061334, & p_{3 Y} : 7.47478186598589, & p_{4 X} : -3.37956160604573, & p_{4 Y} : 13.7052088597013, & rsc_{CX} : 1.31005806514405, & rsc_{CY} : 13.7601878730622, & rsc_{R} : 4.68994193485595\\end{Bmatrix}\\end{bmatrix}\\end{pmatrix}$$"
       ],
       "output_type": "pyout",
       "prompt_number": 127,
       "text": [
        "(9, [{lsc_CX: 0.247633136094675, lsc_CY: 8.3, lsc_R: 0.247633136094675, p1_X: \n",
        "0.136488898752376, p1_Y: 8.52128969383521, p2_X: -3.37956160604573, p2_Y: 2.89\n",
        "479114029866, p3_X: 0.136488898752376, p3_Y: 8.07871030616479, p4_X: 2.0260265\n",
        "4938666, p4_Y: 7.47478186598589, rsc_CX: 1.31005806514405, rsc_CY: 2.839812126\n",
        "93778, rsc_R: 4.68994193485595}, {lsc_CX: 0.247633136094675, lsc_CY: 8.3, lsc_\n",
        "R: 0.247633136094675, p1_X: 0.136488898752376, p1_Y: 8.52128969383521, p2_X: 2\n",
        ".02602654938666, p2_Y: 9.12521813401411, p3_X: 0.136488898752376, p3_Y: 8.0787\n",
        "1030616479, p4_X: -3.37956160604573, p4_Y: 13.7052088597013, rsc_CX: 1.3100580\n",
        "6514405, rsc_CY: 13.7601878730622, rsc_R: 4.68994193485595}, {lsc_CX: 0.247633\n",
        "136094675, lsc_CY: 8.3, lsc_R: 0.247633136094675, p1_X: 0.136488898752376, p1_\n",
        "Y: 8.52128969383521, p2_X: 5.86351110124762, p2_Y: 8.52128969383521, p3_X: 0.1\n",
        "36488898752376, p3_Y: 8.07871030616479, p4_X: 5.86351110124762, p4_Y: 8.078710\n",
        "30616479, rsc_CX: 5.75236686390533, rsc_CY: 8.3, rsc_R: 0.247633136094675}, {l\n",
        "sc_CX: 4.68994193485595, lsc_CY: 13.7601878730622, lsc_R: 4.68994193485595, p1\n",
        "_X: 3.97397345061334, p1_Y: 9.12521813401411, p2_X: -3.37956160604573, p2_Y: 2\n",
        ".89479114029866, p3_X: 9.37956160604573, p3_Y: 13.7052088597013, p4_X: 2.02602\n",
        "654938666, p4_Y: 7.47478186598589, rsc_CX: 1.31005806514405, rsc_CY: 2.8398121\n",
        "2693778, rsc_R: 4.68994193485595}, {lsc_CX: 4.68994193485595, lsc_CY: 13.76018\n",
        "78730622, lsc_R: 4.68994193485595, p1_X: 3.97397345061334, p1_Y: 9.12521813401\n",
        "411, p2_X: 2.02602654938666, p2_Y: 9.12521813401411, p3_X: 9.37956160604573, p\n",
        "3_Y: 13.7052088597013, p4_X: -3.37956160604573, p4_Y: 13.7052088597013, rsc_CX\n",
        ": 1.31005806514405, rsc_CY: 13.7601878730622, rsc_R: 4.68994193485595}, {lsc_C\n",
        "X: 4.68994193485595, lsc_CY: 13.7601878730622, lsc_R: 4.68994193485595, p1_X: \n",
        "3.97397345061334, p1_Y: 9.12521813401411, p2_X: 5.86351110124762, p2_Y: 8.5212\n",
        "8969383521, p3_X: 9.37956160604573, p3_Y: 13.7052088597013, p4_X: 5.8635111012\n",
        "4762, p4_Y: 8.07871030616479, rsc_CX: 5.75236686390533, rsc_CY: 8.3, rsc_R: 0.\n",
        "247633136094675}, {lsc_CX: 4.68994193485595, lsc_CY: 2.83981212693778, lsc_R: \n",
        "4.68994193485595, p1_X: 9.37956160604573, p1_Y: 2.89479114029866, p2_X: -3.379\n",
        "56160604573, p2_Y: 2.89479114029866, p3_X: 3.97397345061334, p3_Y: 7.474781865\n",
        "98589, p4_X: 2.02602654938666, p4_Y: 7.47478186598589, rsc_CX: 1.3100580651440\n",
        "5, rsc_CY: 2.83981212693778, rsc_R: 4.68994193485595}, {lsc_CX: 4.689941934855\n",
        "95, lsc_CY: 2.83981212693778, lsc_R: 4.68994193485595, p1_X: 9.37956160604573,\n",
        " p1_Y: 2.89479114029866, p2_X: 5.86351110124762, p2_Y: 8.52128969383521, p3_X:\n",
        " 3.97397345061334, p3_Y: 7.47478186598589, p4_X: 5.86351110124762, p4_Y: 8.078\n",
        "71030616479, rsc_CX: 5.75236686390533, rsc_CY: 8.3, rsc_R: 0.247633136094675},\n",
        " {lsc_CX: 4.68994193485595, lsc_CY: 2.83981212693778, lsc_R: 4.68994193485595,\n",
        " p1_X: 9.37956160604573, p1_Y: 2.89479114029866, p2_X: 2.02602654938666, p2_Y:\n",
        " 9.12521813401411, p3_X: 3.97397345061334, p3_Y: 7.47478186598589, p4_X: -3.37\n",
        "956160604573, p4_Y: 13.7052088597013, rsc_CX: 1.31005806514405, rsc_CY: 13.760\n",
        "1878730622, rsc_R: 4.68994193485595}])"
       ]
      }
     ],
     "prompt_number": 127
    },
    {
     "cell_type": "code",
     "collapsed": false,
     "input": [
      "filtered_solutions = [ s \n",
      "for s in solutions\n",
      "if RI+H >s[lsc_CY]> RI and\n",
      "   RI+H >s[rsc_CY]> RI\n",
      "]\n",
      "len(filtered_solutions)"
     ],
     "language": "python",
     "metadata": {},
     "outputs": [
      {
       "output_type": "pyout",
       "png": "[encoded data removed]",
       "prompt_number": 133,
       "text": [
        "1"
       ]
      }
     ],
     "prompt_number": 133
    },
    {
     "cell_type": "code",
     "collapsed": false,
     "input": [
      "import numpy as np\n",
      "import matplotlib.pyplot as plt\n",
      "#fig = plt.figure(figsize=(10,10*(H/W)))\n",
      "fig = plt.figure(figsize=(10,10))\n",
      "rr=1000\n",
      "margin=20\n",
      "plt.xlim([0-margin,W+margin])\n",
      "plt.ylim([RI-margin,RI+H+margin])\n",
      "ax = fig.add_subplot(1, 1, 1)\n",
      "\n",
      "def mk_circle(x,y,r,**kwargs):\n",
      "    circ = plt.Circle((x, y),r, fill=False, **kwargs)\n",
      "    plt.gcf().gca().add_artist(circ)\n",
      "    return circ\n",
      "    \n",
      "mk_circle(bbc_CX,bbc_CY,bbc_R)\n",
      "mk_circle(btc_CX,btc_CY,btc_R)\n",
      "\n",
      "for s in solutions:\n",
      "    mk_circle( s[lsc_CX],s[lsc_CY],s[lsc_R],color='r')\n",
      "    mk_circle( s[rsc_CX],s[rsc_CY],s[rsc_R],color='r')\n",
      "    \n",
      "#line1 = plt.Line2D([plot_x,bbc_CX],[plot_y,plot_cy])\n",
      "#plt.gcf().gca().add_artist(line1)\n",
      "\n",
      "plt.show()"
     ],
     "language": "python",
     "metadata": {},
     "outputs": [
      {
       "output_type": "display_data",
       "png": "[encoded data removed]"
      }
     ],
     "prompt_number": 115
    },
    {
     "cell_type": "code",
     "collapsed": false,
     "input": [],
     "language": "python",
     "metadata": {},
     "outputs": []
    }
   ],
   "metadata": {}
  }
 ]
}
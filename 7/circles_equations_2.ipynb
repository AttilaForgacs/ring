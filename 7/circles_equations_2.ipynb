{
 "metadata": {
  "name": "circles_equations_2"
 },
 "nbformat": 3,
 "nbformat_minor": 0,
 "worksheets": [
  {
   "cells": [
    {
     "cell_type": "code",
     "collapsed": false,
     "input": [
      "from sympy import *\n",
      "import numpy as np\n",
      "import scipy as sp\n",
      "%load_ext sympyprinting\n",
      "#%load_ext sympy.interactive.ipythonprinting\n",
      "#%pylab inline\n",
      "from __future__ import division\n",
      "init_printing()\n",
      "# l|r|t|b left right top bottom b|s big small c=circle\n",
      "# C=center \n",
      "# X,Y independent\n",
      "# R=radius\n",
      "# W=width H=height\n",
      "# RI=inner ring radius"
     ],
     "language": "python",
     "metadata": {},
     "outputs": [],
     "prompt_number": 9
    },
    {
     "cell_type": "code",
     "collapsed": false,
     "input": [
      "W  = 6. #R51 \n",
      "H  = 1.8 #R52\n",
      "RI = 7.4  \n",
      "bbc_R  = 6.38\n",
      "btc_R  = 6.38\n",
      "# calculated\n",
      "bbc_CX = W/2.\n",
      "bbc_CY = RI + bbc_R\n",
      "btc_CX = W/2.\n",
      "btc_CY = RI + H - btc_R\n",
      "lsc_R  = Symbol('lsc_R')\n",
      "lsc_CX = Symbol('lsc_CX')\n",
      "lsc_CY = Symbol('lsc_CY')\n",
      "rsc_R  = Symbol('rsc_R')\n",
      "rsc_CX = Symbol('rsc_CX')\n",
      "rsc_CY = Symbol('rsc_CY')"
     ],
     "language": "python",
     "metadata": {},
     "outputs": [],
     "prompt_number": 10
    },
    {
     "cell_type": "code",
     "collapsed": false,
     "input": [
      "# left and right centerX's of small circles\n",
      "eq_left_tang = lsc_CX - lsc_R \n",
      "eq_right_tang = rsc_CX - W + rsc_R  \n",
      "# 4 tangent. of small circles crossing big circles\n",
      "# e.g. ('lsc','bsc','p1')\n",
      "def _2_circles_tangential_equations(c1,c2,var_name,variables_list):\n",
      "    'c1: string name of circle 1'\n",
      "    'c2: string name of other circle'\n",
      "    'var_name: string, independent will be created'\n",
      "    G = globals()\n",
      "    c1_CX = G['{}_CX'.format(c1)]\n",
      "    c1_CY = G['{}_CY'.format(c1)]\n",
      "    c1_R  = G['{}_R'.format(c1)]\n",
      "\n",
      "    c2_CX = G['{}_CX'.format(c2)]\n",
      "    c2_CY = G['{}_CY'.format(c2)]\n",
      "    c2_R  = G['{}_R'.format(c2)]\n",
      "    X = Symbol(var_name+'_X')\n",
      "    Y = Symbol(var_name+'_Y')\n",
      "    variables_list += [X,Y]\n",
      "    eq_c1 = (X - c1_CX) ** 2 + (Y - c1_CY) ** 2 - c1_R ** 2\n",
      "    eq_c2 = (X - c2_CX) ** 2 + (Y - c2_CY) ** 2 - c2_R ** 2\n",
      "    eq_line = (Y - c2_CY) * (c1_CX - c2_CX) - (X - c2_CX) * (c1_CY - c2_CY)\n",
      "    return [eq_c1, eq_c2, eq_line]"
     ],
     "language": "python",
     "metadata": {},
     "outputs": [],
     "prompt_number": 3
    },
    {
     "cell_type": "code",
     "collapsed": false,
     "input": [
      "eq_system = []\n",
      "variables = []\n",
      "\n",
      "eq_system += _2_circles_tangential_equations('lsc','btc','p1',variables)\n",
      "eq_system += _2_circles_tangential_equations('lsc','bbc','p3',variables)\n",
      "\n",
      "#eq_system += _2_circles_tangential_equations('rsc','btc','p2',variables)\n",
      "#eq_system += _2_circles_tangential_equations('rsc','bbc','p4',variables)\n",
      "eq_system += [eq_left_tang]\n",
      "#eq_system += [eq_right_tang]\n",
      "variables += [lsc_CX,lsc_CY,lsc_R]\n",
      "#variables += [rsc_CY,rsc_R]\n",
      "#eq_system += [lsc_CY-(RI+H/2.) ]\n",
      "\n",
      "for e in eq_system:\n",
      "    print e"
     ],
     "language": "python",
     "metadata": {},
     "outputs": [
      {
       "output_type": "stream",
       "stream": "stdout",
       "text": [
        "-lsc_R**2 + (-lsc_CX + p1_X)**2 + (-lsc_CY + p1_Y)**2\n",
        "(p1_X - 3.0)**2 + (p1_Y - 2.82)**2 - 40.7044\n",
        "(lsc_CX - 3.0)*(p1_Y - 2.82) - (lsc_CY - 2.82)*(p1_X - 3.0)\n",
        "-lsc_R**2 + (-lsc_CX + p3_X)**2 + (-lsc_CY + p3_Y)**2\n",
        "(p3_X - 3.0)**2 + (p3_Y - 13.78)**2 - 40.7044\n",
        "(lsc_CX - 3.0)*(p3_Y - 13.78) - (lsc_CY - 13.78)*(p3_X - 3.0)\n",
        "lsc_CX - lsc_R\n"
       ]
      }
     ],
     "prompt_number": 35
    },
    {
     "cell_type": "code",
     "collapsed": false,
     "input": [
      "variables"
     ],
     "language": "python",
     "metadata": {},
     "outputs": [
      {
       "latex": [
        "$$\\begin{bmatrix}p_{1 X}, & p_{1 Y}, & p_{3 X}, & p_{3 Y}, & lsc_{CX}, & lsc_{CY}, & lsc_{R}\\end{bmatrix}$$"
       ],
       "output_type": "pyout",
       "prompt_number": 43,
       "text": [
        "[p1_X, p1_Y, p3_X, p3_Y, lsc_CX, lsc_CY, lsc_R]"
       ]
      }
     ],
     "prompt_number": 43
    },
    {
     "cell_type": "code",
     "collapsed": false,
     "input": [
      "solutions = solve(   eq_system , *variables  )"
     ],
     "language": "python",
     "metadata": {},
     "outputs": [],
     "prompt_number": 37
    },
    {
     "cell_type": "code",
     "collapsed": false,
     "input": [
      "len(solutions)"
     ],
     "language": "python",
     "metadata": {},
     "outputs": [
      {
       "output_type": "pyout",
       "png": "[encoded data removed]",
       "prompt_number": 38,
       "text": [
        "6"
       ]
      }
     ],
     "prompt_number": 38
    },
    {
     "cell_type": "code",
     "collapsed": false,
     "input": [
      "for s in solutions:\n",
      "    print s\n",
      "    print '-----------------'\n"
     ],
     "language": "python",
     "metadata": {},
     "outputs": [
      {
       "output_type": "stream",
       "stream": "stdout",
       "text": [
        "(-0.403827466289408, 8.21614293544323, -0.133979492345514, 8.22279093954908, -0.263334491925944, 7.99341714261177, -0.263334491925944)\n",
        "-----------------\n",
        "(-0.133979492345514, 8.37720906045092, -0.403827466289408, 8.38385706455678, -0.263334491925944, 8.60658285738823, -0.263334491925944)\n",
        "-----------------\n",
        "(-0.133052125665594, 8.37773194548480, -0.133052125665594, 8.22226805451520, -0.0892324093816631, 8.30000000000000, -0.0892324093816631)\n",
        "-----------------\n",
        "(0.136488898752376, 8.52128969383521, 0.136488898752376, 8.07871030616479, 0.247633136094675, 8.30000000000000, 0.247633136094675)\n",
        "-----------------\n",
        "(3.97397345061334, 9.12521813401411, 9.37956160604573, 13.7052088597013, 4.68994193485595, 13.7601878730622, 4.68994193485595)\n",
        "-----------------\n",
        "(9.37956160604573, 2.89479114029866, 3.97397345061334, 7.47478186598589, 4.68994193485595, 2.83981212693778, 4.68994193485595)\n",
        "-----------------\n"
       ]
      },
      {
       "latex": [
        "$$\\begin{bmatrix}\\begin{pmatrix}-0.403827466289408, & 8.21614293544323, & -0.133979492345514, & 8.22279093954908, & -0.263334491925944, & 7.99341714261177, & -0.263334491925944\\end{pmatrix}, & \\begin{pmatrix}-0.133979492345514, & 8.37720906045092, & -0.403827466289408, & 8.38385706455678, & -0.263334491925944, & 8.60658285738823, & -0.263334491925944\\end{pmatrix}, & \\begin{pmatrix}-0.133052125665594, & 8.3777319454848, & -0.133052125665594, & 8.2222680545152, & -0.0892324093816631, & 8.3, & -0.0892324093816631\\end{pmatrix}, & \\begin{pmatrix}0.136488898752376, & 8.52128969383521, & 0.136488898752376, & 8.07871030616479, & 0.247633136094675, & 8.3, & 0.247633136094675\\end{pmatrix}, & \\begin{pmatrix}3.97397345061334, & 9.12521813401411, & 9.37956160604573, & 13.7052088597013, & 4.68994193485595, & 13.7601878730622, & 4.68994193485595\\end{pmatrix}, & \\begin{pmatrix}9.37956160604573, & 2.89479114029866, & 3.97397345061334, & 7.47478186598589, & 4.68994193485595, & 2.83981212693778, & 4.68994193485595\\end{pmatrix}\\end{bmatrix}$$"
       ],
       "output_type": "pyout",
       "prompt_number": 42,
       "text": [
        "[(-0.403827466289408, 8.21614293544323, -0.133979492345514, 8.22279093954908, \n",
        "-0.263334491925944, 7.99341714261177, -0.263334491925944), (-0.133979492345514\n",
        ", 8.37720906045092, -0.403827466289408, 8.38385706455678, -0.263334491925944, \n",
        "8.60658285738823, -0.263334491925944), (-0.133052125665594, 8.3777319454848, -\n",
        "0.133052125665594, 8.2222680545152, -0.0892324093816631, 8.3, -0.0892324093816\n",
        "631), (0.136488898752376, 8.52128969383521, 0.136488898752376, 8.0787103061647\n",
        "9, 0.247633136094675, 8.3, 0.247633136094675), (3.97397345061334, 9.1252181340\n",
        "1411, 9.37956160604573, 13.7052088597013, 4.68994193485595, 13.7601878730622, \n",
        "4.68994193485595), (9.37956160604573, 2.89479114029866, 3.97397345061334, 7.47\n",
        "478186598589, 4.68994193485595, 2.83981212693778, 4.68994193485595)]"
       ]
      }
     ],
     "prompt_number": 42
    },
    {
     "cell_type": "code",
     "collapsed": false,
     "input": [
      "print \"solutions\"\n",
      "for s in solutions:\n",
      "    print s\n",
      "from operator import itemgetter\n",
      "plot_cy,plot_x,plot_y=sorted(solutions, key=itemgetter(0), reverse=1)[1]"
     ],
     "language": "python",
     "metadata": {},
     "outputs": [
      {
       "ename": "NameError",
       "evalue": "name 'solutions' is not defined",
       "output_type": "pyerr",
       "traceback": [
        "\u001b[1;31m---------------------------------------------------------------------------\u001b[0m\n\u001b[1;31mNameError\u001b[0m                                 Traceback (most recent call last)",
        "\u001b[1;32m<ipython-input-7-47b2ac20244a>\u001b[0m in \u001b[0;36m<module>\u001b[1;34m()\u001b[0m\n\u001b[0;32m      1\u001b[0m \u001b[1;32mprint\u001b[0m \u001b[1;34m\"solutions\"\u001b[0m\u001b[1;33m\u001b[0m\u001b[0m\n\u001b[1;32m----> 2\u001b[1;33m \u001b[1;32mfor\u001b[0m \u001b[0ms\u001b[0m \u001b[1;32min\u001b[0m \u001b[0msolutions\u001b[0m\u001b[1;33m:\u001b[0m\u001b[1;33m\u001b[0m\u001b[0m\n\u001b[0m\u001b[0;32m      3\u001b[0m     \u001b[1;32mprint\u001b[0m \u001b[0ms\u001b[0m\u001b[1;33m\u001b[0m\u001b[0m\n\u001b[0;32m      4\u001b[0m \u001b[1;32mfrom\u001b[0m \u001b[0moperator\u001b[0m \u001b[1;32mimport\u001b[0m \u001b[0mitemgetter\u001b[0m\u001b[1;33m\u001b[0m\u001b[0m\n\u001b[0;32m      5\u001b[0m \u001b[0mplot_cy\u001b[0m\u001b[1;33m,\u001b[0m\u001b[0mplot_x\u001b[0m\u001b[1;33m,\u001b[0m\u001b[0mplot_y\u001b[0m\u001b[1;33m=\u001b[0m\u001b[0msorted\u001b[0m\u001b[1;33m(\u001b[0m\u001b[0msolutions\u001b[0m\u001b[1;33m,\u001b[0m \u001b[0mkey\u001b[0m\u001b[1;33m=\u001b[0m\u001b[0mitemgetter\u001b[0m\u001b[1;33m(\u001b[0m\u001b[1;36m0\u001b[0m\u001b[1;33m)\u001b[0m\u001b[1;33m,\u001b[0m \u001b[0mreverse\u001b[0m\u001b[1;33m=\u001b[0m\u001b[1;36m1\u001b[0m\u001b[1;33m)\u001b[0m\u001b[1;33m[\u001b[0m\u001b[1;36m1\u001b[0m\u001b[1;33m]\u001b[0m\u001b[1;33m\u001b[0m\u001b[0m\n",
        "\u001b[1;31mNameError\u001b[0m: name 'solutions' is not defined"
       ]
      },
      {
       "output_type": "stream",
       "stream": "stdout",
       "text": [
        "solutions\n"
       ]
      }
     ],
     "prompt_number": 7
    },
    {
     "cell_type": "code",
     "collapsed": false,
     "input": [
      "import numpy as np\n",
      "import matplotlib.pyplot as plt\n",
      "#fig = plt.figure(figsize=(10,10*(H/W)))\n",
      "fig = plt.figure(figsize=(10,10))\n",
      "rr=1000\n",
      "margin=20\n",
      "plt.xlim([0-margin,W+margin])\n",
      "plt.ylim([RI-margin,RI+H+margin])\n",
      "ax = fig.add_subplot(1, 1, 1)\n",
      "\n",
      "def mk_circle(x,y,r,**kwargs):\n",
      "    circ = plt.Circle((x, y),r, fill=False, **kwargs)\n",
      "    plt.gcf().gca().add_artist(circ)\n",
      "    return circ\n",
      "    \n",
      "mk_circle(bbc_CX,bbc_CY,bbc_R)\n",
      "mk_circle(btc_CX,btc_CY,btc_R)\n",
      "\n",
      "for s in solutions:\n",
      "    mk_circle( *s[-3:] , color='r')\n",
      "    \n",
      "#line1 = plt.Line2D([plot_x,bbc_CX],[plot_y,plot_cy])\n",
      "#plt.gcf().gca().add_artist(line1)\n",
      "\n",
      "plt.show()"
     ],
     "language": "python",
     "metadata": {},
     "outputs": [
      {
       "output_type": "display_data",
       "png": "[encoded data removed]"
      }
     ],
     "prompt_number": 45
    },
    {
     "cell_type": "code",
     "collapsed": false,
     "input": [],
     "language": "python",
     "metadata": {},
     "outputs": []
    }
   ],
   "metadata": {}
  }
 ]
}
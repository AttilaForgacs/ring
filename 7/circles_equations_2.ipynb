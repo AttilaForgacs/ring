{
 "metadata": {
  "name": "circles_equations_2"
 },
 "nbformat": 3,
 "nbformat_minor": 0,
 "worksheets": [
  {
   "cells": [
    {
     "cell_type": "code",
     "collapsed": false,
     "input": [
      "from sympy import *\n",
      "import numpy as np\n",
      "import scipy as sp\n",
      "import time\n",
      "%load_ext sympyprinting\n",
      "#%load_ext sympy.interactive.ipythonprintingthonprinting\n",
      "#%pylab inline\n",
      "from __future__ import division\n",
      "init_printing()\n",
      "# l|r|t|b left right top bottom b|s big small c=circle\n",
      "# C=center \n",
      "# X,Y independent\n",
      "# R=radius\n",
      "# W=width H=height\n",
      "# RI=inner ring radius"
     ],
     "language": "python",
     "metadata": {},
     "outputs": [],
     "prompt_number": 70
    },
    {
     "cell_type": "code",
     "collapsed": false,
     "input": [
      "'''\n",
      "Volume:\n",
      "Profile P2:     width: 4     height:2        ringwidth/inner circumfence 56     volume:0,396 cm\u00b3\n",
      "Profile P3:     width: 5     height:1,5     ringwidth/inner circumfence 56     volume:0,336 cm\u00b3\n",
      "Profile P4:     width: 7     height:3        ringwidth/inner circumfence 56     volume:1,155 cm\u00b3\n",
      "Profile P5:     width: 3     height:1        ringwidth/inner circumfence 56     volume:0,144 cm\u00b3\n",
      "Profile P6:     width: 6     height:2,5     ringwidth/inner circumfence 56     volume:0,758 cm\u00b3\n",
      "'''\n",
      "\n",
      "#R51, R52\n",
      "W=3.\n",
      "H=1.\n",
      "CF = 56\n",
      "RI = (CF / (2.*pi) )\n",
      "RI = round(RI,6)\n",
      "\n",
      "#R60\n",
      "bbc_R  = 5.2\n",
      "#R61\n",
      "btc_R  = 25.6"
     ],
     "language": "python",
     "metadata": {},
     "outputs": [],
     "prompt_number": 71
    },
    {
     "cell_type": "code",
     "collapsed": false,
     "input": [
      "# calculated\n",
      "bbc_CX = W/2.\n",
      "bbc_CY = RI + bbc_R\n",
      "btc_CX = W/2.\n",
      "btc_CY = RI + H - btc_R\n",
      "\n",
      "lsc_R  = Symbol('lsc_R',positive=True)\n",
      "lsc_CX = Symbol('lsc_CX')\n",
      "lsc_CY = Symbol('lsc_CY')\n",
      "rsc_R  = Symbol('rsc_R',positive=True)\n",
      "rsc_CX = Symbol('rsc_CX')\n",
      "rsc_CY = Symbol('rsc_CY')\n",
      "\n",
      "#\n",
      "#\n",
      "#\n",
      "W,H,RI\n",
      "bbc_CX,bbc_CY,btc_CX,btc_CY\n",
      "RI+1.5/2\n",
      "print 'RI=%s RI+1.5=%s',RI, RI+1.5"
     ],
     "language": "python",
     "metadata": {},
     "outputs": [
      {
       "output_type": "stream",
       "stream": "stdout",
       "text": [
        "RI=%s RI+1.5=%s 8.912677 10.412677\n"
       ]
      }
     ],
     "prompt_number": 72
    },
    {
     "cell_type": "code",
     "collapsed": false,
     "input": [
      "# left and right centerX's of small circles\n",
      "eq_left_tang = lsc_CX - lsc_R \n",
      "eq_right_tang = rsc_CX - W + rsc_R  \n",
      "# 4 tangent. of small circles crossing big circles\n",
      "# e.g. ('lsc','bsc','p1')\n",
      "def _2_circles_tangential_equations(c1,c2,var_name,variables_list):\n",
      "    'c1: string name of circle 1'\n",
      "    'c2: string name of other circle'\n",
      "    'var_name: string, independent will be created'\n",
      "    G = globals()\n",
      "    c1_CX = G['{}_CX'.format(c1)]\n",
      "    c1_CY = G['{}_CY'.format(c1)]\n",
      "    c1_R  = G['{}_R'.format(c1)]\n",
      "\n",
      "    c2_CX = G['{}_CX'.format(c2)]\n",
      "    c2_CY = G['{}_CY'.format(c2)]\n",
      "    c2_R  = G['{}_R'.format(c2)]\n",
      "    X = Symbol(var_name+'_X')\n",
      "    Y = Symbol(var_name+'_Y')\n",
      "    variables_list += [X,Y]\n",
      "    eq_c1 = (X - c1_CX) ** 2 + (Y - c1_CY) ** 2 - c1_R ** 2\n",
      "    eq_c2 = (X - c2_CX) ** 2 + (Y - c2_CY) ** 2 - c2_R ** 2\n",
      "    eq_line = (Y - c2_CY) * (c1_CX - c2_CX) - (X - c2_CX) * (c1_CY - c2_CY)\n",
      "    return [eq_c1, eq_c2, eq_line]\n",
      "(eq_left_tang, eq_right_tang)"
     ],
     "language": "python",
     "metadata": {},
     "outputs": [
      {
       "latex": [
        "$$\\begin{pmatrix}lsc_{CX} - lsc_{R}, & rsc_{CX} + rsc_{R} -3.0\\end{pmatrix}$$"
       ],
       "output_type": "pyout",
       "prompt_number": 73,
       "text": [
        "(lsc_CX - lsc_R, rsc_CX + rsc_R - 3.0)"
       ]
      }
     ],
     "prompt_number": 73
    },
    {
     "cell_type": "code",
     "collapsed": false,
     "input": [
      "eq_system = []\n",
      "variables = []\n",
      "\n",
      "eq_system += _2_circles_tangential_equations('lsc','btc','p1',variables)\n",
      "eq_system += _2_circles_tangential_equations('lsc','bbc','p3',variables)\n",
      "eq_system += _2_circles_tangential_equations('rsc','btc','p2',variables)\n",
      "eq_system += _2_circles_tangential_equations('rsc','bbc','p4',variables)\n",
      "eq_system += [eq_left_tang]\n",
      "eq_system += [eq_right_tang]\n",
      "variables += [lsc_CX,lsc_CY,lsc_R]\n",
      "variables += [rsc_CX,rsc_CY,rsc_R]\n",
      "\n",
      "eq_system[::-1] \n"
     ],
     "language": "python",
     "metadata": {},
     "outputs": [
      {
       "latex": [
        "$$\\begin{bmatrix}rsc_{CX} + rsc_{R} -3.0, & lsc_{CX} - lsc_{R}, & - \\left(p_{4 X} -1.5\\right) \\left(rsc_{CY} -14.112677\\right) + \\left(p_{4 Y} -14.112677\\right) \\left(rsc_{CX} -1.5\\right), & \\left(p_{4 X} -1.5\\right)^{2} + \\left(p_{4 Y} -14.112677\\right)^{2} -27.04, & - rsc_{R}^{2} + \\left(p_{4 X} - rsc_{CX}\\right)^{2} + \\left(p_{4 Y} - rsc_{CY}\\right)^{2}, & - \\left(p_{2 X} -1.5\\right) \\left(rsc_{CY} + 15.687323\\right) + \\left(p_{2 Y} + 15.687323\\right) \\left(rsc_{CX} -1.5\\right), & \\left(p_{2 X} -1.5\\right)^{2} + \\left(p_{2 Y} + 15.687323\\right)^{2} -655.36, & - rsc_{R}^{2} + \\left(p_{2 X} - rsc_{CX}\\right)^{2} + \\left(p_{2 Y} - rsc_{CY}\\right)^{2}, & \\left(lsc_{CX} -1.5\\right) \\left(p_{3 Y} -14.112677\\right) - \\left(lsc_{CY} -14.112677\\right) \\left(p_{3 X} -1.5\\right), & \\left(p_{3 X} -1.5\\right)^{2} + \\left(p_{3 Y} -14.112677\\right)^{2} -27.04, & - lsc_{R}^{2} + \\left(- lsc_{CX} + p_{3 X}\\right)^{2} + \\left(- lsc_{CY} + p_{3 Y}\\right)^{2}, & \\left(lsc_{CX} -1.5\\right) \\left(p_{1 Y} + 15.687323\\right) - \\left(lsc_{CY} + 15.687323\\right) \\left(p_{1 X} -1.5\\right), & \\left(p_{1 X} -1.5\\right)^{2} + \\left(p_{1 Y} + 15.687323\\right)^{2} -655.36, & - lsc_{R}^{2} + \\left(- lsc_{CX} + p_{1 X}\\right)^{2} + \\left(- lsc_{CY} + p_{1 Y}\\right)^{2}\\end{bmatrix}$$"
       ],
       "output_type": "pyout",
       "prompt_number": 74,
       "text": [
        "\u23a1                                                                             \n",
        "\u23a3rsc_CX + rsc_R - 3.0, lsc_CX - lsc_R, -(p4_X - 1.5)\u22c5(rsc_CY - 14.112677) + (p\n",
        "\n",
        "                                             2                     2          \n",
        "4_Y - 14.112677)\u22c5(rsc_CX - 1.5), (p4_X - 1.5)  + (p4_Y - 14.112677)  - 27.04, \n",
        "\n",
        "       2                  2                  2                                \n",
        "- rsc_R  + (p4_X - rsc_CX)  + (p4_Y - rsc_CY) , -(p2_X - 1.5)\u22c5(rsc_CY + 15.687\n",
        "\n",
        "                                                      2                     2 \n",
        "323) + (p2_Y + 15.687323)\u22c5(rsc_CX - 1.5), (p2_X - 1.5)  + (p2_Y + 15.687323)  \n",
        "\n",
        "                 2                  2                  2                      \n",
        "- 655.36, - rsc_R  + (p2_X - rsc_CX)  + (p2_Y - rsc_CY) , (lsc_CX - 1.5)\u22c5(p3_Y\n",
        "\n",
        "                                                               2              \n",
        " - 14.112677) - (lsc_CY - 14.112677)\u22c5(p3_X - 1.5), (p3_X - 1.5)  + (p3_Y - 14.\n",
        "\n",
        "       2                 2                   2                   2            \n",
        "112677)  - 27.04, - lsc_R  + (-lsc_CX + p3_X)  + (-lsc_CY + p3_Y) , (lsc_CX - \n",
        "\n",
        "                                                                         2    \n",
        "1.5)\u22c5(p1_Y + 15.687323) - (lsc_CY + 15.687323)\u22c5(p1_X - 1.5), (p1_X - 1.5)  + (\n",
        "\n",
        "                 2                  2                   2                   2\u23a4\n",
        "p1_Y + 15.687323)  - 655.36, - lsc_R  + (-lsc_CX + p1_X)  + (-lsc_CY + p1_Y) \u23a6"
       ]
      }
     ],
     "prompt_number": 74
    },
    {
     "cell_type": "code",
     "collapsed": false,
     "input": [
      "variables"
     ],
     "language": "python",
     "metadata": {},
     "outputs": [
      {
       "latex": [
        "$$\\begin{bmatrix}p_{1 X}, & p_{1 Y}, & p_{3 X}, & p_{3 Y}, & p_{2 X}, & p_{2 Y}, & p_{4 X}, & p_{4 Y}, & lsc_{CX}, & lsc_{CY}, & lsc_{R}, & rsc_{CX}, & rsc_{CY}, & rsc_{R}\\end{bmatrix}$$"
       ],
       "output_type": "pyout",
       "prompt_number": 75,
       "text": [
        "[p1_X, p1_Y, p3_X, p3_Y, p2_X, p2_Y, p4_X, p4_Y, lsc_CX, lsc_CY, lsc_R, rsc_CX\n",
        ", rsc_CY, rsc_R]"
       ]
      }
     ],
     "prompt_number": 75
    },
    {
     "cell_type": "code",
     "collapsed": false,
     "input": [
      "t1=time.time()\n",
      "solutions = solve(   eq_system , *variables , dict=True )\n",
      "t2=time.time()\n",
      "print 'Solution: %s seconds'%(t2-t1)"
     ],
     "language": "python",
     "metadata": {},
     "outputs": [
      {
       "output_type": "stream",
       "stream": "stdout",
       "text": [
        "Solution: 79.849780798 seconds\n"
       ]
      }
     ],
     "prompt_number": 76
    },
    {
     "cell_type": "code",
     "collapsed": false,
     "input": [
      "len(solutions) ,  solutions"
     ],
     "language": "python",
     "metadata": {},
     "outputs": [
      {
       "latex": [
        "$$\\begin{pmatrix}16, & \\begin{bmatrix}\\begin{Bmatrix}lsc_{CX} : 0.42754118393054, & lsc_{CY} : 9.46227967945695, & lsc_{R} : 0.42754118393054, & p_{1 X} : 0.409326026035579, & p_{1 Y} : 9.88943266373727, & p_{2 X} : -13.7797034542369, & p_{2 Y} : 4.85265417502582, & p_{3 X} : 0.331464857321876, & p_{3 Y} : 9.04567338639104, & p_{4 X} : -2.95591924169775, & p_{4 Y} : 16.793121685396, & rsc_{CX} : -38.6228745485821, & rsc_{CY} : 38.2484703151368, & rsc_{R} : 41.6228745485821\\end{Bmatrix}, & \\begin{Bmatrix}lsc_{CX} : 0.42754118393054, & lsc_{CY} : 9.46227967945695, & lsc_{R} : 0.42754118393054, & p_{1 X} : 0.409326026035579, & p_{1 Y} : 9.88943266373727, & p_{2 X} : -3.08862511748588, & p_{2 Y} : 9.49807990587343, & p_{3 X} : 0.331464857321876, & p_{3 Y} : 9.04567338639104, & p_{4 X} : -0.338092173259822, & p_{4 Y} : 9.24837672528412, & rsc_{CX} : -2.1631633570936, & rsc_{CY} : 4.41853500676232, & rsc_{R} : 5.1631633570936\\end{Bmatrix}, & \\begin{Bmatrix}lsc_{CX} : 0.42754118393054, & lsc_{CY} : 9.46227967945695, & lsc_{R} : 0.42754118393054, & p_{1 X} : 0.409326026035579, & p_{1 Y} : 9.88943266373727, & p_{2 X} : -0.0121977517233649, & p_{2 Y} : 9.86797504090891, & p_{3 X} : 0.331464857321876, & p_{3 Y} : 9.04567338639104, & p_{4 X} : -2.92625328945784, & p_{4 Y} : 11.3835229520277, & rsc_{CX} : -0.20129921564908, & rsc_{CY} : 13.0636842430199, & rsc_{R} : 3.20129921564908\\end{Bmatrix}, & \\begin{Bmatrix}lsc_{CX} : 0.42754118393054, & lsc_{CY} : 9.46227967945695, & lsc_{R} : 0.42754118393054, & p_{1 X} : 0.409326026035579, & p_{1 Y} : 9.88943266373727, & p_{2 X} : 2.59067397396442, & p_{2 Y} : 9.88943266373727, & p_{3 X} : 0.331464857321876, & p_{3 Y} : 9.04567338639104, & p_{4 X} : 2.66853514267812, & p_{4 Y} : 9.04567338639104, & rsc_{CX} : 2.57245881606946, & rsc_{CY} : 9.46227967945695, & rsc_{R} : 0.42754118393054\\end{Bmatrix}, & \\begin{Bmatrix}lsc_{CX} : 3.20129921564908, & lsc_{CY} : 13.0636842430199, & lsc_{R} : 3.20129921564908, & p_{1 X} : 3.01219775172336, & p_{1 Y} : 9.86797504090891, & p_{2 X} : -13.7797034542369, & p_{2 Y} : 4.85265417502582, & p_{3 X} : 5.92625328945784, & p_{3 Y} : 11.3835229520277, & p_{4 X} : -2.95591924169775, & p_{4 Y} : 16.793121685396, & rsc_{CX} : -38.6228745485821, & rsc_{CY} : 38.2484703151368, & rsc_{R} : 41.6228745485821\\end{Bmatrix}, & \\begin{Bmatrix}lsc_{CX} : 3.20129921564908, & lsc_{CY} : 13.0636842430199, & lsc_{R} : 3.20129921564908, & p_{1 X} : 3.01219775172336, & p_{1 Y} : 9.86797504090891, & p_{2 X} : -3.08862511748588, & p_{2 Y} : 9.49807990587343, & p_{3 X} : 5.92625328945784, & p_{3 Y} : 11.3835229520277, & p_{4 X} : -0.338092173259822, & p_{4 Y} : 9.24837672528412, & rsc_{CX} : -2.1631633570936, & rsc_{CY} : 4.41853500676232, & rsc_{R} : 5.1631633570936\\end{Bmatrix}, & \\begin{Bmatrix}lsc_{CX} : 3.20129921564908, & lsc_{CY} : 13.0636842430199, & lsc_{R} : 3.20129921564908, & p_{1 X} : 3.01219775172336, & p_{1 Y} : 9.86797504090891, & p_{2 X} : -0.0121977517233649, & p_{2 Y} : 9.86797504090891, & p_{3 X} : 5.92625328945784, & p_{3 Y} : 11.3835229520277, & p_{4 X} : -2.92625328945784, & p_{4 Y} : 11.3835229520277, & rsc_{CX} : -0.20129921564908, & rsc_{CY} : 13.0636842430199, & rsc_{R} : 3.20129921564908\\end{Bmatrix}, & \\begin{Bmatrix}lsc_{CX} : 3.20129921564908, & lsc_{CY} : 13.0636842430199, & lsc_{R} : 3.20129921564908, & p_{1 X} : 3.01219775172336, & p_{1 Y} : 9.86797504090891, & p_{2 X} : 2.59067397396442, & p_{2 Y} : 9.88943266373727, & p_{3 X} : 5.92625328945784, & p_{3 Y} : 11.3835229520277, & p_{4 X} : 2.66853514267812, & p_{4 Y} : 9.04567338639104, & rsc_{CX} : 2.57245881606946, & rsc_{CY} : 9.46227967945695, & rsc_{R} : 0.42754118393054\\end{Bmatrix}, & \\begin{Bmatrix}lsc_{CX} : 5.1631633570936, & lsc_{CY} : 4.41853500676232, & lsc_{R} : 5.1631633570936, & p_{1 X} : 6.08862511748588, & p_{1 Y} : 9.49807990587343, & p_{2 X} : -13.7797034542369, & p_{2 Y} : 4.85265417502582, & p_{3 X} : 3.33809217325982, & p_{3 Y} : 9.24837672528412, & p_{4 X} : -2.95591924169775, & p_{4 Y} : 16.793121685396, & rsc_{CX} : -38.6228745485821, & rsc_{CY} : 38.2484703151368, & rsc_{R} : 41.6228745485821\\end{Bmatrix}, & \\begin{Bmatrix}lsc_{CX} : 5.1631633570936, & lsc_{CY} : 4.41853500676232, & lsc_{R} : 5.1631633570936, & p_{1 X} : 6.08862511748588, & p_{1 Y} : 9.49807990587343, & p_{2 X} : -3.08862511748588, & p_{2 Y} : 9.49807990587343, & p_{3 X} : 3.33809217325982, & p_{3 Y} : 9.24837672528412, & p_{4 X} : -0.338092173259822, & p_{4 Y} : 9.24837672528412, & rsc_{CX} : -2.1631633570936, & rsc_{CY} : 4.41853500676232, & rsc_{R} : 5.1631633570936\\end{Bmatrix}, & \\begin{Bmatrix}lsc_{CX} : 5.1631633570936, & lsc_{CY} : 4.41853500676232, & lsc_{R} : 5.1631633570936, & p_{1 X} : 6.08862511748588, & p_{1 Y} : 9.49807990587343, & p_{2 X} : -0.0121977517233649, & p_{2 Y} : 9.86797504090891, & p_{3 X} : 3.33809217325982, & p_{3 Y} : 9.24837672528412, & p_{4 X} : -2.92625328945784, & p_{4 Y} : 11.3835229520277, & rsc_{CX} : -0.20129921564908, & rsc_{CY} : 13.0636842430199, & rsc_{R} : 3.20129921564908\\end{Bmatrix}, & \\begin{Bmatrix}lsc_{CX} : 5.1631633570936, & lsc_{CY} : 4.41853500676232, & lsc_{R} : 5.1631633570936, & p_{1 X} : 6.08862511748588, & p_{1 Y} : 9.49807990587343, & p_{2 X} : 2.59067397396442, & p_{2 Y} : 9.88943266373727, & p_{3 X} : 3.33809217325982, & p_{3 Y} : 9.24837672528412, & p_{4 X} : 2.66853514267812, & p_{4 Y} : 9.04567338639104, & rsc_{CX} : 2.57245881606946, & rsc_{CY} : 9.46227967945695, & rsc_{R} : 0.42754118393054\\end{Bmatrix}, & \\begin{Bmatrix}lsc_{CX} : 41.6228745485821, & lsc_{CY} : 38.2484703151368, & lsc_{R} : 41.6228745485821, & p_{1 X} : 16.7797034542369, & p_{1 Y} : 4.85265417502582, & p_{2 X} : -13.7797034542369, & p_{2 Y} : 4.85265417502582, & p_{3 X} : 5.95591924169775, & p_{3 Y} : 16.793121685396, & p_{4 X} : -2.95591924169775, & p_{4 Y} : 16.793121685396, & rsc_{CX} : -38.6228745485821, & rsc_{CY} : 38.2484703151368, & rsc_{R} : 41.6228745485821\\end{Bmatrix}, & \\begin{Bmatrix}lsc_{CX} : 41.6228745485821, & lsc_{CY} : 38.2484703151368, & lsc_{R} : 41.6228745485821, & p_{1 X} : 16.7797034542369, & p_{1 Y} : 4.85265417502582, & p_{2 X} : -3.08862511748588, & p_{2 Y} : 9.49807990587343, & p_{3 X} : 5.95591924169775, & p_{3 Y} : 16.793121685396, & p_{4 X} : -0.338092173259822, & p_{4 Y} : 9.24837672528412, & rsc_{CX} : -2.1631633570936, & rsc_{CY} : 4.41853500676232, & rsc_{R} : 5.1631633570936\\end{Bmatrix}, & \\begin{Bmatrix}lsc_{CX} : 41.6228745485821, & lsc_{CY} : 38.2484703151368, & lsc_{R} : 41.6228745485821, & p_{1 X} : 16.7797034542369, & p_{1 Y} : 4.85265417502582, & p_{2 X} : -0.0121977517233649, & p_{2 Y} : 9.86797504090891, & p_{3 X} : 5.95591924169775, & p_{3 Y} : 16.793121685396, & p_{4 X} : -2.92625328945784, & p_{4 Y} : 11.3835229520277, & rsc_{CX} : -0.20129921564908, & rsc_{CY} : 13.0636842430199, & rsc_{R} : 3.20129921564908\\end{Bmatrix}, & \\begin{Bmatrix}lsc_{CX} : 41.6228745485821, & lsc_{CY} : 38.2484703151368, & lsc_{R} : 41.6228745485821, & p_{1 X} : 16.7797034542369, & p_{1 Y} : 4.85265417502582, & p_{2 X} : 2.59067397396442, & p_{2 Y} : 9.88943266373727, & p_{3 X} : 5.95591924169775, & p_{3 Y} : 16.793121685396, & p_{4 X} : 2.66853514267812, & p_{4 Y} : 9.04567338639104, & rsc_{CX} : 2.57245881606946, & rsc_{CY} : 9.46227967945695, & rsc_{R} : 0.42754118393054\\end{Bmatrix}\\end{bmatrix}\\end{pmatrix}$$"
       ],
       "output_type": "pyout",
       "prompt_number": 77,
       "text": [
        "(16, [{lsc_CX: 0.42754118393054, lsc_CY: 9.46227967945695, lsc_R: 0.4275411839\n",
        "3054, p1_X: 0.409326026035579, p1_Y: 9.88943266373727, p2_X: -13.7797034542369\n",
        ", p2_Y: 4.85265417502582, p3_X: 0.331464857321876, p3_Y: 9.04567338639104, p4_\n",
        "X: -2.95591924169775, p4_Y: 16.793121685396, rsc_CX: -38.6228745485821, rsc_CY\n",
        ": 38.2484703151368, rsc_R: 41.6228745485821}, {lsc_CX: 0.42754118393054, lsc_C\n",
        "Y: 9.46227967945695, lsc_R: 0.42754118393054, p1_X: 0.409326026035579, p1_Y: 9\n",
        ".88943266373727, p2_X: -3.08862511748588, p2_Y: 9.49807990587343, p3_X: 0.3314\n",
        "64857321876, p3_Y: 9.04567338639104, p4_X: -0.338092173259822, p4_Y: 9.2483767\n",
        "2528412, rsc_CX: -2.1631633570936, rsc_CY: 4.41853500676232, rsc_R: 5.16316335\n",
        "70936}, {lsc_CX: 0.42754118393054, lsc_CY: 9.46227967945695, lsc_R: 0.42754118\n",
        "393054, p1_X: 0.409326026035579, p1_Y: 9.88943266373727, p2_X: -0.012197751723\n",
        "3649, p2_Y: 9.86797504090891, p3_X: 0.331464857321876, p3_Y: 9.04567338639104,\n",
        " p4_X: -2.92625328945784, p4_Y: 11.3835229520277, rsc_CX: -0.20129921564908, r\n",
        "sc_CY: 13.0636842430199, rsc_R: 3.20129921564908}, {lsc_CX: 0.42754118393054, \n",
        "lsc_CY: 9.46227967945695, lsc_R: 0.42754118393054, p1_X: 0.409326026035579, p1\n",
        "_Y: 9.88943266373727, p2_X: 2.59067397396442, p2_Y: 9.88943266373727, p3_X: 0.\n",
        "331464857321876, p3_Y: 9.04567338639104, p4_X: 2.66853514267812, p4_Y: 9.04567\n",
        "338639104, rsc_CX: 2.57245881606946, rsc_CY: 9.46227967945695, rsc_R: 0.427541\n",
        "18393054}, {lsc_CX: 3.20129921564908, lsc_CY: 13.0636842430199, lsc_R: 3.20129\n",
        "921564908, p1_X: 3.01219775172336, p1_Y: 9.86797504090891, p2_X: -13.779703454\n",
        "2369, p2_Y: 4.85265417502582, p3_X: 5.92625328945784, p3_Y: 11.3835229520277, \n",
        "p4_X: -2.95591924169775, p4_Y: 16.793121685396, rsc_CX: -38.6228745485821, rsc\n",
        "_CY: 38.2484703151368, rsc_R: 41.6228745485821}, {lsc_CX: 3.20129921564908, ls\n",
        "c_CY: 13.0636842430199, lsc_R: 3.20129921564908, p1_X: 3.01219775172336, p1_Y:\n",
        " 9.86797504090891, p2_X: -3.08862511748588, p2_Y: 9.49807990587343, p3_X: 5.92\n",
        "625328945784, p3_Y: 11.3835229520277, p4_X: -0.338092173259822, p4_Y: 9.248376\n",
        "72528412, rsc_CX: -2.1631633570936, rsc_CY: 4.41853500676232, rsc_R: 5.1631633\n",
        "570936}, {lsc_CX: 3.20129921564908, lsc_CY: 13.0636842430199, lsc_R: 3.2012992\n",
        "1564908, p1_X: 3.01219775172336, p1_Y: 9.86797504090891, p2_X: -0.012197751723\n",
        "3649, p2_Y: 9.86797504090891, p3_X: 5.92625328945784, p3_Y: 11.3835229520277, \n",
        "p4_X: -2.92625328945784, p4_Y: 11.3835229520277, rsc_CX: -0.20129921564908, rs\n",
        "c_CY: 13.0636842430199, rsc_R: 3.20129921564908}, {lsc_CX: 3.20129921564908, l\n",
        "sc_CY: 13.0636842430199, lsc_R: 3.20129921564908, p1_X: 3.01219775172336, p1_Y\n",
        ": 9.86797504090891, p2_X: 2.59067397396442, p2_Y: 9.88943266373727, p3_X: 5.92\n",
        "625328945784, p3_Y: 11.3835229520277, p4_X: 2.66853514267812, p4_Y: 9.04567338\n",
        "639104, rsc_CX: 2.57245881606946, rsc_CY: 9.46227967945695, rsc_R: 0.427541183\n",
        "93054}, {lsc_CX: 5.1631633570936, lsc_CY: 4.41853500676232, lsc_R: 5.163163357\n",
        "0936, p1_X: 6.08862511748588, p1_Y: 9.49807990587343, p2_X: -13.7797034542369,\n",
        " p2_Y: 4.85265417502582, p3_X: 3.33809217325982, p3_Y: 9.24837672528412, p4_X:\n",
        " -2.95591924169775, p4_Y: 16.793121685396, rsc_CX: -38.6228745485821, rsc_CY: \n",
        "38.2484703151368, rsc_R: 41.6228745485821}, {lsc_CX: 5.1631633570936, lsc_CY: \n",
        "4.41853500676232, lsc_R: 5.1631633570936, p1_X: 6.08862511748588, p1_Y: 9.4980\n",
        "7990587343, p2_X: -3.08862511748588, p2_Y: 9.49807990587343, p3_X: 3.338092173\n",
        "25982, p3_Y: 9.24837672528412, p4_X: -0.338092173259822, p4_Y: 9.2483767252841\n",
        "2, rsc_CX: -2.1631633570936, rsc_CY: 4.41853500676232, rsc_R: 5.1631633570936}\n",
        ", {lsc_CX: 5.1631633570936, lsc_CY: 4.41853500676232, lsc_R: 5.1631633570936, \n",
        "p1_X: 6.08862511748588, p1_Y: 9.49807990587343, p2_X: -0.0121977517233649, p2_\n",
        "Y: 9.86797504090891, p3_X: 3.33809217325982, p3_Y: 9.24837672528412, p4_X: -2.\n",
        "92625328945784, p4_Y: 11.3835229520277, rsc_CX: -0.20129921564908, rsc_CY: 13.\n",
        "0636842430199, rsc_R: 3.20129921564908}, {lsc_CX: 5.1631633570936, lsc_CY: 4.4\n",
        "1853500676232, lsc_R: 5.1631633570936, p1_X: 6.08862511748588, p1_Y: 9.4980799\n",
        "0587343, p2_X: 2.59067397396442, p2_Y: 9.88943266373727, p3_X: 3.3380921732598\n",
        "2, p3_Y: 9.24837672528412, p4_X: 2.66853514267812, p4_Y: 9.04567338639104, rsc\n",
        "_CX: 2.57245881606946, rsc_CY: 9.46227967945695, rsc_R: 0.42754118393054}, {ls\n",
        "c_CX: 41.6228745485821, lsc_CY: 38.2484703151368, lsc_R: 41.6228745485821, p1_\n",
        "X: 16.7797034542369, p1_Y: 4.85265417502582, p2_X: -13.7797034542369, p2_Y: 4.\n",
        "85265417502582, p3_X: 5.95591924169775, p3_Y: 16.793121685396, p4_X: -2.955919\n",
        "24169775, p4_Y: 16.793121685396, rsc_CX: -38.6228745485821, rsc_CY: 38.2484703\n",
        "151368, rsc_R: 41.6228745485821}, {lsc_CX: 41.6228745485821, lsc_CY: 38.248470\n",
        "3151368, lsc_R: 41.6228745485821, p1_X: 16.7797034542369, p1_Y: 4.852654175025\n",
        "82, p2_X: -3.08862511748588, p2_Y: 9.49807990587343, p3_X: 5.95591924169775, p\n",
        "3_Y: 16.793121685396, p4_X: -0.338092173259822, p4_Y: 9.24837672528412, rsc_CX\n",
        ": -2.1631633570936, rsc_CY: 4.41853500676232, rsc_R: 5.1631633570936}, {lsc_CX\n",
        ": 41.6228745485821, lsc_CY: 38.2484703151368, lsc_R: 41.6228745485821, p1_X: 1\n",
        "6.7797034542369, p1_Y: 4.85265417502582, p2_X: -0.0121977517233649, p2_Y: 9.86\n",
        "797504090891, p3_X: 5.95591924169775, p3_Y: 16.793121685396, p4_X: -2.92625328\n",
        "945784, p4_Y: 11.3835229520277, rsc_CX: -0.20129921564908, rsc_CY: 13.06368424\n",
        "30199, rsc_R: 3.20129921564908}, {lsc_CX: 41.6228745485821, lsc_CY: 38.2484703\n",
        "151368, lsc_R: 41.6228745485821, p1_X: 16.7797034542369, p1_Y: 4.8526541750258\n",
        "2, p2_X: 2.59067397396442, p2_Y: 9.88943266373727, p3_X: 5.95591924169775, p3_\n",
        "Y: 16.793121685396, p4_X: 2.66853514267812, p4_Y: 9.04567338639104, rsc_CX: 2.\n",
        "57245881606946, rsc_CY: 9.46227967945695, rsc_R: 0.42754118393054}])"
       ]
      }
     ],
     "prompt_number": 77
    },
    {
     "cell_type": "code",
     "collapsed": false,
     "input": [
      "filtered_solutions = [ s \n",
      "for s in solutions\n",
      "if RI+H >s[lsc_CY]> RI and\n",
      "   RI+H >s[rsc_CY]> RI\n",
      "]\n",
      "len(filtered_solutions)\n",
      "for s in filtered_solutions[0]:\n",
      "    print s,'\\t:',filtered_solutions[0][s]"
     ],
     "language": "python",
     "metadata": {},
     "outputs": [
      {
       "output_type": "stream",
       "stream": "stdout",
       "text": [
        "rsc_R \t: 0.427541183930540\n",
        "p2_Y \t: 9.88943266373727\n",
        "lsc_CY \t: 9.46227967945695\n",
        "p4_X \t: 2.66853514267812\n",
        "p2_X \t: 2.59067397396442\n",
        "rsc_CY \t: 9.46227967945695\n",
        "p1_Y \t: 9.88943266373727\n",
        "p3_X \t: 0.331464857321876\n",
        "rsc_CX \t: 2.57245881606946\n",
        "lsc_R \t: 0.427541183930540\n",
        "lsc_CX \t: 0.427541183930540\n",
        "p3_Y \t: 9.04567338639104\n",
        "p4_Y \t: 9.04567338639104\n",
        "p1_X \t: 0.409326026035579\n"
       ]
      }
     ],
     "prompt_number": 78
    },
    {
     "cell_type": "code",
     "collapsed": false,
     "input": [
      "import numpy as np\n",
      "import matplotlib.pyplot as plt\n",
      "#fig = plt.figure(figsize=(10,10*(H/W)))\n",
      "fig = plt.figure(figsize=(10,10))\n",
      "rr=1000\n",
      "margin=20\n",
      "plt.xlim([0-margin,W+margin])\n",
      "plt.ylim([RI-margin,RI+H+margin])\n",
      "ax = fig.add_subplot(1, 1, 1)\n",
      "\n",
      "def mk_circle(x,y,r,**kwargs):\n",
      "    circ = plt.Circle((x, y),r, fill=False, **kwargs)\n",
      "    plt.gcf().gca().add_artist(circ)\n",
      "    return circ\n",
      "    \n",
      "mk_circle(bbc_CX,bbc_CY,bbc_R)\n",
      "mk_circle(btc_CX,btc_CY,btc_R)\n",
      "\n",
      "\n",
      "for s in filtered_solutions:\n",
      "    mk_circle( s[lsc_CX],s[lsc_CY],s[lsc_R],color='r')\n",
      "    mk_circle( s[rsc_CX],s[rsc_CY],s[rsc_R],color='g')\n",
      "   \n",
      "\n",
      "\n",
      "#line1 = plt.Line2D([plot_x,bbc_CX],[plot_y,plot_cy])\n",
      "#plt.gcf().gca().add_artist(line1)\n",
      "\n",
      "\n",
      "assert len (filtered_solutions) == 1\n",
      "S = filtered_solutions[0]\n",
      "plt.show()"
     ],
     "language": "python",
     "metadata": {},
     "outputs": [
      {
       "ename": "TypeError",
       "evalue": "'list' object is not callable",
       "output_type": "pyerr",
       "traceback": [
        "\u001b[1;31m---------------------------------------------------------------------------\u001b[0m\n\u001b[1;31mTypeError\u001b[0m                                 Traceback (most recent call last)",
        "\u001b[1;32m<ipython-input-79-e2ef72bb0caf>\u001b[0m in \u001b[0;36m<module>\u001b[1;34m()\u001b[0m\n\u001b[0;32m      5\u001b[0m \u001b[0mrr\u001b[0m\u001b[1;33m=\u001b[0m\u001b[1;36m1000\u001b[0m\u001b[1;33m\u001b[0m\u001b[0m\n\u001b[0;32m      6\u001b[0m \u001b[0mmargin\u001b[0m\u001b[1;33m=\u001b[0m\u001b[1;36m20\u001b[0m\u001b[1;33m\u001b[0m\u001b[0m\n\u001b[1;32m----> 7\u001b[1;33m \u001b[0mplt\u001b[0m\u001b[1;33m.\u001b[0m\u001b[0mxlim\u001b[0m\u001b[1;33m(\u001b[0m\u001b[1;33m[\u001b[0m\u001b[1;36m0\u001b[0m\u001b[1;33m-\u001b[0m\u001b[0mmargin\u001b[0m\u001b[1;33m,\u001b[0m\u001b[0mW\u001b[0m\u001b[1;33m+\u001b[0m\u001b[0mmargin\u001b[0m\u001b[1;33m]\u001b[0m\u001b[1;33m)\u001b[0m\u001b[1;33m\u001b[0m\u001b[0m\n\u001b[0m\u001b[0;32m      8\u001b[0m \u001b[0mplt\u001b[0m\u001b[1;33m.\u001b[0m\u001b[0mylim\u001b[0m\u001b[1;33m(\u001b[0m\u001b[1;33m[\u001b[0m\u001b[0mRI\u001b[0m\u001b[1;33m-\u001b[0m\u001b[0mmargin\u001b[0m\u001b[1;33m,\u001b[0m\u001b[0mRI\u001b[0m\u001b[1;33m+\u001b[0m\u001b[0mH\u001b[0m\u001b[1;33m+\u001b[0m\u001b[0mmargin\u001b[0m\u001b[1;33m]\u001b[0m\u001b[1;33m)\u001b[0m\u001b[1;33m\u001b[0m\u001b[0m\n\u001b[0;32m      9\u001b[0m \u001b[0max\u001b[0m \u001b[1;33m=\u001b[0m \u001b[0mfig\u001b[0m\u001b[1;33m.\u001b[0m\u001b[0madd_subplot\u001b[0m\u001b[1;33m(\u001b[0m\u001b[1;36m1\u001b[0m\u001b[1;33m,\u001b[0m \u001b[1;36m1\u001b[0m\u001b[1;33m,\u001b[0m \u001b[1;36m1\u001b[0m\u001b[1;33m)\u001b[0m\u001b[1;33m\u001b[0m\u001b[0m\n",
        "\u001b[1;31mTypeError\u001b[0m: 'list' object is not callable"
       ]
      }
     ],
     "prompt_number": 79
    },
    {
     "cell_type": "code",
     "collapsed": false,
     "input": [
      "%run integral.py"
     ],
     "language": "python",
     "metadata": {},
     "outputs": []
    },
    {
     "cell_type": "code",
     "collapsed": false,
     "input": [
      "plt.figsize(20,10)\n",
      "plt.gca().set_xlim(-1,W+1)\n",
      "plt.gca().set_ylim(RI-1,H+RI+1)\n",
      "\n",
      "top = __builtin__.sum ([\n",
      "   volume_integrate_arc_top(P(S[lsc_CX],S[lsc_CY]), S[lsc_R], 0., S[Symbol('p1_X')]),\n",
      "   volume_integrate_arc_top(P(btc_CX,btc_CY), btc_R, S[Symbol('p1_X')], S[Symbol('p2_X')]),\n",
      "   volume_integrate_arc_top(P(S[rsc_CX],S[rsc_CY]), S[rsc_R], S[Symbol('p2_X')], W),\n",
      "]) \n",
      "bottom = __builtin__.sum ([\n",
      "   volume_integrate_arc_bottom(P(S[lsc_CX],S[lsc_CY]), S[lsc_R], 0. , S[Symbol('p3_X')]),\n",
      "   volume_integrate_arc_bottom(P(bbc_CX,bbc_CY), bbc_R, S[Symbol('p3_X')], S[Symbol('p4_X')]),\n",
      "   volume_integrate_arc_bottom(P(S[rsc_CX],S[rsc_CY]), S[rsc_R], S[Symbol('p4_X')], W),             \n",
      "]) \n",
      "\n",
      "print 'top_vol=',top\n",
      "print 'bottom_vol=',bottom\n",
      "volume=top-bottom\n",
      "print 'vol=',volume"
     ],
     "language": "python",
     "metadata": {},
     "outputs": []
    },
    {
     "cell_type": "code",
     "collapsed": false,
     "input": [
      "[\n",
      "   volume_integrate_arc_top(P(S[lsc_CX],S[lsc_CY]), S[lsc_R], 0., S[Symbol('p1_X')]),\n",
      "   volume_integrate_arc_top(P(btc_CX,btc_CY), btc_R, S[Symbol('p1_X')], S[Symbol('p2_X')]),\n",
      "   volume_integrate_arc_top(P(S[rsc_CX],S[rsc_CY]), S[rsc_R], S[Symbol('p2_X')], W),\n",
      "]"
     ],
     "language": "python",
     "metadata": {},
     "outputs": []
    },
    {
     "cell_type": "code",
     "collapsed": false,
     "input": [
      "[\n",
      "   volume_integrate_arc_bottom(P(S[lsc_CX],S[lsc_CY]), S[lsc_R], 0. , S[Symbol('p3_X')]),\n",
      "   volume_integrate_arc_bottom(P(bbc_CX,bbc_CY), bbc_R, S[Symbol('p3_X')], S[Symbol('p4_X')]),\n",
      "   volume_integrate_arc_bottom(P(S[rsc_CX],S[rsc_CY]), S[rsc_R], S[Symbol('p4_X')], W),             \n",
      "]"
     ],
     "language": "python",
     "metadata": {},
     "outputs": []
    },
    {
     "cell_type": "code",
     "collapsed": false,
     "input": [
      "volume_integrate_arc_top(P(S[lsc_CX],S[lsc_CY]), S[lsc_R], 0., S[Symbol('p1_X')])"
     ],
     "language": "python",
     "metadata": {},
     "outputs": []
    },
    {
     "cell_type": "code",
     "collapsed": false,
     "input": [
      "volume_integrate_arc_top(P(btc_CX,btc_CY), btc_R, S[Symbol('p1_X')], S[Symbol('p2_X')])"
     ],
     "language": "python",
     "metadata": {},
     "outputs": []
    },
    {
     "cell_type": "code",
     "collapsed": false,
     "input": [
      "volume_integrate_arc_top(P(S[rsc_CX],S[rsc_CY]), S[rsc_R], S[Symbol('p2_X')], W)"
     ],
     "language": "python",
     "metadata": {},
     "outputs": []
    },
    {
     "cell_type": "raw",
     "metadata": {},
     "source": [
      "So far I have  only send you the final data for profiles p2-p6.\n",
      "(but maybe you are reffering to the structure PDF TR_7.pdf)\n",
      " \n",
      "For those profiles I have sent you the volume-values to quick validate the calculations\n",
      " \n",
      "Volume:\n",
      "Profile P2:     width: 4     height:2        ringwidth/inner circumfence 56     volume:0,396 cm\u00b3\n",
      "Profile P3:     width: 5     height:1,5     ringwidth/inner circumfence 56     volume:0,336 cm\u00b3\n",
      "Profile P4:     width: 7     height:3        ringwidth/inner circumfence 56     volume:1,155 cm\u00b3\n",
      "Profile P5:     width: 3     height:1        ringwidth/inner circumfence 56     volume:0,144 cm\u00b3\n",
      "Profile P6:     width: 6     height:2,5     ringwidth/inner circumfence 56     volume:0,758 cm\u00b3"
     ]
    },
    {
     "cell_type": "code",
     "collapsed": false,
     "input": [
      "ours = 155.559839915\n",
      "theirs = 144\n",
      "diff = ours - theirs\n",
      "deviation = diff / min(theirs,ours)\n",
      "print 'difference=',diff\n",
      "print 'dev =',deviation*100,' %'"
     ],
     "language": "python",
     "metadata": {},
     "outputs": []
    }
   ],
   "metadata": {}
  }
 ]
}
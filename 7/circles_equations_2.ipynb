{
 "metadata": {
  "name": "circles_equations_2"
 },
 "nbformat": 3,
 "nbformat_minor": 0,
 "worksheets": [
  {
   "cells": [
    {
     "cell_type": "code",
     "collapsed": false,
     "input": [
      "from sympy import *\n",
      "import numpy as np\n",
      "import scipy as sp\n",
      "%load_ext sympyprinting\n",
      "#%load_ext sympy.interactive.ipythonprinting\n",
      "#%pylab inline\n",
      "from __future__ import division\n",
      "init_printing()\n",
      "# l|r|t|b left right top bottom b|s big small c=circle\n",
      "# C=center \n",
      "# X,Y independent\n",
      "# R=radius\n",
      "# W=width H=height\n",
      "# RI=inner ring radius"
     ],
     "language": "python",
     "metadata": {},
     "outputs": [],
     "prompt_number": 10
    },
    {
     "cell_type": "code",
     "collapsed": false,
     "input": [
      "W  = 6. #R51 \n",
      "H  = 1.8 #R52\n",
      "RI = 7.4  \n",
      "bbc_R  = 6.38\n",
      "btc_R  = 6.38\n",
      "# calculated\n",
      "bbc_CX = W/2.\n",
      "bbc_CY = RI + bbc_R\n",
      "btc_CX = W/2.\n",
      "btc_CY = RI + H - btc_R\n",
      "lsc_R  = Symbol('lsc_R')\n",
      "lsc_CX = Symbol('lsc_CX')\n",
      "lsc_CY = Symbol('lsc_CY')\n",
      "rsc_R  = Symbol('rsc_R')\n",
      "rsc_CX = Symbol('rsc_CX')\n",
      "rsc_CY = Symbol('rsc_CY')"
     ],
     "language": "python",
     "metadata": {},
     "outputs": [],
     "prompt_number": 21
    },
    {
     "cell_type": "code",
     "collapsed": false,
     "input": [
      "# left and right centerX's of small circles\n",
      "eq_left_tang = lsc_CX - lsc_R \n",
      "eq_right_tang = rsc_CX - W + rsc_R  \n",
      "# 4 tangent. of small circles crossing big circles\n",
      "# e.g. ('lsc','bsc','p1')\n",
      "def _2_circles_tangential_equations(c1,c2,var_name):\n",
      "    'c1: string name of circle 1'\n",
      "    'c2: string name of other circle'\n",
      "    'var_name: string, independent will be created'\n",
      "    G = globals()\n",
      "    c1_CX = G['{}_CX'.format(c1)]\n",
      "    c1_CY = G['{}_CY'.format(c1)]\n",
      "    c1_R  = G['{}_R'.format(c1)]\n",
      "\n",
      "    c2_CX = G['{}_CX'.format(c2)]\n",
      "    c2_CY = G['{}_CY'.format(c2)]\n",
      "    c2_R  = G['{}_R'.format(c2)]\n",
      "    X = Symbol(var_name+'_X')\n",
      "    Y = Symbol(var_name+'_Y')\n",
      "    eq_c1 = (X - c1_CX) ** 2 + (Y - c1_CY) ** 2 - c1_R ** 2\n",
      "    eq_c2 = (X - c2_CX) ** 2 + (Y - c2_CY) ** 2 - c2_R ** 2\n",
      "    eq_line = (Y - c2_CY) * (c1_CX - c2_CX) - (X - c2_CX) * (c1_CY - c2_CY)\n",
      "    return [eq_c1, eq_c2, eq_line]"
     ],
     "language": "python",
     "metadata": {},
     "outputs": [],
     "prompt_number": 38
    },
    {
     "cell_type": "code",
     "collapsed": false,
     "input": [
      "_2_circles_tangential_equations('lsc','bbc','p1')\n",
      "\n",
      "#eq_lsc = (X-lsc_CX)**2+(Y-lsc_CY)**2 - lsc_R**2\"\n",
      "#eq_bbc = (X-bbc_CX)**2+(Y-bbc_CY)**2 - bbc_R**2\n",
      "#eq_line = (Y-bbc_CY)*(lsc_CX-bbc_CX) - (X-bbc_CX)*(lsc_CY-bbc_CY)\n"
     ],
     "language": "python",
     "metadata": {},
     "outputs": [
      {
       "latex": [
        "$$\\begin{bmatrix}- lsc_{R}^{2} + \\left(- lsc_{CX} + p_{1 X}\\right)^{2} + \\left(- lsc_{CY} + p_{1 Y}\\right)^{2}, & \\left(p_{1 X} -3.0\\right)^{2} + \\left(p_{1 Y} -13.78\\right)^{2} -40.7044, & \\left(lsc_{CX} -3.0\\right) \\left(p_{1 Y} -13.78\\right) - \\left(lsc_{CY} -13.78\\right) \\left(p_{1 X} -3.0\\right)\\end{bmatrix}$$"
       ],
       "output_type": "pyout",
       "prompt_number": 39,
       "text": [
        "\u23a1       2                   2                   2              2              \n",
        "\u23a3- lsc_R  + (-lsc_CX + p1_X)  + (-lsc_CY + p1_Y) , (p1_X - 3.0)  + (p1_Y - 13.\n",
        "\n",
        "   2                                                                         \u23a4\n",
        "78)  - 40.7044, (lsc_CX - 3.0)\u22c5(p1_Y - 13.78) - (lsc_CY - 13.78)\u22c5(p1_X - 3.0)\u23a6"
       ]
      }
     ],
     "prompt_number": 39
    },
    {
     "cell_type": "code",
     "collapsed": false,
     "input": [
      "solutions = \"\n",
      "print \"solutions:\", len(solutions)\n",
      "assert len(solutions) == 4"
     ],
     "language": "python",
     "metadata": {},
     "outputs": [
      {
       "output_type": "stream",
       "stream": "stdout",
       "text": [
        "solutions: 4\n"
       ]
      }
     ],
     "prompt_number": 7
    },
    {
     "cell_type": "code",
     "collapsed": false,
     "input": [
      "print \"solutions\"\n",
      "for s in solutions:\n",
      "    print s\n",
      "from operator import itemgetter\n",
      "plot_cy,plot_x,plot_y=sorted(solutions, key=itemgetter(0), reverse=1)[1]"
     ],
     "language": "python",
     "metadata": {},
     "outputs": [
      {
       "output_type": "stream",
       "stream": "stdout",
       "text": [
        "solutions\n",
        "(-332.073319220206, 21.7894736842105, 24.4318780471981)\n",
        "(-286.000659867373, 24.3772455089820, 70.3587280746994)\n",
        "(380.800659867373, 24.3772455089820, 24.4412719253006)\n",
        "(426.873319220206, 21.7894736842105, 70.3681219528019)\n"
       ]
      }
     ],
     "prompt_number": 8
    },
    {
     "cell_type": "code",
     "collapsed": false,
     "input": [
      "import numpy as np\n",
      "import matplotlib.pyplot as plt\n",
      "#_x, _y = np.meshgrid(np.linspace(0,1), np.linspace(0,1))\n",
      "#F = _x ** _y\n",
      "#G = _y ** _x\n",
      "fig = plt.figure(figsize=(10,10*(H/W)))\n",
      "rr=1000\n",
      "margin=20\n",
      "plt.xlim([0-margin,W+margin])\n",
      "plt.ylim([RI-margin,RI+H+margin])\n",
      "ax = fig.add_subplot(1, 1, 1)\n",
      "circ = plt.Circle((bbc_CX, plot_cy),bbc_R, color='r', fill=False)\n",
      "plt.gcf().gca().add_artist(circ)\n",
      "\n",
      "circ2 = plt.Circle((lsc_CX, lsc_CY),lsc_R, color='blue', fill=False)\n",
      "plt.gcf().gca().add_artist(circ2)\n",
      "\n",
      "line1 = plt.Line2D([plot_x,bbc_CX],[plot_y,plot_cy])\n",
      "plt.gcf().gca().add_artist(line1)\n",
      "\n",
      "plt.show()"
     ],
     "language": "python",
     "metadata": {},
     "outputs": [
      {
       "output_type": "display_data",
       "png": "[encoded data removed]"
      }
     ],
     "prompt_number": 9
    }
   ],
   "metadata": {}
  }
 ]
}
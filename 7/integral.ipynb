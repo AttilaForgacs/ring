{
 "metadata": {
  "name": "integral"
 },
 "nbformat": 3,
 "nbformat_minor": 0,
 "worksheets": [
  {
   "cells": [
    {
     "cell_type": "code",
     "collapsed": false,
     "input": [
      "from pylab import *\n",
      "\n",
      "from collections import *\n",
      "\n",
      "from math import *\n",
      "from numpy import array, cos, sin\n",
      "\n",
      "import functools\n",
      "import scipy\n",
      "import sympy\n",
      "P = namedtuple('Point', ['x', 'y']);\n",
      "def area_rectangle_tl_br(tl,br):\n",
      "    return abs(tl.x-br.x) * abs(tl.y-br.y)\n",
      "from IPython.display import Image\n",
      "from scipy.integrate import quad\n",
      "#degrees = 180 * radians / pi\n",
      "#radians = pi * degrees / 180\n",
      "#%pylab\n",
      "#%load_ext sympy.interactive.ipythonprinting\n",
      "from decimal import *\n",
      "def assert_floats_equal(a,b):\n",
      "    return Decimal(a) == Decimal(b)\n"
     ],
     "language": "python",
     "metadata": {},
     "outputs": [
      {
       "output_type": "stream",
       "stream": "stdout",
       "text": [
        "\n",
        "Welcome to pylab, a matplotlib-based Python environment [backend: module://IPython.zmq.pylab.backend_inline].\n",
        "For more information, type 'help(pylab)'.\n"
       ]
      }
     ],
     "prompt_number": 37
    },
    {
     "cell_type": "code",
     "collapsed": false,
     "input": [
      "def vector_length(pa,pb):\n",
      "    return sqrt( (pa.x - pb.x)**2 + (pa.y - pb.y)**2 )\n",
      "def get_angle_between_3_points(pc, p1, p2):\n",
      "    \"\"\" pc=point center, p1,p2 \"\"\"\n",
      "    vl = vector_length\n",
      "    return arccos ( ( vl(pc,p1)**2 + vl(pc,p2)**2 - vl(p1,p2)**2 ) / (2*vl(pc,p1)*vl(pc,p2)) )\n",
      "#get_angle_between_3_points( P(0,0), P(0,1), P(1,0)  )    "
     ],
     "language": "python",
     "metadata": {},
     "outputs": [],
     "prompt_number": 23
    },
    {
     "cell_type": "code",
     "collapsed": false,
     "input": [
      "def area_pie_slice(pc,p1,p2): \n",
      "    \"get area of circle-slice center(pc), 2 points on cirlce (p1,p2)\"\n",
      "    r = vector_length(pc,p1)\n",
      "    area_cirlce = (r*r)*pi\n",
      "    return area_cirlce * (get_angle_between_3_points(pc,p1,p2) / (2.*pi))  \n",
      "assert abs(   area_pie_slice ( P(0,0), P(0,1), P(1,0)  ) - pi/4   ) <= 0.0000001"
     ],
     "language": "python",
     "metadata": {},
     "outputs": [],
     "prompt_number": 24
    },
    {
     "cell_type": "code",
     "collapsed": false,
     "input": [
      "def area_triangle(a,b,c):\n",
      "    return abs( (a.x*(b.y-c.y) + b.x*(c.y-a.y) + c.x*(a.y-b.y))) / 2.0\n",
      "assert area_triangle(P(0,0), P(0,1), P(1,0))\n",
      "assert area_triangle(P(6,27), P(44,17), P(33,-13)) - 625 == 0"
     ],
     "language": "python",
     "metadata": {},
     "outputs": [],
     "prompt_number": 25
    },
    {
     "cell_type": "code",
     "collapsed": false,
     "input": [
      "f_top_arc=lambda x,C,r:  C.y + ( sqrt(r-(x-C.x)**2) )\n",
      "rng=arange(0,2,0.0001)\n",
      "plt.figsize(5,5)\n",
      "plot(map(lambda x:f_top_arc(x,P(1,1),1),rng))"
     ],
     "language": "python",
     "metadata": {},
     "outputs": [
      {
       "output_type": "pyout",
       "prompt_number": 35,
       "text": [
        "[<matplotlib.lines.Line2D at 0x69dbf10>]"
       ]
      },
      {
       "output_type": "display_data",
       "png": "[encoded data removed]"
      }
     ],
     "prompt_number": 35
    },
    {
     "cell_type": "code",
     "collapsed": false,
     "input": [
      "f_bottom_arc=lambda x,C,r:  (C.y - ( sqrt(r-(x-C.x)**2) ))\n",
      "rng=arange(0,2,0.0001)\n",
      "plt.figsize(5,5)\n",
      "plot(map(lambda x:f_bottom_arc(x,P(1,1),1),rng))"
     ],
     "language": "python",
     "metadata": {},
     "outputs": [
      {
       "output_type": "pyout",
       "prompt_number": 27,
       "text": [
        "[<matplotlib.lines.Line2D at 0x62c6050>]"
       ]
      },
      {
       "output_type": "display_data",
       "png": "[encoded data removed]"
      }
     ],
     "prompt_number": 27
    },
    {
     "cell_type": "code",
     "collapsed": false,
     "input": [
      "Image(url='http://upload.wikimedia.org/math/4/8/3/483efae2397ac62560aa6f61d4e2e830.png')"
     ],
     "language": "python",
     "metadata": {},
     "outputs": [
      {
       "html": [
        "<img src=\"http://upload.wikimedia.org/math/4/8/3/483efae2397ac62560aa6f61d4e2e830.png\" />"
       ],
       "output_type": "pyout",
       "prompt_number": 28,
       "text": [
        "<IPython.core.display.Image at 0x585f090>"
       ]
      }
     ],
     "prompt_number": 28
    },
    {
     "cell_type": "code",
     "collapsed": false,
     "input": [
      "def integrate_arc_top(C, r, a, b):\n",
      "    return pi * ( quad( lambda z: f_top_arc (z,C,r)**2 , a , b  ) [0] )\n",
      "def integrate_arc_bottom(C, r, a, b):\n",
      "    return pi * ( quad( lambda z: f_bottom_arc (z,C,r)**2 , a , b  ) [0] )\n",
      "assert integrate_arc_top( P(2,0), 1, 2,3 ) - ((4./3.)*pi/2) <= 0 # half sphere\n",
      "assert integrate_arc_bottom( P(2,0), 1, 2,3 ) - ((4./3.)*pi/2) <= 0 # half sphere"
     ],
     "language": "python",
     "metadata": {},
     "outputs": [],
     "prompt_number": 29
    },
    {
     "cell_type": "code",
     "collapsed": false,
     "input": [
      "def integrate_rectangle(R,a,b):\n",
      "    return pi * (R**2)*abs(a-b)\n",
      "assert abs(integrate_rectangle(1,0,1)-pi) <= 0.00001"
     ],
     "language": "python",
     "metadata": {},
     "outputs": [],
     "prompt_number": 30
    },
    {
     "cell_type": "code",
     "collapsed": false,
     "input": [
      "x=sympy.Symbol('x')\n",
      "eq=(1 - ( sympy.sqrt(1-(x-1)**2) ))\n",
      "sympy.integrate(eq)"
     ],
     "language": "python",
     "metadata": {},
     "outputs": [
      {
       "latex": [
        "$$x - \\begin{cases} \\frac{\\mathbf{\\imath} \\left(x -1\\right)^{3}}{2 \\sqrt{\\left(x -1\\right)^{2} -1}} - \\frac{\\mathbf{\\imath} \\left(x -1\\right)}{2 \\sqrt{\\left(x -1\\right)^{2} -1}} - \\frac{1}{2} \\mathbf{\\imath} \\operatorname{acosh}{\\left (x -1 \\right )} & \\text{for}\\: \\lvert{\\left(x -1\\right)^{2}}\\rvert > 1 \\\\- \\frac{\\left(x -1\\right)^{3}}{2 \\sqrt{- \\left(x -1\\right)^{2} + 1}} + \\frac{x -1}{2 \\sqrt{- \\left(x -1\\right)^{2} + 1}} + \\frac{1}{2} \\operatorname{asin}{\\left (x -1 \\right )} & \\text{otherwise} \\end{cases}$$"
       ],
       "output_type": "pyout",
       "prompt_number": 38,
       "text": [
        "    \u23a7               3                                                         \n",
        "    \u23aa      \u2148\u22c5(x - 1)             \u2148\u22c5(x - 1)        \u2148\u22c5acosh(x - 1)        \u2502     \n",
        "x - \u23aa \u2500\u2500\u2500\u2500\u2500\u2500\u2500\u2500\u2500\u2500\u2500\u2500\u2500\u2500\u2500\u2500\u2500\u2500\u2500 - \u2500\u2500\u2500\u2500\u2500\u2500\u2500\u2500\u2500\u2500\u2500\u2500\u2500\u2500\u2500\u2500\u2500\u2500\u2500 - \u2500\u2500\u2500\u2500\u2500\u2500\u2500\u2500\u2500\u2500\u2500\u2500\u2500\u2500    for \u2502(x - \n",
        "    \u23aa      ______________        ______________         2                     \n",
        "    \u23aa     \u2571        2            \u2571        2                                    \n",
        "    \u23aa 2\u22c5\u2572\u2571  (x - 1)  - 1    2\u22c5\u2572\u2571  (x - 1)  - 1                                \n",
        "    \u23a8                                                                         \n",
        "    \u23aa                3                                                        \n",
        "    \u23aa         (x - 1)                  x - 1           asin(x - 1)            \n",
        "    \u23aa- \u2500\u2500\u2500\u2500\u2500\u2500\u2500\u2500\u2500\u2500\u2500\u2500\u2500\u2500\u2500\u2500\u2500\u2500\u2500\u2500\u2500 + \u2500\u2500\u2500\u2500\u2500\u2500\u2500\u2500\u2500\u2500\u2500\u2500\u2500\u2500\u2500\u2500\u2500\u2500\u2500\u2500\u2500 + \u2500\u2500\u2500\u2500\u2500\u2500\u2500\u2500\u2500\u2500\u2500      otherw\n",
        "    \u23aa       ________________        ________________        2                 \n",
        "    \u23aa      \u2571          2            \u2571          2                               \n",
        "    \u23a9  2\u22c5\u2572\u2571  - (x - 1)  + 1    2\u22c5\u2572\u2571  - (x - 1)  + 1                           \n",
        "\n",
        "        \n",
        "  2\u2502    \n",
        "1) \u2502 > 1\n",
        "        \n",
        "        \n",
        "        \n",
        "        \n",
        "        \n",
        "        \n",
        "ise     \n",
        "        \n",
        "        \n",
        "        "
       ]
      }
     ],
     "prompt_number": 38
    },
    {
     "cell_type": "code",
     "collapsed": false,
     "input": [],
     "language": "python",
     "metadata": {},
     "outputs": [],
     "prompt_number": 31
    }
   ],
   "metadata": {}
  }
 ]
}
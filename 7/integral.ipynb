{
 "metadata": {
  "name": "integral"
 },
 "nbformat": 3,
 "nbformat_minor": 0,
 "worksheets": [
  {
   "cells": [
    {
     "cell_type": "code",
     "collapsed": false,
     "input": [
      "from pylab import *\n",
      "\n",
      "from collections import *\n",
      "\n",
      "from math import *\n",
      "from numpy import array, cos, sin\n",
      "\n",
      "import functools\n",
      "import scipy\n",
      "import sympy\n",
      "P = namedtuple('Point', ['x', 'y']);\n",
      "def area_rectangle_tl_br(tl,br):\n",
      "    return abs(tl.x-br.x) * abs(tl.y-br.y)\n",
      "from IPython.display import Image\n",
      "from scipy.integrate import quad\n",
      "#degrees = 180 * radians / pi\n",
      "#radians = pi * degrees / 180\n",
      "#%pylab\n",
      "#%load_ext sympy.interactive.ipythonprinting\n",
      "from decimal import *\n",
      "def assert_floats_equal(a,b):\n",
      "    return Decimal(a) == Decimal(b)\n"
     ],
     "language": "python",
     "metadata": {},
     "outputs": [],
     "prompt_number": 12
    },
    {
     "cell_type": "code",
     "collapsed": false,
     "input": [
      "def vector_length(pa,pb):\n",
      "    return sqrt( (pa.x - pb.x)**2 + (pa.y - pb.y)**2 )\n",
      "def get_angle_between_3_points(pc, p1, p2):\n",
      "    \"\"\" pc=point center, p1,p2 \"\"\"\n",
      "    vl = vector_length\n",
      "    return arccos ( ( vl(pc,p1)**2 + vl(pc,p2)**2 - vl(p1,p2)**2 ) / (2*vl(pc,p1)*vl(pc,p2)) )\n",
      "#get_angle_between_3_points( P(0,0), P(0,1), P(1,0)  )    "
     ],
     "language": "python",
     "metadata": {},
     "outputs": [],
     "prompt_number": 13
    },
    {
     "cell_type": "code",
     "collapsed": false,
     "input": [
      "def area_pie_slice(pc,p1,p2): \n",
      "    \"get area of circle-slice center(pc), 2 points on cirlce (p1,p2)\"\n",
      "    r = vector_length(pc,p1)\n",
      "    area_cirlce = (r*r)*pi\n",
      "    return area_cirlce * (get_angle_between_3_points(pc,p1,p2) / (2.*pi))  \n",
      "assert abs(   area_pie_slice ( P(0,0), P(0,1), P(1,0)  ) - pi/4   ) <= 0.0000001"
     ],
     "language": "python",
     "metadata": {},
     "outputs": [],
     "prompt_number": 14
    },
    {
     "cell_type": "code",
     "collapsed": false,
     "input": [
      "def area_triangle(a,b,c):\n",
      "    return abs( (a.x*(b.y-c.y) + b.x*(c.y-a.y) + c.x*(a.y-b.y))) / 2.0\n",
      "assert area_triangle(P(0,0), P(0,1), P(1,0))\n",
      "assert area_triangle(P(6,27), P(44,17), P(33,-13)) - 625 == 0"
     ],
     "language": "python",
     "metadata": {},
     "outputs": [],
     "prompt_number": 15
    },
    {
     "cell_type": "code",
     "collapsed": false,
     "input": [
      "def f_top_arc(x,C,r):  \n",
      "    \"\"\" @param x independent var\n",
      "        @param C circle mid point\n",
      "        @param r radius\n",
      "    \"\"\"\n",
      "    try:\n",
      "        y = C.y + ( sqrt(r**2-(x-C.x)**2) )\n",
      "    except:\n",
      "        y = 0.       \n",
      "    return y\n",
      "rng=arange(0,4.,0.01)\n",
      "plt.figsize(5,5)\n",
      "plot(map(lambda x:f_top_arc(x,P(2,0),2),rng))"
     ],
     "language": "python",
     "metadata": {},
     "outputs": [
      {
       "output_type": "pyout",
       "prompt_number": 74,
       "text": [
        "[<matplotlib.lines.Line2D at 0x9952250>]"
       ]
      },
      {
       "output_type": "display_data",
       "png": "[encoded data removed]"
      }
     ],
     "prompt_number": 74
    },
    {
     "cell_type": "code",
     "collapsed": false,
     "input": [
      "f_bottom_arc=lambda x,C,r:  (C.y - ( sqrt(r**2-(x-C.x)**2) ))\n",
      "rng=arange(0,2,0.0001)\n",
      "plt.figsize(5,5)\n",
      "plot(map(lambda x:f_bottom_arc(x,P(1,1),1),rng))"
     ],
     "language": "python",
     "metadata": {},
     "outputs": [
      {
       "output_type": "pyout",
       "prompt_number": 85,
       "text": [
        "[<matplotlib.lines.Line2D at 0x9c5ea90>]"
       ]
      },
      {
       "output_type": "display_data",
       "png": "[encoded data removed]"
      }
     ],
     "prompt_number": 85
    },
    {
     "cell_type": "code",
     "collapsed": false,
     "input": [
      "Image(url='http://upload.wikimedia.org/math/4/8/3/483efae2397ac62560aa6f61d4e2e830.png')"
     ],
     "language": "python",
     "metadata": {},
     "outputs": [
      {
       "html": [
        "<img src=\"http://upload.wikimedia.org/math/4/8/3/483efae2397ac62560aa6f61d4e2e830.png\" />"
       ],
       "output_type": "pyout",
       "prompt_number": 18,
       "text": [
        "<IPython.core.display.Image at 0x51f2090>"
       ]
      }
     ],
     "prompt_number": 18
    },
    {
     "cell_type": "code",
     "collapsed": false,
     "input": [
      "def integrate_arc_top(C, r, a, b):\n",
      "    return quad( lambda z: f_top_arc (z,C,r) , a , b  ) [0] \n",
      "\n",
      "def integrate_arc_bottom(C, r, a, b):\n",
      "    return quad( lambda z: f_bottom_arc (z,C,r) , a , b  ) [0] \n",
      "\n",
      "def volume_integrate_arc_top(C, r, a, b):\n",
      "    return pi * ( quad( lambda z: f_top_arc (z,C,r)**2 , a , b  ) [0] )\n",
      "\n",
      "def volume_integrate_arc_bottom(C, r, a, b):\n",
      "    return pi * ( quad( lambda z: f_bottom_arc (z,C,r)**2 , a , b  ) [0] )\n",
      "\n",
      "assert integrate_arc_top( P(2,0), 1, 2,3 ) - ((4./3.)*pi/2) <= 0 # half sphere\n",
      "assert integrate_arc_bottom( P(2,0), 1, 2,3 ) - ((4./3.)*pi/2) <= 0 # half sphere\n",
      "\n",
      "assert abs(  integrate_arc_top(P(2.,0), r=2., a=0.,b=4.) - (2**2*pi)/2 ) <= 0.000000000001\n",
      "assert abs(  abs(integrate_arc_bottom(P(2.,0), r=2., a=0.,b=4.)) - (2**2*pi)/2 ) <= 0.0000000001\n"
     ],
     "language": "python",
     "metadata": {},
     "outputs": [],
     "prompt_number": 92
    },
    {
     "cell_type": "code",
     "collapsed": false,
     "input": [
      "def integrate_rectangle(R,a,b):\n",
      "    return pi * (R**2)*abs(a-b)\n",
      "assert abs(integrate_rectangle(1,0,1)-pi) <= 0.00001"
     ],
     "language": "python",
     "metadata": {},
     "outputs": [],
     "prompt_number": 20
    },
    {
     "cell_type": "code",
     "collapsed": false,
     "input": [
      "x=sympy.Symbol('x')\n",
      "eq=(1 - ( sympy.sqrt(1-(x-1)**2) ))\n",
      "sympy.integrate(eq)"
     ],
     "language": "python",
     "metadata": {},
     "outputs": [
      {
       "output_type": "pyout",
       "prompt_number": 21,
       "text": [
        "x - Piecewise((I*(x - 1)**3/(2*sqrt((x - 1)**2 - 1)) - I*(x - 1)/(2*sqrt((x - 1)**2 - 1)) - I*acosh(x - 1)/2, Abs((x - 1)**2) > 1), (-(x - 1)**3/(2*sqrt(-(x - 1)**2 + 1)) + (x - 1)/(2*sqrt(-(x - 1)**2 + 1)) + asin(x - 1)/2, True))"
       ]
      }
     ],
     "prompt_number": 21
    },
    {
     "cell_type": "code",
     "collapsed": false,
     "input": [],
     "language": "python",
     "metadata": {},
     "outputs": [],
     "prompt_number": 21
    }
   ],
   "metadata": {}
  }
 ]
}
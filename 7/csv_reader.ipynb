{
 "metadata": {
  "name": "csv_reader"
 },
 "nbformat": 3,
 "nbformat_minor": 0,
 "worksheets": [
  {
   "cells": [
    {
     "cell_type": "code",
     "collapsed": false,
     "input": [
      "def load_profiles_lookup_table(ctx):\n",
      "    import csv\n",
      "    with open('/ring/ring/profile_lookup.txt') as csvfile:\n",
      "        reader = csv.reader(csvfile, delimiter=\"\\t\")\n",
      "        reader.next()\n",
      "        for row in reader:\n",
      "            PR_CODE = row[0]\n",
      "            r=ctx[PR_CODE] = {}\n",
      "            r['TR_CODE'] = row[1]\n",
      "            r['PROFIL_CODE'] = row[2]\n",
      "            r['H'] = row[3]\n",
      "            r['W'] = row[4]\n",
      "            r['R60'] = row[5]\n",
      "            r['R61'] = row[6]\n",
      "            r['R20'] = row[7]\n",
      "            r['R40'] = row[8]\n",
      "            r['R41'] = row[9]\n",
      "            r['P1'] = row[10]\n",
      "            r['P2'] = row[11]\n",
      "            r['P3'] = row[12]\n",
      "            r['P4'] = row[13]\n",
      "            r['BESCHREIBUNG'] = row[14]\n",
      "    return ctx\n",
      "        \n",
      "#ctx=load_profiles_lookup_table({})\n",
      "#ctx['PR_001']['TR_CODE']"
     ],
     "language": "python",
     "metadata": {},
     "outputs": [
      {
       "output_type": "pyout",
       "prompt_number": 15,
       "text": [
        "'TR13'"
       ]
      }
     ],
     "prompt_number": 15
    }
   ],
   "metadata": {}
  }
 ]
}